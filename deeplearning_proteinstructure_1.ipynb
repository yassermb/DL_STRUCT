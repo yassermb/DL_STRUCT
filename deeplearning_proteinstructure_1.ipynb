{
  "nbformat": 4,
  "nbformat_minor": 0,
  "metadata": {
    "colab": {
      "provenance": []
    },
    "kernelspec": {
      "name": "python3",
      "display_name": "Python 3"
    },
    "language_info": {
      "name": "python"
    },
    "accelerator": "GPU"
  },
  "cells": [
    {
      "cell_type": "markdown",
      "metadata": {
        "id": "a0AT2FyLEaw0"
      },
      "source": [
        "# DEEP LEARNING FOR PROTEIN STRUCTURES (Part 1)"
      ]
    },
    {
      "cell_type": "markdown",
      "metadata": {
        "id": "rCi0Wcu6EiKW"
      },
      "source": [
        "## Introduction to Deep Neural Networks (DNN)"
      ]
    },
    {
      "cell_type": "markdown",
      "metadata": {
        "id": "VxJ2P46HEk48"
      },
      "source": [
        "### 1. Why deep learning?\n",
        "\n",
        "- Huge amount of data\n",
        "- Enough computing power\n",
        "- Training large neural networks\n",
        "- Importance of scale in the performance of neural network models: improve in the performance of deeper neural networks trained with enough amount of data.\n",
        "\n",
        "<img src='https://drive.google.com/uc?id=1qYB01RGqFWqI-qU4TQBD3bF2Oxkd4qdF'>\n",
        "Figure by Andrew Ng."
      ]
    },
    {
      "cell_type": "markdown",
      "metadata": {
        "id": "WTLl7apJFJRx"
      },
      "source": [
        "### 2. What are the most common deep learning algorithms?\n",
        "\n",
        "- Multilayer Perceptron Networks (MLP)\n",
        "- Convolutional Neural Networks (CNN)\n",
        "- Recurrent Neural Networks (RNN)\n",
        "- Long Short-Term Memory (LSTM)\n",
        "- Transformers\n",
        "- Autoencoders\n",
        "- Generative Adversarial Networks (GAN)"
      ]
    },
    {
      "cell_type": "markdown",
      "metadata": {
        "id": "AYkUMiQTFMcU"
      },
      "source": [
        "## Introduction to Convolutional Neural Networks"
      ]
    },
    {
      "cell_type": "markdown",
      "metadata": {
        "id": "KtdAEivdFNnO"
      },
      "source": [
        "### 1. Introduction\n",
        "\n",
        "This part is dedicated to basic principles of convolutional neural networks, with the purposes of achieving respectable performance on one established machine learning benchmark: [MNIST](http://yann.lecun.com/exdb/mnist/) (classification of handwritten digits).\n",
        "\n",
        "\n",
        "MNIST dataset                      \n",
        "<img src='https://drive.google.com/uc?id=16D9YOSCco-qMAC7moItDzasEkP-dV78h'>\n",
        "\n",
        "By the end of this part of the tutorial, you should be capable of understanding and producing a simple CNN (with a structure similar to LeNet architecture) in Keras, achieving a respectable level of accuracy on MNIST."
      ]
    },
    {
      "cell_type": "markdown",
      "metadata": {
        "id": "I5obK0BmFpAa"
      },
      "source": [
        "### 2. Convolutions\n",
        "\n",
        "It turns out that there is a very efficient way of pulling this off, and it makes advantage of the structure of the information encoded within an image---**it is assumed that pixels that are spatially \"closer\" together will \"cooperate\" on forming a particular feature of interest much more than ones on opposite corners of the image.** Also, if a particular (smaller) feature is found to be of great importance when defining an image's label, it will be equally important if this feature was found anywhere within the image, regardless of location.\n",
        "\n",
        "**Convolution** operator: Given a two-dimensional image, $\\bf I$, and a small matrix, $\\bf K$ of size $h \\times w$, (known as a *convolution kernel* or simply *kernel*), which we assume encodes a way of extracting an interesting image feature, we compute the convolved image, ${\\bf I} * {\\bf K}$, by overlaying the kernel on top of the image in all possible ways, and recording the sum of element-wise products between the image and the kernel:\n",
        "\n",
        "$$({\\bf I} * {\\bf K})_{xy} = \\sum_{i=1}^h \\sum_{j=1}^w {{\\bf K}_{ij} \\cdot {\\bf I}_{x + i - 1, y + j - 1}}$$\n",
        "\n",
        "In fact, the exact definition would require us to flip the kernel matrix first, but for the purposes of machine learning it is irrelevant whether this is done or not!\n",
        "\n",
        "The images below show a diagrammatical overview of the above formula and the result of applying convolution (with two separate kernels) over an image, to act as an edge detector:\n",
        "\n",
        "<img src='https://drive.google.com/uc?id=1_sgkaPdQ_9W3llS-L_-LD8T8oGhkGM98'>\n",
        "<img src='https://drive.google.com/uc?id=1YijnAs0KL7igPJApy0FAggrGTNUQ2mwO'>\n",
        "\n",
        "**A visualisation on how convolutional filters scan an image is shown [here](https://cs231n.github.io/assets/conv-demo/index.html)**\n"
      ]
    },
    {
      "cell_type": "markdown",
      "metadata": {
        "id": "HdSnN_lWGE5p"
      },
      "source": [
        "### 3. Convolutional layers and Pooling layers\n",
        "\n",
        "The convolution operator forms the fundamental basis of the **convolutional** layer of a CNN. The layer is completely specified by a certain number of kernels, $\\bf \\vec{K}$ (along with additive biases, $\\vec{b}$, per each kernel), and it operates by computing the convolution of the output images of a previous layer with each of those kernels, afterwards adding the biases (one per each output image). Finally, an activation function, $\\sigma$, may be applied to all of the pixels of the output images. Typically, the input to a convolutional layer will have $d$ *channels* (e.g. red/green/blue in the input layer), in which case the kernels are extended to have this number of channels as well, making the final formula of a single output image channel of a convolutional layer (for a kernel ${\\bf K}$ and bias $b$) as follows:\n",
        "\n",
        "$$\\mathrm{conv}({\\bf I}, {\\bf K})_{xy} = \\sigma\\left(b + \\sum_{i=1}^h \\sum_{j=1}^w \\sum_{k=1}^d {{\\bf K}_{ijk} \\cdot {\\bf I}_{x + i - 1, y + j - 1, k}}\\right)$$\n",
        "\n",
        "Note that, since all we're doing here is addition and scaling of the input pixels, the kernels may be learned from a given training dataset via *gradient descent*, exactly as the weights of an MLP. In fact, an MLP is perfectly capable of replicating a convolutional layer, but it would require a lot more training time (and data) to learn to approximate that mode of operation.\n",
        "\n",
        "Finally, let's just note that a convolutional operator is in no way restricted to two-dimensionally structured data: in fact, most machine learning frameworks ([Keras included](https://keras.io/layers/convolutional/)) will provide you with out-of-the-box layers for 1D and 3D convolutions as well!\n",
        "\n",
        "It is important to note that, while a convolutional layer significantly decreases the number of *parameters* compared to a fully connected (FC) layer, it introduces more **hyperparameters**---parameters whose values need to be chosen *before* training starts.\n",
        "\n",
        "Namely, the hyperparameters to choose within a single convolutional layer are:\n",
        "- *depth*: how many different kernels (and biases) will be convolved with the output of the previous layer;\n",
        "- *height* and *width* of each kernel;\n",
        "- *stride*: by how much we shift the kernel in each step to compute the next pixel in the result. This specifies the overlap between individual output pixels, and typically it is set to $1$, corresponding to the formula given before. Note that larger strides result in smaller output sizes.\n",
        "- *padding*: note that convolution by any kernel larger than $1\\times 1$ will *decrease* the output image size---it is often desirable to keep sizes the same, in which case the image is sufficiently padded with zeroes at the edges. This is often called *same* padding, as opposed to *valid* (no) padding. It is possible to add arbitrary levels of padding, but typically the padding of choice will be either *same* or *valid*.\n",
        "\n",
        "As already hinted, convolutions are not typically meant to be the sole operation in a CNN (although there have been promising recent developments on [all-convolutional networks](https://arxiv.org/pdf/1412.6806v3.pdf)); but rather to extract useful features of an image prior to downsampling it sufficiently to be manageable by an MLP.\n",
        "\n",
        "A very popular approach to downsampling is a *pooling* layer, which consumes small and (usually) disjoint chunks of the image (typically $2\\times 2$) and aggregates them into a single value. There are several possible schemes for the aggregation---the most popular being **max-pooling**, where the maximum pixel value within each chunk is taken. A diagrammatical illustration of $2\\times 2$ max-pooling is given below.\n",
        "\n",
        "<img src='https://drive.google.com/uc?id=1jT_npY6FcTntXKkpBa_t0ULLhCz829oG'>"
      ]
    },
    {
      "cell_type": "markdown",
      "metadata": {
        "id": "LWBZR8zcG8TI"
      },
      "source": [
        "### 4. Convolutional Neural Network (CNN) architecture\n",
        "\n",
        "Now that we got all the building blocks, let's see what a typical convolutional neural network might look like!\n",
        "\n",
        "<img src='https://drive.google.com/uc?id=1U_evrkbLuuHwRkVLtJVXhZG4FoRopdqO'>\n",
        "\n",
        "A typical CNN architecture for a $k$-class image classification can be split into two distinct parts---a chain of repeating $\\mathrm{Conv}\\rightarrow\\mathrm{Pool}$ layers (sometimes with more than one convolutional layer at once), followed by a few fully connected layers (taking each pixel of the computed images as an independent input), culminating in a $k$-way softmax layer, to which a cross-entropy loss is optimised. I did not draw the activation functions here to make the sketch clearer, but do keep in mind that typically after every convolutional or fully connected layer, an activation (e.g. ReLU) will be applied to all of the outputs.\n",
        "\n",
        "Note the effect of a single $\\mathrm{Conv}\\rightarrow\\mathrm{Pool}$ pass through the image: it reduces height and width of the individual channels in favour of their number, i.e. *depth*.\n",
        "\n",
        "<!-- The softmax layer and cross-entropy loss are both introduced in more detail [in the previous tutorial](http://online.cambridgecoding.com/notebooks/cca_admin/deep-learning-for-complete-beginners-recognising-handwritten-digits).  -->\n",
        "For summarisation purposes, a softmax layer's purpose is converting any vector of real numbers into a vector of *probabilities* (non-negative real values that add up to 1). Within this context, the probabilities correspond to the likelihoods that an input image is a member of a particular class. Minimising the cross-entropy loss has the effect of maximising the model's confidence in the *correct* class, without being concerned for the probabilites for other classes---this makes it a more suitable choice for probabilistic tasks compared to, for example, the squared error loss.\n",
        "\n",
        "<img src='https://cs231n.github.io/assets/cnn/convnet.jpeg'>"
      ]
    },
    {
      "cell_type": "markdown",
      "metadata": {
        "id": "NFFwq-avNe9d"
      },
      "source": [
        "### 5. Detour: Overfitting, regularisation and dropout\n",
        "\n",
        "This will be the first (and hopefully the only) time when I will divert your attention to a seemingly unrelated topic. It regards a very important pitfall of machine learning---**overfitting** a model to the training data. While this is primarily going to be a major topic of the next tutorial in the series, the negative effects of overfitting will tend to become quite noticeable on the networks like the one we are about to build, and we need to introduce a way to properly protect ourselves against it, before going any further. Luckily, there is a very simple technique we can use.\n",
        "\n",
        "Overfitting corresponds to adapting our model to the training set to such extremes that its generalisation potential (performance on samples outside of the training set) is *severely* limited. In other words, our model might have learned the training set (along with any noise present within it) perfectly, but it has failed to capture the underlying process that generated it. To illustrate, consider a problem of fitting a sine curve, with white additive noise applied to the data points:\n",
        "\n",
        "<img src='https://drive.google.com/uc?id=1CNg2x_Pxn__mQTwEEznPvh3WR7Lb0nUc'>\n",
        "\n",
        "Here we have a training set (denoted by blue circles) derived from the original sine wave, along with some noise. If we fit a degree-3 polynomial to this data, we get a fairly good approximation to the original curve. Someone might argue that a degree-14 polynomial would do better; indeed, given we have 15 points, such a fit would *perfectly* describe the training data. However, in this case, the additional parameters of the model cause catastrophic results: to cope with the inherent noise of the data, anywhere except in the closest vicinity of the training points, our fit is completely off.\n",
        "\n",
        "Deep convolutional neural networks have a large number of parameters, especially in the fully connected layers. Overfitting might often manifest in the following form: if we don't have sufficiently many training examples, a small group of neurons might become responsible for doing most of the processing and other neurons becoming redundant; or in the other extreme, some neurons might actually become detrimental to performance, with several other neurons of their layer ending up doing nothing else but correcting for their errors.\n",
        "\n",
        "To help our models generalise better in these circumstances, we introduce techniques of *regularisation*: rather than reducing the number of parameters, we impose *constraints* on the model parameters during training to keep them from learning the noise in the training data. The particular method I will introduce here is **dropout**---a technique that initially might seem like \"dark magic\", but actually helps to eliminate exactly the failure modes described above. Namely, dropout with parameter $p$ will, within a single training iteration, go through all neurons in a particular layer and, with probability $p$, *completely eliminate them from the network throughout the iteration*. This has the effect of forcing the neural network to cope with *failures*, and not to rely on existence of a particular neuron (or set of neurons)---relying more on a *consensus* of several neurons within a layer. This is a very simple technique that works quite well already for combatting overfitting on its own, without introducing further regularisers. An illustration is given below.\n",
        "\n",
        "<img src='https://drive.google.com/uc?id=1pspitsjToyRPXvN0VTzpW3VuAwfVJYcH'>"
      ]
    },
    {
      "cell_type": "markdown",
      "metadata": {
        "id": "TrOyMOucN_uO"
      },
      "source": [
        "### 6. Applying a deep CNN to MNIST\n",
        "\n",
        "As the objective of this part of tutorial, we will implement a deep convolutional neural network---and apply it on the MNIST digit recognition classification task."
      ]
    },
    {
      "cell_type": "markdown",
      "metadata": {
        "id": "zKj0fFUmOGDZ"
      },
      "source": [
        "As already mentioned, a CNN will typically have more hyperparameters than an MLP. For the purposes of this tutorial, we will also stick to \"sensible\" hand-picked values for them, but do still keep in mind that later on I will introduce a more proper method for learning them.\n",
        "\n",
        "The hyperparameters are:\n",
        "- The *batch size*, representing the number of training examples being used simultaneously during a single iteration of the gradient descent algorithm;\n",
        "- The number of *epochs*, representing the number of times the training algorithm will iterate over the entire training set before terminating\\*;\n",
        "- The *kernel sizes* in the convolutional layers;\n",
        "- The *pooling size* in the pooling layers;\n",
        "- The *number of kernels* in the convolutional layers;\n",
        "- The *dropout probability* (we will apply dropout after each pooling, and after the fully connected layer);\n",
        "- The *number of neurons* in the fully connected layer of the MLP.\n",
        "\n",
        "\\* **N.B. here I have set the number of epochs to 100, which might be undesirably slow if you do not have a GPU at your disposal (the convolution layers are going to pose a significant performance bottleneck in this case). You might wish to decrease the epoch count and/or numbers of kernels if you are going to be training the network on a CPU.**"
      ]
    },
    {
      "cell_type": "markdown",
      "metadata": {
        "id": "cX8JHwgiOAv_"
      },
      "source": [
        "Modelling time! Our network has an architecture similar to LeNet5 of LeCun (see figure below). It will consist of two consecutive layers of one `Convolution2D` followed by  a `MaxPooling2D` layer. After the first pooling layer, the number of kernels is rougly doubled (in line with the previously mentioned principle of sacrificing height and width for more depth). Afterwards, the output of the second pooling layer is flattened to 1D (via the `Flatten` layer), and passed through one or two fully connected (`Dense`) layers. ReLU activations will once again be used for all layers except the output dense layer, which will use a softmax activation (for purposes of probabilistic classification).\n",
        "\n",
        "<img src='https://drive.google.com/uc?id=1i2yY3LK68cCqc0HfixOQoyo-yL_CsNS1'>\n",
        "\n",
        "To regularise our model, a `Dropout` layer is applied after each pooling layer, and after the first `Dense` layer. This is another area where Keras shines compared to other frameworks: it has an internal flag that automatically enables or disables dropout, depending on whether the model is currently used for training or testing.\n",
        "\n",
        "The remainder of the model specification is the following:\n",
        "- We use the *cross-entropy* loss function as the objective to optimise (as its derivation is more appropriate for probabilistic tasks);\n",
        "- We use the [*Adam* optimiser for gradient descent](http://sebastianruder.com/optimizing-gradient-descent/) \\*;\n",
        "- We report the *accuracy* of the model (as the dataset is balanced across the ten classes) \\**;\n",
        "- We hold out 10% of the data for validation purposes.\n",
        "\n",
        "\\* A nice visualisation of the gradient descent: [here ](https://github.com/Jaewan-Yun/optimizer-visualization)\n",
        "\n",
        "\\** To get a feeling for why accuracy might be inappropriate for unbalanced datasets, consider an extreme case where 90% of the test data belongs to class $x$ (this could be, for example, the task of diagnosing patients for an extremely rare disease). In this case, a classifier that just outputs $x$ achieves a seemingly impressive accuracy of 90% on the test data, without really doing any learning/generalisation."
      ]
    },
    {
      "cell_type": "markdown",
      "metadata": {
        "id": "IuwBeaTDOZ0B"
      },
      "source": [
        "This model, possibly after some tweaking of its architectural parameters, should be able to break $99\\%$ accuracy on its **test set** with little to no effort."
      ]
    },
    {
      "cell_type": "markdown",
      "metadata": {
        "id": "5QHBs2PBOe2F"
      },
      "source": [
        "### 7. Conclusion\n",
        "\n",
        "Throughout this post we have covered the essentials of convolutional neural networks, introduced the problem of overfitting, and made a very brief dent into how it could be rectified via regularisation (by applying dropout) and successfully implemented a two-layer deep CNN (with LeNet like architecture) in Keras, applying it to MNIST, all in under 50 lines of code."
      ]
    },
    {
      "cell_type": "markdown",
      "metadata": {
        "id": "iU-OffzeOiaM"
      },
      "source": [
        "### 8. Just show me the code!"
      ]
    },
    {
      "cell_type": "markdown",
      "metadata": {
        "id": "iWOxOENOOkh9"
      },
      "source": [
        "This code assume your already have installed <code>numpy</code>, <code>keras</code>, <code>tensorflow</code>, ... on your computer. If not, uncomment the adequate lines in the cell below:"
      ]
    },
    {
      "cell_type": "code",
      "metadata": {
        "colab": {
          "base_uri": "https://localhost:8080/"
        },
        "id": "SQIqK1vnUg8i",
        "outputId": "8a095010-2e50-4775-89c2-d89a727bea28"
      },
      "source": [
        "import sys\n",
        "print('Your python version: {}'.format(sys.version_info.major))\n",
        "# Uncomment lines below only if you need them\n",
        "#!{sys.executable} -m pip install -U numpy --user\n",
        "#!{sys.executable} -m pip install -U matplotlib --user\n",
        "#!{sys.executable} -m pip install -U keras --user\n",
        "#!{sys.executable} -m pip install -U tensorflow --user\n",
        "#!{sys.executable} -m pip install -U theano --user"
      ],
      "execution_count": null,
      "outputs": [
        {
          "output_type": "stream",
          "name": "stdout",
          "text": [
            "Your python version: 3\n"
          ]
        }
      ]
    },
    {
      "cell_type": "code",
      "metadata": {
        "id": "VhPSxkBsUsV7"
      },
      "source": [
        "USE_TENSORFLOW_AS_BACKEND = True\n",
        "\n",
        "# IF YOU *DO* HAVE AN Nvidia GPU on your computer, or execute on Google COLAB, then change below to False!\n",
        "FORCE_CPU = False"
      ],
      "execution_count": null,
      "outputs": []
    },
    {
      "cell_type": "code",
      "metadata": {
        "id": "K28A0-KwUzNn"
      },
      "source": [
        "import os\n",
        "import numpy as np\n",
        "from numpy import newaxis\n",
        "import matplotlib.pyplot as plt"
      ],
      "execution_count": null,
      "outputs": []
    },
    {
      "cell_type": "code",
      "metadata": {
        "id": "mgawvFEwU2qw"
      },
      "source": [
        "if USE_TENSORFLOW_AS_BACKEND:\n",
        "    os.environ['KERAS_BACKEND'] = 'tensorflow'\n",
        "else:\n",
        "    os.environ['KERAS_BACKEND'] = 'theano'\n",
        "if FORCE_CPU:\n",
        "    os.environ[\"CUDA_DEVICE_ORDER\"] = \"PCI_BUS_ID\"   # see issue #152\n",
        "    os.environ[\"CUDA_VISIBLE_DEVICES\"] = \"\""
      ],
      "execution_count": null,
      "outputs": []
    },
    {
      "cell_type": "code",
      "metadata": {
        "id": "1Rlu1c6iU7cN"
      },
      "source": [
        "import keras\n",
        "from keras import backend as K\n",
        "from keras import regularizers\n",
        "from keras.datasets import mnist # subroutines for fetching the MNIST dataset\n",
        "from keras.models import Model, Sequential # basic class for specifying and training a neural network\n",
        "from keras.layers import Input, Conv2D, MaxPooling2D, Dense, Dropout, Activation, Flatten\n",
        "from keras import utils # utilities for one-hot encoding of ground truth values"
      ],
      "execution_count": null,
      "outputs": []
    },
    {
      "cell_type": "code",
      "metadata": {
        "id": "ITa9ybybU-x9"
      },
      "source": [
        "#if USE_TENSORFLOW_AS_BACKEND:\n",
        "#    K.common.set_image_dim_ordering(\"tf\")\n",
        "#else:\n",
        "#    K.set_image_dim_ordering(\"th\")"
      ],
      "execution_count": null,
      "outputs": []
    },
    {
      "cell_type": "code",
      "metadata": {
        "colab": {
          "base_uri": "https://localhost:8080/"
        },
        "id": "OxfLQg_pVHpO",
        "outputId": "7b5bad84-4244-432f-df93-aa9a921b49fd"
      },
      "source": [
        "print('Your keras version: {}'.format(keras.__version__))\n",
        "if USE_TENSORFLOW_AS_BACKEND == True:\n",
        "    import tensorflow\n",
        "    print('Your tensorflow version: {}'.format(tensorflow.__version__))\n",
        "    print(\"GPU : \"+tensorflow.test.gpu_device_name())\n",
        "else:\n",
        "    import theano\n",
        "    print('Your theano version: {}'.format(theano.__version__))"
      ],
      "execution_count": null,
      "outputs": [
        {
          "output_type": "stream",
          "name": "stdout",
          "text": [
            "Your keras version: 2.13.1\n",
            "Your tensorflow version: 2.13.0\n",
            "GPU : /device:GPU:0\n"
          ]
        }
      ]
    },
    {
      "cell_type": "code",
      "metadata": {
        "colab": {
          "base_uri": "https://localhost:8080/"
        },
        "id": "XvOdoWWEVgA5",
        "outputId": "eef46101-894c-451d-b3a4-c097d8629a61"
      },
      "source": [
        "# --------------------------------------\n",
        "# Dataset variables\n",
        "# --------------------------------------\n",
        "num_train = 60000 # there are 60000 training examples in MNIST\n",
        "num_test = 10000  # there are 10000 test examples in MNIST\n",
        "height, width, depth = 28, 28, 1 # MNIST images are 28x28 with 1 channel (greyscale)\n",
        "num_classes = 10                 # there are 10 classes (1 per digit)\n",
        "\n",
        "# --------------------------------------\n",
        "# Dataset loading & preprocessing\n",
        "# --------------------------------------\n",
        "(X_train, y_train), (X_test, y_test) = mnist.load_data() # fetch MNIST data\n",
        "\n",
        "X_train = X_train.astype('float32')\n",
        "X_test = X_test.astype('float32')\n",
        "X_train /= 255 # Normalise data to [0, 1] range\n",
        "X_test /= 255 # Normalise data to [0, 1] range\n",
        "\n",
        "\n",
        "X_train = X_train[:, newaxis, :, :] # Reshape in \"convolutionable\" format (add tensor dim for the depth)\n",
        "X_test = X_test[:, newaxis, :, :] # Reshape in \"convolutionable\" format (add tensor dim for the depth)\n",
        "\n",
        "Y_train = utils.to_categorical(y_train, num_classes) # One-hot encode the labels\n",
        "Y_test = utils.to_categorical(y_test, num_classes) # One-hot encode the labels\n",
        "\n",
        "print(X_train.shape, Y_train.shape)"
      ],
      "execution_count": null,
      "outputs": [
        {
          "output_type": "stream",
          "name": "stdout",
          "text": [
            "(60000, 1, 28, 28) (60000, 10)\n"
          ]
        }
      ]
    },
    {
      "cell_type": "code",
      "metadata": {
        "colab": {
          "base_uri": "https://localhost:8080/"
        },
        "id": "HpP-6e5fV2ck",
        "outputId": "e9f79075-954e-496b-d058-88ad6202293c"
      },
      "source": [
        "# --------------------------------------\n",
        "# Network params\n",
        "# --------------------------------------\n",
        "\n",
        "batch_size = 32    # in each iteration, we consider 32 training examples at once\n",
        "num_epochs = 15    # we iterate 15 times over the entire training set\n",
        "kernel_size = 5    # we will use 5x5 kernels throughout\n",
        "pool_size = 2      # we will use 2x2 pooling throughout\n",
        "conv_depth_1 = 6   # we will initially have 6 kernels in first conv. layer...\n",
        "conv_depth_2 = 16  # ...switching to 16 after the first pooling layer\n",
        "drop_prob_1 = 0.   # dropout after pooling with probability 0.\n",
        "drop_prob_2 = 0.   # dropout in the FC layer with probability 0.\n",
        "hidden_size = 128  # the FC layer will have 128neurons\n",
        "weight_penalty = 0. # Factor for weights penalty\n",
        "\n",
        "# --------------------------------------\n",
        "# CNN network definition\n",
        "# --------------------------------------\n",
        "# inp = Input(shape=(1,height,width)) # greyscale --> depth==1\n",
        "# model = Model(input=inp, output=out) # To define a model, just specify its input and output layers\n",
        "\n",
        "model = Sequential()\n",
        "# Conv [8] -> Pool (with dropout on the pooling layer)\n",
        "model.add( Conv2D(conv_depth_1, (kernel_size,kernel_size), padding='same', activation='relu', data_format=\"channels_first\", input_shape=( 1, 28, 28)) )\n",
        "model.add( MaxPooling2D(pool_size=(pool_size, pool_size)) )\n",
        "model.add( Dropout(drop_prob_1) )\n",
        "\n",
        "# Conv [16] -> Pool (with dropout on the pooling layer)\n",
        "model.add( Conv2D(conv_depth_2, (kernel_size,kernel_size), padding='same', activation='relu') )\n",
        "model.add( MaxPooling2D(pool_size=(pool_size, pool_size)) )\n",
        "model.add( Dropout(drop_prob_1) )\n",
        "\n",
        "# Now flatten to 1D, apply FC -> ReLU (with dropout) -> softmax\n",
        "model.add( Flatten() )\n",
        "model.add( Dense(hidden_size, activation='relu', kernel_regularizer=regularizers.l2(weight_penalty)) )\n",
        "model.add( Dropout(drop_prob_2) )\n",
        "model.add( Dense(num_classes, activation='softmax') )\n",
        "\n",
        "print(model.summary())"
      ],
      "execution_count": null,
      "outputs": [
        {
          "output_type": "stream",
          "name": "stdout",
          "text": [
            "Model: \"sequential\"\n",
            "_________________________________________________________________\n",
            " Layer (type)                Output Shape              Param #   \n",
            "=================================================================\n",
            " conv2d (Conv2D)             (None, 6, 28, 28)         156       \n",
            "                                                                 \n",
            " max_pooling2d (MaxPooling2  (None, 3, 14, 28)         0         \n",
            " D)                                                              \n",
            "                                                                 \n",
            " dropout (Dropout)           (None, 3, 14, 28)         0         \n",
            "                                                                 \n",
            " conv2d_1 (Conv2D)           (None, 3, 14, 16)         11216     \n",
            "                                                                 \n",
            " max_pooling2d_1 (MaxPoolin  (None, 1, 7, 16)          0         \n",
            " g2D)                                                            \n",
            "                                                                 \n",
            " dropout_1 (Dropout)         (None, 1, 7, 16)          0         \n",
            "                                                                 \n",
            " flatten (Flatten)           (None, 112)               0         \n",
            "                                                                 \n",
            " dense (Dense)               (None, 128)               14464     \n",
            "                                                                 \n",
            " dropout_2 (Dropout)         (None, 128)               0         \n",
            "                                                                 \n",
            " dense_1 (Dense)             (None, 10)                1290      \n",
            "                                                                 \n",
            "=================================================================\n",
            "Total params: 27126 (105.96 KB)\n",
            "Trainable params: 27126 (105.96 KB)\n",
            "Non-trainable params: 0 (0.00 Byte)\n",
            "_________________________________________________________________\n",
            "None\n"
          ]
        }
      ]
    },
    {
      "cell_type": "markdown",
      "metadata": {
        "id": "Xj-FRTqMXZo-"
      },
      "source": [
        "## Questions\n",
        "\n",
        "#### What are the activation functions here? Why are they chosen?\n",
        "#### What is the loss function?\n",
        "#### What is the value of learning rate here?\n"
      ]
    },
    {
      "cell_type": "code",
      "metadata": {
        "colab": {
          "base_uri": "https://localhost:8080/"
        },
        "id": "-CL4NMM_WqGu",
        "outputId": "13dfc256-507d-4a93-ae5a-95dc15dea85d"
      },
      "source": [
        "# --------------------------------------\n",
        "# Loss function and Optimizer\n",
        "# --------------------------------------\n",
        "model.compile(loss='categorical_crossentropy', # using the cross-entropy loss function\n",
        "              optimizer='adam', # using the Adam optimiser\n",
        "              metrics=['accuracy']) # reporting the accuracy\n",
        "\n",
        "# --------------------------------------\n",
        "# Training\n",
        "# --------------------------------------\n",
        "history = model.fit(X_train, Y_train, # Train the model using the training set...\n",
        "          batch_size=batch_size, epochs=num_epochs,\n",
        "          verbose=1, validation_split=0.4) # ...holding out 40% of the data for validation\n",
        "\n",
        "# --------------------------------------\n",
        "# Evaluation\n",
        "# --------------------------------------\n",
        "for loss_name, loss_value in list(zip(model.metrics_names, model.evaluate(X_test, Y_test, verbose=1))):\n",
        "    print('The final {} on the TEST set is: {:.2f}.'.format(loss_name, loss_value)) # Evaluate the trained model on the test set!"
      ],
      "execution_count": null,
      "outputs": [
        {
          "output_type": "stream",
          "name": "stdout",
          "text": [
            "Epoch 1/15\n",
            "1125/1125 [==============================] - 16s 5ms/step - loss: 0.2900 - accuracy: 0.9125 - val_loss: 0.1300 - val_accuracy: 0.9620\n",
            "Epoch 2/15\n",
            "1125/1125 [==============================] - 7s 7ms/step - loss: 0.1029 - accuracy: 0.9679 - val_loss: 0.1067 - val_accuracy: 0.9677\n",
            "Epoch 3/15\n",
            "1125/1125 [==============================] - 7s 6ms/step - loss: 0.0761 - accuracy: 0.9755 - val_loss: 0.1111 - val_accuracy: 0.9668\n",
            "Epoch 4/15\n",
            "1125/1125 [==============================] - 7s 6ms/step - loss: 0.0623 - accuracy: 0.9810 - val_loss: 0.0902 - val_accuracy: 0.9725\n",
            "Epoch 5/15\n",
            "1125/1125 [==============================] - 6s 6ms/step - loss: 0.0522 - accuracy: 0.9823 - val_loss: 0.0786 - val_accuracy: 0.9766\n",
            "Epoch 6/15\n",
            "1125/1125 [==============================] - 6s 5ms/step - loss: 0.0440 - accuracy: 0.9858 - val_loss: 0.0917 - val_accuracy: 0.9728\n",
            "Epoch 7/15\n",
            "1125/1125 [==============================] - 6s 5ms/step - loss: 0.0381 - accuracy: 0.9868 - val_loss: 0.0810 - val_accuracy: 0.9776\n",
            "Epoch 8/15\n",
            "1125/1125 [==============================] - 6s 5ms/step - loss: 0.0312 - accuracy: 0.9895 - val_loss: 0.0890 - val_accuracy: 0.9755\n",
            "Epoch 9/15\n",
            "1125/1125 [==============================] - 5s 5ms/step - loss: 0.0273 - accuracy: 0.9908 - val_loss: 0.0763 - val_accuracy: 0.9793\n",
            "Epoch 10/15\n",
            "1125/1125 [==============================] - 7s 7ms/step - loss: 0.0260 - accuracy: 0.9912 - val_loss: 0.0747 - val_accuracy: 0.9810\n",
            "Epoch 11/15\n",
            "1125/1125 [==============================] - 5s 5ms/step - loss: 0.0218 - accuracy: 0.9926 - val_loss: 0.0800 - val_accuracy: 0.9794\n",
            "Epoch 12/15\n",
            "1125/1125 [==============================] - 6s 5ms/step - loss: 0.0194 - accuracy: 0.9935 - val_loss: 0.0799 - val_accuracy: 0.9814\n",
            "Epoch 13/15\n",
            "1125/1125 [==============================] - 7s 6ms/step - loss: 0.0176 - accuracy: 0.9939 - val_loss: 0.0791 - val_accuracy: 0.9818\n",
            "Epoch 14/15\n",
            "1125/1125 [==============================] - 6s 5ms/step - loss: 0.0168 - accuracy: 0.9945 - val_loss: 0.0800 - val_accuracy: 0.9829\n",
            "Epoch 15/15\n",
            "1125/1125 [==============================] - 5s 5ms/step - loss: 0.0135 - accuracy: 0.9953 - val_loss: 0.1114 - val_accuracy: 0.9743\n",
            "313/313 [==============================] - 1s 3ms/step - loss: 0.0952 - accuracy: 0.9765\n",
            "The final loss on the TEST set is: 0.10.\n",
            "The final accuracy on the TEST set is: 0.98.\n"
          ]
        }
      ]
    },
    {
      "cell_type": "markdown",
      "metadata": {
        "id": "S4F_1iT2Xirk"
      },
      "source": [
        "## Questions\n",
        "#### What is an Epoch?\n",
        "#### What is the difference between Epoch and Batch?\n",
        "#### Which one of the following training approaches implemented in this code?\n",
        "- Batch Gradient Descent. Batch Size = Size of Training Set\n",
        "- Stochastic Gradient Descent. Batch Size = 1\n",
        "- Mini-Batch Gradient Descent. 1 < Batch Size < Size of Training Set"
      ]
    },
    {
      "cell_type": "markdown",
      "metadata": {
        "id": "m7Ty86yxXqqa"
      },
      "source": [
        "**Plot the training history, in order to check if overfitting seems to have occured or not, and if more training epochs could be performed.**"
      ]
    },
    {
      "cell_type": "code",
      "metadata": {
        "colab": {
          "base_uri": "https://localhost:8080/",
          "height": 917
        },
        "id": "PAqFnG1lXEf4",
        "outputId": "c190eb38-c5af-46af-e9f9-2aee2a4d3e72"
      },
      "source": [
        "# --------------------------------------\n",
        "# Loss functions evolution\n",
        "# --------------------------------------\n",
        "plt.figure(figsize=(10,10))\n",
        "plt.rcParams.update({'font.size': 22})\n",
        "plt.plot(history.history['loss'])\n",
        "plt.plot(history.history['val_loss'])\n",
        "plt.title('Model loss by epoch')\n",
        "plt.ylabel('loss')\n",
        "plt.xlabel('epoch')\n",
        "plt.legend(['train', 'valid'], loc='right')\n",
        "plt.show()"
      ],
      "execution_count": null,
      "outputs": [
        {
          "output_type": "display_data",
          "data": {
            "text/plain": [
              "<Figure size 1000x1000 with 1 Axes>"
            ],
            "image/png": "[encoded data removed]"
          },
          "metadata": {}
        }
      ]
    },
    {
      "cell_type": "markdown",
      "metadata": {
        "id": "jI62ov3fZc5n"
      },
      "source": [
        "The original source of this notebook is the following links.\n",
        "\n",
        "http://online.cambridgecoding.com/notebooks/cca_admin/deep-learning-for-complete-beginners-recognising-handwritten-digits http://online.cambridgecoding.com/notebooks/cca_admin/convolutional-neural-networks-with-keras\n",
        "\n",
        "It is modified by Yasser MOHSENI BEHBAHANI"
      ]
    },
    {
      "cell_type": "code",
      "source": [],
      "metadata": {
        "id": "SHeNoJvwwSqF"
      },
      "execution_count": null,
      "outputs": []
    }
  ]
}