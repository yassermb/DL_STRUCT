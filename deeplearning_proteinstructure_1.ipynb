{
  "nbformat": 4,
  "nbformat_minor": 0,
  "metadata": {
    "colab": {
      "provenance": []
    },
    "kernelspec": {
      "name": "python3",
      "display_name": "Python 3"
    },
    "language_info": {
      "name": "python"
    },
    "accelerator": "GPU"
  },
  "cells": [
    {
      "cell_type": "markdown",
      "metadata": {
        "id": "a0AT2FyLEaw0"
      },
      "source": [
        "# DEEP LEARNING FOR PROTEIN STRUCTURES (Part 1)"
      ]
    },
    {
      "cell_type": "markdown",
      "metadata": {
        "id": "rCi0Wcu6EiKW"
      },
      "source": [
        "## Introduction to Deep Neural Networks (DNN)"
      ]
    },
    {
      "cell_type": "markdown",
      "metadata": {
        "id": "VxJ2P46HEk48"
      },
      "source": [
        "### 1. Why deep learning?\n",
        "\n",
        "- Huge amount of data\n",
        "- Enough computing power\n",
        "- Training large neural networks\n",
        "- Importance of scale in the performance of neural network models: improve in the performance of deeper neural networks trained with enough amount of data.\n",
        "\n",
        "<img src='https://drive.google.com/uc?id=1qYB01RGqFWqI-qU4TQBD3bF2Oxkd4qdF'>\n",
        "Figure by Andrew Ng."
      ]
    },
    {
      "cell_type": "markdown",
      "metadata": {
        "id": "WTLl7apJFJRx"
      },
      "source": [
        "### 2. What are the most common deep learning algorithms?\n",
        "\n",
        "- Multilayer Perceptron Networks (MLP)\n",
        "- Convolutional Neural Networks (CNN)\n",
        "- Recurrent Neural Networks (RNN)\n",
        "- Long Short-Term Memory (LSTM)\n",
        "- Transformers\n",
        "- Autoencoders\n",
        "- Generative Adversarial Networks (GAN)"
      ]
    },
    {
      "cell_type": "markdown",
      "metadata": {
        "id": "AYkUMiQTFMcU"
      },
      "source": [
        "## Introduction to Convolutional Neural Networks"
      ]
    },
    {
      "cell_type": "markdown",
      "metadata": {
        "id": "KtdAEivdFNnO"
      },
      "source": [
        "### 1. Introduction\n",
        "\n",
        "This part is dedicated to basic principles of convolutional neural networks, with the purposes of achieving respectable performance on one established machine learning benchmark: [MNIST](http://yann.lecun.com/exdb/mnist/) (classification of handwritten digits).\n",
        "\n",
        "\n",
        "MNIST dataset                      \n",
        "<img src='https://drive.google.com/uc?id=16D9YOSCco-qMAC7moItDzasEkP-dV78h'>\n",
        "\n",
        "By the end of this part of the tutorial, you should be capable of understanding and producing a simple CNN (with a structure similar to LeNet architecture) in Keras, achieving a respectable level of accuracy on MNIST."
      ]
    },
    {
      "cell_type": "markdown",
      "metadata": {
        "id": "I5obK0BmFpAa"
      },
      "source": [
        "### 2. Convolutions\n",
        "\n",
        "It turns out that there is a very efficient way of pulling this off, and it makes advantage of the structure of the information encoded within an image---**it is assumed that pixels that are spatially \"closer\" together will \"cooperate\" on forming a particular feature of interest much more than ones on opposite corners of the image.** Also, if a particular (smaller) feature is found to be of great importance when defining an image's label, it will be equally important if this feature was found anywhere within the image, regardless of location.\n",
        "\n",
        "**Convolution** operator: Given a two-dimensional image, $\\bf I$, and a small matrix, $\\bf K$ of size $h \\times w$, (known as a *convolution kernel* or simply *kernel*), which we assume encodes a way of extracting an interesting image feature, we compute the convolved image, ${\\bf I} * {\\bf K}$, by overlaying the kernel on top of the image in all possible ways, and recording the sum of element-wise products between the image and the kernel:\n",
        "\n",
        "$$({\\bf I} * {\\bf K})_{xy} = \\sum_{i=1}^h \\sum_{j=1}^w {{\\bf K}_{ij} \\cdot {\\bf I}_{x + i - 1, y + j - 1}}$$\n",
        "\n",
        "In fact, the exact definition would require us to flip the kernel matrix first, but for the purposes of machine learning it is irrelevant whether this is done or not!\n",
        "\n",
        "The images below show a diagrammatical overview of the above formula and the result of applying convolution (with two separate kernels) over an image, to act as an edge detector:\n",
        "\n",
        "<img src='https://drive.google.com/uc?id=1_sgkaPdQ_9W3llS-L_-LD8T8oGhkGM98'>\n",
        "<img src='https://drive.google.com/uc?id=1YijnAs0KL7igPJApy0FAggrGTNUQ2mwO'>\n",
        "\n",
        "**A visualisation on how convolutional filters scan an image is shown [here](https://cs231n.github.io/assets/conv-demo/index.html)**\n"
      ]
    },
    {
      "cell_type": "markdown",
      "metadata": {
        "id": "HdSnN_lWGE5p"
      },
      "source": [
        "### 3. Convolutional layers and Pooling layers\n",
        "\n",
        "The convolution operator forms the fundamental basis of the **convolutional** layer of a CNN. The layer is completely specified by a certain number of kernels, $\\bf \\vec{K}$ (along with additive biases, $\\vec{b}$, per each kernel), and it operates by computing the convolution of the output images of a previous layer with each of those kernels, afterwards adding the biases (one per each output image). Finally, an activation function, $\\sigma$, may be applied to all of the pixels of the output images. Typically, the input to a convolutional layer will have $d$ *channels* (e.g. red/green/blue in the input layer), in which case the kernels are extended to have this number of channels as well, making the final formula of a single output image channel of a convolutional layer (for a kernel ${\\bf K}$ and bias $b$) as follows:\n",
        "\n",
        "$$\\mathrm{conv}({\\bf I}, {\\bf K})_{xy} = \\sigma\\left(b + \\sum_{i=1}^h \\sum_{j=1}^w \\sum_{k=1}^d {{\\bf K}_{ijk} \\cdot {\\bf I}_{x + i - 1, y + j - 1, k}}\\right)$$\n",
        "\n",
        "Note that, since all we're doing here is addition and scaling of the input pixels, the kernels may be learned from a given training dataset via *gradient descent*, exactly as the weights of an MLP. In fact, an MLP is perfectly capable of replicating a convolutional layer, but it would require a lot more training time (and data) to learn to approximate that mode of operation.\n",
        "\n",
        "Finally, let's just note that a convolutional operator is in no way restricted to two-dimensionally structured data: in fact, most machine learning frameworks ([Keras included](https://keras.io/layers/convolutional/)) will provide you with out-of-the-box layers for 1D and 3D convolutions as well!\n",
        "\n",
        "It is important to note that, while a convolutional layer significantly decreases the number of *parameters* compared to a fully connected (FC) layer, it introduces more **hyperparameters**---parameters whose values need to be chosen *before* training starts.\n",
        "\n",
        "Namely, the hyperparameters to choose within a single convolutional layer are:\n",
        "- *depth*: how many different kernels (and biases) will be convolved with the output of the previous layer;\n",
        "- *height* and *width* of each kernel;\n",
        "- *stride*: by how much we shift the kernel in each step to compute the next pixel in the result. This specifies the overlap between individual output pixels, and typically it is set to $1$, corresponding to the formula given before. Note that larger strides result in smaller output sizes.\n",
        "- *padding*: note that convolution by any kernel larger than $1\\times 1$ will *decrease* the output image size---it is often desirable to keep sizes the same, in which case the image is sufficiently padded with zeroes at the edges. This is often called *same* padding, as opposed to *valid* (no) padding. It is possible to add arbitrary levels of padding, but typically the padding of choice will be either *same* or *valid*.\n",
        "\n",
        "As already hinted, convolutions are not typically meant to be the sole operation in a CNN (although there have been promising recent developments on [all-convolutional networks](https://arxiv.org/pdf/1412.6806v3.pdf)); but rather to extract useful features of an image prior to downsampling it sufficiently to be manageable by an MLP.\n",
        "\n",
        "A very popular approach to downsampling is a *pooling* layer, which consumes small and (usually) disjoint chunks of the image (typically $2\\times 2$) and aggregates them into a single value. There are several possible schemes for the aggregation---the most popular being **max-pooling**, where the maximum pixel value within each chunk is taken. A diagrammatical illustration of $2\\times 2$ max-pooling is given below.\n",
        "\n",
        "<img src='https://drive.google.com/uc?id=1jT_npY6FcTntXKkpBa_t0ULLhCz829oG'>"
      ]
    },
    {
      "cell_type": "markdown",
      "metadata": {
        "id": "LWBZR8zcG8TI"
      },
      "source": [
        "### 4. Convolutional Neural Network (CNN) architecture\n",
        "\n",
        "Now that we got all the building blocks, let's see what a typical convolutional neural network might look like!\n",
        "\n",
        "<img src='https://drive.google.com/uc?id=1U_evrkbLuuHwRkVLtJVXhZG4FoRopdqO'>\n",
        "\n",
        "A typical CNN architecture for a $k$-class image classification can be split into two distinct parts---a chain of repeating $\\mathrm{Conv}\\rightarrow\\mathrm{Pool}$ layers (sometimes with more than one convolutional layer at once), followed by a few fully connected layers (taking each pixel of the computed images as an independent input), culminating in a $k$-way softmax layer, to which a cross-entropy loss is optimised. I did not draw the activation functions here to make the sketch clearer, but do keep in mind that typically after every convolutional or fully connected layer, an activation (e.g. ReLU) will be applied to all of the outputs.\n",
        "\n",
        "Note the effect of a single $\\mathrm{Conv}\\rightarrow\\mathrm{Pool}$ pass through the image: it reduces height and width of the individual channels in favour of their number, i.e. *depth*.\n",
        "\n",
        "<!-- The softmax layer and cross-entropy loss are both introduced in more detail [in the previous tutorial](http://online.cambridgecoding.com/notebooks/cca_admin/deep-learning-for-complete-beginners-recognising-handwritten-digits).  -->\n",
        "For summarisation purposes, a softmax layer's purpose is converting any vector of real numbers into a vector of *probabilities* (non-negative real values that add up to 1). Within this context, the probabilities correspond to the likelihoods that an input image is a member of a particular class. Minimising the cross-entropy loss has the effect of maximising the model's confidence in the *correct* class, without being concerned for the probabilites for other classes---this makes it a more suitable choice for probabilistic tasks compared to, for example, the squared error loss.\n",
        "\n",
        "<img src='https://cs231n.github.io/assets/cnn/convnet.jpeg'>"
      ]
    },
    {
      "cell_type": "markdown",
      "metadata": {
        "id": "NFFwq-avNe9d"
      },
      "source": [
        "### 5. Detour: Overfitting, regularisation and dropout\n",
        "\n",
        "This will be the first (and hopefully the only) time when I will divert your attention to a seemingly unrelated topic. It regards a very important pitfall of machine learning---**overfitting** a model to the training data. While this is primarily going to be a major topic of the next tutorial in the series, the negative effects of overfitting will tend to become quite noticeable on the networks like the one we are about to build, and we need to introduce a way to properly protect ourselves against it, before going any further. Luckily, there is a very simple technique we can use.\n",
        "\n",
        "Overfitting corresponds to adapting our model to the training set to such extremes that its generalisation potential (performance on samples outside of the training set) is *severely* limited. In other words, our model might have learned the training set (along with any noise present within it) perfectly, but it has failed to capture the underlying process that generated it. To illustrate, consider a problem of fitting a sine curve, with white additive noise applied to the data points:\n",
        "\n",
        "<img src='https://drive.google.com/uc?id=1CNg2x_Pxn__mQTwEEznPvh3WR7Lb0nUc'>\n",
        "\n",
        "Here we have a training set (denoted by blue circles) derived from the original sine wave, along with some noise. If we fit a degree-3 polynomial to this data, we get a fairly good approximation to the original curve. Someone might argue that a degree-14 polynomial would do better; indeed, given we have 15 points, such a fit would *perfectly* describe the training data. However, in this case, the additional parameters of the model cause catastrophic results: to cope with the inherent noise of the data, anywhere except in the closest vicinity of the training points, our fit is completely off.\n",
        "\n",
        "Deep convolutional neural networks have a large number of parameters, especially in the fully connected layers. Overfitting might often manifest in the following form: if we don't have sufficiently many training examples, a small group of neurons might become responsible for doing most of the processing and other neurons becoming redundant; or in the other extreme, some neurons might actually become detrimental to performance, with several other neurons of their layer ending up doing nothing else but correcting for their errors.\n",
        "\n",
        "To help our models generalise better in these circumstances, we introduce techniques of *regularisation*: rather than reducing the number of parameters, we impose *constraints* on the model parameters during training to keep them from learning the noise in the training data. The particular method I will introduce here is **dropout**---a technique that initially might seem like \"dark magic\", but actually helps to eliminate exactly the failure modes described above. Namely, dropout with parameter $p$ will, within a single training iteration, go through all neurons in a particular layer and, with probability $p$, *completely eliminate them from the network throughout the iteration*. This has the effect of forcing the neural network to cope with *failures*, and not to rely on existence of a particular neuron (or set of neurons)---relying more on a *consensus* of several neurons within a layer. This is a very simple technique that works quite well already for combatting overfitting on its own, without introducing further regularisers. An illustration is given below.\n",
        "\n",
        "<img src='https://drive.google.com/uc?id=1pspitsjToyRPXvN0VTzpW3VuAwfVJYcH'>"
      ]
    },
    {
      "cell_type": "markdown",
      "metadata": {
        "id": "TrOyMOucN_uO"
      },
      "source": [
        "### 6. Applying a deep CNN to MNIST\n",
        "\n",
        "As the objective of this part of tutorial, we will implement a deep convolutional neural network---and apply it on the MNIST digit recognition classification task."
      ]
    },
    {
      "cell_type": "markdown",
      "metadata": {
        "id": "zKj0fFUmOGDZ"
      },
      "source": [
        "As already mentioned, a CNN will typically have more hyperparameters than an MLP. For the purposes of this tutorial, we will also stick to \"sensible\" hand-picked values for them, but do still keep in mind that later on I will introduce a more proper method for learning them.\n",
        "\n",
        "The hyperparameters are:\n",
        "- The *batch size*, representing the number of training examples being used simultaneously during a single iteration of the gradient descent algorithm;\n",
        "- The number of *epochs*, representing the number of times the training algorithm will iterate over the entire training set before terminating\\*;\n",
        "- The *kernel sizes* in the convolutional layers;\n",
        "- The *pooling size* in the pooling layers;\n",
        "- The *number of kernels* in the convolutional layers;\n",
        "- The *dropout probability* (we will apply dropout after each pooling, and after the fully connected layer);\n",
        "- The *number of neurons* in the fully connected layer of the MLP.\n",
        "\n",
        "\\* **N.B. here I have set the number of epochs to 100, which might be undesirably slow if you do not have a GPU at your disposal (the convolution layers are going to pose a significant performance bottleneck in this case). You might wish to decrease the epoch count and/or numbers of kernels if you are going to be training the network on a CPU.**"
      ]
    },
    {
      "cell_type": "markdown",
      "metadata": {
        "id": "cX8JHwgiOAv_"
      },
      "source": [
        "Modelling time! Our network has an architecture similar to LeNet5 of LeCun (see figure below). It will consist of two consecutive layers of one `Convolution2D` followed by  a `MaxPooling2D` layer. After the first pooling layer, the number of kernels is rougly doubled (in line with the previously mentioned principle of sacrificing height and width for more depth). Afterwards, the output of the second pooling layer is flattened to 1D (via the `Flatten` layer), and passed through one or two fully connected (`Dense`) layers. ReLU activations will once again be used for all layers except the output dense layer, which will use a softmax activation (for purposes of probabilistic classification).\n",
        "\n",
        "<img src='https://drive.google.com/uc?id=1i2yY3LK68cCqc0HfixOQoyo-yL_CsNS1'>\n",
        "\n",
        "To regularise our model, a `Dropout` layer is applied after each pooling layer, and after the first `Dense` layer. This is another area where Keras shines compared to other frameworks: it has an internal flag that automatically enables or disables dropout, depending on whether the model is currently used for training or testing.\n",
        "\n",
        "The remainder of the model specification is the following:\n",
        "- We use the *cross-entropy* loss function as the objective to optimise (as its derivation is more appropriate for probabilistic tasks);\n",
        "- We use the [*Adam* optimiser for gradient descent](http://sebastianruder.com/optimizing-gradient-descent/) \\*;\n",
        "- We report the *accuracy* of the model (as the dataset is balanced across the ten classes) \\**;\n",
        "- We hold out 10% of the data for validation purposes.\n",
        "\n",
        "\\* A nice visualisation of the gradient descent: [here ](https://github.com/Jaewan-Yun/optimizer-visualization)\n",
        "\n",
        "\\** To get a feeling for why accuracy might be inappropriate for unbalanced datasets, consider an extreme case where 90% of the test data belongs to class $x$ (this could be, for example, the task of diagnosing patients for an extremely rare disease). In this case, a classifier that just outputs $x$ achieves a seemingly impressive accuracy of 90% on the test data, without really doing any learning/generalisation."
      ]
    },
    {
      "cell_type": "markdown",
      "metadata": {
        "id": "IuwBeaTDOZ0B"
      },
      "source": [
        "This model, possibly after some tweaking of its architectural parameters, should be able to break $99\\%$ accuracy on its **test set** with little to no effort."
      ]
    },
    {
      "cell_type": "markdown",
      "metadata": {
        "id": "5QHBs2PBOe2F"
      },
      "source": [
        "### 7. Conclusion\n",
        "\n",
        "Throughout this post we have covered the essentials of convolutional neural networks, introduced the problem of overfitting, and made a very brief dent into how it could be rectified via regularisation (by applying dropout) and successfully implemented a two-layer deep CNN (with LeNet like architecture) in Keras, applying it to MNIST, all in under 50 lines of code."
      ]
    },
    {
      "cell_type": "markdown",
      "metadata": {
        "id": "iU-OffzeOiaM"
      },
      "source": [
        "### 8. Just show me the code!"
      ]
    },
    {
      "cell_type": "markdown",
      "metadata": {
        "id": "iWOxOENOOkh9"
      },
      "source": [
        "This code assume your already have installed <code>numpy</code>, <code>keras</code>, <code>tensorflow</code>, ... on your computer. If not, uncomment the adequate lines in the cell below:"
      ]
    },
    {
      "cell_type": "code",
      "metadata": {
        "colab": {
          "base_uri": "https://localhost:8080/"
        },
        "id": "SQIqK1vnUg8i",
        "outputId": "065cf0c8-a319-4e7b-8272-b17d31d301f6"
      },
      "source": [
        "import sys\n",
        "print('Your python version: {}'.format(sys.version_info.major))\n",
        "# Uncomment lines below only if you need them\n",
        "#!{sys.executable} -m pip install -U numpy --user\n",
        "#!{sys.executable} -m pip install -U matplotlib --user\n",
        "#!{sys.executable} -m pip install -U keras --user\n",
        "#!{sys.executable} -m pip install -U tensorflow --user\n",
        "#!{sys.executable} -m pip install -U theano --user"
      ],
      "execution_count": null,
      "outputs": [
        {
          "output_type": "stream",
          "name": "stdout",
          "text": [
            "Your python version: 3\n"
          ]
        }
      ]
    },
    {
      "cell_type": "code",
      "metadata": {
        "id": "VhPSxkBsUsV7"
      },
      "source": [
        "USE_TENSORFLOW_AS_BACKEND = True\n",
        "\n",
        "# IF YOU *DO* HAVE AN Nvidia GPU on your computer, or execute on Google COLAB, then change below to False!\n",
        "FORCE_CPU = False"
      ],
      "execution_count": null,
      "outputs": []
    },
    {
      "cell_type": "code",
      "metadata": {
        "id": "K28A0-KwUzNn"
      },
      "source": [
        "import os\n",
        "import numpy as np\n",
        "from numpy import newaxis\n",
        "import matplotlib.pyplot as plt"
      ],
      "execution_count": null,
      "outputs": []
    },
    {
      "cell_type": "code",
      "metadata": {
        "id": "mgawvFEwU2qw"
      },
      "source": [
        "if USE_TENSORFLOW_AS_BACKEND:\n",
        "    os.environ['KERAS_BACKEND'] = 'tensorflow'\n",
        "else:\n",
        "    os.environ['KERAS_BACKEND'] = 'theano'\n",
        "if FORCE_CPU:\n",
        "    os.environ[\"CUDA_DEVICE_ORDER\"] = \"PCI_BUS_ID\"   # see issue #152\n",
        "    os.environ[\"CUDA_VISIBLE_DEVICES\"] = \"\""
      ],
      "execution_count": null,
      "outputs": []
    },
    {
      "cell_type": "code",
      "metadata": {
        "id": "1Rlu1c6iU7cN"
      },
      "source": [
        "import keras\n",
        "from keras import backend as K\n",
        "from keras import regularizers\n",
        "from keras.datasets import mnist # subroutines for fetching the MNIST dataset\n",
        "from keras.models import Model, Sequential # basic class for specifying and training a neural network\n",
        "from keras.layers import Input, Conv2D, MaxPooling2D, Dense, Dropout, Activation, Flatten\n",
        "from keras import utils # utilities for one-hot encoding of ground truth values"
      ],
      "execution_count": null,
      "outputs": []
    },
    {
      "cell_type": "code",
      "metadata": {
        "id": "ITa9ybybU-x9"
      },
      "source": [
        "#if USE_TENSORFLOW_AS_BACKEND:\n",
        "#    K.common.set_image_dim_ordering(\"tf\")\n",
        "#else:\n",
        "#    K.set_image_dim_ordering(\"th\")"
      ],
      "execution_count": null,
      "outputs": []
    },
    {
      "cell_type": "code",
      "metadata": {
        "colab": {
          "base_uri": "https://localhost:8080/"
        },
        "id": "OxfLQg_pVHpO",
        "outputId": "6b7d70ad-5967-469d-afa3-5764c2723222"
      },
      "source": [
        "print('Your keras version: {}'.format(keras.__version__))\n",
        "if USE_TENSORFLOW_AS_BACKEND == True:\n",
        "    import tensorflow\n",
        "    print('Your tensorflow version: {}'.format(tensorflow.__version__))\n",
        "    print(\"GPU : \"+tensorflow.test.gpu_device_name())\n",
        "else:\n",
        "    import theano\n",
        "    print('Your theano version: {}'.format(theano.__version__))"
      ],
      "execution_count": null,
      "outputs": [
        {
          "output_type": "stream",
          "name": "stdout",
          "text": [
            "Your keras version: 3.4.1\n",
            "Your tensorflow version: 2.17.0\n",
            "GPU : /device:GPU:0\n"
          ]
        }
      ]
    },
    {
      "cell_type": "code",
      "metadata": {
        "colab": {
          "base_uri": "https://localhost:8080/"
        },
        "id": "XvOdoWWEVgA5",
        "outputId": "f780a8ba-4a7c-419c-a172-ff60bec227e2"
      },
      "source": [
        "# --------------------------------------\n",
        "# Dataset variables\n",
        "# --------------------------------------\n",
        "num_train = 60000 # there are 60000 training examples in MNIST\n",
        "num_test = 10000  # there are 10000 test examples in MNIST\n",
        "height, width, depth = 28, 28, 1 # MNIST images are 28x28 with 1 channel (greyscale)\n",
        "num_classes = 10                 # there are 10 classes (1 per digit)\n",
        "\n",
        "# --------------------------------------\n",
        "# Dataset loading & preprocessing\n",
        "# --------------------------------------\n",
        "(X_train, y_train), (X_test, y_test) = mnist.load_data() # fetch MNIST data\n",
        "\n",
        "X_train = X_train.astype('float32')\n",
        "X_test = X_test.astype('float32')\n",
        "X_train /= 255 # Normalise data to [0, 1] range\n",
        "X_test /= 255 # Normalise data to [0, 1] range\n",
        "\n",
        "\n",
        "X_train = X_train[:, newaxis, :, :] # Reshape in \"convolutionable\" format (add tensor dim for the depth)\n",
        "X_test = X_test[:, newaxis, :, :] # Reshape in \"convolutionable\" format (add tensor dim for the depth)\n",
        "\n",
        "Y_train = utils.to_categorical(y_train, num_classes) # One-hot encode the labels\n",
        "Y_test = utils.to_categorical(y_test, num_classes) # One-hot encode the labels\n",
        "\n",
        "print(X_train.shape, Y_train.shape)"
      ],
      "execution_count": null,
      "outputs": [
        {
          "output_type": "stream",
          "name": "stdout",
          "text": [
            "Downloading data from https://storage.googleapis.com/tensorflow/tf-keras-datasets/mnist.npz\n",
            "\u001b[1m11490434/11490434\u001b[0m \u001b[32m━━━━━━━━━━━━━━━━━━━━\u001b[0m\u001b[37m\u001b[0m \u001b[1m0s\u001b[0m 0us/step\n",
            "(60000, 1, 28, 28) (60000, 10)\n"
          ]
        }
      ]
    },
    {
      "cell_type": "code",
      "metadata": {
        "colab": {
          "base_uri": "https://localhost:8080/",
          "height": 536
        },
        "id": "HpP-6e5fV2ck",
        "outputId": "cf78e790-1f30-4194-f902-b7091e43e26b"
      },
      "source": [
        "# --------------------------------------\n",
        "# Network params\n",
        "# --------------------------------------\n",
        "\n",
        "batch_size = 32    # in each iteration, we consider 32 training examples at once\n",
        "num_epochs = 15    # we iterate 15 times over the entire training set\n",
        "kernel_size = 5    # we will use 5x5 kernels throughout\n",
        "pool_size = 2      # we will use 2x2 pooling throughout\n",
        "conv_depth_1 = 6   # we will initially have 6 kernels in first conv. layer...\n",
        "conv_depth_2 = 16  # ...switching to 16 after the first pooling layer\n",
        "drop_prob_1 = 0.   # dropout after pooling with probability 0.\n",
        "drop_prob_2 = 0.   # dropout in the FC layer with probability 0.\n",
        "hidden_size = 128  # the FC layer will have 128neurons\n",
        "weight_penalty = 0. # Factor for weights penalty\n",
        "\n",
        "# --------------------------------------\n",
        "# CNN network definition\n",
        "# --------------------------------------\n",
        "# inp = Input(shape=(1,height,width)) # greyscale --> depth==1\n",
        "# model = Model(input=inp, output=out) # To define a model, just specify its input and output layers\n",
        "\n",
        "model = Sequential()\n",
        "# Conv [8] -> Pool (with dropout on the pooling layer)\n",
        "model.add( Conv2D(conv_depth_1, (kernel_size,kernel_size), padding='same', activation='relu', data_format=\"channels_first\", input_shape=( 1, 28, 28)) )\n",
        "model.add( MaxPooling2D(pool_size=(pool_size, pool_size)) )\n",
        "model.add( Dropout(drop_prob_1) )\n",
        "\n",
        "# Conv [16] -> Pool (with dropout on the pooling layer)\n",
        "model.add( Conv2D(conv_depth_2, (kernel_size,kernel_size), padding='same', activation='relu') )\n",
        "model.add( MaxPooling2D(pool_size=(pool_size, pool_size)) )\n",
        "model.add( Dropout(drop_prob_1) )\n",
        "\n",
        "# Now flatten to 1D, apply FC -> ReLU (with dropout) -> softmax\n",
        "model.add( Flatten() )\n",
        "model.add( Dense(hidden_size, activation='relu', kernel_regularizer=regularizers.l2(weight_penalty)) )\n",
        "model.add( Dropout(drop_prob_2) )\n",
        "model.add( Dense(num_classes, activation='softmax') )\n",
        "\n",
        "print(model.summary())"
      ],
      "execution_count": null,
      "outputs": [
        {
          "output_type": "stream",
          "name": "stderr",
          "text": [
            "/usr/local/lib/python3.10/dist-packages/keras/src/layers/convolutional/base_conv.py:107: UserWarning: Do not pass an `input_shape`/`input_dim` argument to a layer. When using Sequential models, prefer using an `Input(shape)` object as the first layer in the model instead.\n",
            "  super().__init__(activity_regularizer=activity_regularizer, **kwargs)\n"
          ]
        },
        {
          "output_type": "display_data",
          "data": {
            "text/plain": [
              "\u001b[1mModel: \"sequential\"\u001b[0m\n"
            ],
            "text/html": [
              "<pre style=\"white-space:pre;overflow-x:auto;line-height:normal;font-family:Menlo,'DejaVu Sans Mono',consolas,'Courier New',monospace\"><span style=\"font-weight: bold\">Model: \"sequential\"</span>\n",
              "</pre>\n"
            ]
          },
          "metadata": {}
        },
        {
          "output_type": "display_data",
          "data": {
            "text/plain": [
              "┏━━━━━━━━━━━━━━━━━━━━━━━━━━━━━━━━━━━━━━┳━━━━━━━━━━━━━━━━━━━━━━━━━━━━━┳━━━━━━━━━━━━━━━━━┓\n",
              "┃\u001b[1m \u001b[0m\u001b[1mLayer (type)                        \u001b[0m\u001b[1m \u001b[0m┃\u001b[1m \u001b[0m\u001b[1mOutput Shape               \u001b[0m\u001b[1m \u001b[0m┃\u001b[1m \u001b[0m\u001b[1m        Param #\u001b[0m\u001b[1m \u001b[0m┃\n",
              "┡━━━━━━━━━━━━━━━━━━━━━━━━━━━━━━━━━━━━━━╇━━━━━━━━━━━━━━━━━━━━━━━━━━━━━╇━━━━━━━━━━━━━━━━━┩\n",
              "│ conv2d (\u001b[38;5;33mConv2D\u001b[0m)                      │ (\u001b[38;5;45mNone\u001b[0m, \u001b[38;5;34m6\u001b[0m, \u001b[38;5;34m28\u001b[0m, \u001b[38;5;34m28\u001b[0m)           │             \u001b[38;5;34m156\u001b[0m │\n",
              "├──────────────────────────────────────┼─────────────────────────────┼─────────────────┤\n",
              "│ max_pooling2d (\u001b[38;5;33mMaxPooling2D\u001b[0m)         │ (\u001b[38;5;45mNone\u001b[0m, \u001b[38;5;34m3\u001b[0m, \u001b[38;5;34m14\u001b[0m, \u001b[38;5;34m28\u001b[0m)           │               \u001b[38;5;34m0\u001b[0m │\n",
              "├──────────────────────────────────────┼─────────────────────────────┼─────────────────┤\n",
              "│ dropout (\u001b[38;5;33mDropout\u001b[0m)                    │ (\u001b[38;5;45mNone\u001b[0m, \u001b[38;5;34m3\u001b[0m, \u001b[38;5;34m14\u001b[0m, \u001b[38;5;34m28\u001b[0m)           │               \u001b[38;5;34m0\u001b[0m │\n",
              "├──────────────────────────────────────┼─────────────────────────────┼─────────────────┤\n",
              "│ conv2d_1 (\u001b[38;5;33mConv2D\u001b[0m)                    │ (\u001b[38;5;45mNone\u001b[0m, \u001b[38;5;34m3\u001b[0m, \u001b[38;5;34m14\u001b[0m, \u001b[38;5;34m16\u001b[0m)           │          \u001b[38;5;34m11,216\u001b[0m │\n",
              "├──────────────────────────────────────┼─────────────────────────────┼─────────────────┤\n",
              "│ max_pooling2d_1 (\u001b[38;5;33mMaxPooling2D\u001b[0m)       │ (\u001b[38;5;45mNone\u001b[0m, \u001b[38;5;34m1\u001b[0m, \u001b[38;5;34m7\u001b[0m, \u001b[38;5;34m16\u001b[0m)            │               \u001b[38;5;34m0\u001b[0m │\n",
              "├──────────────────────────────────────┼─────────────────────────────┼─────────────────┤\n",
              "│ dropout_1 (\u001b[38;5;33mDropout\u001b[0m)                  │ (\u001b[38;5;45mNone\u001b[0m, \u001b[38;5;34m1\u001b[0m, \u001b[38;5;34m7\u001b[0m, \u001b[38;5;34m16\u001b[0m)            │               \u001b[38;5;34m0\u001b[0m │\n",
              "├──────────────────────────────────────┼─────────────────────────────┼─────────────────┤\n",
              "│ flatten (\u001b[38;5;33mFlatten\u001b[0m)                    │ (\u001b[38;5;45mNone\u001b[0m, \u001b[38;5;34m112\u001b[0m)                 │               \u001b[38;5;34m0\u001b[0m │\n",
              "├──────────────────────────────────────┼─────────────────────────────┼─────────────────┤\n",
              "│ dense (\u001b[38;5;33mDense\u001b[0m)                        │ (\u001b[38;5;45mNone\u001b[0m, \u001b[38;5;34m128\u001b[0m)                 │          \u001b[38;5;34m14,464\u001b[0m │\n",
              "├──────────────────────────────────────┼─────────────────────────────┼─────────────────┤\n",
              "│ dropout_2 (\u001b[38;5;33mDropout\u001b[0m)                  │ (\u001b[38;5;45mNone\u001b[0m, \u001b[38;5;34m128\u001b[0m)                 │               \u001b[38;5;34m0\u001b[0m │\n",
              "├──────────────────────────────────────┼─────────────────────────────┼─────────────────┤\n",
              "│ dense_1 (\u001b[38;5;33mDense\u001b[0m)                      │ (\u001b[38;5;45mNone\u001b[0m, \u001b[38;5;34m10\u001b[0m)                  │           \u001b[38;5;34m1,290\u001b[0m │\n",
              "└──────────────────────────────────────┴─────────────────────────────┴─────────────────┘\n"
            ],
            "text/html": [
              "<pre style=\"white-space:pre;overflow-x:auto;line-height:normal;font-family:Menlo,'DejaVu Sans Mono',consolas,'Courier New',monospace\">┏━━━━━━━━━━━━━━━━━━━━━━━━━━━━━━━━━━━━━━┳━━━━━━━━━━━━━━━━━━━━━━━━━━━━━┳━━━━━━━━━━━━━━━━━┓\n",
              "┃<span style=\"font-weight: bold\"> Layer (type)                         </span>┃<span style=\"font-weight: bold\"> Output Shape                </span>┃<span style=\"font-weight: bold\">         Param # </span>┃\n",
              "┡━━━━━━━━━━━━━━━━━━━━━━━━━━━━━━━━━━━━━━╇━━━━━━━━━━━━━━━━━━━━━━━━━━━━━╇━━━━━━━━━━━━━━━━━┩\n",
              "│ conv2d (<span style=\"color: #0087ff; text-decoration-color: #0087ff\">Conv2D</span>)                      │ (<span style=\"color: #00d7ff; text-decoration-color: #00d7ff\">None</span>, <span style=\"color: #00af00; text-decoration-color: #00af00\">6</span>, <span style=\"color: #00af00; text-decoration-color: #00af00\">28</span>, <span style=\"color: #00af00; text-decoration-color: #00af00\">28</span>)           │             <span style=\"color: #00af00; text-decoration-color: #00af00\">156</span> │\n",
              "├──────────────────────────────────────┼─────────────────────────────┼─────────────────┤\n",
              "│ max_pooling2d (<span style=\"color: #0087ff; text-decoration-color: #0087ff\">MaxPooling2D</span>)         │ (<span style=\"color: #00d7ff; text-decoration-color: #00d7ff\">None</span>, <span style=\"color: #00af00; text-decoration-color: #00af00\">3</span>, <span style=\"color: #00af00; text-decoration-color: #00af00\">14</span>, <span style=\"color: #00af00; text-decoration-color: #00af00\">28</span>)           │               <span style=\"color: #00af00; text-decoration-color: #00af00\">0</span> │\n",
              "├──────────────────────────────────────┼─────────────────────────────┼─────────────────┤\n",
              "│ dropout (<span style=\"color: #0087ff; text-decoration-color: #0087ff\">Dropout</span>)                    │ (<span style=\"color: #00d7ff; text-decoration-color: #00d7ff\">None</span>, <span style=\"color: #00af00; text-decoration-color: #00af00\">3</span>, <span style=\"color: #00af00; text-decoration-color: #00af00\">14</span>, <span style=\"color: #00af00; text-decoration-color: #00af00\">28</span>)           │               <span style=\"color: #00af00; text-decoration-color: #00af00\">0</span> │\n",
              "├──────────────────────────────────────┼─────────────────────────────┼─────────────────┤\n",
              "│ conv2d_1 (<span style=\"color: #0087ff; text-decoration-color: #0087ff\">Conv2D</span>)                    │ (<span style=\"color: #00d7ff; text-decoration-color: #00d7ff\">None</span>, <span style=\"color: #00af00; text-decoration-color: #00af00\">3</span>, <span style=\"color: #00af00; text-decoration-color: #00af00\">14</span>, <span style=\"color: #00af00; text-decoration-color: #00af00\">16</span>)           │          <span style=\"color: #00af00; text-decoration-color: #00af00\">11,216</span> │\n",
              "├──────────────────────────────────────┼─────────────────────────────┼─────────────────┤\n",
              "│ max_pooling2d_1 (<span style=\"color: #0087ff; text-decoration-color: #0087ff\">MaxPooling2D</span>)       │ (<span style=\"color: #00d7ff; text-decoration-color: #00d7ff\">None</span>, <span style=\"color: #00af00; text-decoration-color: #00af00\">1</span>, <span style=\"color: #00af00; text-decoration-color: #00af00\">7</span>, <span style=\"color: #00af00; text-decoration-color: #00af00\">16</span>)            │               <span style=\"color: #00af00; text-decoration-color: #00af00\">0</span> │\n",
              "├──────────────────────────────────────┼─────────────────────────────┼─────────────────┤\n",
              "│ dropout_1 (<span style=\"color: #0087ff; text-decoration-color: #0087ff\">Dropout</span>)                  │ (<span style=\"color: #00d7ff; text-decoration-color: #00d7ff\">None</span>, <span style=\"color: #00af00; text-decoration-color: #00af00\">1</span>, <span style=\"color: #00af00; text-decoration-color: #00af00\">7</span>, <span style=\"color: #00af00; text-decoration-color: #00af00\">16</span>)            │               <span style=\"color: #00af00; text-decoration-color: #00af00\">0</span> │\n",
              "├──────────────────────────────────────┼─────────────────────────────┼─────────────────┤\n",
              "│ flatten (<span style=\"color: #0087ff; text-decoration-color: #0087ff\">Flatten</span>)                    │ (<span style=\"color: #00d7ff; text-decoration-color: #00d7ff\">None</span>, <span style=\"color: #00af00; text-decoration-color: #00af00\">112</span>)                 │               <span style=\"color: #00af00; text-decoration-color: #00af00\">0</span> │\n",
              "├──────────────────────────────────────┼─────────────────────────────┼─────────────────┤\n",
              "│ dense (<span style=\"color: #0087ff; text-decoration-color: #0087ff\">Dense</span>)                        │ (<span style=\"color: #00d7ff; text-decoration-color: #00d7ff\">None</span>, <span style=\"color: #00af00; text-decoration-color: #00af00\">128</span>)                 │          <span style=\"color: #00af00; text-decoration-color: #00af00\">14,464</span> │\n",
              "├──────────────────────────────────────┼─────────────────────────────┼─────────────────┤\n",
              "│ dropout_2 (<span style=\"color: #0087ff; text-decoration-color: #0087ff\">Dropout</span>)                  │ (<span style=\"color: #00d7ff; text-decoration-color: #00d7ff\">None</span>, <span style=\"color: #00af00; text-decoration-color: #00af00\">128</span>)                 │               <span style=\"color: #00af00; text-decoration-color: #00af00\">0</span> │\n",
              "├──────────────────────────────────────┼─────────────────────────────┼─────────────────┤\n",
              "│ dense_1 (<span style=\"color: #0087ff; text-decoration-color: #0087ff\">Dense</span>)                      │ (<span style=\"color: #00d7ff; text-decoration-color: #00d7ff\">None</span>, <span style=\"color: #00af00; text-decoration-color: #00af00\">10</span>)                  │           <span style=\"color: #00af00; text-decoration-color: #00af00\">1,290</span> │\n",
              "└──────────────────────────────────────┴─────────────────────────────┴─────────────────┘\n",
              "</pre>\n"
            ]
          },
          "metadata": {}
        },
        {
          "output_type": "display_data",
          "data": {
            "text/plain": [
              "\u001b[1m Total params: \u001b[0m\u001b[38;5;34m27,126\u001b[0m (105.96 KB)\n"
            ],
            "text/html": [
              "<pre style=\"white-space:pre;overflow-x:auto;line-height:normal;font-family:Menlo,'DejaVu Sans Mono',consolas,'Courier New',monospace\"><span style=\"font-weight: bold\"> Total params: </span><span style=\"color: #00af00; text-decoration-color: #00af00\">27,126</span> (105.96 KB)\n",
              "</pre>\n"
            ]
          },
          "metadata": {}
        },
        {
          "output_type": "display_data",
          "data": {
            "text/plain": [
              "\u001b[1m Trainable params: \u001b[0m\u001b[38;5;34m27,126\u001b[0m (105.96 KB)\n"
            ],
            "text/html": [
              "<pre style=\"white-space:pre;overflow-x:auto;line-height:normal;font-family:Menlo,'DejaVu Sans Mono',consolas,'Courier New',monospace\"><span style=\"font-weight: bold\"> Trainable params: </span><span style=\"color: #00af00; text-decoration-color: #00af00\">27,126</span> (105.96 KB)\n",
              "</pre>\n"
            ]
          },
          "metadata": {}
        },
        {
          "output_type": "display_data",
          "data": {
            "text/plain": [
              "\u001b[1m Non-trainable params: \u001b[0m\u001b[38;5;34m0\u001b[0m (0.00 B)\n"
            ],
            "text/html": [
              "<pre style=\"white-space:pre;overflow-x:auto;line-height:normal;font-family:Menlo,'DejaVu Sans Mono',consolas,'Courier New',monospace\"><span style=\"font-weight: bold\"> Non-trainable params: </span><span style=\"color: #00af00; text-decoration-color: #00af00\">0</span> (0.00 B)\n",
              "</pre>\n"
            ]
          },
          "metadata": {}
        },
        {
          "output_type": "stream",
          "name": "stdout",
          "text": [
            "None\n"
          ]
        }
      ]
    },
    {
      "cell_type": "markdown",
      "metadata": {
        "id": "Xj-FRTqMXZo-"
      },
      "source": [
        "## Questions\n",
        "\n",
        "#### What are the activation functions here? Why are they chosen?\n",
        "#### What is the loss function?\n",
        "#### What is the value of learning rate here?\n"
      ]
    },
    {
      "cell_type": "code",
      "metadata": {
        "colab": {
          "base_uri": "https://localhost:8080/"
        },
        "id": "-CL4NMM_WqGu",
        "outputId": "a5b0603b-d349-4fa0-f0f3-bb1951efffd6"
      },
      "source": [
        "# --------------------------------------\n",
        "# Loss function and Optimizer\n",
        "# --------------------------------------\n",
        "model.compile(loss='categorical_crossentropy', # using the cross-entropy loss function\n",
        "              optimizer='adam', # using the Adam optimiser\n",
        "              metrics=['accuracy']) # reporting the accuracy\n",
        "\n",
        "# --------------------------------------\n",
        "# Training\n",
        "# --------------------------------------\n",
        "history = model.fit(X_train, Y_train, # Train the model using the training set...\n",
        "          batch_size=batch_size, epochs=num_epochs,\n",
        "          verbose=1, validation_split=0.4) # ...holding out 40% of the data for validation\n",
        "\n",
        "# --------------------------------------\n",
        "# Evaluation\n",
        "# --------------------------------------\n",
        "for loss_name, loss_value in list(zip(model.metrics_names, model.evaluate(X_test, Y_test, verbose=1))):\n",
        "    print('The final {} on the TEST set is: {:.2f}.'.format(loss_name, loss_value)) # Evaluate the trained model on the test set!"
      ],
      "execution_count": null,
      "outputs": [
        {
          "output_type": "stream",
          "name": "stdout",
          "text": [
            "Epoch 1/15\n",
            "\u001b[1m1125/1125\u001b[0m \u001b[32m━━━━━━━━━━━━━━━━━━━━\u001b[0m\u001b[37m\u001b[0m \u001b[1m13s\u001b[0m 6ms/step - accuracy: 0.8110 - loss: 0.6184 - val_accuracy: 0.9615 - val_loss: 0.1222\n",
            "Epoch 2/15\n",
            "\u001b[1m1125/1125\u001b[0m \u001b[32m━━━━━━━━━━━━━━━━━━━━\u001b[0m\u001b[37m\u001b[0m \u001b[1m12s\u001b[0m 3ms/step - accuracy: 0.9676 - loss: 0.1015 - val_accuracy: 0.9751 - val_loss: 0.0820\n",
            "Epoch 3/15\n",
            "\u001b[1m1125/1125\u001b[0m \u001b[32m━━━━━━━━━━━━━━━━━━━━\u001b[0m\u001b[37m\u001b[0m \u001b[1m5s\u001b[0m 5ms/step - accuracy: 0.9754 - loss: 0.0766 - val_accuracy: 0.9760 - val_loss: 0.0817\n",
            "Epoch 4/15\n",
            "\u001b[1m1125/1125\u001b[0m \u001b[32m━━━━━━━━━━━━━━━━━━━━\u001b[0m\u001b[37m\u001b[0m \u001b[1m4s\u001b[0m 3ms/step - accuracy: 0.9790 - loss: 0.0633 - val_accuracy: 0.9751 - val_loss: 0.0816\n",
            "Epoch 5/15\n",
            "\u001b[1m1125/1125\u001b[0m \u001b[32m━━━━━━━━━━━━━━━━━━━━\u001b[0m\u001b[37m\u001b[0m \u001b[1m5s\u001b[0m 3ms/step - accuracy: 0.9821 - loss: 0.0542 - val_accuracy: 0.9788 - val_loss: 0.0736\n",
            "Epoch 6/15\n",
            "\u001b[1m1125/1125\u001b[0m \u001b[32m━━━━━━━━━━━━━━━━━━━━\u001b[0m\u001b[37m\u001b[0m \u001b[1m4s\u001b[0m 4ms/step - accuracy: 0.9866 - loss: 0.0408 - val_accuracy: 0.9808 - val_loss: 0.0698\n",
            "Epoch 7/15\n",
            "\u001b[1m1125/1125\u001b[0m \u001b[32m━━━━━━━━━━━━━━━━━━━━\u001b[0m\u001b[37m\u001b[0m \u001b[1m4s\u001b[0m 3ms/step - accuracy: 0.9881 - loss: 0.0372 - val_accuracy: 0.9786 - val_loss: 0.0770\n",
            "Epoch 8/15\n",
            "\u001b[1m1125/1125\u001b[0m \u001b[32m━━━━━━━━━━━━━━━━━━━━\u001b[0m\u001b[37m\u001b[0m \u001b[1m4s\u001b[0m 3ms/step - accuracy: 0.9892 - loss: 0.0312 - val_accuracy: 0.9796 - val_loss: 0.0728\n",
            "Epoch 9/15\n",
            "\u001b[1m1125/1125\u001b[0m \u001b[32m━━━━━━━━━━━━━━━━━━━━\u001b[0m\u001b[37m\u001b[0m \u001b[1m5s\u001b[0m 4ms/step - accuracy: 0.9903 - loss: 0.0290 - val_accuracy: 0.9831 - val_loss: 0.0630\n",
            "Epoch 10/15\n",
            "\u001b[1m1125/1125\u001b[0m \u001b[32m━━━━━━━━━━━━━━━━━━━━\u001b[0m\u001b[37m\u001b[0m \u001b[1m4s\u001b[0m 3ms/step - accuracy: 0.9929 - loss: 0.0222 - val_accuracy: 0.9812 - val_loss: 0.0725\n",
            "Epoch 11/15\n",
            "\u001b[1m1125/1125\u001b[0m \u001b[32m━━━━━━━━━━━━━━━━━━━━\u001b[0m\u001b[37m\u001b[0m \u001b[1m4s\u001b[0m 3ms/step - accuracy: 0.9922 - loss: 0.0232 - val_accuracy: 0.9819 - val_loss: 0.0688\n",
            "Epoch 12/15\n",
            "\u001b[1m1125/1125\u001b[0m \u001b[32m━━━━━━━━━━━━━━━━━━━━\u001b[0m\u001b[37m\u001b[0m \u001b[1m5s\u001b[0m 4ms/step - accuracy: 0.9943 - loss: 0.0162 - val_accuracy: 0.9835 - val_loss: 0.0729\n",
            "Epoch 13/15\n",
            "\u001b[1m1125/1125\u001b[0m \u001b[32m━━━━━━━━━━━━━━━━━━━━\u001b[0m\u001b[37m\u001b[0m \u001b[1m4s\u001b[0m 3ms/step - accuracy: 0.9941 - loss: 0.0167 - val_accuracy: 0.9807 - val_loss: 0.0910\n",
            "Epoch 14/15\n",
            "\u001b[1m1125/1125\u001b[0m \u001b[32m━━━━━━━━━━━━━━━━━━━━\u001b[0m\u001b[37m\u001b[0m \u001b[1m4s\u001b[0m 3ms/step - accuracy: 0.9942 - loss: 0.0181 - val_accuracy: 0.9811 - val_loss: 0.0852\n",
            "Epoch 15/15\n",
            "\u001b[1m1125/1125\u001b[0m \u001b[32m━━━━━━━━━━━━━━━━━━━━\u001b[0m\u001b[37m\u001b[0m \u001b[1m4s\u001b[0m 4ms/step - accuracy: 0.9949 - loss: 0.0139 - val_accuracy: 0.9824 - val_loss: 0.0811\n",
            "\u001b[1m313/313\u001b[0m \u001b[32m━━━━━━━━━━━━━━━━━━━━\u001b[0m\u001b[37m\u001b[0m \u001b[1m1s\u001b[0m 3ms/step - accuracy: 0.9781 - loss: 0.0795\n",
            "The final loss on the TEST set is: 0.07.\n",
            "The final compile_metrics on the TEST set is: 0.98.\n"
          ]
        }
      ]
    },
    {
      "cell_type": "markdown",
      "metadata": {
        "id": "S4F_1iT2Xirk"
      },
      "source": [
        "## Questions\n",
        "#### What is an Epoch?\n",
        "#### What is the difference between Epoch and Batch?\n",
        "#### Which one of the following training approaches implemented in this code?\n",
        "- Batch Gradient Descent. Batch Size = Size of Training Set\n",
        "- Stochastic Gradient Descent. Batch Size = 1\n",
        "- Mini-Batch Gradient Descent. 1 < Batch Size < Size of Training Set"
      ]
    },
    {
      "cell_type": "markdown",
      "metadata": {
        "id": "m7Ty86yxXqqa"
      },
      "source": [
        "**Plot the training history, in order to check if overfitting seems to have occured or not, and if more training epochs could be performed.**"
      ]
    },
    {
      "cell_type": "code",
      "metadata": {
        "colab": {
          "base_uri": "https://localhost:8080/",
          "height": 917
        },
        "id": "PAqFnG1lXEf4",
        "outputId": "48c9fa00-a7f5-4cb5-c78b-d3f2e8e5691d"
      },
      "source": [
        "# --------------------------------------\n",
        "# Loss functions evolution\n",
        "# --------------------------------------\n",
        "plt.figure(figsize=(10,10))\n",
        "plt.rcParams.update({'font.size': 22})\n",
        "plt.plot(history.history['loss'])\n",
        "plt.plot(history.history['val_loss'])\n",
        "plt.title('Model loss by epoch')\n",
        "plt.ylabel('loss')\n",
        "plt.xlabel('epoch')\n",
        "plt.legend(['train', 'valid'], loc='right')\n",
        "plt.show()"
      ],
      "execution_count": null,
      "outputs": [
        {
          "output_type": "display_data",
          "data": {
            "text/plain": [
              "<Figure size 1000x1000 with 1 Axes>"
            ],
            "image/png": "[encoded data removed]"
          },
          "metadata": {}
        }
      ]
    },
    {
      "cell_type": "markdown",
      "metadata": {
        "id": "jI62ov3fZc5n"
      },
      "source": [
        "The original source of this notebook is the following links.\n",
        "\n",
        "http://online.cambridgecoding.com/notebooks/cca_admin/deep-learning-for-complete-beginners-recognising-handwritten-digits http://online.cambridgecoding.com/notebooks/cca_admin/convolutional-neural-networks-with-keras\n",
        "\n",
        "It is modified by Yasser MOHSENI BEHBAHANI"
      ]
    },
    {
      "cell_type": "code",
      "source": [],
      "metadata": {
        "id": "SHeNoJvwwSqF"
      },
      "execution_count": null,
      "outputs": []
    }
  ]
}