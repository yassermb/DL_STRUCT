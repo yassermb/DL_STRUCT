{
  "nbformat": 4,
  "nbformat_minor": 0,
  "metadata": {
    "colab": {
      "name": "deeplearning_proteinstructure_3.ipynb",
      "provenance": [],
      "collapsed_sections": []
    },
    "kernelspec": {
      "display_name": "Python 3",
      "name": "python3"
    },
    "language_info": {
      "name": "python"
    },
    "accelerator": "GPU"
  },
  "cells": [
    {
      "cell_type": "markdown",
      "metadata": {
        "id": "4n-R2VfKapz8"
      },
      "source": [
        "# DEEP LEARNING FOR PROTEIN STRUCTURES (Part 3)"
      ]
    },
    {
      "cell_type": "markdown",
      "metadata": {
        "id": "ZGJS4u0penv3"
      },
      "source": [
        "## Protein protein interactions"
      ]
    },
    {
      "cell_type": "markdown",
      "metadata": {
        "id": "0KLoh58Krofd"
      },
      "source": [
        "### 1. Introduction\n",
        "**Protein-protein interactions (PPI) drive virtually all biological processes in living organisms and are necessary for cellular machinery.** \n",
        "\n",
        "In order to perform various functions in living organisms two or more proteins gather and interact with each other to create a protein complex. The resulted quaternary structure is an association of two or more peptide chains linked to each other by molecular interactions. These protein-protein interactions drives the biological processes in the cell. A protein has high propensity to interact with some proteins which are considered as its potential partners."
      ]
    },
    {
      "cell_type": "markdown",
      "metadata": {
        "id": "-Tx8Oi8Brv98"
      },
      "source": [
        "### 2. Binding affinity\n",
        "Binding affinity is a variable defined to numerically measure the propensity and the strength of the binding interaction between two bio-molecule partners. \n",
        "\n",
        "<img src='https://drive.google.com/uc?id=13GHoH4p0BR9Qq4ETZ7kU-AJehH8PJFuV'>\n",
        "\n",
        "From chemical point of view the binding affinity is also expressed as dissociation constant ($K_d$) which is a disposition of a chemical complex in its equilibrium concentration to dissociate into its molecular components. In molecular biology, association constant ($K_a=\\frac{1}{K_d}$) is used to measure the propensity of binding between two molecules. This constant is defined below:\n",
        "\n",
        "$\n",
        " P_1 + P_2 \\rightleftharpoons P_1P_2 \\\\\n",
        " K_a = \\frac{1}{K_d} = \\frac{[P_1P_2]}{[P_1] \\times [P_2]} \n",
        "$\n",
        "\n",
        "where $[P_1]$, $[P_2]$, and $[P_1P_2]$ are the equilibrium concentrations of $P_1$, $P_2$, and protein complex $P_1P_2$, respectively. The larger the $K_a$ value, the greater the binding affinity between $[P_1]$ and $[P_2]$. The smaller the $K_a$ value, the more weakly $[P_1]$ and $[P_2]$ are drawn to and interact with each other. Association constant can be converted to the Gibbs free energy $\\Delta$G using the equation below:\n",
        "\n",
        "\n",
        "$\n",
        "\\Delta G = R \\times T \\times \\ln{(K_d)} = \\Delta H -T\\Delta S\n",
        "$\n",
        "\n",
        "where $R=\\frac{8.314}{4184}\\frac{kcal}{K \\times mol}$ is the ideal gas constant or Boltzmann constant, $T$ is the absolute (thermodynamic) temperature, $H$ is enthalpy, and $S$ is entropy. Henceforth in this tutorial we will use $\\Delta$G as the representation of binding affinity between two proteins.\n",
        "\n",
        "<img src='https://drive.google.com/uc?id=1UO_XdL9g0Bb7ZzCSBLWluCXkdsu9LT5S' height='600'>\n",
        "\n",
        "*This figure is generated in the Analytical Genomics team*\n",
        " \n",
        "\n"
      ]
    },
    {
      "cell_type": "markdown",
      "metadata": {
        "id": "1GPLTmCbe2Q5"
      },
      "source": [
        "## Mutations"
      ]
    },
    {
      "cell_type": "markdown",
      "metadata": {
        "id": "-xPkrYfhHCZz"
      },
      "source": [
        "### 1. Introduction \n",
        "**Disease-causing point mutations on a protein interface affect the protein ability to interact with its partners in the cell. Hence, it becomes crucial to develop systematic and accurate approaches assessing the impact of mutations on the formation and stability of protein complexes.**\n",
        "\n",
        "Mutations happen when DNA fails to accurately replicate itself or the tissues and organs are exposed to specific external agents such as certain chemicals or radiation. In these cases single nucleotide base is substituted, inserted, or deleted in the DNA or RNA molecule. If one nucleotide base is replaced by another in a gene, the resulted mRNA has one nucleotide substitution in its molecule. Consequently, ribosome might choose another amino acid for the triplet in which the mutation happened. If the amino acid does not change for the mutant triplet the mutation is synonymous (or silent) otherwise it is non-synonymous. The non-synonymous mutations might lead to changes in the biological mechanism of a living organism and are therefore subject to the natural selection. For example, they can be deleterious and disturb the cell machinery. \n",
        "\n",
        "The non-synonymous mutations that happen on a protein's interaction surface can affect the interaction process between protein and its potential partners. In this scenario the more physico-chemical properties of mutant amino acid differ from the wild-type's the more the binding affinity is influenced. \n",
        "\n",
        "This type of genetic mutation is called single point mutation. A mutant protein structure might have multiple point mutations in which several amino acids are altered. Although there are various types of mutation, in this tutorial we are interested to study the effects of this type of mutation on the protein-protein interactions and how it influences the binding affinity. An examples of single point mutation is given below. In this mutation both wild-type and mutant amino acids, Tryptophan (Trp or W) and Alanine (Ala or A), have the hydrophobic (non-polar) side-chains. However, the size of side-chain is dramatically changed and if it happens on the interaction surface it can affect the geometrical properties of the binding site.\n",
        "\n",
        "<img src='https://drive.google.com/uc?id=14uctEuqovX6laWf6MI1pWEbLPppoXC2t'>\n",
        "\n",
        "<br>\n",
        "<br>\n",
        "Below is another example on how a point mutation from Alanine to Glutamic\n",
        "Acid affects geometrical and chemical properties of an\n",
        "interaction surface.\n",
        "\n",
        "<img src='https://drive.google.com/uc?id=1kVKrWtMMAM4zgD3jc4jVG5QlhlIeyWyw'>"
      ]
    },
    {
      "cell_type": "markdown",
      "metadata": {
        "id": "zkfrebhkvLHj"
      },
      "source": [
        "### 2. How do mutations reshape the protein-protein interaction networks?\n",
        "\n",
        "<img src='https://drive.google.com/uc?id=1jWRaxlEwSEYQAld1CT79waFMUZp5Y10n'>\n"
      ]
    },
    {
      "cell_type": "markdown",
      "metadata": {
        "id": "nS-MmHAjIQTJ"
      },
      "source": [
        "### 3. What are the challenges in measuring effects of mutations?\n",
        "1. Reconstruction of the mutant protein complex after mutagenesis.\n",
        "2. Identification of fine descriptors for the prediction of changes in binding affinity."
      ]
    },
    {
      "cell_type": "markdown",
      "metadata": {
        "id": "Y1PbqjJAIYT1"
      },
      "source": [
        "### 4. Mutant protein complex\n",
        "Following single point mutation the side-chain orientation angles ($\\chi_1$,$\\chi_2$,$\\chi_3$, ...) of the mutant amino acid are unknown. Furthermore, the backbone of the protein is subject to slight movements in response to point mutation-induced changes. Therefore, we need to consider the effects of the mutant amino acid on the backbone torsion angles ($\\Phi$ and $\\Psi$). Using [Rosetta-Backrub](https://github.com/Kortemme-Lab/flex_ddG_tutorial) we can explore near-native conformational fluctuations of a protein and to compute an enhanced estimation on side-chain orientation angles of mutant amino acid and on backbone torsion angles.\n",
        "\n",
        "<img src='https://drive.google.com/uc?id=1DznHFE2ptx7uFa8-LQ8-_wf8zekLcU4h'>\n",
        "\n",
        "*Effects of point mutations on backbone.*\n"
      ]
    },
    {
      "cell_type": "markdown",
      "metadata": {
        "id": "ZFF4ZmDaI8pz"
      },
      "source": [
        "**Fetch a protein of your choice in Pymol and apply mutagenesis function to introduce mutations.**"
      ]
    },
    {
      "cell_type": "markdown",
      "metadata": {
        "id": "z123nO9ijeEs"
      },
      "source": [
        "### 5. Simulation of near-native conformational fluctuations\n",
        "<img src='https://drive.google.com/uc?id=1VfIJFBWLiyEgixPx6evolr5xBgWXVItw'>"
      ]
    },
    {
      "cell_type": "markdown",
      "metadata": {
        "id": "gTJVrBdalcVw"
      },
      "source": [
        "This is an example of near-native conformational fluctuations in which only the movement of backbone is shown.\n",
        "\n",
        "<img src='https://drive.google.com/uc?id=1MJwDHpXJUHtNepAkvDfmCZEeR16I1gDw'>\n",
        "\n",
        "*Complex: 5E9D*\n"
      ]
    },
    {
      "cell_type": "markdown",
      "metadata": {
        "id": "JQohXoLVmLXz"
      },
      "source": [
        "### 6. Case study: Complex 1BRS\n",
        "\n",
        "#### 6.1 Point mutations on 1BRS\n",
        "From database of changes of binding affinity [SKEMPI V2.0](https://life.bsc.es/pid/skempi2)"
      ]
    },
    {
      "cell_type": "code",
      "metadata": {
        "id": "s791IpNemkjr"
      },
      "source": [
        "import pandas as pd\n",
        "import numpy as np\n",
        "import seaborn as sns\n",
        "import matplotlib.pyplot as plt\n",
        "from IPython.display import HTML, display"
      ],
      "execution_count": null,
      "outputs": []
    },
    {
      "cell_type": "code",
      "metadata": {
        "colab": {
          "base_uri": "https://localhost:8080/",
          "height": 586
        },
        "id": "dy7FYGd7mnly",
        "outputId": "bd038d55-6574-4988-cb98-461882f59826"
      },
      "source": [
        "!gdown --id '1Q_1oy4KQuE1c7FS6b7vUTDSB8PShBy7A'\n",
        "mutations = pd.read_csv('1RBS_mudations.csv', sep=';')\n",
        "mutations[:15]"
      ],
      "execution_count": null,
      "outputs": [
        {
          "output_type": "stream",
          "name": "stdout",
          "text": [
            "Downloading...\n",
            "From: https://drive.google.com/uc?id=1Q_1oy4KQuE1c7FS6b7vUTDSB8PShBy7A\n",
            "To: /content/1RBS_mudations.csv\n",
            "\r  0% 0.00/990 [00:00<?, ?B/s]\r100% 990/990 [00:00<00:00, 2.74MB/s]\n"
          ]
        },
        {
          "output_type": "execute_result",
          "data": {
            "text/html": [
              "<div>\n",
              "<style scoped>\n",
              "    .dataframe tbody tr th:only-of-type {\n",
              "        vertical-align: middle;\n",
              "    }\n",
              "\n",
              "    .dataframe tbody tr th {\n",
              "        vertical-align: top;\n",
              "    }\n",
              "\n",
              "    .dataframe thead th {\n",
              "        text-align: right;\n",
              "    }\n",
              "</style>\n",
              "<table border=\"1\" class=\"dataframe\">\n",
              "  <thead>\n",
              "    <tr style=\"text-align: right;\">\n",
              "      <th></th>\n",
              "      <th>Complex</th>\n",
              "      <th>Mutation</th>\n",
              "      <th>Region</th>\n",
              "      <th>Method</th>\n",
              "    </tr>\n",
              "  </thead>\n",
              "  <tbody>\n",
              "    <tr>\n",
              "      <th>0</th>\n",
              "      <td>1BRS_A_D</td>\n",
              "      <td>DD35A</td>\n",
              "      <td>COR</td>\n",
              "      <td>ITC</td>\n",
              "    </tr>\n",
              "    <tr>\n",
              "      <th>1</th>\n",
              "      <td>1BRS_A_D</td>\n",
              "      <td>DD35A</td>\n",
              "      <td>COR</td>\n",
              "      <td>SPR</td>\n",
              "    </tr>\n",
              "    <tr>\n",
              "      <th>2</th>\n",
              "      <td>1BRS_A_D</td>\n",
              "      <td>DD39A</td>\n",
              "      <td>COR</td>\n",
              "      <td>ITC</td>\n",
              "    </tr>\n",
              "    <tr>\n",
              "      <th>3</th>\n",
              "      <td>1BRS_A_D</td>\n",
              "      <td>DD39A</td>\n",
              "      <td>COR</td>\n",
              "      <td>SPR</td>\n",
              "    </tr>\n",
              "    <tr>\n",
              "      <th>4</th>\n",
              "      <td>1BRS_A_D</td>\n",
              "      <td>EA71A,DD35A</td>\n",
              "      <td>SUP,COR</td>\n",
              "      <td>ITC</td>\n",
              "    </tr>\n",
              "    <tr>\n",
              "      <th>5</th>\n",
              "      <td>1BRS_A_D</td>\n",
              "      <td>EA71A,DD39A</td>\n",
              "      <td>SUP,COR</td>\n",
              "      <td>ITC</td>\n",
              "    </tr>\n",
              "    <tr>\n",
              "      <th>6</th>\n",
              "      <td>1BRS_A_D</td>\n",
              "      <td>EA71A</td>\n",
              "      <td>SUP</td>\n",
              "      <td>ITC</td>\n",
              "    </tr>\n",
              "    <tr>\n",
              "      <th>7</th>\n",
              "      <td>1BRS_A_D</td>\n",
              "      <td>EA71C</td>\n",
              "      <td>SUP</td>\n",
              "      <td>ITC</td>\n",
              "    </tr>\n",
              "    <tr>\n",
              "      <th>8</th>\n",
              "      <td>1BRS_A_D</td>\n",
              "      <td>EA71F,DD35A</td>\n",
              "      <td>SUP,COR</td>\n",
              "      <td>ITC</td>\n",
              "    </tr>\n",
              "    <tr>\n",
              "      <th>9</th>\n",
              "      <td>1BRS_A_D</td>\n",
              "      <td>EA71F,DD39A</td>\n",
              "      <td>SUP,COR</td>\n",
              "      <td>ITC</td>\n",
              "    </tr>\n",
              "    <tr>\n",
              "      <th>10</th>\n",
              "      <td>1BRS_A_D</td>\n",
              "      <td>EA71F</td>\n",
              "      <td>SUP</td>\n",
              "      <td>ITC</td>\n",
              "    </tr>\n",
              "    <tr>\n",
              "      <th>11</th>\n",
              "      <td>1BRS_A_D</td>\n",
              "      <td>EA71Q,DD39A</td>\n",
              "      <td>SUP,COR</td>\n",
              "      <td>ITC</td>\n",
              "    </tr>\n",
              "    <tr>\n",
              "      <th>12</th>\n",
              "      <td>1BRS_A_D</td>\n",
              "      <td>EA71Q,ED74A</td>\n",
              "      <td>SUP,RIM</td>\n",
              "      <td>ITC</td>\n",
              "    </tr>\n",
              "    <tr>\n",
              "      <th>13</th>\n",
              "      <td>1BRS_A_D</td>\n",
              "      <td>EA71Q</td>\n",
              "      <td>SUP</td>\n",
              "      <td>ITC</td>\n",
              "    </tr>\n",
              "    <tr>\n",
              "      <th>14</th>\n",
              "      <td>1BRS_A_D</td>\n",
              "      <td>EA71S</td>\n",
              "      <td>SUP</td>\n",
              "      <td>ITC</td>\n",
              "    </tr>\n",
              "  </tbody>\n",
              "</table>\n",
              "</div>"
            ],
            "text/plain": [
              "     Complex     Mutation   Region Method\n",
              "0   1BRS_A_D        DD35A      COR    ITC\n",
              "1   1BRS_A_D        DD35A      COR    SPR\n",
              "2   1BRS_A_D        DD39A      COR    ITC\n",
              "3   1BRS_A_D        DD39A      COR    SPR\n",
              "4   1BRS_A_D  EA71A,DD35A  SUP,COR    ITC\n",
              "5   1BRS_A_D  EA71A,DD39A  SUP,COR    ITC\n",
              "6   1BRS_A_D        EA71A      SUP    ITC\n",
              "7   1BRS_A_D        EA71C      SUP    ITC\n",
              "8   1BRS_A_D  EA71F,DD35A  SUP,COR    ITC\n",
              "9   1BRS_A_D  EA71F,DD39A  SUP,COR    ITC\n",
              "10  1BRS_A_D        EA71F      SUP    ITC\n",
              "11  1BRS_A_D  EA71Q,DD39A  SUP,COR    ITC\n",
              "12  1BRS_A_D  EA71Q,ED74A  SUP,RIM    ITC\n",
              "13  1BRS_A_D        EA71Q      SUP    ITC\n",
              "14  1BRS_A_D        EA71S      SUP    ITC"
            ]
          },
          "metadata": {},
          "execution_count": 2
        }
      ]
    },
    {
      "cell_type": "markdown",
      "metadata": {
        "id": "2kFb5SzBnFwH"
      },
      "source": [
        "Mutation **EA71Y**: Glutamic Acid (E) which is located on position 71 of chain A is replaced by Tyrosine (Y)."
      ]
    },
    {
      "cell_type": "code",
      "metadata": {
        "colab": {
          "resources": {
            "http://localhost:8080/content/EA71Y.mov": {
              "data": "CjwhRE9DVFlQRSBodG1sPgo8aHRtbCBsYW5nPWVuPgogIDxtZXRhIGNoYXJzZXQ9dXRmLTg+CiAgPG1ldGEgbmFtZT12aWV3cG9ydCBjb250ZW50PSJpbml0aWFsLXNjYWxlPTEsIG1pbmltdW0tc2NhbGU9MSwgd2lkdGg9ZGV2aWNlLXdpZHRoIj4KICA8dGl0bGU+RXJyb3IgNDA0IChOb3QgRm91bmQpISExPC90aXRsZT4KICA8c3R5bGU+CiAgICAqe21hcmdpbjowO3BhZGRpbmc6MH1odG1sLGNvZGV7Zm9udDoxNXB4LzIycHggYXJpYWwsc2Fucy1zZXJpZn1odG1se2JhY2tncm91bmQ6I2ZmZjtjb2xvcjojMjIyO3BhZGRpbmc6MTVweH1ib2R5e21hcmdpbjo3JSBhdXRvIDA7bWF4LXdpZHRoOjM5MHB4O21pbi1oZWlnaHQ6MTgwcHg7cGFkZGluZzozMHB4IDAgMTVweH0qID4gYm9keXtiYWNrZ3JvdW5kOnVybCgvL3d3dy5nb29nbGUuY29tL2ltYWdlcy9lcnJvcnMvcm9ib3QucG5nKSAxMDAlIDVweCBuby1yZXBlYXQ7cGFkZGluZy1yaWdodDoyMDVweH1we21hcmdpbjoxMXB4IDAgMjJweDtvdmVyZmxvdzpoaWRkZW59aW5ze2NvbG9yOiM3Nzc7dGV4dC1kZWNvcmF0aW9uOm5vbmV9YSBpbWd7Ym9yZGVyOjB9QG1lZGlhIHNjcmVlbiBhbmQgKG1heC13aWR0aDo3NzJweCl7Ym9keXtiYWNrZ3JvdW5kOm5vbmU7bWFyZ2luLXRvcDowO21heC13aWR0aDpub25lO3BhZGRpbmctcmlnaHQ6MH19I2xvZ297YmFja2dyb3VuZDp1cmwoLy93d3cuZ29vZ2xlLmNvbS9pbWFnZXMvbG9nb3MvZXJyb3JwYWdlL2Vycm9yX2xvZ28tMTUweDU0LnBuZykgbm8tcmVwZWF0O21hcmdpbi1sZWZ0Oi01cHh9QG1lZGlhIG9ubHkgc2NyZWVuIGFuZCAobWluLXJlc29sdXRpb246MTkyZHBpKXsjbG9nb3tiYWNrZ3JvdW5kOnVybCgvL3d3dy5nb29nbGUuY29tL2ltYWdlcy9sb2dvcy9lcnJvcnBhZ2UvZXJyb3JfbG9nby0xNTB4NTQtMngucG5nKSBuby1yZXBlYXQgMCUgMCUvMTAwJSAxMDAlOy1tb3otYm9yZGVyLWltYWdlOnVybCgvL3d3dy5nb29nbGUuY29tL2ltYWdlcy9sb2dvcy9lcnJvcnBhZ2UvZXJyb3JfbG9nby0xNTB4NTQtMngucG5nKSAwfX1AbWVkaWEgb25seSBzY3JlZW4gYW5kICgtd2Via2l0LW1pbi1kZXZpY2UtcGl4ZWwtcmF0aW86Mil7I2xvZ297YmFja2dyb3VuZDp1cmwoLy93d3cuZ29vZ2xlLmNvbS9pbWFnZXMvbG9nb3MvZXJyb3JwYWdlL2Vycm9yX2xvZ28tMTUweDU0LTJ4LnBuZykgbm8tcmVwZWF0Oy13ZWJraXQtYmFja2dyb3VuZC1zaXplOjEwMCUgMTAwJX19I2xvZ297ZGlzcGxheTppbmxpbmUtYmxvY2s7aGVpZ2h0OjU0cHg7d2lkdGg6MTUwcHh9CiAgPC9zdHlsZT4KICA8YSBocmVmPS8vd3d3Lmdvb2dsZS5jb20vPjxzcGFuIGlkPWxvZ28gYXJpYS1sYWJlbD1Hb29nbGU+PC9zcGFuPjwvYT4KICA8cD48Yj40MDQuPC9iPiA8aW5zPlRoYXTigJlzIGFuIGVycm9yLjwvaW5zPgogIDxwPiAgPGlucz5UaGF04oCZcyBhbGwgd2Uga25vdy48L2lucz4K",
              "headers": [
                [
                  "content-length",
                  "1449"
                ],
                [
                  "content-type",
                  "text/html; charset=utf-8"
                ]
              ],
              "ok": false,
              "status": 404,
              "status_text": ""
            }
          },
          "base_uri": "https://localhost:8080/",
          "height": 492
        },
        "id": "W0LykYYmnIO0",
        "outputId": "83b39d61-9c64-4517-e4f4-1cf42f555fbe"
      },
      "source": [
        "!gdown --id '1Eo4cwGT0FblmN82AKVO9lC1tOnmuDisL'\n",
        "HTML(\"\"\"\n",
        "    <video width=\"700\" height=\"400\" controls>\n",
        "        <source src=\"/content/EA71Y.mov\">\n",
        "    </video>\n",
        "\"\"\")"
      ],
      "execution_count": null,
      "outputs": [
        {
          "name": "stdout",
          "output_type": "stream",
          "text": [
            "Downloading...\n",
            "From: https://drive.google.com/uc?id=1Eo4cwGT0FblmN82AKVO9lC1tOnmuDisL\n",
            "To: /content/EA71Y.mov\n",
            "\r  0% 0.00/1.39M [00:00<?, ?B/s]\r100% 1.39M/1.39M [00:00<00:00, 86.0MB/s]\n"
          ]
        },
        {
          "data": {
            "text/html": [
              "\n",
              "    <video width=\"700\" height=\"400\" controls>\n",
              "        <source src=\"/content/EA71Y.mov\">\n",
              "    </video>\n"
            ],
            "text/plain": [
              "<IPython.core.display.HTML object>"
            ]
          },
          "execution_count": 10,
          "metadata": {},
          "output_type": "execute_result"
        }
      ]
    },
    {
      "cell_type": "markdown",
      "metadata": {
        "id": "K3hRpUv8pFoI"
      },
      "source": [
        "Mutation **YD29F**: Tyrosine (Y) which is located on position 29 of chain D is replaced by Phenylalanine (F)."
      ]
    },
    {
      "cell_type": "code",
      "metadata": {
        "colab": {
          "resources": {
            "http://localhost:8080/YD29F.mov": {
              "data": "CjwhRE9DVFlQRSBodG1sPgo8aHRtbCBsYW5nPWVuPgogIDxtZXRhIGNoYXJzZXQ9dXRmLTg+CiAgPG1ldGEgbmFtZT12aWV3cG9ydCBjb250ZW50PSJpbml0aWFsLXNjYWxlPTEsIG1pbmltdW0tc2NhbGU9MSwgd2lkdGg9ZGV2aWNlLXdpZHRoIj4KICA8dGl0bGU+RXJyb3IgNDA0IChOb3QgRm91bmQpISExPC90aXRsZT4KICA8c3R5bGU+CiAgICAqe21hcmdpbjowO3BhZGRpbmc6MH1odG1sLGNvZGV7Zm9udDoxNXB4LzIycHggYXJpYWwsc2Fucy1zZXJpZn1odG1se2JhY2tncm91bmQ6I2ZmZjtjb2xvcjojMjIyO3BhZGRpbmc6MTVweH1ib2R5e21hcmdpbjo3JSBhdXRvIDA7bWF4LXdpZHRoOjM5MHB4O21pbi1oZWlnaHQ6MTgwcHg7cGFkZGluZzozMHB4IDAgMTVweH0qID4gYm9keXtiYWNrZ3JvdW5kOnVybCgvL3d3dy5nb29nbGUuY29tL2ltYWdlcy9lcnJvcnMvcm9ib3QucG5nKSAxMDAlIDVweCBuby1yZXBlYXQ7cGFkZGluZy1yaWdodDoyMDVweH1we21hcmdpbjoxMXB4IDAgMjJweDtvdmVyZmxvdzpoaWRkZW59aW5ze2NvbG9yOiM3Nzc7dGV4dC1kZWNvcmF0aW9uOm5vbmV9YSBpbWd7Ym9yZGVyOjB9QG1lZGlhIHNjcmVlbiBhbmQgKG1heC13aWR0aDo3NzJweCl7Ym9keXtiYWNrZ3JvdW5kOm5vbmU7bWFyZ2luLXRvcDowO21heC13aWR0aDpub25lO3BhZGRpbmctcmlnaHQ6MH19I2xvZ297YmFja2dyb3VuZDp1cmwoLy93d3cuZ29vZ2xlLmNvbS9pbWFnZXMvbG9nb3MvZXJyb3JwYWdlL2Vycm9yX2xvZ28tMTUweDU0LnBuZykgbm8tcmVwZWF0O21hcmdpbi1sZWZ0Oi01cHh9QG1lZGlhIG9ubHkgc2NyZWVuIGFuZCAobWluLXJlc29sdXRpb246MTkyZHBpKXsjbG9nb3tiYWNrZ3JvdW5kOnVybCgvL3d3dy5nb29nbGUuY29tL2ltYWdlcy9sb2dvcy9lcnJvcnBhZ2UvZXJyb3JfbG9nby0xNTB4NTQtMngucG5nKSBuby1yZXBlYXQgMCUgMCUvMTAwJSAxMDAlOy1tb3otYm9yZGVyLWltYWdlOnVybCgvL3d3dy5nb29nbGUuY29tL2ltYWdlcy9sb2dvcy9lcnJvcnBhZ2UvZXJyb3JfbG9nby0xNTB4NTQtMngucG5nKSAwfX1AbWVkaWEgb25seSBzY3JlZW4gYW5kICgtd2Via2l0LW1pbi1kZXZpY2UtcGl4ZWwtcmF0aW86Mil7I2xvZ297YmFja2dyb3VuZDp1cmwoLy93d3cuZ29vZ2xlLmNvbS9pbWFnZXMvbG9nb3MvZXJyb3JwYWdlL2Vycm9yX2xvZ28tMTUweDU0LTJ4LnBuZykgbm8tcmVwZWF0Oy13ZWJraXQtYmFja2dyb3VuZC1zaXplOjEwMCUgMTAwJX19I2xvZ297ZGlzcGxheTppbmxpbmUtYmxvY2s7aGVpZ2h0OjU0cHg7d2lkdGg6MTUwcHh9CiAgPC9zdHlsZT4KICA8YSBocmVmPS8vd3d3Lmdvb2dsZS5jb20vPjxzcGFuIGlkPWxvZ28gYXJpYS1sYWJlbD1Hb29nbGU+PC9zcGFuPjwvYT4KICA8cD48Yj40MDQuPC9iPiA8aW5zPlRoYXTigJlzIGFuIGVycm9yLjwvaW5zPgogIDxwPiAgPGlucz5UaGF04oCZcyBhbGwgd2Uga25vdy48L2lucz4K",
              "headers": [
                [
                  "content-length",
                  "1449"
                ],
                [
                  "content-type",
                  "text/html; charset=utf-8"
                ]
              ],
              "ok": false,
              "status": 404,
              "status_text": ""
            }
          },
          "base_uri": "https://localhost:8080/",
          "height": 492
        },
        "id": "S255Fr3ypW5X",
        "outputId": "1cd1f23e-5c51-40f9-ff36-251c2446c5aa"
      },
      "source": [
        "!gdown --id 1pm0HceSZLz4dTcVT8PWZIA6qMM0aZg3q\n",
        "HTML(\"\"\"\n",
        "    <video width=\"700\" height=\"400\" controls>\n",
        "        <source src=\"YD29F.mov\">\n",
        "    </video>\n",
        "\"\"\")"
      ],
      "execution_count": null,
      "outputs": [
        {
          "name": "stdout",
          "output_type": "stream",
          "text": [
            "Downloading...\n",
            "From: https://drive.google.com/uc?id=1pm0HceSZLz4dTcVT8PWZIA6qMM0aZg3q\n",
            "To: /content/YD29F.mov\n",
            "\r  0% 0.00/1.30M [00:00<?, ?B/s]\r100% 1.30M/1.30M [00:00<00:00, 86.2MB/s]\n"
          ]
        },
        {
          "data": {
            "text/html": [
              "\n",
              "    <video width=\"700\" height=\"400\" controls>\n",
              "        <source src=\"YD29F.mov\">\n",
              "    </video>\n"
            ],
            "text/plain": [
              "<IPython.core.display.HTML object>"
            ]
          },
          "execution_count": 11,
          "metadata": {},
          "output_type": "execute_result"
        }
      ]
    },
    {
      "cell_type": "markdown",
      "metadata": {
        "id": "TV86rwADJrbC"
      },
      "source": [
        "### 7. Effects of the mutations on different interface regions\n",
        "\n",
        "<img src='https://drive.google.com/uc?id=1FAerlQGucjAFikQVLYmNxaR-u40HY4wq'>\n",
        "[E.D. Levy, et al., ‘10] \n",
        "\n",
        "By analyzing the database of [SKEMPI V2.0](https://life.bsc.es/pid/skempi2) we realized that mutations on the Core region of the interaction interface has the most effect on the changes of the binding affinity.\n",
        "<img src='https://drive.google.com/uc?id=14jy0gq-Lct7C69N4D7rsLFwB1Ok6OJRZ'>"
      ]
    },
    {
      "cell_type": "markdown",
      "metadata": {
        "id": "SWox-Brjfdp-"
      },
      "source": [
        "### Given what we have learnt until now, what end-to-end deep learning architecture would you propose to measure the binding affinity?\n"
      ]
    },
    {
      "cell_type": "markdown",
      "metadata": {
        "id": "iTZoquLXjkMu"
      },
      "source": [
        "## Geometric deep learning to measure changes of the binding affinity"
      ]
    },
    {
      "cell_type": "markdown",
      "metadata": {
        "id": "_8sICnRQ7zXJ"
      },
      "source": [
        "### 1. An end-to-end Siamese architecture to predict changes of binding affinity ($\\Delta\\Delta$G)"
      ]
    },
    {
      "cell_type": "markdown",
      "metadata": {
        "id": "2q89pVKLJDCe"
      },
      "source": [
        "Here we will implement an end-to-end Siamese convolutional neural network that takes as input the local 3D environment around the mutation site in the wild-type and mutated form and gives $\\Delta\\Delta$G as output. Thanks to the use of locally oriented frames from Part 2 of this tutorial, the architecture is invariant to 3D translations and rotations. The local 3D environments that you are going to work with are extracted from conformations generated with Rosetta-Backrub. Unlike other approaches that calculate $\\Delta$G of mutant and wild-type separately, we focus on local changes and differences between structures, by analyzing the residues of interest on which the mutation happens. We place a sufficiently large cube (24×24×24 $Å^3$) around the wild-type and mutant residues to capture local information on how the mutation affects the interface."
      ]
    },
    {
      "cell_type": "markdown",
      "metadata": {
        "id": "GMDBIOmkJgbq"
      },
      "source": [
        "<img src='https://drive.google.com/uc?id=1Rh74w-X6FH1yUh4DGyAkzJmYGqxxJcdB'>"
      ]
    },
    {
      "cell_type": "markdown",
      "metadata": {
        "id": "7yo0rteqJmPx"
      },
      "source": [
        "### 2. Siamese architecture"
      ]
    },
    {
      "cell_type": "code",
      "metadata": {
        "colab": {
          "base_uri": "https://localhost:8080/"
        },
        "id": "dYSUDU69HC7j",
        "outputId": "318f5f89-a596-4742-958b-3706f4828203"
      },
      "source": [
        "import pandas as pd\n",
        "import numpy as np\n",
        "import logging\n",
        "import seaborn as sns\n",
        "from scipy import interp\n",
        "from math import exp\n",
        "from random import shuffle, random, seed, sample\n",
        "import matplotlib.pyplot as plt\n",
        "import time\n",
        "import os, sys\n",
        "import glob\n",
        "\n",
        "!pip install pickle5\n",
        "import pickle5\n",
        "\n",
        "import tensorflow.keras\n",
        "from tensorflow.keras import backend as K\n",
        "from tensorflow.keras import regularizers\n",
        "from tensorflow.keras.models import Model, Sequential,load_model\n",
        "from tensorflow.keras.layers import Input, Conv3D, MaxPooling3D, AveragePooling3D, Dense, Dropout, Activation, Flatten, Concatenate, Dot, BatchNormalization, Add, Lambda\n",
        "from tensorflow.keras.backend import ones, ones_like\n",
        "from tensorflow.keras.optimizers import Adam\n",
        "from tensorflow.keras.constraints import max_norm\n",
        "from tensorflow.keras.regularizers import l2\n",
        "\n",
        "from sklearn.model_selection import train_test_split, StratifiedKFold\n",
        "from sklearn.metrics import mean_squared_error, accuracy_score, roc_auc_score, roc_curve, precision_recall_curve, log_loss\n",
        "from sklearn.preprocessing import MinMaxScaler, OneHotEncoder\n",
        "\n",
        "from scipy import stats"
      ],
      "execution_count": null,
      "outputs": [
        {
          "output_type": "stream",
          "name": "stdout",
          "text": [
            "Requirement already satisfied: pickle5 in /usr/local/lib/python3.7/dist-packages (0.0.11)\n"
          ]
        }
      ]
    },
    {
      "cell_type": "code",
      "metadata": {
        "colab": {
          "base_uri": "https://localhost:8080/"
        },
        "id": "e49hoqH-81wl",
        "outputId": "5c8d9737-a44f-4eba-a416-ed6f1564b2f3"
      },
      "source": [
        "logging.basicConfig(filename='manager.log', filemode='w', format='%(levelname)s: %(message)s', level=logging.DEBUG)\n",
        "mainlog = logging.getLogger('main')\n",
        "logging.Logger"
      ],
      "execution_count": null,
      "outputs": [
        {
          "output_type": "execute_result",
          "data": {
            "text/plain": [
              "logging.Logger"
            ]
          },
          "metadata": {},
          "execution_count": 2
        }
      ]
    },
    {
      "cell_type": "code",
      "metadata": {
        "colab": {
          "base_uri": "https://localhost:8080/"
        },
        "id": "vDTIXvpE85Yc",
        "outputId": "463939fa-8746-47a6-e844-a436e89ae7d7"
      },
      "source": [
        "print('Your python version: {}'.format(sys.version_info.major))"
      ],
      "execution_count": null,
      "outputs": [
        {
          "output_type": "stream",
          "name": "stdout",
          "text": [
            "Your python version: 3\n"
          ]
        }
      ]
    },
    {
      "cell_type": "code",
      "metadata": {
        "id": "h0Wxhcio89X9"
      },
      "source": [
        "USE_TENSORFLOW_AS_BACKEND = True\n",
        "FORCE_CPU = False\n",
        "\n",
        "if USE_TENSORFLOW_AS_BACKEND:\n",
        "    os.environ['KERAS_BACKEND'] = 'tensorflow'\n",
        "else:\n",
        "    os.environ['KERAS_BACKEND'] = 'theano'\n",
        "if FORCE_CPU:\n",
        "    os.environ[\"CUDA_DEVICE_ORDER\"] = \"PCI_BUS_ID\"\n",
        "    os.environ[\"CUDA_VISIBLE_DEVICES\"] = \"\""
      ],
      "execution_count": null,
      "outputs": []
    },
    {
      "cell_type": "code",
      "metadata": {
        "colab": {
          "base_uri": "https://localhost:8080/"
        },
        "id": "tQUxUs169AoL",
        "outputId": "f5454c4a-886f-46ab-e24c-fc8013994293"
      },
      "source": [
        "if USE_TENSORFLOW_AS_BACKEND == True:\n",
        "    import tensorflow\n",
        "    print('Your tensorflow version: {}'.format(tensorflow.__version__))\n",
        "    print(\"GPU : \"+tensorflow.test.gpu_device_name())\n",
        "else:\n",
        "    import theano\n",
        "    print('Your theano version: {}'.format(theano.__version__))"
      ],
      "execution_count": null,
      "outputs": [
        {
          "output_type": "stream",
          "name": "stdout",
          "text": [
            "Your tensorflow version: 2.6.0\n",
            "GPU : /device:GPU:0\n"
          ]
        }
      ]
    },
    {
      "cell_type": "markdown",
      "metadata": {
        "id": "7OkzZN_A9iie"
      },
      "source": [
        "#### 2.1 Siamese model architecture based on 3D-CNN"
      ]
    },
    {
      "cell_type": "code",
      "metadata": {
        "id": "a3Q_cwfR9bso"
      },
      "source": [
        "def get_siamese_model(input_shape):\n",
        "    \"\"\"\n",
        "    Model architecture\n",
        "    \"\"\"\n",
        "    \n",
        "    # Define the tensors for the two input images\n",
        "    left_input = Input(shape=input_shape)\n",
        "    right_input = Input(shape=input_shape)\n",
        "    \n",
        "    # Convolutional Neural Network\n",
        "    model = Sequential()\n",
        "    \n",
        "    model.add(Conv3D(20, kernel_size=(1, 1, 1), use_bias = True, padding = 'valid', activation='linear', kernel_initializer='he_uniform', kernel_regularizer=l2(2e-4)))\n",
        "    model.add(BatchNormalization())\n",
        "    \n",
        "    model.add(Conv3D(20, kernel_size=(3, 3, 3), use_bias = True, padding = 'valid', activation='elu', kernel_initializer='he_uniform', kernel_regularizer=l2(2e-4)))\n",
        "    model.add(BatchNormalization())\n",
        "    \n",
        "    model.add(Conv3D(30, kernel_size=(4, 4, 4), use_bias = True, padding = 'valid', activation='elu', kernel_initializer='he_uniform', kernel_regularizer=l2(2e-4)))\n",
        "    model.add(BatchNormalization())\n",
        "    \n",
        "    model.add(Conv3D(20, kernel_size=(4, 4, 4), use_bias = True, padding = 'valid', activation='elu', kernel_initializer='he_uniform', kernel_regularizer=l2(2e-4)))\n",
        "    model.add(BatchNormalization())\n",
        "    \n",
        "    model.add(AveragePooling3D(pool_size=(4, 4, 4), strides=(4, 4, 4)))\n",
        "    model.add(Flatten())\n",
        "    \n",
        "    \n",
        "    model.add(Dense(10, use_bias=True, activation='elu', kernel_initializer='he_uniform', kernel_regularizer=l2(1e-3)))\n",
        "    \n",
        "    # Generate the encodings (feature vectors) for the two images\n",
        "    encoded_l = model(left_input)\n",
        "    encoded_r = model(right_input)\n",
        "    \n",
        "    # Add a customized layer to compute the absolute difference between the encodings\n",
        "    L1_layer = Lambda(lambda tensors:K.abs(tensors[0] - tensors[1]))\n",
        "    L1_distance = L1_layer([encoded_l, encoded_r])\n",
        "    \n",
        "    \n",
        "    # Add a dense layer with a sigmoid unit to generate the similarity score\n",
        "    prediction = Dense(1, use_bias=True, activation='elu')(L1_distance)\n",
        "    \n",
        "    # Connect the inputs with the outputs\n",
        "    siamese_net = Model(inputs=[left_input,right_input],outputs=prediction)\n",
        "\n",
        "    siamese_net.compile(loss='mean_squared_error', optimizer=Adam(lr=0.001))\n",
        "    siamese_net.summary()\n",
        "    \n",
        "    # return the model\n",
        "    return siamese_net"
      ],
      "execution_count": null,
      "outputs": []
    },
    {
      "cell_type": "markdown",
      "metadata": {
        "id": "mBxGBGGu9y2q"
      },
      "source": [
        "#### Questions\n",
        "- What activation functions are used in this architecture?\n",
        "- What cost function are we trying to minimize?\n",
        "- How many convolutional layers are used in this architecture?\n",
        "- On which layers do you propose to apply the dropout technique?"
      ]
    },
    {
      "cell_type": "markdown",
      "metadata": {
        "id": "CmP65bBr-D68"
      },
      "source": [
        "#### 2.2 The input data: locally oriented cubes\n",
        "\n",
        "Load training samples. Each sample is a tuple of 5 elements:\n",
        "1. The environment of the wild-type residue on the interface.\n",
        "2. The environment of the mutant residue on the interface.\n",
        "3. The value of $\\Delta\\Delta$G.\n",
        "4. The name of the complex and its partner chains.\n",
        "5. The mutation code.\n"
      ]
    },
    {
      "cell_type": "markdown",
      "metadata": {
        "id": "l2YfgzAX-iZB"
      },
      "source": [
        "Functions to serializing and de-serializing pickle object structure."
      ]
    },
    {
      "cell_type": "code",
      "metadata": {
        "id": "ADBukuux-hzx"
      },
      "source": [
        "def save_obj(obj, name):\n",
        "    with open(name + '.pkl', 'wb') as f:\n",
        "        pickle5.dump(obj, f, pickle.HIGHEST_PROTOCOL)\n",
        "\n",
        "def load_obj(name):\n",
        "    with open(name + '.pkl', 'rb') as f:\n",
        "        return pickle5.load(f)"
      ],
      "execution_count": null,
      "outputs": []
    },
    {
      "cell_type": "code",
      "metadata": {
        "id": "-ZnYNv7587ut"
      },
      "source": [
        "def load_map(train_path):\n",
        "    X_wt, X_mut, y, com, muta = load_obj(train_path.replace('.pkl',''))\n",
        "    return X_wt, X_mut, y, com, muta"
      ],
      "execution_count": null,
      "outputs": []
    },
    {
      "cell_type": "markdown",
      "metadata": {
        "id": "WMfS4p0i_Hie"
      },
      "source": [
        "Download the dataset."
      ]
    },
    {
      "cell_type": "code",
      "metadata": {
        "colab": {
          "base_uri": "https://localhost:8080/"
        },
        "id": "80gTa-8-_SD4",
        "outputId": "0f88e92e-95a8-41bc-f0ce-139663ec99de"
      },
      "source": [
        "!gdown --id '1I4nkVeyJRA6BbuL9KCgi_VeN0uvBdQTt'\n",
        "#!gdown --id '1nqX7Y8Pxk5WgQT2tVINUbSN2tuTjyWrR'"
      ],
      "execution_count": null,
      "outputs": [
        {
          "output_type": "stream",
          "name": "stdout",
          "text": [
            "Downloading...\n",
            "From: https://drive.google.com/uc?id=1I4nkVeyJRA6BbuL9KCgi_VeN0uvBdQTt\n",
            "To: /content/traindata_mut.zip\n",
            "100% 106M/106M [00:00<00:00, 116MB/s] \n"
          ]
        }
      ]
    },
    {
      "cell_type": "markdown",
      "metadata": {
        "id": "WjwEX6WN_Yz5"
      },
      "source": [
        "Decompress the two datasets."
      ]
    },
    {
      "cell_type": "code",
      "metadata": {
        "colab": {
          "base_uri": "https://localhost:8080/"
        },
        "id": "fST_yx2O_Vov",
        "outputId": "31d7ee11-5450-4b0c-d9b0-9655f360ab26"
      },
      "source": [
        "!unzip '/content/traindata_mut.zip'\n",
        "#!unzip '/content/traindata_mut_small.zip'"
      ],
      "execution_count": null,
      "outputs": [
        {
          "output_type": "stream",
          "name": "stdout",
          "text": [
            "Archive:  /content/traindata_mut.zip\n",
            "replace traindata_mut/1AO7_ABC_DE_AA149G_1.pkl? [y]es, [n]o, [A]ll, [N]one, [r]ename: A\n",
            "  inflating: traindata_mut/1AO7_ABC_DE_AA149G_1.pkl  \n",
            "  inflating: traindata_mut/1AO7_ABC_DE_AA150G_1.pkl  \n",
            "  inflating: traindata_mut/1AO7_ABC_DE_AA150P_1.pkl  \n",
            "  inflating: traindata_mut/1AO7_ABC_DE_AA158G_1.pkl  \n",
            "  inflating: traindata_mut/1AO7_ABC_DE_AA69G_1.pkl  \n",
            "  inflating: traindata_mut/1AO7_ABC_DE_AE96M_1.pkl  \n",
            "  inflating: traindata_mut/1AO7_ABC_DE_DA61A_1.pkl  \n",
            "  inflating: traindata_mut/1BD2_ABC_DE_DD30N_1.pkl  \n",
            "  inflating: traindata_mut/1BD2_ABC_DE_ED93A_1.pkl  \n",
            "  inflating: traindata_mut/1BD2_ABC_DE_EE28A_1.pkl  \n",
            "  inflating: traindata_mut/1BD2_ABC_DE_RA65A_1.pkl  \n",
            "  inflating: traindata_mut/1BD2_ABC_DE_YC5A_1.pkl  \n",
            "  inflating: traindata_mut/1BD2_ABC_DE_YC5F_1.pkl  \n",
            "  inflating: traindata_mut/1BD2_ABC_DE_YC5W_1.pkl  \n",
            "  inflating: traindata_mut/1BJ1_HL_VW_HH101Y_1.pkl  \n",
            "  inflating: traindata_mut/1BJ1_HL_VW_HH107A_1.pkl  \n",
            "  inflating: traindata_mut/1BJ1_HL_VW_NH31H_1.pkl  \n",
            "  inflating: traindata_mut/1BJ1_HL_VW_SH105T_1.pkl  \n",
            "  inflating: traindata_mut/1BJ1_HL_VW_TH28D_1.pkl  \n",
            "  inflating: traindata_mut/1BJ1_HL_VW_TH59A_1.pkl  \n",
            "  inflating: traindata_mut/1BJ1_HL_VW_YH27A_1.pkl  \n",
            "  inflating: traindata_mut/1BRS_A_D_DD35A_1.pkl  \n",
            "  inflating: traindata_mut/1BRS_A_D_DD39A_1.pkl  \n",
            "  inflating: traindata_mut/1BRS_A_D_EA71A_1.pkl  \n",
            "  inflating: traindata_mut/1BRS_A_D_EA71C_1.pkl  \n",
            "  inflating: traindata_mut/1BRS_A_D_EA71F_1.pkl  \n",
            "  inflating: traindata_mut/1BRS_A_D_EA71Q_1.pkl  \n",
            "  inflating: traindata_mut/1BRS_A_D_EA71S_1.pkl  \n",
            "  inflating: traindata_mut/1C4Z_ABC_D_AD56G_1.pkl  \n",
            "  inflating: traindata_mut/1C4Z_ABC_D_AD95G_1.pkl  \n",
            "  inflating: traindata_mut/1C4Z_ABC_D_CA324A_1.pkl  \n",
            "  inflating: traindata_mut/1C4Z_ABC_D_DA145A_1.pkl  \n",
            "  inflating: traindata_mut/1C4Z_ABC_D_DA145K_1.pkl  \n",
            "  inflating: traindata_mut/1C4Z_ABC_D_DA156A_1.pkl  \n",
            "  inflating: traindata_mut/1C4Z_ABC_D_DA156R_1.pkl  \n",
            "  inflating: traindata_mut/1CBW_FGH_I_GI12A_1.pkl  \n",
            "  inflating: traindata_mut/1CBW_FGH_I_GI36A_1.pkl  \n",
            "  inflating: traindata_mut/1CBW_FGH_I_GI37A_1.pkl  \n",
            "  inflating: traindata_mut/1CBW_FGH_I_II19A_1.pkl  \n",
            "  inflating: traindata_mut/1CBW_FGH_I_KI15A_1.pkl  \n",
            "  inflating: traindata_mut/1CBW_FGH_I_KI46A_1.pkl  \n",
            "  inflating: traindata_mut/1CBW_FGH_I_PI13A_1.pkl  \n",
            "  inflating: traindata_mut/1CHO_EFG_I_AI12C_1.pkl  \n",
            "  inflating: traindata_mut/1CHO_EFG_I_AI12D_1.pkl  \n",
            "  inflating: traindata_mut/1CHO_EFG_I_AI12E_1.pkl  \n",
            "  inflating: traindata_mut/1CHO_EFG_I_AI12F_1.pkl  \n",
            "  inflating: traindata_mut/1CHO_EFG_I_AI12G_1.pkl  \n",
            "  inflating: traindata_mut/1CHO_EFG_I_AI12H_1.pkl  \n",
            "  inflating: traindata_mut/1CHO_EFG_I_AI12I_1.pkl  \n",
            "  inflating: traindata_mut/1CSO_E_I_II13L_1.pkl  \n",
            "  inflating: traindata_mut/1CT0_E_I_SI13L_1.pkl  \n",
            "  inflating: traindata_mut/1CT2_E_I_TI13L_1.pkl  \n",
            "  inflating: traindata_mut/1CT4_E_I_VI13L_1.pkl  \n",
            "  inflating: traindata_mut/1CZ8_HL_VW_LL4M_1.pkl  \n",
            "  inflating: traindata_mut/1DQJ_AB_C_DB32A_1.pkl  \n",
            "  inflating: traindata_mut/1DQJ_AB_C_DC101A_1.pkl  \n",
            "  inflating: traindata_mut/1DQJ_AB_C_KC96A_1.pkl  \n",
            "  inflating: traindata_mut/1DQJ_AB_C_KC97A_1.pkl  \n",
            "  inflating: traindata_mut/1DQJ_AB_C_LC75A_1.pkl  \n",
            "  inflating: traindata_mut/1DQJ_AB_C_NA31A_1.pkl  \n",
            "  inflating: traindata_mut/1DQJ_AB_C_NA32A_1.pkl  \n",
            "  inflating: traindata_mut/1EAW_A_B_DA214A_1.pkl  \n",
            "  inflating: traindata_mut/1EAW_A_B_DA46A_1.pkl  \n",
            "  inflating: traindata_mut/1EAW_A_B_DA47A_1.pkl  \n",
            "  inflating: traindata_mut/1EAW_A_B_DA91A_1.pkl  \n",
            "  inflating: traindata_mut/1EAW_A_B_EA163A_1.pkl  \n",
            "  inflating: traindata_mut/1EAW_A_B_FA50A_1.pkl  \n",
            "  inflating: traindata_mut/1EAW_A_B_FA89A_1.pkl  \n",
            "  inflating: traindata_mut/1F47_A_B_DA4A_1.pkl  \n",
            "  inflating: traindata_mut/1F47_A_B_DA7A_1.pkl  \n",
            "  inflating: traindata_mut/1F47_A_B_DA7G_1.pkl  \n",
            "  inflating: traindata_mut/1F47_A_B_DA7S_1.pkl  \n",
            "  inflating: traindata_mut/1F47_A_B_FA11A_1.pkl  \n",
            "  inflating: traindata_mut/1F47_A_B_IA8A_1.pkl  \n",
            "  inflating: traindata_mut/1F47_A_B_KA14A_1.pkl  \n",
            "  inflating: traindata_mut/1F5R_A_I_KA129Q_1.pkl  \n",
            "  inflating: traindata_mut/1GCQ_AB_C_AC42G_1.pkl  \n",
            "  inflating: traindata_mut/1GCQ_AB_C_GC21V_1.pkl  \n",
            "  inflating: traindata_mut/1GCQ_AB_C_PC18A_1.pkl  \n",
            "  inflating: traindata_mut/1GCQ_AB_C_PC19A_1.pkl  \n",
            "  inflating: traindata_mut/1GCQ_AB_C_PC5A_1.pkl  \n",
            "  inflating: traindata_mut/1GCQ_AB_C_PC67A_1.pkl  \n",
            "  inflating: traindata_mut/1GCQ_AB_C_WC47Y_1.pkl  \n",
            "  inflating: traindata_mut/1GRN_A_B_DA38E_1.pkl  \n",
            "  inflating: traindata_mut/1IAR_A_B_EA19A_1.pkl  \n",
            "  inflating: traindata_mut/1IAR_A_B_EA19R_1.pkl  \n",
            "  inflating: traindata_mut/1IAR_A_B_EA9Q_1.pkl  \n",
            "  inflating: traindata_mut/1IAR_A_B_FA82A_1.pkl  \n",
            "  inflating: traindata_mut/1IAR_A_B_FA82D_1.pkl  \n",
            "  inflating: traindata_mut/1IAR_A_B_IA11A_1.pkl  \n",
            "  inflating: traindata_mut/1IAR_A_B_IA5A_1.pkl  \n",
            "  inflating: traindata_mut/1JCK_A_B_FB176A_1.pkl  \n",
            "  inflating: traindata_mut/1JCK_A_B_KB103A_1.pkl  \n",
            "  inflating: traindata_mut/1JCK_A_B_NB60A_1.pkl  \n",
            "  inflating: traindata_mut/1JCK_A_B_TB20A_1.pkl  \n",
            "  inflating: traindata_mut/1JCK_A_B_VB91A_1.pkl  \n",
            "  inflating: traindata_mut/1JCK_A_B_YB26A_1.pkl  \n",
            "  inflating: traindata_mut/1JCK_A_B_YB90A_1.pkl  \n",
            "  inflating: traindata_mut/1JRH_LH_I_DH56A_1.pkl  \n",
            "  inflating: traindata_mut/1JRH_LH_I_DH57A_1.pkl  \n",
            "  inflating: traindata_mut/1JRH_LH_I_DH58A_1.pkl  \n",
            "  inflating: traindata_mut/1JRH_LH_I_DL28A_1.pkl  \n",
            "  inflating: traindata_mut/1JRH_LH_I_EI35Q_1.pkl  \n",
            "  inflating: traindata_mut/1JRH_LH_I_EI45A_1.pkl  \n",
            "  inflating: traindata_mut/1JRH_LH_I_EI45P_1.pkl  \n",
            "  inflating: traindata_mut/1JTG_A_B_DB49A_1.pkl  \n",
            "  inflating: traindata_mut/1JTG_A_B_EA143A_1.pkl  \n",
            "  inflating: traindata_mut/1JTG_A_B_EA79A_1.pkl  \n",
            "  inflating: traindata_mut/1JTG_A_B_EA85A_1.pkl  \n",
            "  inflating: traindata_mut/1JTG_A_B_EB73A_1.pkl  \n",
            "  inflating: traindata_mut/1JTG_A_B_FB142A_1.pkl  \n",
            "  inflating: traindata_mut/1JTG_A_B_FB36A_1.pkl  \n",
            "  inflating: traindata_mut/1KAC_A_B_PA15S_1.pkl  \n",
            "  inflating: traindata_mut/1KAC_A_B_SA87Y_1.pkl  \n",
            "  inflating: traindata_mut/1KIP_AB_C_AB32Y_1.pkl  \n",
            "  inflating: traindata_mut/1KIQ_AB_C_FB101Y_1.pkl  \n",
            "  inflating: traindata_mut/1KIR_AB_C_SA50Y_1.pkl  \n",
            "  inflating: traindata_mut/1LFD_A_B_DA38A_1.pkl  \n",
            "  inflating: traindata_mut/1LFD_A_B_DA38K_1.pkl  \n",
            "  inflating: traindata_mut/1LFD_A_B_DA43A_1.pkl  \n",
            "  inflating: traindata_mut/1LFD_A_B_DA45K_1.pkl  \n",
            "  inflating: traindata_mut/1LFD_A_B_DA81K_1.pkl  \n",
            "  inflating: traindata_mut/1LFD_A_B_DB33A_1.pkl  \n",
            "  inflating: traindata_mut/1LFD_A_B_EA44A_1.pkl  \n",
            "  inflating: traindata_mut/1LP9_ABC_EF_KA66A_1.pkl  \n",
            "  inflating: traindata_mut/1LP9_ABC_EF_TA163A_1.pkl  \n",
            "  inflating: traindata_mut/1LP9_ABC_EF_WA167A_1.pkl  \n",
            "  inflating: traindata_mut/1M9E_A_D_AD76H_1.pkl  \n",
            "  inflating: traindata_mut/1MI5_ABC_DE_AD91G_1.pkl  \n",
            "  inflating: traindata_mut/1MI5_ABC_DE_AE97G_1.pkl  \n",
            "  inflating: traindata_mut/1MI5_ABC_DE_DD29A_1.pkl  \n",
            "  inflating: traindata_mut/1MI5_ABC_DE_EE50A_1.pkl  \n",
            "  inflating: traindata_mut/1MI5_ABC_DE_EE99A_1.pkl  \n",
            "  inflating: traindata_mut/1MI5_ABC_DE_GD92A_1.pkl  \n",
            "  inflating: traindata_mut/1MI5_ABC_DE_GD93A_1.pkl  \n",
            "  inflating: traindata_mut/1MLC_AB_E_KB65D_1.pkl  \n",
            "  inflating: traindata_mut/1MLC_AB_E_NA32G_1.pkl  \n",
            "  inflating: traindata_mut/1MLC_AB_E_NA32Y_1.pkl  \n",
            "  inflating: traindata_mut/1MLC_AB_E_NA92A_1.pkl  \n",
            "  inflating: traindata_mut/1MLC_AB_E_SB57A_1.pkl  \n",
            "  inflating: traindata_mut/1MLC_AB_E_SB57V_1.pkl  \n",
            "  inflating: traindata_mut/1MLC_AB_E_TB28D_1.pkl  \n",
            "  inflating: traindata_mut/1N8O_ABC_E_ME80K_1.pkl  \n",
            "  inflating: traindata_mut/1N8O_ABC_E_ME80L_1.pkl  \n",
            "  inflating: traindata_mut/1N8O_ABC_E_ME80R_1.pkl  \n",
            "  inflating: traindata_mut/1OGA_ABC_DE_AA69G_1.pkl  \n",
            "  inflating: traindata_mut/1OGA_ABC_DE_DA61A_1.pkl  \n",
            "  inflating: traindata_mut/1OGA_ABC_DE_DE28A_1.pkl  \n",
            "  inflating: traindata_mut/1OGA_ABC_DE_DE28S_1.pkl  \n",
            "  inflating: traindata_mut/1OGA_ABC_DE_DE52A_1.pkl  \n",
            "  inflating: traindata_mut/1OGA_ABC_DE_EA58A_1.pkl  \n",
            "  inflating: traindata_mut/1OGA_ABC_DE_EA63A_1.pkl  \n",
            "  inflating: traindata_mut/1P69_A_B_SA15P_1.pkl  \n",
            "  inflating: traindata_mut/1P6A_A_B_YA87S_1.pkl  \n",
            "  inflating: traindata_mut/1PPF_E_I_AI15C_1.pkl  \n",
            "  inflating: traindata_mut/1PPF_E_I_AI15D_1.pkl  \n",
            "  inflating: traindata_mut/1PPF_E_I_AI15E_1.pkl  \n",
            "  inflating: traindata_mut/1PPF_E_I_AI15F_1.pkl  \n",
            "  inflating: traindata_mut/1PPF_E_I_AI15G_1.pkl  \n",
            "  inflating: traindata_mut/1PPF_E_I_AI15H_1.pkl  \n",
            "  inflating: traindata_mut/1PPF_E_I_AI15I_1.pkl  \n",
            "  inflating: traindata_mut/1QSE_ABC_DE_RC7V_1.pkl  \n",
            "  inflating: traindata_mut/1R0R_E_I_AI10C_1.pkl  \n",
            "  inflating: traindata_mut/1R0R_E_I_AI10D_1.pkl  \n",
            "  inflating: traindata_mut/1R0R_E_I_AI10E_1.pkl  \n",
            "  inflating: traindata_mut/1R0R_E_I_AI10F_1.pkl  \n",
            "  inflating: traindata_mut/1R0R_E_I_AI10G_1.pkl  \n",
            "  inflating: traindata_mut/1R0R_E_I_AI10H_1.pkl  \n",
            "  inflating: traindata_mut/1R0R_E_I_AI10I_1.pkl  \n",
            "  inflating: traindata_mut/1REW_AB_C_QC55A_1.pkl  \n",
            "  inflating: traindata_mut/1S1Q_A_B_DA44A_1.pkl  \n",
            "  inflating: traindata_mut/1S1Q_A_B_FA42A_1.pkl  \n",
            "  inflating: traindata_mut/1S1Q_A_B_FA86A_1.pkl  \n",
            "  inflating: traindata_mut/1S1Q_A_B_NA43A_1.pkl  \n",
            "  inflating: traindata_mut/1S1Q_A_B_VA41A_1.pkl  \n",
            "  inflating: traindata_mut/1S1Q_A_B_WA73A_1.pkl  \n",
            "  inflating: traindata_mut/1SBB_A_B_LB20T_1.pkl  \n",
            "  inflating: traindata_mut/1SBB_A_B_VB26Y_1.pkl  \n",
            "  inflating: traindata_mut/1SBB_A_B_YB91V_1.pkl  \n",
            "  inflating: traindata_mut/1SGD_E_I_DI13L_1.pkl  \n",
            "  inflating: traindata_mut/1SGE_E_I_EI13L_1.pkl  \n",
            "  inflating: traindata_mut/1SGN_E_I_NI13L_1.pkl  \n",
            "  inflating: traindata_mut/1SGP_E_I_AI13L_1.pkl  \n",
            "  inflating: traindata_mut/1SGQ_E_I_GI13L_1.pkl  \n",
            "  inflating: traindata_mut/1SGY_E_I_YI13L_1.pkl  \n",
            "  inflating: traindata_mut/1VFB_AB_C_DB100A_1.pkl  \n",
            "  inflating: traindata_mut/1VFB_AB_C_DB54A_1.pkl  \n",
            "  inflating: traindata_mut/1VFB_AB_C_DB58A_1.pkl  \n",
            "  inflating: traindata_mut/1VFB_AB_C_DB58E_1.pkl  \n",
            "  inflating: traindata_mut/1VFB_AB_C_DB58N_1.pkl  \n",
            "  inflating: traindata_mut/1VFB_AB_C_DC119A_1.pkl  \n",
            "  inflating: traindata_mut/1VFB_AB_C_DC18A_1.pkl  \n",
            "  inflating: traindata_mut/1X1W_A_D_AD81E_1.pkl  \n",
            "  inflating: traindata_mut/1X1X_A_D_AD76E_1.pkl  \n",
            "  inflating: traindata_mut/1XGP_AB_C_AB33F_1.pkl  \n",
            "  inflating: traindata_mut/1XGP_AB_C_AB33I_1.pkl  \n",
            "  inflating: traindata_mut/1XGP_AB_C_AB33L_1.pkl  \n",
            "  inflating: traindata_mut/1XGP_AB_C_AB33V_1.pkl  \n",
            "  inflating: traindata_mut/1XGQ_AB_C_VB33A_1.pkl  \n",
            "  inflating: traindata_mut/1XGQ_AB_C_VB33F_1.pkl  \n",
            "  inflating: traindata_mut/1XGQ_AB_C_VB33I_1.pkl  \n",
            "  inflating: traindata_mut/1XGQ_AB_C_VB33L_1.pkl  \n",
            "  inflating: traindata_mut/1XGR_AB_C_IB33A_1.pkl  \n",
            "  inflating: traindata_mut/1XGR_AB_C_IB33F_1.pkl  \n",
            "  inflating: traindata_mut/1XGR_AB_C_IB33L_1.pkl  \n",
            "  inflating: traindata_mut/1XGR_AB_C_IB33V_1.pkl  \n",
            "  inflating: traindata_mut/1XGT_AB_C_LB33A_1.pkl  \n",
            "  inflating: traindata_mut/1XGT_AB_C_LB33F_1.pkl  \n",
            "  inflating: traindata_mut/1XGT_AB_C_LB33I_1.pkl  \n",
            "  inflating: traindata_mut/1XGT_AB_C_LB33V_1.pkl  \n",
            "  inflating: traindata_mut/1XGU_AB_C_FB33A_1.pkl  \n",
            "  inflating: traindata_mut/1XGU_AB_C_FB33I_1.pkl  \n",
            "  inflating: traindata_mut/1XGU_AB_C_FB33L_1.pkl  \n",
            "  inflating: traindata_mut/1XGU_AB_C_FB33V_1.pkl  \n",
            "  inflating: traindata_mut/1YQV_HL_Y_RY45K_1.pkl  \n",
            "  inflating: traindata_mut/2AK4_ABC_DE_AA158G_1.pkl  \n",
            "  inflating: traindata_mut/2AK4_ABC_DE_EA154A_1.pkl  \n",
            "  inflating: traindata_mut/2AK4_ABC_DE_EA161A_1.pkl  \n",
            "  inflating: traindata_mut/2AK4_ABC_DE_EE97A_1.pkl  \n",
            "  inflating: traindata_mut/2AK4_ABC_DE_LA163A_1.pkl  \n",
            "  inflating: traindata_mut/2AK4_ABC_DE_LC10A_1.pkl  \n",
            "  inflating: traindata_mut/2AK4_ABC_DE_LC5A_1.pkl  \n",
            "  inflating: traindata_mut/2B0Z_A_B_IB87F_1.pkl  \n",
            "  inflating: traindata_mut/2B10_A_B_SB87F_1.pkl  \n",
            "  inflating: traindata_mut/2B11_A_B_WB87F_1.pkl  \n",
            "  inflating: traindata_mut/2B42_A_B_HA357A_1.pkl  \n",
            "  inflating: traindata_mut/2B42_A_B_HA357K_1.pkl  \n",
            "  inflating: traindata_mut/2B42_A_B_HA357Q_1.pkl  \n",
            "  inflating: traindata_mut/2BDN_HL_A_DH31E_1.pkl  \n",
            "  inflating: traindata_mut/2BDN_HL_A_LH27K_1.pkl  \n",
            "  inflating: traindata_mut/2BDN_HL_A_LH27R_1.pkl  \n",
            "  inflating: traindata_mut/2BDN_HL_A_NH28D_1.pkl  \n",
            "  inflating: traindata_mut/2BDN_HL_A_NH28Q_1.pkl  \n",
            "  inflating: traindata_mut/2BDN_HL_A_NL31K_1.pkl  \n",
            "  inflating: traindata_mut/2BDN_HL_A_NL31R_1.pkl  \n",
            "  inflating: traindata_mut/2BNR_ABC_DE_AA149G_1.pkl  \n",
            "  inflating: traindata_mut/2BNR_ABC_DE_AA150G_1.pkl  \n",
            "  inflating: traindata_mut/2BNR_ABC_DE_AA69G_1.pkl  \n",
            "  inflating: traindata_mut/2BNR_ABC_DE_DA61A_1.pkl  \n",
            "  inflating: traindata_mut/2BNR_ABC_DE_EA58A_1.pkl  \n",
            "  inflating: traindata_mut/2BNR_ABC_DE_EA63A_1.pkl  \n",
            "  inflating: traindata_mut/2BNR_ABC_DE_HA151A_1.pkl  \n",
            "  inflating: traindata_mut/2C0L_A_B_NA48A_1.pkl  \n",
            "  inflating: traindata_mut/2C0L_A_B_QA239R_1.pkl  \n",
            "  inflating: traindata_mut/2C0L_A_B_SA242Y_1.pkl  \n",
            "  inflating: traindata_mut/2DVW_A_B_EA180A_1.pkl  \n",
            "  inflating: traindata_mut/2DVW_A_B_KA114A_1.pkl  \n",
            "  inflating: traindata_mut/2DVW_A_B_KB62E_1.pkl  \n",
            "  inflating: traindata_mut/2DVW_A_B_RA39A_1.pkl  \n",
            "  inflating: traindata_mut/2DVW_A_B_RB7A_1.pkl  \n",
            "  inflating: traindata_mut/2E7L_EQ_AD_FQ5R_1.pkl  \n",
            "  inflating: traindata_mut/2GOX_A_B_NB38A_1.pkl  \n",
            "  inflating: traindata_mut/2GOX_A_B_RB31A_1.pkl  \n",
            "  inflating: traindata_mut/2HLE_A_B_KA141Q_1.pkl  \n",
            "  inflating: traindata_mut/2HLE_A_B_LA87R_1.pkl  \n",
            "  inflating: traindata_mut/2J12_A_B_SA116A_1.pkl  \n",
            "  inflating: traindata_mut/2J1K_C_T_GC10D_1.pkl  \n",
            "  inflating: traindata_mut/2J1K_C_T_RC155A_1.pkl  \n",
            "  inflating: traindata_mut/2J1K_C_T_RC24A_1.pkl  \n",
            "  inflating: traindata_mut/2J8U_ABC_EF_AA66K_1.pkl  \n",
            "  inflating: traindata_mut/2JCC_ABC_EF_AA167W_1.pkl  \n",
            "  inflating: traindata_mut/2KSO_A_B_HB20E_1.pkl  \n",
            "  inflating: traindata_mut/2KSO_A_B_KA10D_1.pkl  \n",
            "  inflating: traindata_mut/2KSO_A_B_KA49D_1.pkl  \n",
            "  inflating: traindata_mut/2KSO_A_B_KA49E_1.pkl  \n",
            "  inflating: traindata_mut/2KSO_A_B_RA43E_1.pkl  \n",
            "  inflating: traindata_mut/2NU0_E_I_WI13L_1.pkl  \n",
            "  inflating: traindata_mut/2NU1_E_I_HI13L_1.pkl  \n",
            "  inflating: traindata_mut/2NU2_E_I_RI13L_1.pkl  \n",
            "  inflating: traindata_mut/2NU4_E_I_KI13L_1.pkl  \n",
            "  inflating: traindata_mut/2OI9_AQ_BC_FQ5R_1.pkl  \n",
            "  inflating: traindata_mut/2OOB_A_B_AA9E_1.pkl  \n",
            "  inflating: traindata_mut/2OOB_A_B_GA13S_1.pkl  \n",
            "  inflating: traindata_mut/2OOB_A_B_KA7E_1.pkl  \n",
            "  inflating: traindata_mut/2PCC_A_B_AB86G_1.pkl  \n",
            "  inflating: traindata_mut/2PCC_A_B_DA34A_1.pkl  \n",
            "  inflating: traindata_mut/2PCC_A_B_EA290A_1.pkl  \n",
            "  inflating: traindata_mut/2PCC_A_B_KB77A_1.pkl  \n",
            "  inflating: traindata_mut/2PCC_A_B_KB92A_1.pkl  \n",
            "  inflating: traindata_mut/2PCC_A_B_VA197A_1.pkl  \n",
            "  inflating: traindata_mut/2SGP_E_I_PI13L_1.pkl  \n",
            "  inflating: traindata_mut/2SGQ_E_I_QI13L_1.pkl  \n",
            "  inflating: traindata_mut/2UWE_ABC_EF_AA163T_1.pkl  \n",
            "  inflating: traindata_mut/2VLR_ABC_DE_AE95S_1.pkl  \n",
            "  inflating: traindata_mut/3AAA_AB_C_DC43A_1.pkl  \n",
            "  inflating: traindata_mut/3AAA_AB_C_EC77A_1.pkl  \n",
            "  inflating: traindata_mut/3AAA_AB_C_EC77R_1.pkl  \n",
            "  inflating: traindata_mut/3AAA_AB_C_KA248A_1.pkl  \n",
            "  inflating: traindata_mut/3AAA_AB_C_KA248E_1.pkl  \n",
            "  inflating: traindata_mut/3AAA_AB_C_RA252A_1.pkl  \n",
            "  inflating: traindata_mut/3AAA_AB_C_RA252E_1.pkl  \n",
            "  inflating: traindata_mut/3BK3_A_C_AC37R_1.pkl  \n",
            "  inflating: traindata_mut/3BK3_A_C_IC19A_1.pkl  \n",
            "  inflating: traindata_mut/3BK3_A_C_IC19R_1.pkl  \n",
            "  inflating: traindata_mut/3BK3_A_C_IC22A_1.pkl  \n",
            "  inflating: traindata_mut/3BK3_A_C_IC22R_1.pkl  \n",
            "  inflating: traindata_mut/3BK3_A_C_IC28A_1.pkl  \n",
            "  inflating: traindata_mut/3BK3_A_C_IC28R_1.pkl  \n",
            "  inflating: traindata_mut/3BP8_A_C_AC51F_1.pkl  \n",
            "  inflating: traindata_mut/3BP8_A_C_FA115A_1.pkl  \n",
            "  inflating: traindata_mut/3C60_CD_AB_DC56A_1.pkl  \n",
            "  inflating: traindata_mut/3C60_CD_AB_DD13A_1.pkl  \n",
            "  inflating: traindata_mut/3C60_CD_AB_DD86A_1.pkl  \n",
            "  inflating: traindata_mut/3C60_CD_AB_ED2A_1.pkl  \n",
            "  inflating: traindata_mut/3C60_CD_AB_ED69A_1.pkl  \n",
            "  inflating: traindata_mut/3C60_CD_AB_ED76A_1.pkl  \n",
            "  inflating: traindata_mut/3C60_CD_AB_ED79A_1.pkl  \n",
            "  inflating: traindata_mut/3D5R_A_C_AC38N_1.pkl  \n",
            "  inflating: traindata_mut/3D5S_A_C_AC31R_1.pkl  \n",
            "  inflating: traindata_mut/3EG5_A_B_HA104F_1.pkl  \n",
            "  inflating: traindata_mut/3EQS_A_B_EB5A_1.pkl  \n",
            "  inflating: traindata_mut/3EQS_A_B_FB3A_1.pkl  \n",
            "  inflating: traindata_mut/3EQS_A_B_LB10A_1.pkl  \n",
            "  inflating: traindata_mut/3EQS_A_B_LB9A_1.pkl  \n",
            "  inflating: traindata_mut/3EQS_A_B_NB8A_1.pkl  \n",
            "  inflating: traindata_mut/3EQS_A_B_SB11A_1.pkl  \n",
            "  inflating: traindata_mut/3EQS_A_B_SB2A_1.pkl  \n",
            "  inflating: traindata_mut/3EQY_A_C_EC5A_1.pkl  \n",
            "  inflating: traindata_mut/3EQY_A_C_FC3A_1.pkl  \n",
            "  inflating: traindata_mut/3EQY_A_C_LC10A_1.pkl  \n",
            "  inflating: traindata_mut/3EQY_A_C_LC9A_1.pkl  \n",
            "  inflating: traindata_mut/3EQY_A_C_NC8A_1.pkl  \n",
            "  inflating: traindata_mut/3EQY_A_C_PC12A_1.pkl  \n",
            "  inflating: traindata_mut/3EQY_A_C_SC11A_1.pkl  \n",
            "  inflating: traindata_mut/3H9S_ABC_DE_AA150P_1.pkl  \n",
            "  inflating: traindata_mut/3HFM_HL_Y_DH32A_1.pkl  \n",
            "  inflating: traindata_mut/3HFM_HL_Y_DH32N_1.pkl  \n",
            "  inflating: traindata_mut/3HFM_HL_Y_KY96A_1.pkl  \n",
            "  inflating: traindata_mut/3HFM_HL_Y_KY97A_1.pkl  \n",
            "  inflating: traindata_mut/3HFM_HL_Y_KY97M_1.pkl  \n",
            "  inflating: traindata_mut/3HFM_HL_Y_NL31A_1.pkl  \n",
            "  inflating: traindata_mut/3HFM_HL_Y_NL31D_1.pkl  \n",
            "  inflating: traindata_mut/3HH2_AB_C_FC47A_1.pkl  \n",
            "  inflating: traindata_mut/3HH2_AB_C_FC47E_1.pkl  \n",
            "  inflating: traindata_mut/3HH2_AB_C_FC52A_1.pkl  \n",
            "  inflating: traindata_mut/3HH2_AB_C_FC52E_1.pkl  \n",
            "  inflating: traindata_mut/3HH2_AB_C_IC51A_1.pkl  \n",
            "  inflating: traindata_mut/3HH2_AB_C_IC51E_1.pkl  \n",
            "  inflating: traindata_mut/3HH2_AB_C_VC15E_1.pkl  \n",
            "  inflating: traindata_mut/3L5X_A_HL_YL94A_1.pkl  \n",
            "  inflating: traindata_mut/3LNZ_A_B_AB8N_1.pkl  \n",
            "  inflating: traindata_mut/3M62_A_B_DA46A_1.pkl  \n",
            "  inflating: traindata_mut/3M62_A_B_EA32A_1.pkl  \n",
            "  inflating: traindata_mut/3M62_A_B_EA55A_1.pkl  \n",
            "  inflating: traindata_mut/3M62_A_B_FB7A_1.pkl  \n",
            "  inflating: traindata_mut/3M62_A_B_GA102A_1.pkl  \n",
            "  inflating: traindata_mut/3M62_A_B_IA110A_1.pkl  \n",
            "  inflating: traindata_mut/3M62_A_B_IB43A_1.pkl  \n",
            "  inflating: traindata_mut/3M63_A_B_DA46A_1.pkl  \n",
            "  inflating: traindata_mut/3M63_A_B_EA33A_1.pkl  \n",
            "  inflating: traindata_mut/3M63_A_B_EA55A_1.pkl  \n",
            "  inflating: traindata_mut/3M63_A_B_FA113A_1.pkl  \n",
            "  inflating: traindata_mut/3M63_A_B_GA102A_1.pkl  \n",
            "  inflating: traindata_mut/3M63_A_B_IA110A_1.pkl  \n",
            "  inflating: traindata_mut/3M63_A_B_LA50A_1.pkl  \n",
            "  inflating: traindata_mut/3MZG_A_B_HA125A_1.pkl  \n",
            "  inflating: traindata_mut/3MZG_A_B_HA14A_1.pkl  \n",
            "  inflating: traindata_mut/3MZG_A_B_HA160A_1.pkl  \n",
            "  inflating: traindata_mut/3MZG_A_B_HA167A_1.pkl  \n",
            "  inflating: traindata_mut/3MZG_A_B_HA17A_1.pkl  \n",
            "  inflating: traindata_mut/3MZG_A_B_HA182A_1.pkl  \n",
            "  inflating: traindata_mut/3MZG_A_B_HA33A_1.pkl  \n",
            "  inflating: traindata_mut/3MZW_A_B_NB18A_1.pkl  \n",
            "  inflating: traindata_mut/3MZW_A_B_NB18G_1.pkl  \n",
            "  inflating: traindata_mut/3MZW_A_B_NB18T_1.pkl  \n",
            "  inflating: traindata_mut/3NCC_A_B_AB188H_1.pkl  \n",
            "  inflating: traindata_mut/3Q3J_A_B_YB100F_1.pkl  \n",
            "  inflating: traindata_mut/3Q8D_A_E_FA227A_1.pkl  \n",
            "  inflating: traindata_mut/3Q8D_A_E_FA227D_1.pkl  \n",
            "  inflating: traindata_mut/3Q8D_A_E_RA12A_1.pkl  \n",
            "  inflating: traindata_mut/3Q8D_A_E_RA131A_1.pkl  \n",
            "  inflating: traindata_mut/3Q8D_A_E_RA202A_1.pkl  \n",
            "  inflating: traindata_mut/3Q8D_A_E_RA202E_1.pkl  \n",
            "  inflating: traindata_mut/3Q8D_A_E_RA209A_1.pkl  \n",
            "  inflating: traindata_mut/3QDG_ABC_DE_AE52P_1.pkl  \n",
            "  inflating: traindata_mut/3QDG_ABC_DE_DD26W_1.pkl  \n",
            "  inflating: traindata_mut/3QDG_ABC_DE_DD26Y_1.pkl  \n",
            "  inflating: traindata_mut/3QDG_ABC_DE_FE97W_1.pkl  \n",
            "  inflating: traindata_mut/3QDG_ABC_DE_FE97Y_1.pkl  \n",
            "  inflating: traindata_mut/3QDG_ABC_DE_GD28I_1.pkl  \n",
            "  inflating: traindata_mut/3QDG_ABC_DE_GD28L_1.pkl  \n",
            "  inflating: traindata_mut/3QDJ_ABC_DE_AC2L_1.pkl  \n",
            "  inflating: traindata_mut/3QDJ_ABC_DE_AE52P_1.pkl  \n",
            "  inflating: traindata_mut/3QDJ_ABC_DE_DD26W_1.pkl  \n",
            "  inflating: traindata_mut/3QDJ_ABC_DE_DD26Y_1.pkl  \n",
            "  inflating: traindata_mut/3QDJ_ABC_DE_FE97W_1.pkl  \n",
            "  inflating: traindata_mut/3QDJ_ABC_DE_FE97Y_1.pkl  \n",
            "  inflating: traindata_mut/3QDJ_ABC_DE_GD28I_1.pkl  \n",
            "  inflating: traindata_mut/3QIB_ABP_CD_AA61G_1.pkl  \n",
            "  inflating: traindata_mut/3QIB_ABP_CD_AA64G_1.pkl  \n",
            "  inflating: traindata_mut/3QIB_ABP_CD_AA68G_1.pkl  \n",
            "  inflating: traindata_mut/3QIB_ABP_CD_AB71G_1.pkl  \n",
            "  inflating: traindata_mut/3QIB_ABP_CD_DB74A_1.pkl  \n",
            "  inflating: traindata_mut/3QIB_ABP_CD_EA75A_1.pkl  \n",
            "  inflating: traindata_mut/3QIB_ABP_CD_EB57A_1.pkl  \n",
            "  inflating: traindata_mut/3S9D_A_B_AA116G_1.pkl  \n",
            "  inflating: traindata_mut/3S9D_A_B_AA116M_1.pkl  \n",
            "  inflating: traindata_mut/3S9D_A_B_AA12W_1.pkl  \n",
            "  inflating: traindata_mut/3S9D_A_B_AB67M_1.pkl  \n",
            "  inflating: traindata_mut/3S9D_A_B_DA25A_1.pkl  \n",
            "  inflating: traindata_mut/3S9D_A_B_DA28A_1.pkl  \n",
            "  inflating: traindata_mut/3S9D_A_B_DB121R_1.pkl  \n",
            "  inflating: traindata_mut/3SF4_A_D_ED19R_1.pkl  \n",
            "  inflating: traindata_mut/3SF4_A_D_KD27D_1.pkl  \n",
            "  inflating: traindata_mut/3SF4_A_D_NA264R_1.pkl  \n",
            "  inflating: traindata_mut/3SF4_A_D_RA202E_1.pkl  \n",
            "  inflating: traindata_mut/3SF4_A_D_WD8A_1.pkl  \n",
            "  inflating: traindata_mut/3SGB_E_I_AI9C_1.pkl  \n",
            "  inflating: traindata_mut/3SGB_E_I_AI9D_1.pkl  \n",
            "  inflating: traindata_mut/3SGB_E_I_AI9E_1.pkl  \n",
            "  inflating: traindata_mut/3SGB_E_I_AI9F_1.pkl  \n",
            "  inflating: traindata_mut/3SGB_E_I_AI9G_1.pkl  \n",
            "  inflating: traindata_mut/3SGB_E_I_AI9H_1.pkl  \n",
            "  inflating: traindata_mut/3SGB_E_I_AI9I_1.pkl  \n",
            "  inflating: traindata_mut/3TGK_E_I_NE170D_1.pkl  \n",
            "  inflating: traindata_mut/3UII_A_P_KA58A_1.pkl  \n",
            "  inflating: traindata_mut/3W2D_A_HL_KA67N_1.pkl  \n",
            "  inflating: traindata_mut/3W2D_A_HL_KA67R_1.pkl  \n",
            "  inflating: traindata_mut/3W2D_A_HL_YA45F_1.pkl  \n",
            "  inflating: traindata_mut/3W2D_A_HL_YA45L_1.pkl  \n",
            "  inflating: traindata_mut/3WWN_A_B_KA225E_1.pkl  \n",
            "  inflating: traindata_mut/3WWN_A_B_RA221E_1.pkl  \n",
            "  inflating: traindata_mut/3WWN_A_B_RA224E_1.pkl  \n",
            "  inflating: traindata_mut/4B0M_A_BM_AB127G_1.pkl  \n",
            "  inflating: traindata_mut/4B0M_A_BM_LM40A_1.pkl  \n",
            "  inflating: traindata_mut/4B0M_A_BM_MA8A_1.pkl  \n",
            "  inflating: traindata_mut/4B0M_A_BM_PM98A_1.pkl  \n",
            "  inflating: traindata_mut/4B0M_A_BM_PM98S_1.pkl  \n",
            "  inflating: traindata_mut/4B0M_A_BM_PM99A_1.pkl  \n",
            "  inflating: traindata_mut/4B0M_A_BM_PM99S_1.pkl  \n",
            "  inflating: traindata_mut/4CVW_A_C_DA720R_1.pkl  \n",
            "  inflating: traindata_mut/4CVW_A_C_DA720W_1.pkl  \n",
            "  inflating: traindata_mut/4CVW_A_C_LC34G_1.pkl  \n",
            "  inflating: traindata_mut/4CVW_A_C_LC34W_1.pkl  \n",
            "  inflating: traindata_mut/4CVW_A_C_RC27A_1.pkl  \n",
            "  inflating: traindata_mut/4CVW_A_C_RC31A_1.pkl  \n",
            "  inflating: traindata_mut/4CVW_A_C_RC31W_1.pkl  \n",
            "  inflating: traindata_mut/4EKD_A_B_CA147R_1.pkl  \n",
            "  inflating: traindata_mut/4FTV_ABC_DE_DD93A_1.pkl  \n",
            "  inflating: traindata_mut/4FTV_ABC_DE_KD66A_1.pkl  \n",
            "  inflating: traindata_mut/4FTV_ABC_DE_QE101E_1.pkl  \n",
            "  inflating: traindata_mut/4FTV_ABC_DE_QE101R_1.pkl  \n",
            "  inflating: traindata_mut/4FTV_ABC_DE_RA65A_1.pkl  \n",
            "  inflating: traindata_mut/4FTV_ABC_DE_TA163A_1.pkl  \n",
            "  inflating: traindata_mut/4HFK_A_BD_EB46A_1.pkl  \n",
            "  inflating: traindata_mut/4HFK_A_BD_EB56A_1.pkl  \n",
            "  inflating: traindata_mut/4HFK_A_BD_LB45A_1.pkl  \n",
            "  inflating: traindata_mut/4HFK_A_BD_LB50A_1.pkl  \n",
            "  inflating: traindata_mut/4HFK_A_BD_NB49A_1.pkl  \n",
            "  inflating: traindata_mut/4HFK_A_BD_RB22A_1.pkl  \n",
            "  inflating: traindata_mut/4HFK_A_BD_SB48A_1.pkl  \n",
            "  inflating: traindata_mut/4I77_HL_Z_DH54A_1.pkl  \n",
            "  inflating: traindata_mut/4I77_HL_Z_NL95A_1.pkl  \n",
            "  inflating: traindata_mut/4I77_HL_Z_WH52A_1.pkl  \n",
            "  inflating: traindata_mut/4I77_HL_Z_WH52F_1.pkl  \n",
            "  inflating: traindata_mut/4I77_HL_Z_YH100A_1.pkl  \n",
            "  inflating: traindata_mut/4I77_HL_Z_YH100F_1.pkl  \n",
            "  inflating: traindata_mut/4I77_HL_Z_YH101A_1.pkl  \n",
            "  inflating: traindata_mut/4JFF_ABC_DE_EC1A_1.pkl  \n",
            "  inflating: traindata_mut/4JFF_ABC_DE_GC4A_1.pkl  \n",
            "  inflating: traindata_mut/4JFF_ABC_DE_GC6A_1.pkl  \n",
            "  inflating: traindata_mut/4JFF_ABC_DE_IC7A_1.pkl  \n",
            "  inflating: traindata_mut/4JFF_ABC_DE_LC8A_1.pkl  \n",
            "  inflating: traindata_mut/4JFF_ABC_DE_TC9A_1.pkl  \n",
            "  inflating: traindata_mut/4JGH_ABC_D_WD44A_1.pkl  \n",
            "  inflating: traindata_mut/4KRL_A_B_DB112A_1.pkl  \n",
            "  inflating: traindata_mut/4KRL_A_B_RB30A_1.pkl  \n",
            "  inflating: traindata_mut/4KRO_A_B_DB92A_1.pkl  \n",
            "  inflating: traindata_mut/4KRO_A_B_RB15A_1.pkl  \n",
            "  inflating: traindata_mut/4KRP_A_B_EB105A_1.pkl  \n",
            "  inflating: traindata_mut/4L3E_ABC_DE_EA166A_1.pkl  \n",
            "  inflating: traindata_mut/4L3E_ABC_DE_ND52A_1.pkl  \n",
            "  inflating: traindata_mut/4L3E_ABC_DE_QA155A_1.pkl  \n",
            "  inflating: traindata_mut/4L3E_ABC_DE_RA65A_1.pkl  \n",
            "  inflating: traindata_mut/4L3E_ABC_DE_YD26A_1.pkl  \n",
            "  inflating: traindata_mut/4L3E_ABC_DE_YD50A_1.pkl  \n",
            "  inflating: traindata_mut/4L3E_ABC_DE_YE48A_1.pkl  \n",
            "  inflating: traindata_mut/4LRX_AB_CD_HA56N_1.pkl  \n",
            "  inflating: traindata_mut/4N8V_G_ABC_KG38A_1.pkl  \n",
            "  inflating: traindata_mut/4N8V_G_ABC_PG10A_1.pkl  \n",
            "  inflating: traindata_mut/4N8V_G_ABC_YG124A_1.pkl  \n",
            "  inflating: traindata_mut/4N8V_G_ABC_YG39F_1.pkl  \n",
            "  inflating: traindata_mut/4OZG_ABJ_GH_DH98A_1.pkl  \n",
            "  inflating: traindata_mut/4OZG_ABJ_GH_FH94A_1.pkl  \n",
            "  inflating: traindata_mut/4OZG_ABJ_GH_FH96A_1.pkl  \n",
            "  inflating: traindata_mut/4OZG_ABJ_GH_LG50A_1.pkl  \n",
            "  inflating: traindata_mut/4OZG_ABJ_GH_NG29A_1.pkl  \n",
            "  inflating: traindata_mut/4OZG_ABJ_GH_NH50A_1.pkl  \n",
            "  inflating: traindata_mut/4OZG_ABJ_GH_QH48A_1.pkl  \n",
            "  inflating: traindata_mut/4P23_CD_AB_DC56A_1.pkl  \n",
            "  inflating: traindata_mut/4P23_CD_AB_DD13A_1.pkl  \n",
            "  inflating: traindata_mut/4P23_CD_AB_DD85A_1.pkl  \n",
            "  inflating: traindata_mut/4P23_CD_AB_ED2A_1.pkl  \n",
            "  inflating: traindata_mut/4P23_CD_AB_ED68A_1.pkl  \n",
            "  inflating: traindata_mut/4P23_CD_AB_ED75A_1.pkl  \n",
            "  inflating: traindata_mut/4P23_CD_AB_ED78A_1.pkl  \n",
            "  inflating: traindata_mut/4P5T_CD_AB_DC56A_1.pkl  \n",
            "  inflating: traindata_mut/4P5T_CD_AB_DD13A_1.pkl  \n",
            "  inflating: traindata_mut/4P5T_CD_AB_DD84A_1.pkl  \n",
            "  inflating: traindata_mut/4P5T_CD_AB_ED2A_1.pkl  \n",
            "  inflating: traindata_mut/4P5T_CD_AB_ED67A_1.pkl  \n",
            "  inflating: traindata_mut/4P5T_CD_AB_ED74A_1.pkl  \n",
            "  inflating: traindata_mut/4P5T_CD_AB_ED77A_1.pkl  \n"
          ]
        }
      ]
    },
    {
      "cell_type": "markdown",
      "metadata": {
        "id": "0MITfdiW_mxG"
      },
      "source": [
        "Load the samples of wild-type and mutant environments."
      ]
    },
    {
      "cell_type": "code",
      "metadata": {
        "id": "ZTynVsYS_qpu"
      },
      "source": [
        "samples = glob.glob(os.path.join('traindata_mut', '*.pkl'))"
      ],
      "execution_count": null,
      "outputs": []
    },
    {
      "cell_type": "code",
      "metadata": {
        "colab": {
          "base_uri": "https://localhost:8080/"
        },
        "id": "KwXWEjiN_4ff",
        "outputId": "d261e4d0-3903-4f22-c5dd-494e9d8a9e44"
      },
      "source": [
        "X, y = [],[]\n",
        "X_train, X_test, y_train, y_test = [],[],[],[]\n",
        "for sample in samples[:200]:\n",
        "  print('Loading ' + sample)\n",
        "  sample_X_wt, sample_X_mut, sample_y, sample_com, sample_muta = load_obj(sample.replace('.pkl',''))\n",
        "  X.append([sample_X_wt[0], sample_X_mut[0]])\n",
        "  y.append(sample_y)\n",
        "X = np.array(X)\n",
        "y = np.array(y)"
      ],
      "execution_count": null,
      "outputs": [
        {
          "output_type": "stream",
          "name": "stdout",
          "text": [
            "Loading traindata_mut/3SGB_E_I_AI9E_1.pkl\n",
            "Loading traindata_mut/1REW_AB_C_QC55A_1.pkl\n",
            "Loading traindata_mut/1XGP_AB_C_AB33I_1.pkl\n",
            "Loading traindata_mut/4B0M_A_BM_LM40A_1.pkl\n",
            "Loading traindata_mut/1F47_A_B_DA7S_1.pkl\n",
            "Loading traindata_mut/4L3E_ABC_DE_YD50A_1.pkl\n",
            "Loading traindata_mut/1BJ1_HL_VW_SH105T_1.pkl\n",
            "Loading traindata_mut/4P5T_CD_AB_ED74A_1.pkl\n",
            "Loading traindata_mut/3M62_A_B_DA46A_1.pkl\n",
            "Loading traindata_mut/3C60_CD_AB_DC56A_1.pkl\n",
            "Loading traindata_mut/1IAR_A_B_EA9Q_1.pkl\n",
            "Loading traindata_mut/4JFF_ABC_DE_EC1A_1.pkl\n",
            "Loading traindata_mut/1VFB_AB_C_DB100A_1.pkl\n",
            "Loading traindata_mut/2BDN_HL_A_NH28D_1.pkl\n",
            "Loading traindata_mut/1R0R_E_I_AI10C_1.pkl\n",
            "Loading traindata_mut/3BK3_A_C_IC22R_1.pkl\n",
            "Loading traindata_mut/1F47_A_B_KA14A_1.pkl\n",
            "Loading traindata_mut/3SGB_E_I_AI9F_1.pkl\n",
            "Loading traindata_mut/1OGA_ABC_DE_EA63A_1.pkl\n",
            "Loading traindata_mut/1JTG_A_B_EB73A_1.pkl\n",
            "Loading traindata_mut/2AK4_ABC_DE_EE97A_1.pkl\n",
            "Loading traindata_mut/3HFM_HL_Y_DH32A_1.pkl\n",
            "Loading traindata_mut/4OZG_ABJ_GH_FH96A_1.pkl\n",
            "Loading traindata_mut/4P23_CD_AB_ED78A_1.pkl\n",
            "Loading traindata_mut/3S9D_A_B_AA116G_1.pkl\n",
            "Loading traindata_mut/1SGY_E_I_YI13L_1.pkl\n",
            "Loading traindata_mut/1EAW_A_B_DA46A_1.pkl\n",
            "Loading traindata_mut/1DQJ_AB_C_KC96A_1.pkl\n",
            "Loading traindata_mut/1P6A_A_B_YA87S_1.pkl\n",
            "Loading traindata_mut/1DQJ_AB_C_NA31A_1.pkl\n",
            "Loading traindata_mut/2PCC_A_B_EA290A_1.pkl\n",
            "Loading traindata_mut/4P5T_CD_AB_ED67A_1.pkl\n",
            "Loading traindata_mut/3QDG_ABC_DE_DD26W_1.pkl\n",
            "Loading traindata_mut/2HLE_A_B_LA87R_1.pkl\n",
            "Loading traindata_mut/1XGU_AB_C_FB33A_1.pkl\n",
            "Loading traindata_mut/1CBW_FGH_I_KI15A_1.pkl\n",
            "Loading traindata_mut/1CSO_E_I_II13L_1.pkl\n",
            "Loading traindata_mut/1JCK_A_B_VB91A_1.pkl\n",
            "Loading traindata_mut/3QDJ_ABC_DE_AC2L_1.pkl\n",
            "Loading traindata_mut/1CBW_FGH_I_GI36A_1.pkl\n",
            "Loading traindata_mut/2BDN_HL_A_NH28Q_1.pkl\n",
            "Loading traindata_mut/1SGP_E_I_AI13L_1.pkl\n",
            "Loading traindata_mut/3BK3_A_C_AC37R_1.pkl\n",
            "Loading traindata_mut/1XGT_AB_C_LB33F_1.pkl\n",
            "Loading traindata_mut/1AO7_ABC_DE_AA150G_1.pkl\n",
            "Loading traindata_mut/1VFB_AB_C_DB58A_1.pkl\n",
            "Loading traindata_mut/4L3E_ABC_DE_ND52A_1.pkl\n",
            "Loading traindata_mut/1JRH_LH_I_EI45P_1.pkl\n",
            "Loading traindata_mut/3EQS_A_B_LB10A_1.pkl\n",
            "Loading traindata_mut/1XGU_AB_C_FB33I_1.pkl\n",
            "Loading traindata_mut/1BD2_ABC_DE_RA65A_1.pkl\n",
            "Loading traindata_mut/2KSO_A_B_KA49E_1.pkl\n",
            "Loading traindata_mut/4B0M_A_BM_PM99S_1.pkl\n",
            "Loading traindata_mut/4CVW_A_C_LC34W_1.pkl\n",
            "Loading traindata_mut/1AO7_ABC_DE_AA150P_1.pkl\n",
            "Loading traindata_mut/3HFM_HL_Y_KY96A_1.pkl\n",
            "Loading traindata_mut/2NU4_E_I_KI13L_1.pkl\n",
            "Loading traindata_mut/3SGB_E_I_AI9H_1.pkl\n",
            "Loading traindata_mut/4B0M_A_BM_PM98A_1.pkl\n",
            "Loading traindata_mut/1F47_A_B_IA8A_1.pkl\n",
            "Loading traindata_mut/2DVW_A_B_EA180A_1.pkl\n",
            "Loading traindata_mut/1XGT_AB_C_LB33V_1.pkl\n",
            "Loading traindata_mut/3S9D_A_B_AA116M_1.pkl\n",
            "Loading traindata_mut/1BJ1_HL_VW_YH27A_1.pkl\n",
            "Loading traindata_mut/3AAA_AB_C_KA248A_1.pkl\n",
            "Loading traindata_mut/4JGH_ABC_D_WD44A_1.pkl\n",
            "Loading traindata_mut/1IAR_A_B_EA19A_1.pkl\n",
            "Loading traindata_mut/3Q8D_A_E_RA202A_1.pkl\n",
            "Loading traindata_mut/3EQY_A_C_PC12A_1.pkl\n",
            "Loading traindata_mut/3W2D_A_HL_YA45F_1.pkl\n",
            "Loading traindata_mut/1GCQ_AB_C_PC18A_1.pkl\n",
            "Loading traindata_mut/1MI5_ABC_DE_GD92A_1.pkl\n",
            "Loading traindata_mut/1CHO_EFG_I_AI12H_1.pkl\n",
            "Loading traindata_mut/1CHO_EFG_I_AI12E_1.pkl\n",
            "Loading traindata_mut/1PPF_E_I_AI15I_1.pkl\n",
            "Loading traindata_mut/1JRH_LH_I_EI35Q_1.pkl\n",
            "Loading traindata_mut/3TGK_E_I_NE170D_1.pkl\n",
            "Loading traindata_mut/3QIB_ABP_CD_AA68G_1.pkl\n",
            "Loading traindata_mut/3SGB_E_I_AI9D_1.pkl\n",
            "Loading traindata_mut/3Q8D_A_E_RA209A_1.pkl\n",
            "Loading traindata_mut/3LNZ_A_B_AB8N_1.pkl\n",
            "Loading traindata_mut/4FTV_ABC_DE_QE101R_1.pkl\n",
            "Loading traindata_mut/1BRS_A_D_EA71C_1.pkl\n",
            "Loading traindata_mut/4N8V_G_ABC_YG124A_1.pkl\n",
            "Loading traindata_mut/3EQS_A_B_EB5A_1.pkl\n",
            "Loading traindata_mut/1XGQ_AB_C_VB33A_1.pkl\n",
            "Loading traindata_mut/2OOB_A_B_AA9E_1.pkl\n",
            "Loading traindata_mut/1BD2_ABC_DE_YC5W_1.pkl\n",
            "Loading traindata_mut/4P5T_CD_AB_ED77A_1.pkl\n",
            "Loading traindata_mut/2BNR_ABC_DE_AA69G_1.pkl\n",
            "Loading traindata_mut/3SF4_A_D_WD8A_1.pkl\n",
            "Loading traindata_mut/4P5T_CD_AB_DD84A_1.pkl\n",
            "Loading traindata_mut/3EQS_A_B_SB11A_1.pkl\n",
            "Loading traindata_mut/1R0R_E_I_AI10F_1.pkl\n",
            "Loading traindata_mut/1GCQ_AB_C_GC21V_1.pkl\n",
            "Loading traindata_mut/3BK3_A_C_IC28A_1.pkl\n",
            "Loading traindata_mut/2AK4_ABC_DE_LC5A_1.pkl\n",
            "Loading traindata_mut/2J12_A_B_SA116A_1.pkl\n",
            "Loading traindata_mut/2HLE_A_B_KA141Q_1.pkl\n",
            "Loading traindata_mut/2C0L_A_B_NA48A_1.pkl\n",
            "Loading traindata_mut/4FTV_ABC_DE_KD66A_1.pkl\n",
            "Loading traindata_mut/3MZW_A_B_NB18A_1.pkl\n",
            "Loading traindata_mut/1LFD_A_B_DA45K_1.pkl\n",
            "Loading traindata_mut/3HFM_HL_Y_NL31A_1.pkl\n",
            "Loading traindata_mut/3MZG_A_B_HA14A_1.pkl\n",
            "Loading traindata_mut/4JFF_ABC_DE_GC4A_1.pkl\n",
            "Loading traindata_mut/4OZG_ABJ_GH_DH98A_1.pkl\n",
            "Loading traindata_mut/2AK4_ABC_DE_EA161A_1.pkl\n",
            "Loading traindata_mut/4N8V_G_ABC_YG39F_1.pkl\n",
            "Loading traindata_mut/1CBW_FGH_I_KI46A_1.pkl\n",
            "Loading traindata_mut/1S1Q_A_B_FA42A_1.pkl\n",
            "Loading traindata_mut/1PPF_E_I_AI15H_1.pkl\n",
            "Loading traindata_mut/1JTG_A_B_FB142A_1.pkl\n",
            "Loading traindata_mut/4P5T_CD_AB_ED2A_1.pkl\n",
            "Loading traindata_mut/1BRS_A_D_DD35A_1.pkl\n",
            "Loading traindata_mut/1MLC_AB_E_NA32G_1.pkl\n",
            "Loading traindata_mut/3C60_CD_AB_ED69A_1.pkl\n",
            "Loading traindata_mut/4CVW_A_C_DA720R_1.pkl\n",
            "Loading traindata_mut/1BJ1_HL_VW_HH101Y_1.pkl\n",
            "Loading traindata_mut/1GCQ_AB_C_WC47Y_1.pkl\n",
            "Loading traindata_mut/1S1Q_A_B_NA43A_1.pkl\n",
            "Loading traindata_mut/2BDN_HL_A_LH27K_1.pkl\n",
            "Loading traindata_mut/4N8V_G_ABC_PG10A_1.pkl\n",
            "Loading traindata_mut/2BNR_ABC_DE_HA151A_1.pkl\n",
            "Loading traindata_mut/1F5R_A_I_KA129Q_1.pkl\n",
            "Loading traindata_mut/4CVW_A_C_DA720W_1.pkl\n",
            "Loading traindata_mut/2PCC_A_B_AB86G_1.pkl\n",
            "Loading traindata_mut/3SGB_E_I_AI9G_1.pkl\n",
            "Loading traindata_mut/1CT0_E_I_SI13L_1.pkl\n",
            "Loading traindata_mut/3MZW_A_B_NB18T_1.pkl\n",
            "Loading traindata_mut/2KSO_A_B_HB20E_1.pkl\n",
            "Loading traindata_mut/2AK4_ABC_DE_EA154A_1.pkl\n",
            "Loading traindata_mut/1DQJ_AB_C_KC97A_1.pkl\n",
            "Loading traindata_mut/2GOX_A_B_NB38A_1.pkl\n",
            "Loading traindata_mut/1IAR_A_B_FA82D_1.pkl\n",
            "Loading traindata_mut/1VFB_AB_C_DC18A_1.pkl\n",
            "Loading traindata_mut/3SF4_A_D_NA264R_1.pkl\n",
            "Loading traindata_mut/2J1K_C_T_GC10D_1.pkl\n",
            "Loading traindata_mut/3HH2_AB_C_IC51A_1.pkl\n",
            "Loading traindata_mut/1MLC_AB_E_KB65D_1.pkl\n",
            "Loading traindata_mut/1CBW_FGH_I_PI13A_1.pkl\n",
            "Loading traindata_mut/1AO7_ABC_DE_AA158G_1.pkl\n",
            "Loading traindata_mut/1MI5_ABC_DE_DD29A_1.pkl\n",
            "Loading traindata_mut/3M62_A_B_EA55A_1.pkl\n",
            "Loading traindata_mut/3M63_A_B_LA50A_1.pkl\n",
            "Loading traindata_mut/4L3E_ABC_DE_EA166A_1.pkl\n",
            "Loading traindata_mut/3BP8_A_C_FA115A_1.pkl\n",
            "Loading traindata_mut/3QIB_ABP_CD_AB71G_1.pkl\n",
            "Loading traindata_mut/1BJ1_HL_VW_TH28D_1.pkl\n",
            "Loading traindata_mut/3C60_CD_AB_DD13A_1.pkl\n",
            "Loading traindata_mut/1PPF_E_I_AI15D_1.pkl\n",
            "Loading traindata_mut/3QDJ_ABC_DE_FE97Y_1.pkl\n",
            "Loading traindata_mut/1SBB_A_B_LB20T_1.pkl\n",
            "Loading traindata_mut/1PPF_E_I_AI15C_1.pkl\n",
            "Loading traindata_mut/3S9D_A_B_AB67M_1.pkl\n",
            "Loading traindata_mut/1PPF_E_I_AI15F_1.pkl\n",
            "Loading traindata_mut/1LFD_A_B_DA43A_1.pkl\n",
            "Loading traindata_mut/3M63_A_B_DA46A_1.pkl\n",
            "Loading traindata_mut/3EQS_A_B_FB3A_1.pkl\n",
            "Loading traindata_mut/4I77_HL_Z_WH52A_1.pkl\n",
            "Loading traindata_mut/3M63_A_B_FA113A_1.pkl\n",
            "Loading traindata_mut/1XGP_AB_C_AB33L_1.pkl\n",
            "Loading traindata_mut/2J8U_ABC_EF_AA66K_1.pkl\n",
            "Loading traindata_mut/1XGQ_AB_C_VB33L_1.pkl\n",
            "Loading traindata_mut/4P23_CD_AB_ED2A_1.pkl\n",
            "Loading traindata_mut/1PPF_E_I_AI15G_1.pkl\n",
            "Loading traindata_mut/2PCC_A_B_KB77A_1.pkl\n",
            "Loading traindata_mut/3Q8D_A_E_RA12A_1.pkl\n",
            "Loading traindata_mut/2DVW_A_B_KA114A_1.pkl\n",
            "Loading traindata_mut/2AK4_ABC_DE_LA163A_1.pkl\n",
            "Loading traindata_mut/3SF4_A_D_ED19R_1.pkl\n",
            "Loading traindata_mut/1JTG_A_B_EA85A_1.pkl\n",
            "Loading traindata_mut/1PPF_E_I_AI15E_1.pkl\n",
            "Loading traindata_mut/1OGA_ABC_DE_DE28A_1.pkl\n",
            "Loading traindata_mut/3HH2_AB_C_VC15E_1.pkl\n",
            "Loading traindata_mut/1XGT_AB_C_LB33A_1.pkl\n",
            "Loading traindata_mut/3EQY_A_C_FC3A_1.pkl\n",
            "Loading traindata_mut/3W2D_A_HL_KA67R_1.pkl\n",
            "Loading traindata_mut/3QIB_ABP_CD_EA75A_1.pkl\n",
            "Loading traindata_mut/1BD2_ABC_DE_YC5F_1.pkl\n",
            "Loading traindata_mut/4P5T_CD_AB_DD13A_1.pkl\n",
            "Loading traindata_mut/1F47_A_B_DA7A_1.pkl\n",
            "Loading traindata_mut/3HH2_AB_C_FC52A_1.pkl\n",
            "Loading traindata_mut/2BDN_HL_A_NL31K_1.pkl\n",
            "Loading traindata_mut/4B0M_A_BM_PM98S_1.pkl\n",
            "Loading traindata_mut/1JRH_LH_I_DH57A_1.pkl\n",
            "Loading traindata_mut/1DQJ_AB_C_DB32A_1.pkl\n",
            "Loading traindata_mut/3HH2_AB_C_IC51E_1.pkl\n",
            "Loading traindata_mut/1F47_A_B_DA7G_1.pkl\n",
            "Loading traindata_mut/1SGQ_E_I_GI13L_1.pkl\n",
            "Loading traindata_mut/1DQJ_AB_C_NA32A_1.pkl\n",
            "Loading traindata_mut/1XGU_AB_C_FB33V_1.pkl\n",
            "Loading traindata_mut/4HFK_A_BD_SB48A_1.pkl\n",
            "Loading traindata_mut/1GCQ_AB_C_PC67A_1.pkl\n",
            "Loading traindata_mut/3EQY_A_C_NC8A_1.pkl\n",
            "Loading traindata_mut/1JRH_LH_I_EI45A_1.pkl\n",
            "Loading traindata_mut/3QDJ_ABC_DE_DD26W_1.pkl\n",
            "Loading traindata_mut/1CBW_FGH_I_II19A_1.pkl\n",
            "Loading traindata_mut/1GCQ_AB_C_AC42G_1.pkl\n",
            "Loading traindata_mut/2PCC_A_B_DA34A_1.pkl\n"
          ]
        }
      ]
    },
    {
      "cell_type": "markdown",
      "metadata": {
        "id": "-eZ7gK40AjwT"
      },
      "source": [
        "#### 2.3 Split data into train and test sets"
      ]
    },
    {
      "cell_type": "code",
      "metadata": {
        "colab": {
          "base_uri": "https://localhost:8080/"
        },
        "id": "-h_S52pbAkB5",
        "outputId": "e7ae8915-2da7-437b-df0e-58ebfbc5486b"
      },
      "source": [
        "seed(int(np.round(np.random.random()*10)))\n",
        "X_train, X_test, y_train, y_test = train_test_split(X, y, test_size=0.3, random_state=4)\n",
        "del X, y\n",
        "print(X_test.shape)"
      ],
      "execution_count": null,
      "outputs": [
        {
          "output_type": "stream",
          "name": "stdout",
          "text": [
            "(60, 2, 24, 24, 24, 170)\n"
          ]
        }
      ]
    },
    {
      "cell_type": "markdown",
      "metadata": {
        "id": "xlrUMY1OArrm"
      },
      "source": [
        "#### 2.4 Training Process"
      ]
    },
    {
      "cell_type": "code",
      "metadata": {
        "id": "YfZzLtDmAq1-"
      },
      "source": [
        "num_epochs = 20\n",
        "batch_size = 10\n",
        "v_dim = 24\n",
        "n_features = 167+3"
      ],
      "execution_count": null,
      "outputs": []
    },
    {
      "cell_type": "code",
      "metadata": {
        "colab": {
          "base_uri": "https://localhost:8080/"
        },
        "id": "DovbF7LXA3zt",
        "outputId": "1250040c-300d-4749-9ab9-e95533ba0464"
      },
      "source": [
        "input_shape=(v_dim,v_dim,v_dim,n_features)\n",
        "model = get_siamese_model(input_shape)\n",
        "\n",
        "# --------------------------------------\n",
        "# Training\n",
        "# --------------------------------------\n",
        "history = model.fit([X_train[:,0], X_train[:,1]], y_train, # Train the model using the training set...\n",
        "                    batch_size=batch_size, epochs=num_epochs,\n",
        "                    verbose=1, validation_split=0.3) # ...holding out 30% of the data for validation"
      ],
      "execution_count": null,
      "outputs": [
        {
          "output_type": "stream",
          "name": "stderr",
          "text": [
            "/usr/local/lib/python3.7/dist-packages/keras/optimizer_v2/optimizer_v2.py:356: UserWarning: The `lr` argument is deprecated, use `learning_rate` instead.\n",
            "  \"The `lr` argument is deprecated, use `learning_rate` instead.\")\n"
          ]
        },
        {
          "output_type": "stream",
          "name": "stdout",
          "text": [
            "Model: \"model\"\n",
            "__________________________________________________________________________________________________\n",
            "Layer (type)                    Output Shape         Param #     Connected to                     \n",
            "==================================================================================================\n",
            "input_1 (InputLayer)            [(None, 24, 24, 24,  0                                            \n",
            "__________________________________________________________________________________________________\n",
            "input_2 (InputLayer)            [(None, 24, 24, 24,  0                                            \n",
            "__________________________________________________________________________________________________\n",
            "sequential (Sequential)         (None, 10)           104260      input_1[0][0]                    \n",
            "                                                                 input_2[0][0]                    \n",
            "__________________________________________________________________________________________________\n",
            "lambda (Lambda)                 (None, 10)           0           sequential[0][0]                 \n",
            "                                                                 sequential[1][0]                 \n",
            "__________________________________________________________________________________________________\n",
            "dense_1 (Dense)                 (None, 1)            11          lambda[0][0]                     \n",
            "==================================================================================================\n",
            "Total params: 104,271\n",
            "Trainable params: 104,091\n",
            "Non-trainable params: 180\n",
            "__________________________________________________________________________________________________\n",
            "Epoch 1/20\n",
            "10/10 [==============================] - 36s 499ms/step - loss: 3.4901 - val_loss: 5.2253\n",
            "Epoch 2/20\n",
            "10/10 [==============================] - 2s 257ms/step - loss: 2.2001 - val_loss: 5.2024\n",
            "Epoch 3/20\n",
            "10/10 [==============================] - 3s 259ms/step - loss: 0.9768 - val_loss: 5.1550\n",
            "Epoch 4/20\n",
            "10/10 [==============================] - 3s 262ms/step - loss: 0.5298 - val_loss: 5.1191\n",
            "Epoch 5/20\n",
            "10/10 [==============================] - 3s 258ms/step - loss: 0.3714 - val_loss: 5.0993\n",
            "Epoch 6/20\n",
            "10/10 [==============================] - 3s 260ms/step - loss: 0.3294 - val_loss: 5.0892\n",
            "Epoch 7/20\n",
            "10/10 [==============================] - 3s 256ms/step - loss: 0.3058 - val_loss: 5.0746\n",
            "Epoch 8/20\n",
            "10/10 [==============================] - 3s 256ms/step - loss: 0.3099 - val_loss: 5.0574\n",
            "Epoch 9/20\n",
            "10/10 [==============================] - 2s 254ms/step - loss: 0.3095 - val_loss: 5.0543\n",
            "Epoch 10/20\n",
            "10/10 [==============================] - 3s 257ms/step - loss: 0.3197 - val_loss: 5.0556\n",
            "Epoch 11/20\n",
            "10/10 [==============================] - 3s 259ms/step - loss: 0.3306 - val_loss: 4.9964\n",
            "Epoch 12/20\n",
            "10/10 [==============================] - 3s 259ms/step - loss: 0.3356 - val_loss: 5.0653\n",
            "Epoch 13/20\n",
            "10/10 [==============================] - 3s 258ms/step - loss: 0.3771 - val_loss: 5.0494\n",
            "Epoch 14/20\n",
            "10/10 [==============================] - 3s 261ms/step - loss: 0.3831 - val_loss: 4.9914\n",
            "Epoch 15/20\n",
            "10/10 [==============================] - 2s 253ms/step - loss: 0.3262 - val_loss: 4.9688\n",
            "Epoch 16/20\n",
            "10/10 [==============================] - 3s 261ms/step - loss: 0.3711 - val_loss: 4.9777\n",
            "Epoch 17/20\n",
            "10/10 [==============================] - 3s 258ms/step - loss: 0.3263 - val_loss: 4.9705\n",
            "Epoch 18/20\n",
            "10/10 [==============================] - 2s 253ms/step - loss: 0.3116 - val_loss: 4.9671\n",
            "Epoch 19/20\n",
            "10/10 [==============================] - 3s 256ms/step - loss: 0.3010 - val_loss: 4.9980\n",
            "Epoch 20/20\n",
            "10/10 [==============================] - 3s 259ms/step - loss: 0.3028 - val_loss: 4.9483\n"
          ]
        }
      ]
    },
    {
      "cell_type": "code",
      "metadata": {
        "colab": {
          "base_uri": "https://localhost:8080/",
          "height": 652
        },
        "id": "78bPecgkBsBY",
        "outputId": "915d5a3e-409f-4117-d6cb-db908a561518"
      },
      "source": [
        "# --------------------------------------\n",
        "# Loss functions evolution\n",
        "# --------------------------------------\n",
        "plt.figure(figsize=(10,10))\n",
        "plt.rcParams.update({'font.size': 22})\n",
        "plt.plot(history.history['loss'])\n",
        "plt.plot(history.history['val_loss'])\n",
        "plt.title('Model loss by epoch')\n",
        "plt.ylabel('loss')\n",
        "plt.xlabel('epoch')\n",
        "plt.legend(['train', 'valid'], loc='right')\n",
        "plt.show()"
      ],
      "execution_count": null,
      "outputs": [
        {
          "output_type": "display_data",
          "data": {
            "image/png": "[encoded data removed]",
            "text/plain": [
              "<Figure size 720x720 with 1 Axes>"
            ]
          },
          "metadata": {
            "needs_background": "light"
          }
        }
      ]
    },
    {
      "cell_type": "markdown",
      "metadata": {
        "id": "tqRPGfO3Buus"
      },
      "source": [
        "Question: Is this evaluation of the performance reliable?"
      ]
    },
    {
      "cell_type": "markdown",
      "metadata": {
        "id": "TgUjunFsByIC"
      },
      "source": [
        "#### 2.5 Let's take a look at the performance of the model on test samples."
      ]
    },
    {
      "cell_type": "code",
      "metadata": {
        "id": "g7EHKQjSCIOY"
      },
      "source": [
        "train_preds = model.predict([X_train[:,0], X_train[:,1]])\n",
        "test_preds = model.predict([X_test[:,0], X_test[:,1]])\n",
        "\n",
        "train_preds = np.array([x[0] for x in train_preds])\n",
        "test_preds = np.array([x[0] for x in test_preds])\n",
        "\n",
        "print(train_preds)\n",
        "print(test_preds)\n",
        "\n",
        "corr_pearson_train = stats.pearsonr(y_train, train_preds)\n",
        "corr_spearmanr_train = stats.spearmanr(y_train, train_preds)\n",
        "\n",
        "corr_pearson_test = stats.pearsonr(y_test, test_preds)\n",
        "corr_spearman_test = stats.spearmanr(y_test, test_preds)\n",
        "\n",
        "print('corr_pearson_train', corr_pearson_train)\n",
        "print('corr_spearmanr_train',corr_spearmanr_train)\n",
        "print('corr_pearson_test', corr_pearson_test)\n",
        "print('corr_spearman_test', corr_spearman_test)\n",
        "\n",
        "plt.rcParams.update({'font.size': 24})\n",
        "plt.figure(figsize=(12,12))\n",
        "plt.scatter(y_train, train_preds, color = 'red', marker = 'o', label = 'Train', alpha=0.5)\n",
        "plt.scatter(y_test, test_preds, color = 'blue', marker = 's', label = 'Test', alpha=0.5)\n",
        "plt.xlabel('Experimental ddg', fontsize=24)\n",
        "plt.ylabel('Predicted ddg', fontsize=24)\n",
        "plt.legend(fontsize=24)\n",
        "plt.tight_layout()\n",
        "plt.show()"
      ],
      "execution_count": null,
      "outputs": []
    },
    {
      "cell_type": "markdown",
      "metadata": {
        "id": "1xfbAWO8df-H"
      },
      "source": [
        "#### 2.5 Not enough time and data for training? Download the pre-trained Siamese model."
      ]
    },
    {
      "cell_type": "code",
      "metadata": {
        "colab": {
          "base_uri": "https://localhost:8080/"
        },
        "id": "SmYxxm8IKNve",
        "outputId": "b5af5899-5c6d-4bef-e99e-1d24d524fd0f"
      },
      "source": [
        "!gdown --id '1A7IDHWMo9ph67Kf6jQpGlxkNwDKY5y8s'"
      ],
      "execution_count": null,
      "outputs": [
        {
          "output_type": "stream",
          "name": "stdout",
          "text": [
            "Downloading...\n",
            "From: https://drive.google.com/uc?id=1A7IDHWMo9ph67Kf6jQpGlxkNwDKY5y8s\n",
            "To: /content/model_s.zip\n",
            "\r  0% 0.00/1.22M [00:00<?, ?B/s]\r100% 1.22M/1.22M [00:00<00:00, 39.6MB/s]\n"
          ]
        }
      ]
    },
    {
      "cell_type": "markdown",
      "metadata": {
        "id": "ZVMSVFLhdmi4"
      },
      "source": [
        "Decompress the model and load it."
      ]
    },
    {
      "cell_type": "code",
      "metadata": {
        "colab": {
          "base_uri": "https://localhost:8080/"
        },
        "id": "vXWXNQr-yH6C",
        "outputId": "763a1f2e-aa1a-493f-c427-1f567402137b"
      },
      "source": [
        "!unzip '/content/model_s.zip'\n",
        "model_s = load_model('/content/model_s')"
      ],
      "execution_count": null,
      "outputs": [
        {
          "output_type": "stream",
          "name": "stdout",
          "text": [
            "Archive:  /content/model_s.zip\n",
            "replace model_s/saved_model.pb? [y]es, [n]o, [A]ll, [N]one, [r]ename: A\n",
            "  inflating: model_s/saved_model.pb  \n",
            "  inflating: model_s/variables/variables.data-00000-of-00001  \n",
            "  inflating: model_s/variables/variables.index  \n",
            "WARNING:tensorflow:SavedModel saved prior to TF 2.5 detected when loading Keras model. Please ensure that you are saving the model with model.save() or tf.keras.models.save_model(), *NOT* tf.saved_model.save(). To confirm, there should be a file named \"keras_metadata.pb\" in the SavedModel directory.\n"
          ]
        }
      ]
    },
    {
      "cell_type": "code",
      "metadata": {
        "colab": {
          "base_uri": "https://localhost:8080/",
          "height": 987
        },
        "id": "sqwvcJLEC57H",
        "outputId": "951b5287-ef78-40b1-edb5-725776af0a36"
      },
      "source": [
        "test_preds = model_s.predict([X_test[:,0], X_test[:,1]])\n",
        "test_preds = np.array([x[0] for x in test_preds])\n",
        "print(test_preds)\n",
        "\n",
        "corr_pearson_test = stats.pearsonr(y_test, test_preds)\n",
        "corr_spearman_test = stats.spearmanr(y_test, test_preds)\n",
        "\n",
        "print('corr_pearson_test', corr_pearson_test)\n",
        "print('corr_spearman_test', corr_spearman_test)\n",
        "\n",
        "plt.rcParams.update({'font.size': 24})\n",
        "plt.figure(figsize=(12,12))\n",
        "plt.scatter(y_test, test_preds, color = 'blue', marker = 's', label = 'Test', alpha=0.5)\n",
        "plt.xlabel('Experimental ddg', fontsize=24)\n",
        "plt.ylabel('Predicted ddg', fontsize=24)\n",
        "plt.legend(fontsize=24)\n",
        "plt.tight_layout()\n",
        "plt.show()"
      ],
      "execution_count": null,
      "outputs": [
        {
          "output_type": "stream",
          "name": "stdout",
          "text": [
            "[ 0.5043654   0.25568426  1.015781    0.2584414   0.5654919   1.4472445\n",
            "  1.6000704   0.6397467   0.27413025  0.6593057   1.0195055   1.3574998\n",
            "  0.02613357  0.3827055   0.7561548  -0.3691246   0.20663838  0.7558267\n",
            "  0.9479561   0.33600733  0.03402182  1.0790821   0.7150049   0.7484188\n",
            "  0.74892783  0.3749216  -0.09472203  2.0023808   0.88130844  2.0103376\n",
            "  0.25115526  0.26575267  1.2830652   0.5178169 ]\n",
            "corr_pearson_test (0.0919513472132232, 0.6050116651786398)\n",
            "corr_spearman_test SpearmanrResult(correlation=0.2501145912910619, pvalue=0.15368193577304512)\n"
          ]
        },
        {
          "output_type": "display_data",
          "data": {
            "image/png": "[encoded data removed]",
            "text/plain": [
              "<Figure size 864x864 with 1 Axes>"
            ]
          },
          "metadata": {
            "needs_background": "light"
          }
        }
      ]
    },
    {
      "cell_type": "markdown",
      "metadata": {
        "id": "0JEHCrDsXIBN"
      },
      "source": [
        "Designed by Yasser MOHSENI BEHBAHANI, LCQB, Sorbonne Université, 2021\n",
        "\n",
        "<img src='https://drive.google.com/uc?id=1shvaqXgnRa2aCji30gJ02hwI_Ux6NEp6'>\n"
      ]
    }
  ]
}