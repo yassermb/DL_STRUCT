{
  "nbformat": 4,
  "nbformat_minor": 0,
  "metadata": {
    "colab": {
      "provenance": []
    },
    "kernelspec": {
      "display_name": "Python 3",
      "name": "python3"
    },
    "language_info": {
      "name": "python"
    },
    "accelerator": "GPU"
  },
  "cells": [
    {
      "cell_type": "markdown",
      "metadata": {
        "id": "4n-R2VfKapz8"
      },
      "source": [
        "# DEEP LEARNING FOR PROTEIN STRUCTURES (Part 3)"
      ]
    },
    {
      "cell_type": "markdown",
      "metadata": {
        "id": "ZGJS4u0penv3"
      },
      "source": [
        "## Protein protein interactions"
      ]
    },
    {
      "cell_type": "markdown",
      "metadata": {
        "id": "0KLoh58Krofd"
      },
      "source": [
        "### 1. Introduction\n",
        "**Protein-protein interactions (PPI) drive virtually all biological processes in living organisms and are necessary for cellular machinery.**\n",
        "\n",
        "In order to perform various functions in living organisms two or more proteins gather and interact with each other to create a protein complex. The resulted quaternary structure is an association of two or more peptide chains linked to each other by molecular interactions. These protein-protein interactions drives the biological processes in the cell. A protein has high propensity to interact with some proteins which are considered as its potential partners."
      ]
    },
    {
      "cell_type": "markdown",
      "metadata": {
        "id": "-Tx8Oi8Brv98"
      },
      "source": [
        "### 2. Binding affinity\n",
        "Binding affinity is a variable defined to numerically measure the propensity and the strength of the binding interaction between two bio-molecule partners.\n",
        "\n",
        "<img src='https://drive.google.com/uc?id=13GHoH4p0BR9Qq4ETZ7kU-AJehH8PJFuV'>\n",
        "\n",
        "From chemical point of view the binding affinity is also expressed as dissociation constant ($K_d$) which is a disposition of a chemical complex in its equilibrium concentration to dissociate into its molecular components. In molecular biology, association constant ($K_a=\\frac{1}{K_d}$) is used to measure the propensity of binding between two molecules. This constant is defined below:\n",
        "\n",
        "$\n",
        " P_1 + P_2 \\rightleftharpoons P_1P_2 \\\\\n",
        " K_a = \\frac{1}{K_d} = \\frac{[P_1P_2]}{[P_1] \\times [P_2]}\n",
        "$\n",
        "\n",
        "where $[P_1]$, $[P_2]$, and $[P_1P_2]$ are the equilibrium concentrations of $P_1$, $P_2$, and protein complex $P_1P_2$, respectively. The larger the $K_a$ value, the greater the binding affinity between $[P_1]$ and $[P_2]$. The smaller the $K_a$ value, the more weakly $[P_1]$ and $[P_2]$ are drawn to and interact with each other. Association constant can be converted to the Gibbs free energy $\\Delta$G using the equation below:\n",
        "\n",
        "\n",
        "$\n",
        "\\Delta G = R \\times T \\times \\ln{(K_d)} = \\Delta H -T\\Delta S\n",
        "$\n",
        "\n",
        "where $R=\\frac{8.314}{4184}\\frac{kcal}{K \\times mol}$ is the ideal gas constant or Boltzmann constant, $T$ is the absolute (thermodynamic) temperature, $H$ is enthalpy, and $S$ is entropy. Henceforth in this tutorial we will use $\\Delta$G as the representation of binding affinity between two proteins.\n",
        "\n",
        "<img src='https://drive.google.com/uc?id=1UO_XdL9g0Bb7ZzCSBLWluCXkdsu9LT5S' height='600'>\n",
        "\n",
        "*This figure is generated in the Analytical Genomics team*\n",
        "\n",
        "\n"
      ]
    },
    {
      "cell_type": "markdown",
      "metadata": {
        "id": "1GPLTmCbe2Q5"
      },
      "source": [
        "## Mutations"
      ]
    },
    {
      "cell_type": "markdown",
      "metadata": {
        "id": "-xPkrYfhHCZz"
      },
      "source": [
        "### 1. Introduction\n",
        "**Disease-causing point mutations on a protein interface affect the protein ability to interact with its partners in the cell. Hence, it becomes crucial to develop systematic and accurate approaches assessing the impact of mutations on the formation and stability of protein complexes.**\n",
        "\n",
        "Mutations happen when DNA fails to accurately replicate itself or the tissues and organs are exposed to specific external agents such as certain chemicals or radiation. In these cases single nucleotide base is substituted, inserted, or deleted in the DNA or RNA molecule. If one nucleotide base is replaced by another in a gene, the resulted mRNA has one nucleotide substitution in its molecule. Consequently, ribosome might choose another amino acid for the triplet in which the mutation happened. If the amino acid does not change for the mutant triplet the mutation is synonymous (or silent) otherwise it is non-synonymous. The non-synonymous mutations might lead to changes in the biological mechanism of a living organism and are therefore subject to the natural selection. For example, they can be deleterious and disturb the cell machinery.\n",
        "\n",
        "The non-synonymous mutations that happen on a protein's interaction surface can affect the interaction process between protein and its potential partners. In this scenario the more physico-chemical properties of mutant amino acid differ from the wild-type's the more the binding affinity is influenced.\n",
        "\n",
        "This type of genetic mutation is called single point mutation. A mutant protein structure might have multiple point mutations in which several amino acids are altered. Although there are various types of mutation, in this tutorial we are interested to study the effects of this type of mutation on the protein-protein interactions and how it influences the binding affinity. An examples of single point mutation is given below. In this mutation both wild-type and mutant amino acids, Tryptophan (Trp or W) and Alanine (Ala or A), have the hydrophobic (non-polar) side-chains. However, the size of side-chain is dramatically changed and if it happens on the interaction surface it can affect the geometrical properties of the binding site.\n",
        "\n",
        "<img src='https://drive.google.com/uc?id=14uctEuqovX6laWf6MI1pWEbLPppoXC2t'>\n",
        "\n",
        "<br>\n",
        "<br>\n",
        "Below is another example on how a point mutation from Alanine to Glutamic\n",
        "Acid affects geometrical and chemical properties of an\n",
        "interaction surface.\n",
        "\n",
        "<img src='https://drive.google.com/uc?id=1kVKrWtMMAM4zgD3jc4jVG5QlhlIeyWyw'>"
      ]
    },
    {
      "cell_type": "markdown",
      "metadata": {
        "id": "zkfrebhkvLHj"
      },
      "source": [
        "### 2. How do mutations reshape the protein-protein interaction networks?\n",
        "\n",
        "<img src='https://drive.google.com/uc?id=1jWRaxlEwSEYQAld1CT79waFMUZp5Y10n'>\n"
      ]
    },
    {
      "cell_type": "markdown",
      "metadata": {
        "id": "nS-MmHAjIQTJ"
      },
      "source": [
        "### 3. What are the challenges in measuring effects of mutations?\n",
        "1. Reconstruction of the mutant protein complex after mutagenesis.\n",
        "2. Identification of fine descriptors for the prediction of changes in binding affinity."
      ]
    },
    {
      "cell_type": "markdown",
      "metadata": {
        "id": "Y1PbqjJAIYT1"
      },
      "source": [
        "### 4. Mutant protein complex\n",
        "Following single point mutation the side-chain orientation angles ($\\chi_1$,$\\chi_2$,$\\chi_3$, ...) of the mutant amino acid are unknown. Furthermore, the backbone of the protein is subject to slight movements in response to point mutation-induced changes. Therefore, we need to consider the effects of the mutant amino acid on the backbone torsion angles ($\\Phi$ and $\\Psi$). Using [Rosetta-Backrub](https://github.com/Kortemme-Lab/flex_ddG_tutorial) we can explore near-native conformational fluctuations of a protein and to compute an enhanced estimation on side-chain orientation angles of mutant amino acid and on backbone torsion angles.\n",
        "\n",
        "<img src='https://drive.google.com/uc?id=1DznHFE2ptx7uFa8-LQ8-_wf8zekLcU4h'>\n",
        "\n",
        "*Effects of point mutations on backbone.*\n"
      ]
    },
    {
      "cell_type": "markdown",
      "metadata": {
        "id": "ZFF4ZmDaI8pz"
      },
      "source": [
        "**Fetch a protein of your choice in Pymol and apply mutagenesis function to introduce mutations.**"
      ]
    },
    {
      "cell_type": "markdown",
      "metadata": {
        "id": "z123nO9ijeEs"
      },
      "source": [
        "### 5. Simulation of near-native conformational fluctuations\n",
        "<img src='https://drive.google.com/uc?id=1VfIJFBWLiyEgixPx6evolr5xBgWXVItw'>"
      ]
    },
    {
      "cell_type": "markdown",
      "metadata": {
        "id": "gTJVrBdalcVw"
      },
      "source": [
        "This is an example of near-native conformational fluctuations in which only the movement of backbone is shown.\n",
        "\n",
        "<img src='https://drive.google.com/uc?id=1MJwDHpXJUHtNepAkvDfmCZEeR16I1gDw'>\n",
        "\n",
        "*Complex: 5E9D*\n"
      ]
    },
    {
      "cell_type": "markdown",
      "metadata": {
        "id": "JQohXoLVmLXz"
      },
      "source": [
        "### 6. Case study: Complex 1BRS\n",
        "\n",
        "#### 6.1 Point mutations on 1BRS\n",
        "From database of changes of binding affinity [SKEMPI V2.0](https://life.bsc.es/pid/skempi2)"
      ]
    },
    {
      "cell_type": "code",
      "metadata": {
        "id": "s791IpNemkjr"
      },
      "source": [
        "import pandas as pd\n",
        "import numpy as np\n",
        "import seaborn as sns\n",
        "import matplotlib.pyplot as plt\n",
        "from IPython.display import HTML, display"
      ],
      "execution_count": null,
      "outputs": []
    },
    {
      "cell_type": "code",
      "metadata": {
        "colab": {
          "base_uri": "https://localhost:8080/",
          "height": 647
        },
        "id": "dy7FYGd7mnly",
        "outputId": "f0756b1a-0ccb-4173-fc0a-de7db3a20473"
      },
      "source": [
        "!gdown --id '1Q_1oy4KQuE1c7FS6b7vUTDSB8PShBy7A'\n",
        "mutations = pd.read_csv('1RBS_mudations.csv', sep=';')\n",
        "mutations[:15]"
      ],
      "execution_count": null,
      "outputs": [
        {
          "output_type": "stream",
          "name": "stdout",
          "text": [
            "/usr/local/lib/python3.10/dist-packages/gdown/__main__.py:140: FutureWarning: Option `--id` was deprecated in version 4.3.1 and will be removed in 5.0. You don't need to pass it anymore to use a file ID.\n",
            "  warnings.warn(\n",
            "Downloading...\n",
            "From: https://drive.google.com/uc?id=1Q_1oy4KQuE1c7FS6b7vUTDSB8PShBy7A\n",
            "To: /content/1RBS_mudations.csv\n",
            "100% 990/990 [00:00<00:00, 3.66MB/s]\n"
          ]
        },
        {
          "output_type": "execute_result",
          "data": {
            "text/plain": [
              "     Complex     Mutation   Region Method\n",
              "0   1BRS_A_D        DD35A      COR    ITC\n",
              "1   1BRS_A_D        DD35A      COR    SPR\n",
              "2   1BRS_A_D        DD39A      COR    ITC\n",
              "3   1BRS_A_D        DD39A      COR    SPR\n",
              "4   1BRS_A_D  EA71A,DD35A  SUP,COR    ITC\n",
              "5   1BRS_A_D  EA71A,DD39A  SUP,COR    ITC\n",
              "6   1BRS_A_D        EA71A      SUP    ITC\n",
              "7   1BRS_A_D        EA71C      SUP    ITC\n",
              "8   1BRS_A_D  EA71F,DD35A  SUP,COR    ITC\n",
              "9   1BRS_A_D  EA71F,DD39A  SUP,COR    ITC\n",
              "10  1BRS_A_D        EA71F      SUP    ITC\n",
              "11  1BRS_A_D  EA71Q,DD39A  SUP,COR    ITC\n",
              "12  1BRS_A_D  EA71Q,ED74A  SUP,RIM    ITC\n",
              "13  1BRS_A_D        EA71Q      SUP    ITC\n",
              "14  1BRS_A_D        EA71S      SUP    ITC"
            ],
            "text/html": [
              "\n",
              "  <div id=\"df-9fa8c07e-1b93-48c9-a19c-8359ea033cf0\" class=\"colab-df-container\">\n",
              "    <div>\n",
              "<style scoped>\n",
              "    .dataframe tbody tr th:only-of-type {\n",
              "        vertical-align: middle;\n",
              "    }\n",
              "\n",
              "    .dataframe tbody tr th {\n",
              "        vertical-align: top;\n",
              "    }\n",
              "\n",
              "    .dataframe thead th {\n",
              "        text-align: right;\n",
              "    }\n",
              "</style>\n",
              "<table border=\"1\" class=\"dataframe\">\n",
              "  <thead>\n",
              "    <tr style=\"text-align: right;\">\n",
              "      <th></th>\n",
              "      <th>Complex</th>\n",
              "      <th>Mutation</th>\n",
              "      <th>Region</th>\n",
              "      <th>Method</th>\n",
              "    </tr>\n",
              "  </thead>\n",
              "  <tbody>\n",
              "    <tr>\n",
              "      <th>0</th>\n",
              "      <td>1BRS_A_D</td>\n",
              "      <td>DD35A</td>\n",
              "      <td>COR</td>\n",
              "      <td>ITC</td>\n",
              "    </tr>\n",
              "    <tr>\n",
              "      <th>1</th>\n",
              "      <td>1BRS_A_D</td>\n",
              "      <td>DD35A</td>\n",
              "      <td>COR</td>\n",
              "      <td>SPR</td>\n",
              "    </tr>\n",
              "    <tr>\n",
              "      <th>2</th>\n",
              "      <td>1BRS_A_D</td>\n",
              "      <td>DD39A</td>\n",
              "      <td>COR</td>\n",
              "      <td>ITC</td>\n",
              "    </tr>\n",
              "    <tr>\n",
              "      <th>3</th>\n",
              "      <td>1BRS_A_D</td>\n",
              "      <td>DD39A</td>\n",
              "      <td>COR</td>\n",
              "      <td>SPR</td>\n",
              "    </tr>\n",
              "    <tr>\n",
              "      <th>4</th>\n",
              "      <td>1BRS_A_D</td>\n",
              "      <td>EA71A,DD35A</td>\n",
              "      <td>SUP,COR</td>\n",
              "      <td>ITC</td>\n",
              "    </tr>\n",
              "    <tr>\n",
              "      <th>5</th>\n",
              "      <td>1BRS_A_D</td>\n",
              "      <td>EA71A,DD39A</td>\n",
              "      <td>SUP,COR</td>\n",
              "      <td>ITC</td>\n",
              "    </tr>\n",
              "    <tr>\n",
              "      <th>6</th>\n",
              "      <td>1BRS_A_D</td>\n",
              "      <td>EA71A</td>\n",
              "      <td>SUP</td>\n",
              "      <td>ITC</td>\n",
              "    </tr>\n",
              "    <tr>\n",
              "      <th>7</th>\n",
              "      <td>1BRS_A_D</td>\n",
              "      <td>EA71C</td>\n",
              "      <td>SUP</td>\n",
              "      <td>ITC</td>\n",
              "    </tr>\n",
              "    <tr>\n",
              "      <th>8</th>\n",
              "      <td>1BRS_A_D</td>\n",
              "      <td>EA71F,DD35A</td>\n",
              "      <td>SUP,COR</td>\n",
              "      <td>ITC</td>\n",
              "    </tr>\n",
              "    <tr>\n",
              "      <th>9</th>\n",
              "      <td>1BRS_A_D</td>\n",
              "      <td>EA71F,DD39A</td>\n",
              "      <td>SUP,COR</td>\n",
              "      <td>ITC</td>\n",
              "    </tr>\n",
              "    <tr>\n",
              "      <th>10</th>\n",
              "      <td>1BRS_A_D</td>\n",
              "      <td>EA71F</td>\n",
              "      <td>SUP</td>\n",
              "      <td>ITC</td>\n",
              "    </tr>\n",
              "    <tr>\n",
              "      <th>11</th>\n",
              "      <td>1BRS_A_D</td>\n",
              "      <td>EA71Q,DD39A</td>\n",
              "      <td>SUP,COR</td>\n",
              "      <td>ITC</td>\n",
              "    </tr>\n",
              "    <tr>\n",
              "      <th>12</th>\n",
              "      <td>1BRS_A_D</td>\n",
              "      <td>EA71Q,ED74A</td>\n",
              "      <td>SUP,RIM</td>\n",
              "      <td>ITC</td>\n",
              "    </tr>\n",
              "    <tr>\n",
              "      <th>13</th>\n",
              "      <td>1BRS_A_D</td>\n",
              "      <td>EA71Q</td>\n",
              "      <td>SUP</td>\n",
              "      <td>ITC</td>\n",
              "    </tr>\n",
              "    <tr>\n",
              "      <th>14</th>\n",
              "      <td>1BRS_A_D</td>\n",
              "      <td>EA71S</td>\n",
              "      <td>SUP</td>\n",
              "      <td>ITC</td>\n",
              "    </tr>\n",
              "  </tbody>\n",
              "</table>\n",
              "</div>\n",
              "    <div class=\"colab-df-buttons\">\n",
              "\n",
              "  <div class=\"colab-df-container\">\n",
              "    <button class=\"colab-df-convert\" onclick=\"convertToInteractive('df-9fa8c07e-1b93-48c9-a19c-8359ea033cf0')\"\n",
              "            title=\"Convert this dataframe to an interactive table.\"\n",
              "            style=\"display:none;\">\n",
              "\n",
              "  <svg xmlns=\"http://www.w3.org/2000/svg\" height=\"24px\" viewBox=\"0 -960 960 960\">\n",
              "    <path d=\"M120-120v-720h720v720H120Zm60-500h600v-160H180v160Zm220 220h160v-160H400v160Zm0 220h160v-160H400v160ZM180-400h160v-160H180v160Zm440 0h160v-160H620v160ZM180-180h160v-160H180v160Zm440 0h160v-160H620v160Z\"/>\n",
              "  </svg>\n",
              "    </button>\n",
              "\n",
              "  <style>\n",
              "    .colab-df-container {\n",
              "      display:flex;\n",
              "      gap: 12px;\n",
              "    }\n",
              "\n",
              "    .colab-df-convert {\n",
              "      background-color: #E8F0FE;\n",
              "      border: none;\n",
              "      border-radius: 50%;\n",
              "      cursor: pointer;\n",
              "      display: none;\n",
              "      fill: #1967D2;\n",
              "      height: 32px;\n",
              "      padding: 0 0 0 0;\n",
              "      width: 32px;\n",
              "    }\n",
              "\n",
              "    .colab-df-convert:hover {\n",
              "      background-color: #E2EBFA;\n",
              "      box-shadow: 0px 1px 2px rgba(60, 64, 67, 0.3), 0px 1px 3px 1px rgba(60, 64, 67, 0.15);\n",
              "      fill: #174EA6;\n",
              "    }\n",
              "\n",
              "    .colab-df-buttons div {\n",
              "      margin-bottom: 4px;\n",
              "    }\n",
              "\n",
              "    [theme=dark] .colab-df-convert {\n",
              "      background-color: #3B4455;\n",
              "      fill: #D2E3FC;\n",
              "    }\n",
              "\n",
              "    [theme=dark] .colab-df-convert:hover {\n",
              "      background-color: #434B5C;\n",
              "      box-shadow: 0px 1px 3px 1px rgba(0, 0, 0, 0.15);\n",
              "      filter: drop-shadow(0px 1px 2px rgba(0, 0, 0, 0.3));\n",
              "      fill: #FFFFFF;\n",
              "    }\n",
              "  </style>\n",
              "\n",
              "    <script>\n",
              "      const buttonEl =\n",
              "        document.querySelector('#df-9fa8c07e-1b93-48c9-a19c-8359ea033cf0 button.colab-df-convert');\n",
              "      buttonEl.style.display =\n",
              "        google.colab.kernel.accessAllowed ? 'block' : 'none';\n",
              "\n",
              "      async function convertToInteractive(key) {\n",
              "        const element = document.querySelector('#df-9fa8c07e-1b93-48c9-a19c-8359ea033cf0');\n",
              "        const dataTable =\n",
              "          await google.colab.kernel.invokeFunction('convertToInteractive',\n",
              "                                                    [key], {});\n",
              "        if (!dataTable) return;\n",
              "\n",
              "        const docLinkHtml = 'Like what you see? Visit the ' +\n",
              "          '<a target=\"_blank\" href=https://colab.research.google.com/notebooks/data_table.ipynb>data table notebook</a>'\n",
              "          + ' to learn more about interactive tables.';\n",
              "        element.innerHTML = '';\n",
              "        dataTable['output_type'] = 'display_data';\n",
              "        await google.colab.output.renderOutput(dataTable, element);\n",
              "        const docLink = document.createElement('div');\n",
              "        docLink.innerHTML = docLinkHtml;\n",
              "        element.appendChild(docLink);\n",
              "      }\n",
              "    </script>\n",
              "  </div>\n",
              "\n",
              "\n",
              "<div id=\"df-bddef34b-a4aa-4539-8169-8d41cb233a23\">\n",
              "  <button class=\"colab-df-quickchart\" onclick=\"quickchart('df-bddef34b-a4aa-4539-8169-8d41cb233a23')\"\n",
              "            title=\"Suggest charts\"\n",
              "            style=\"display:none;\">\n",
              "\n",
              "<svg xmlns=\"http://www.w3.org/2000/svg\" height=\"24px\"viewBox=\"0 0 24 24\"\n",
              "     width=\"24px\">\n",
              "    <g>\n",
              "        <path d=\"M19 3H5c-1.1 0-2 .9-2 2v14c0 1.1.9 2 2 2h14c1.1 0 2-.9 2-2V5c0-1.1-.9-2-2-2zM9 17H7v-7h2v7zm4 0h-2V7h2v10zm4 0h-2v-4h2v4z\"/>\n",
              "    </g>\n",
              "</svg>\n",
              "  </button>\n",
              "\n",
              "<style>\n",
              "  .colab-df-quickchart {\n",
              "      --bg-color: #E8F0FE;\n",
              "      --fill-color: #1967D2;\n",
              "      --hover-bg-color: #E2EBFA;\n",
              "      --hover-fill-color: #174EA6;\n",
              "      --disabled-fill-color: #AAA;\n",
              "      --disabled-bg-color: #DDD;\n",
              "  }\n",
              "\n",
              "  [theme=dark] .colab-df-quickchart {\n",
              "      --bg-color: #3B4455;\n",
              "      --fill-color: #D2E3FC;\n",
              "      --hover-bg-color: #434B5C;\n",
              "      --hover-fill-color: #FFFFFF;\n",
              "      --disabled-bg-color: #3B4455;\n",
              "      --disabled-fill-color: #666;\n",
              "  }\n",
              "\n",
              "  .colab-df-quickchart {\n",
              "    background-color: var(--bg-color);\n",
              "    border: none;\n",
              "    border-radius: 50%;\n",
              "    cursor: pointer;\n",
              "    display: none;\n",
              "    fill: var(--fill-color);\n",
              "    height: 32px;\n",
              "    padding: 0;\n",
              "    width: 32px;\n",
              "  }\n",
              "\n",
              "  .colab-df-quickchart:hover {\n",
              "    background-color: var(--hover-bg-color);\n",
              "    box-shadow: 0 1px 2px rgba(60, 64, 67, 0.3), 0 1px 3px 1px rgba(60, 64, 67, 0.15);\n",
              "    fill: var(--button-hover-fill-color);\n",
              "  }\n",
              "\n",
              "  .colab-df-quickchart-complete:disabled,\n",
              "  .colab-df-quickchart-complete:disabled:hover {\n",
              "    background-color: var(--disabled-bg-color);\n",
              "    fill: var(--disabled-fill-color);\n",
              "    box-shadow: none;\n",
              "  }\n",
              "\n",
              "  .colab-df-spinner {\n",
              "    border: 2px solid var(--fill-color);\n",
              "    border-color: transparent;\n",
              "    border-bottom-color: var(--fill-color);\n",
              "    animation:\n",
              "      spin 1s steps(1) infinite;\n",
              "  }\n",
              "\n",
              "  @keyframes spin {\n",
              "    0% {\n",
              "      border-color: transparent;\n",
              "      border-bottom-color: var(--fill-color);\n",
              "      border-left-color: var(--fill-color);\n",
              "    }\n",
              "    20% {\n",
              "      border-color: transparent;\n",
              "      border-left-color: var(--fill-color);\n",
              "      border-top-color: var(--fill-color);\n",
              "    }\n",
              "    30% {\n",
              "      border-color: transparent;\n",
              "      border-left-color: var(--fill-color);\n",
              "      border-top-color: var(--fill-color);\n",
              "      border-right-color: var(--fill-color);\n",
              "    }\n",
              "    40% {\n",
              "      border-color: transparent;\n",
              "      border-right-color: var(--fill-color);\n",
              "      border-top-color: var(--fill-color);\n",
              "    }\n",
              "    60% {\n",
              "      border-color: transparent;\n",
              "      border-right-color: var(--fill-color);\n",
              "    }\n",
              "    80% {\n",
              "      border-color: transparent;\n",
              "      border-right-color: var(--fill-color);\n",
              "      border-bottom-color: var(--fill-color);\n",
              "    }\n",
              "    90% {\n",
              "      border-color: transparent;\n",
              "      border-bottom-color: var(--fill-color);\n",
              "    }\n",
              "  }\n",
              "</style>\n",
              "\n",
              "  <script>\n",
              "    async function quickchart(key) {\n",
              "      const quickchartButtonEl =\n",
              "        document.querySelector('#' + key + ' button');\n",
              "      quickchartButtonEl.disabled = true;  // To prevent multiple clicks.\n",
              "      quickchartButtonEl.classList.add('colab-df-spinner');\n",
              "      try {\n",
              "        const charts = await google.colab.kernel.invokeFunction(\n",
              "            'suggestCharts', [key], {});\n",
              "      } catch (error) {\n",
              "        console.error('Error during call to suggestCharts:', error);\n",
              "      }\n",
              "      quickchartButtonEl.classList.remove('colab-df-spinner');\n",
              "      quickchartButtonEl.classList.add('colab-df-quickchart-complete');\n",
              "    }\n",
              "    (() => {\n",
              "      let quickchartButtonEl =\n",
              "        document.querySelector('#df-bddef34b-a4aa-4539-8169-8d41cb233a23 button');\n",
              "      quickchartButtonEl.style.display =\n",
              "        google.colab.kernel.accessAllowed ? 'block' : 'none';\n",
              "    })();\n",
              "  </script>\n",
              "</div>\n",
              "\n",
              "    </div>\n",
              "  </div>\n"
            ],
            "application/vnd.google.colaboratory.intrinsic+json": {
              "type": "dataframe",
              "summary": "{\n  \"name\": \"mutations[:15]\",\n  \"rows\": 15,\n  \"fields\": [\n    {\n      \"column\": \"Complex\",\n      \"properties\": {\n        \"dtype\": \"category\",\n        \"num_unique_values\": 1,\n        \"samples\": [\n          \"1BRS_A_D\"\n        ],\n        \"semantic_type\": \"\",\n        \"description\": \"\"\n      }\n    },\n    {\n      \"column\": \"Mutation\",\n      \"properties\": {\n        \"dtype\": \"string\",\n        \"num_unique_values\": 13,\n        \"samples\": [\n          \"EA71Q\"\n        ],\n        \"semantic_type\": \"\",\n        \"description\": \"\"\n      }\n    },\n    {\n      \"column\": \"Region\",\n      \"properties\": {\n        \"dtype\": \"category\",\n        \"num_unique_values\": 4,\n        \"samples\": [\n          \"SUP,COR\"\n        ],\n        \"semantic_type\": \"\",\n        \"description\": \"\"\n      }\n    },\n    {\n      \"column\": \"Method\",\n      \"properties\": {\n        \"dtype\": \"category\",\n        \"num_unique_values\": 2,\n        \"samples\": [\n          \"SPR\"\n        ],\n        \"semantic_type\": \"\",\n        \"description\": \"\"\n      }\n    }\n  ]\n}"
            }
          },
          "metadata": {},
          "execution_count": 2
        }
      ]
    },
    {
      "cell_type": "markdown",
      "metadata": {
        "id": "2kFb5SzBnFwH"
      },
      "source": [
        "Mutation **EA71Y**: Glutamic Acid (E) which is located on position 71 of chain A is replaced by Tyrosine (Y)."
      ]
    },
    {
      "cell_type": "code",
      "metadata": {
        "colab": {
          "base_uri": "https://localhost:8080/",
          "height": 548,
          "resources": {
            "http://localhost:8080/content/EA71Y.mov": {
              "data": "",
              "ok": false,
              "headers": [
                [
                  "content-length",
                  "0"
                ]
              ],
              "status": 404,
              "status_text": ""
            }
          }
        },
        "id": "W0LykYYmnIO0",
        "outputId": "30f1b0bb-c7b3-43db-9a5d-51731645e81b"
      },
      "source": [
        "!gdown --id '1Eo4cwGT0FblmN82AKVO9lC1tOnmuDisL'\n",
        "HTML(\"\"\"\n",
        "    <video width=\"700\" height=\"400\" controls>\n",
        "        <source src=\"/content/EA71Y.mov\">\n",
        "    </video>\n",
        "\"\"\")"
      ],
      "execution_count": null,
      "outputs": [
        {
          "output_type": "stream",
          "name": "stdout",
          "text": [
            "/usr/local/lib/python3.10/dist-packages/gdown/__main__.py:140: FutureWarning: Option `--id` was deprecated in version 4.3.1 and will be removed in 5.0. You don't need to pass it anymore to use a file ID.\n",
            "  warnings.warn(\n",
            "Downloading...\n",
            "From: https://drive.google.com/uc?id=1Eo4cwGT0FblmN82AKVO9lC1tOnmuDisL\n",
            "To: /content/EA71Y.mov\n",
            "100% 1.39M/1.39M [00:00<00:00, 158MB/s]\n"
          ]
        },
        {
          "output_type": "execute_result",
          "data": {
            "text/plain": [
              "<IPython.core.display.HTML object>"
            ],
            "text/html": [
              "\n",
              "    <video width=\"700\" height=\"400\" controls>\n",
              "        <source src=\"/content/EA71Y.mov\">\n",
              "    </video>\n"
            ]
          },
          "metadata": {},
          "execution_count": 3
        }
      ]
    },
    {
      "cell_type": "markdown",
      "metadata": {
        "id": "K3hRpUv8pFoI"
      },
      "source": [
        "Mutation **YD29F**: Tyrosine (Y) which is located on position 29 of chain D is replaced by Phenylalanine (F)."
      ]
    },
    {
      "cell_type": "code",
      "metadata": {
        "colab": {
          "base_uri": "https://localhost:8080/",
          "height": 548,
          "resources": {
            "http://localhost:8080/YD29F.mov": {
              "data": "",
              "ok": false,
              "headers": [
                [
                  "content-length",
                  "0"
                ]
              ],
              "status": 404,
              "status_text": ""
            }
          }
        },
        "id": "S255Fr3ypW5X",
        "outputId": "7da8ae79-7708-4b22-fadb-f54222c8acb3"
      },
      "source": [
        "!gdown --id 1pm0HceSZLz4dTcVT8PWZIA6qMM0aZg3q\n",
        "HTML(\"\"\"\n",
        "    <video width=\"700\" height=\"400\" controls>\n",
        "        <source src=\"YD29F.mov\">\n",
        "    </video>\n",
        "\"\"\")"
      ],
      "execution_count": null,
      "outputs": [
        {
          "output_type": "stream",
          "name": "stdout",
          "text": [
            "/usr/local/lib/python3.10/dist-packages/gdown/__main__.py:140: FutureWarning: Option `--id` was deprecated in version 4.3.1 and will be removed in 5.0. You don't need to pass it anymore to use a file ID.\n",
            "  warnings.warn(\n",
            "Downloading...\n",
            "From: https://drive.google.com/uc?id=1pm0HceSZLz4dTcVT8PWZIA6qMM0aZg3q\n",
            "To: /content/YD29F.mov\n",
            "100% 1.30M/1.30M [00:00<00:00, 86.6MB/s]\n"
          ]
        },
        {
          "output_type": "execute_result",
          "data": {
            "text/plain": [
              "<IPython.core.display.HTML object>"
            ],
            "text/html": [
              "\n",
              "    <video width=\"700\" height=\"400\" controls>\n",
              "        <source src=\"YD29F.mov\">\n",
              "    </video>\n"
            ]
          },
          "metadata": {},
          "execution_count": 4
        }
      ]
    },
    {
      "cell_type": "markdown",
      "metadata": {
        "id": "TV86rwADJrbC"
      },
      "source": [
        "### 7. Effects of the mutations on different interface regions\n",
        "\n",
        "<img src='https://drive.google.com/uc?id=1FAerlQGucjAFikQVLYmNxaR-u40HY4wq'>\n",
        "[E.D. Levy, et al., ‘10]\n",
        "\n",
        "By analyzing the database of [SKEMPI V2.0](https://life.bsc.es/pid/skempi2) we realized that mutations on the Core region of the interaction interface has the most effect on the changes of the binding affinity.\n",
        "<img src='https://drive.google.com/uc?id=14jy0gq-Lct7C69N4D7rsLFwB1Ok6OJRZ'>"
      ]
    },
    {
      "cell_type": "markdown",
      "metadata": {
        "id": "SWox-Brjfdp-"
      },
      "source": [
        "### Given what we have learnt until now, what end-to-end deep learning architecture would you propose to measure the binding affinity?\n"
      ]
    },
    {
      "cell_type": "markdown",
      "metadata": {
        "id": "iTZoquLXjkMu"
      },
      "source": [
        "## Geometric deep learning to measure changes of the binding affinity"
      ]
    },
    {
      "cell_type": "markdown",
      "metadata": {
        "id": "_8sICnRQ7zXJ"
      },
      "source": [
        "### 1. An end-to-end Siamese architecture to predict changes of binding affinity ($\\Delta\\Delta$G)"
      ]
    },
    {
      "cell_type": "markdown",
      "metadata": {
        "id": "2q89pVKLJDCe"
      },
      "source": [
        "Here we will implement an end-to-end Siamese convolutional neural network that takes as input the local 3D environment around the mutation site in the wild-type and mutated form and gives $\\Delta\\Delta$G as output. Thanks to the use of locally oriented frames from Part 2 of this tutorial, the architecture is invariant to 3D translations and rotations. The local 3D environments that you are going to work with are extracted from conformations generated with Rosetta-Backrub. Unlike other approaches that calculate $\\Delta$G of mutant and wild-type separately, we focus on local changes and differences between structures, by analyzing the residues of interest on which the mutation happens. We place a sufficiently large cube (24×24×24 $Å^3$) around the wild-type and mutant residues to capture local information on how the mutation affects the interface."
      ]
    },
    {
      "cell_type": "markdown",
      "metadata": {
        "id": "GMDBIOmkJgbq"
      },
      "source": [
        "<img src='https://drive.google.com/uc?id=1Rh74w-X6FH1yUh4DGyAkzJmYGqxxJcdB'>"
      ]
    },
    {
      "cell_type": "markdown",
      "metadata": {
        "id": "7yo0rteqJmPx"
      },
      "source": [
        "### 2. Siamese architecture"
      ]
    },
    {
      "cell_type": "code",
      "metadata": {
        "colab": {
          "base_uri": "https://localhost:8080/"
        },
        "id": "dYSUDU69HC7j",
        "outputId": "823e8e6f-eb16-40e7-8835-b6ec99696922"
      },
      "source": [
        "import pandas as pd\n",
        "import numpy as np\n",
        "import logging\n",
        "import seaborn as sns\n",
        "#from scipy import interp\n",
        "from math import exp\n",
        "from random import shuffle, random, seed, sample\n",
        "import matplotlib.pyplot as plt\n",
        "import time\n",
        "import os, sys\n",
        "import glob\n",
        "\n",
        "!pip install pickle5\n",
        "import pickle5\n",
        "\n",
        "#!pip uninstall tensorflow\n",
        "!pip install tensorflow==2.8.0\n",
        "\n",
        "\n",
        "import tensorflow.keras\n",
        "from tensorflow.keras import backend as K\n",
        "from tensorflow.keras import regularizers\n",
        "from tensorflow.keras.models import Model, Sequential,load_model\n",
        "from tensorflow.keras.layers import Input, Conv3D, MaxPooling3D, AveragePooling3D, Dense, Dropout, Activation, Flatten, Concatenate, Dot, BatchNormalization, Add, Lambda\n",
        "from tensorflow.keras.backend import ones, ones_like\n",
        "from tensorflow.keras.optimizers import Adam\n",
        "from tensorflow.keras.constraints import max_norm\n",
        "from tensorflow.keras.regularizers import l2\n",
        "\n",
        "from sklearn.model_selection import train_test_split, StratifiedKFold\n",
        "from sklearn.metrics import mean_squared_error, accuracy_score, roc_auc_score, roc_curve, precision_recall_curve, log_loss\n",
        "from sklearn.preprocessing import MinMaxScaler, OneHotEncoder\n",
        "\n",
        "from scipy import stats\n",
        "\n",
        "import gc"
      ],
      "execution_count": null,
      "outputs": [
        {
          "output_type": "stream",
          "name": "stdout",
          "text": [
            "Requirement already satisfied: pickle5 in /usr/local/lib/python3.10/dist-packages (0.0.11)\n",
            "Requirement already satisfied: tensorflow==2.8.0 in /usr/local/lib/python3.10/dist-packages (2.8.0)\n",
            "Requirement already satisfied: absl-py>=0.4.0 in /usr/local/lib/python3.10/dist-packages (from tensorflow==2.8.0) (1.4.0)\n",
            "Requirement already satisfied: astunparse>=1.6.0 in /usr/local/lib/python3.10/dist-packages (from tensorflow==2.8.0) (1.6.3)\n",
            "Requirement already satisfied: flatbuffers>=1.12 in /usr/local/lib/python3.10/dist-packages (from tensorflow==2.8.0) (24.3.25)\n",
            "Requirement already satisfied: gast>=0.2.1 in /usr/local/lib/python3.10/dist-packages (from tensorflow==2.8.0) (0.6.0)\n",
            "Requirement already satisfied: google-pasta>=0.1.1 in /usr/local/lib/python3.10/dist-packages (from tensorflow==2.8.0) (0.2.0)\n",
            "Requirement already satisfied: h5py>=2.9.0 in /usr/local/lib/python3.10/dist-packages (from tensorflow==2.8.0) (3.11.0)\n",
            "Requirement already satisfied: keras-preprocessing>=1.1.1 in /usr/local/lib/python3.10/dist-packages (from tensorflow==2.8.0) (1.1.2)\n",
            "Requirement already satisfied: libclang>=9.0.1 in /usr/local/lib/python3.10/dist-packages (from tensorflow==2.8.0) (18.1.1)\n",
            "Requirement already satisfied: numpy>=1.20 in /usr/local/lib/python3.10/dist-packages (from tensorflow==2.8.0) (1.26.4)\n",
            "Requirement already satisfied: opt-einsum>=2.3.2 in /usr/local/lib/python3.10/dist-packages (from tensorflow==2.8.0) (3.3.0)\n",
            "Requirement already satisfied: protobuf>=3.9.2 in /usr/local/lib/python3.10/dist-packages (from tensorflow==2.8.0) (3.20.3)\n",
            "Requirement already satisfied: setuptools in /usr/local/lib/python3.10/dist-packages (from tensorflow==2.8.0) (71.0.4)\n",
            "Requirement already satisfied: six>=1.12.0 in /usr/local/lib/python3.10/dist-packages (from tensorflow==2.8.0) (1.16.0)\n",
            "Requirement already satisfied: termcolor>=1.1.0 in /usr/local/lib/python3.10/dist-packages (from tensorflow==2.8.0) (2.4.0)\n",
            "Requirement already satisfied: typing-extensions>=3.6.6 in /usr/local/lib/python3.10/dist-packages (from tensorflow==2.8.0) (4.12.2)\n",
            "Requirement already satisfied: wrapt>=1.11.0 in /usr/local/lib/python3.10/dist-packages (from tensorflow==2.8.0) (1.16.0)\n",
            "Requirement already satisfied: tensorboard<2.9,>=2.8 in /usr/local/lib/python3.10/dist-packages (from tensorflow==2.8.0) (2.8.0)\n",
            "Requirement already satisfied: tf-estimator-nightly==2.8.0.dev2021122109 in /usr/local/lib/python3.10/dist-packages (from tensorflow==2.8.0) (2.8.0.dev2021122109)\n",
            "Requirement already satisfied: keras<2.9,>=2.8.0rc0 in /usr/local/lib/python3.10/dist-packages (from tensorflow==2.8.0) (2.8.0)\n",
            "Requirement already satisfied: tensorflow-io-gcs-filesystem>=0.23.1 in /usr/local/lib/python3.10/dist-packages (from tensorflow==2.8.0) (0.37.1)\n",
            "Requirement already satisfied: grpcio<2.0,>=1.24.3 in /usr/local/lib/python3.10/dist-packages (from tensorflow==2.8.0) (1.64.1)\n",
            "Requirement already satisfied: wheel<1.0,>=0.23.0 in /usr/local/lib/python3.10/dist-packages (from astunparse>=1.6.0->tensorflow==2.8.0) (0.44.0)\n",
            "Requirement already satisfied: google-auth<3,>=1.6.3 in /usr/local/lib/python3.10/dist-packages (from tensorboard<2.9,>=2.8->tensorflow==2.8.0) (2.27.0)\n",
            "Requirement already satisfied: google-auth-oauthlib<0.5,>=0.4.1 in /usr/local/lib/python3.10/dist-packages (from tensorboard<2.9,>=2.8->tensorflow==2.8.0) (0.4.6)\n",
            "Requirement already satisfied: markdown>=2.6.8 in /usr/local/lib/python3.10/dist-packages (from tensorboard<2.9,>=2.8->tensorflow==2.8.0) (3.7)\n",
            "Requirement already satisfied: requests<3,>=2.21.0 in /usr/local/lib/python3.10/dist-packages (from tensorboard<2.9,>=2.8->tensorflow==2.8.0) (2.32.3)\n",
            "Requirement already satisfied: tensorboard-data-server<0.7.0,>=0.6.0 in /usr/local/lib/python3.10/dist-packages (from tensorboard<2.9,>=2.8->tensorflow==2.8.0) (0.6.1)\n",
            "Requirement already satisfied: tensorboard-plugin-wit>=1.6.0 in /usr/local/lib/python3.10/dist-packages (from tensorboard<2.9,>=2.8->tensorflow==2.8.0) (1.8.1)\n",
            "Requirement already satisfied: werkzeug>=0.11.15 in /usr/local/lib/python3.10/dist-packages (from tensorboard<2.9,>=2.8->tensorflow==2.8.0) (3.0.4)\n",
            "Requirement already satisfied: cachetools<6.0,>=2.0.0 in /usr/local/lib/python3.10/dist-packages (from google-auth<3,>=1.6.3->tensorboard<2.9,>=2.8->tensorflow==2.8.0) (5.5.0)\n",
            "Requirement already satisfied: pyasn1-modules>=0.2.1 in /usr/local/lib/python3.10/dist-packages (from google-auth<3,>=1.6.3->tensorboard<2.9,>=2.8->tensorflow==2.8.0) (0.4.1)\n",
            "Requirement already satisfied: rsa<5,>=3.1.4 in /usr/local/lib/python3.10/dist-packages (from google-auth<3,>=1.6.3->tensorboard<2.9,>=2.8->tensorflow==2.8.0) (4.9)\n",
            "Requirement already satisfied: requests-oauthlib>=0.7.0 in /usr/local/lib/python3.10/dist-packages (from google-auth-oauthlib<0.5,>=0.4.1->tensorboard<2.9,>=2.8->tensorflow==2.8.0) (1.3.1)\n",
            "Requirement already satisfied: charset-normalizer<4,>=2 in /usr/local/lib/python3.10/dist-packages (from requests<3,>=2.21.0->tensorboard<2.9,>=2.8->tensorflow==2.8.0) (3.3.2)\n",
            "Requirement already satisfied: idna<4,>=2.5 in /usr/local/lib/python3.10/dist-packages (from requests<3,>=2.21.0->tensorboard<2.9,>=2.8->tensorflow==2.8.0) (3.10)\n",
            "Requirement already satisfied: urllib3<3,>=1.21.1 in /usr/local/lib/python3.10/dist-packages (from requests<3,>=2.21.0->tensorboard<2.9,>=2.8->tensorflow==2.8.0) (2.2.3)\n",
            "Requirement already satisfied: certifi>=2017.4.17 in /usr/local/lib/python3.10/dist-packages (from requests<3,>=2.21.0->tensorboard<2.9,>=2.8->tensorflow==2.8.0) (2024.8.30)\n",
            "Requirement already satisfied: MarkupSafe>=2.1.1 in /usr/local/lib/python3.10/dist-packages (from werkzeug>=0.11.15->tensorboard<2.9,>=2.8->tensorflow==2.8.0) (2.1.5)\n",
            "Requirement already satisfied: pyasn1<0.7.0,>=0.4.6 in /usr/local/lib/python3.10/dist-packages (from pyasn1-modules>=0.2.1->google-auth<3,>=1.6.3->tensorboard<2.9,>=2.8->tensorflow==2.8.0) (0.6.1)\n",
            "Requirement already satisfied: oauthlib>=3.0.0 in /usr/local/lib/python3.10/dist-packages (from requests-oauthlib>=0.7.0->google-auth-oauthlib<0.5,>=0.4.1->tensorboard<2.9,>=2.8->tensorflow==2.8.0) (3.2.2)\n"
          ]
        }
      ]
    },
    {
      "cell_type": "code",
      "metadata": {
        "colab": {
          "base_uri": "https://localhost:8080/",
          "height": 187
        },
        "id": "e49hoqH-81wl",
        "outputId": "d98e7a51-187d-40e2-fb06-b105957d51b5"
      },
      "source": [
        "logging.basicConfig(filename='manager.log', filemode='w', format='%(levelname)s: %(message)s', level=logging.DEBUG)\n",
        "mainlog = logging.getLogger('main')\n",
        "logging.Logger"
      ],
      "execution_count": null,
      "outputs": [
        {
          "output_type": "execute_result",
          "data": {
            "text/plain": [
              "logging.Logger"
            ],
            "text/html": [
              "<div style=\"max-width:800px; border: 1px solid var(--colab-border-color);\"><style>\n",
              "      pre.function-repr-contents {\n",
              "        overflow-x: auto;\n",
              "        padding: 8px 12px;\n",
              "        max-height: 500px;\n",
              "      }\n",
              "\n",
              "      pre.function-repr-contents.function-repr-contents-collapsed {\n",
              "        cursor: pointer;\n",
              "        max-height: 100px;\n",
              "      }\n",
              "    </style>\n",
              "    <pre style=\"white-space: initial; background:\n",
              "         var(--colab-secondary-surface-color); padding: 8px 12px;\n",
              "         border-bottom: 1px solid var(--colab-border-color);\"><b>logging.Logger</b><br/>def __init__(name, level=NOTSET)</pre><pre class=\"function-repr-contents function-repr-contents-collapsed\" style=\"\"><a class=\"filepath\" style=\"display:none\" href=\"#\">/usr/lib/python3.10/logging/__init__.py</a>Instances of the Logger class represent a single logging channel. A\n",
              "&quot;logging channel&quot; indicates an area of an application. Exactly how an\n",
              "&quot;area&quot; is defined is up to the application developer. Since an\n",
              "application can have any number of areas, logging channels are identified\n",
              "by a unique string. Application areas can be nested (e.g. an area\n",
              "of &quot;input processing&quot; might include sub-areas &quot;read CSV files&quot;, &quot;read\n",
              "XLS files&quot; and &quot;read Gnumeric files&quot;). To cater for this natural nesting,\n",
              "channel names are organized into a namespace hierarchy where levels are\n",
              "separated by periods, much like the Java or Python package namespace. So\n",
              "in the instance given above, channel names might be &quot;input&quot; for the upper\n",
              "level, and &quot;input.csv&quot;, &quot;input.xls&quot; and &quot;input.gnu&quot; for the sub-levels.\n",
              "There is no arbitrary limit to the depth of nesting.</pre>\n",
              "      <script>\n",
              "      if (google.colab.kernel.accessAllowed && google.colab.files && google.colab.files.view) {\n",
              "        for (const element of document.querySelectorAll('.filepath')) {\n",
              "          element.style.display = 'block'\n",
              "          element.onclick = (event) => {\n",
              "            event.preventDefault();\n",
              "            event.stopPropagation();\n",
              "            google.colab.files.view(element.textContent, 1420);\n",
              "          };\n",
              "        }\n",
              "      }\n",
              "      for (const element of document.querySelectorAll('.function-repr-contents')) {\n",
              "        element.onclick = (event) => {\n",
              "          event.preventDefault();\n",
              "          event.stopPropagation();\n",
              "          element.classList.toggle('function-repr-contents-collapsed');\n",
              "        };\n",
              "      }\n",
              "      </script>\n",
              "      </div>"
            ]
          },
          "metadata": {},
          "execution_count": 2
        }
      ]
    },
    {
      "cell_type": "code",
      "metadata": {
        "colab": {
          "base_uri": "https://localhost:8080/"
        },
        "id": "vDTIXvpE85Yc",
        "outputId": "8b29a722-c139-43b7-ed1b-0e44a1d42f64"
      },
      "source": [
        "print('Your python version: {}'.format(sys.version_info.major))"
      ],
      "execution_count": null,
      "outputs": [
        {
          "output_type": "stream",
          "name": "stdout",
          "text": [
            "Your python version: 3\n"
          ]
        }
      ]
    },
    {
      "cell_type": "code",
      "metadata": {
        "id": "h0Wxhcio89X9"
      },
      "source": [
        "USE_TENSORFLOW_AS_BACKEND = True\n",
        "FORCE_CPU = False\n",
        "\n",
        "if USE_TENSORFLOW_AS_BACKEND:\n",
        "    os.environ['KERAS_BACKEND'] = 'tensorflow'\n",
        "else:\n",
        "    os.environ['KERAS_BACKEND'] = 'theano'\n",
        "if FORCE_CPU:\n",
        "    os.environ[\"CUDA_DEVICE_ORDER\"] = \"PCI_BUS_ID\"\n",
        "    os.environ[\"CUDA_VISIBLE_DEVICES\"] = \"\""
      ],
      "execution_count": null,
      "outputs": []
    },
    {
      "cell_type": "code",
      "metadata": {
        "colab": {
          "base_uri": "https://localhost:8080/"
        },
        "id": "tQUxUs169AoL",
        "outputId": "6d93bf94-31ca-4c84-8f6f-357b3ca0ff16"
      },
      "source": [
        "if USE_TENSORFLOW_AS_BACKEND == True:\n",
        "    import tensorflow\n",
        "    print('Your tensorflow version: {}'.format(tensorflow.__version__))\n",
        "    print(\"GPU : \"+tensorflow.test.gpu_device_name())\n",
        "else:\n",
        "    import theano\n",
        "    print('Your theano version: {}'.format(theano.__version__))"
      ],
      "execution_count": null,
      "outputs": [
        {
          "output_type": "stream",
          "name": "stdout",
          "text": [
            "Your tensorflow version: 2.8.0\n",
            "GPU : \n"
          ]
        }
      ]
    },
    {
      "cell_type": "markdown",
      "metadata": {
        "id": "7OkzZN_A9iie"
      },
      "source": [
        "#### 2.1 Siamese model architecture based on 3D-CNN"
      ]
    },
    {
      "cell_type": "code",
      "metadata": {
        "id": "a3Q_cwfR9bso"
      },
      "source": [
        "def get_siamese_model(input_shape):\n",
        "    \"\"\"\n",
        "    Model architecture\n",
        "    \"\"\"\n",
        "\n",
        "    # Define the tensors for the two input images\n",
        "    left_input = Input(shape=input_shape)\n",
        "    right_input = Input(shape=input_shape)\n",
        "\n",
        "    # Convolutional Neural Network\n",
        "    model = Sequential()\n",
        "\n",
        "    model.add(Conv3D(20, kernel_size=(1, 1, 1), use_bias = True, padding = 'valid', activation='linear', kernel_initializer='he_uniform', kernel_regularizer=l2(2e-4)))\n",
        "    model.add(BatchNormalization())\n",
        "\n",
        "    model.add(Conv3D(20, kernel_size=(3, 3, 3), use_bias = True, padding = 'valid', activation='elu', kernel_initializer='he_uniform', kernel_regularizer=l2(2e-4)))\n",
        "    model.add(BatchNormalization())\n",
        "\n",
        "    model.add(Conv3D(30, kernel_size=(4, 4, 4), use_bias = True, padding = 'valid', activation='elu', kernel_initializer='he_uniform', kernel_regularizer=l2(2e-4)))\n",
        "    model.add(BatchNormalization())\n",
        "\n",
        "    model.add(Conv3D(20, kernel_size=(4, 4, 4), use_bias = True, padding = 'valid', activation='elu', kernel_initializer='he_uniform', kernel_regularizer=l2(2e-4)))\n",
        "    model.add(BatchNormalization())\n",
        "\n",
        "    model.add(AveragePooling3D(pool_size=(4, 4, 4), strides=(4, 4, 4)))\n",
        "    model.add(Flatten())\n",
        "\n",
        "\n",
        "    model.add(Dense(10, use_bias=True, activation='elu', kernel_initializer='he_uniform', kernel_regularizer=l2(1e-3)))\n",
        "\n",
        "    # Generate the encodings (feature vectors) for the two images\n",
        "    encoded_l = model(left_input)\n",
        "    encoded_r = model(right_input)\n",
        "\n",
        "    # Add a customized layer to compute the absolute difference between the encodings\n",
        "    L1_layer = Lambda(lambda tensors:K.abs(tensors[0] - tensors[1]))\n",
        "    L1_distance = L1_layer([encoded_l, encoded_r])\n",
        "\n",
        "\n",
        "    # Add a dense layer with a sigmoid unit to generate the similarity score\n",
        "    prediction = Dense(1, use_bias=True, activation='elu')(L1_distance)\n",
        "\n",
        "    # Connect the inputs with the outputs\n",
        "    siamese_net = Model(inputs=[left_input,right_input],outputs=prediction)\n",
        "\n",
        "    siamese_net.compile(loss='mean_squared_error', optimizer=Adam(learning_rate=0.001))\n",
        "    siamese_net.summary()\n",
        "\n",
        "    # return the model\n",
        "    return siamese_net"
      ],
      "execution_count": null,
      "outputs": []
    },
    {
      "cell_type": "markdown",
      "metadata": {
        "id": "mBxGBGGu9y2q"
      },
      "source": [
        "#### Questions\n",
        "- What activation functions are used in this architecture?\n",
        "- What cost function are we trying to minimize?\n",
        "- How many convolutional layers are used in this architecture?\n",
        "- On which layers do you propose to apply the dropout technique?"
      ]
    },
    {
      "cell_type": "markdown",
      "metadata": {
        "id": "CmP65bBr-D68"
      },
      "source": [
        "#### 2.2 The input data: locally oriented cubes\n",
        "\n",
        "Load training samples. Each sample is a tuple of 5 elements:\n",
        "1. The environment of the wild-type residue on the interface.\n",
        "2. The environment of the mutant residue on the interface.\n",
        "3. The value of $\\Delta\\Delta$G.\n",
        "4. The name of the complex and its partner chains.\n",
        "5. The mutation code.\n"
      ]
    },
    {
      "cell_type": "markdown",
      "metadata": {
        "id": "l2YfgzAX-iZB"
      },
      "source": [
        "Functions to serializing and de-serializing pickle object structure."
      ]
    },
    {
      "cell_type": "code",
      "metadata": {
        "id": "ADBukuux-hzx"
      },
      "source": [
        "def save_obj(obj, name):\n",
        "    with open(name + '.pkl', 'wb') as f:\n",
        "        pickle5.dump(obj, f, pickle.HIGHEST_PROTOCOL)\n",
        "\n",
        "def load_obj(name):\n",
        "    with open(name + '.pkl', 'rb') as f:\n",
        "        return pickle5.load(f)"
      ],
      "execution_count": null,
      "outputs": []
    },
    {
      "cell_type": "code",
      "metadata": {
        "id": "-ZnYNv7587ut"
      },
      "source": [
        "def load_map(train_path):\n",
        "    X_wt, X_mut, y, com, muta = load_obj(train_path.replace('.pkl',''))\n",
        "    return X_wt, X_mut, y, com, muta"
      ],
      "execution_count": null,
      "outputs": []
    },
    {
      "cell_type": "markdown",
      "metadata": {
        "id": "WMfS4p0i_Hie"
      },
      "source": [
        "Download the dataset."
      ]
    },
    {
      "cell_type": "code",
      "metadata": {
        "colab": {
          "base_uri": "https://localhost:8080/"
        },
        "id": "80gTa-8-_SD4",
        "outputId": "012a0c31-6a57-4a7a-d732-13eef3251e8e"
      },
      "source": [
        "!gdown --id '1I4nkVeyJRA6BbuL9KCgi_VeN0uvBdQTt'\n",
        "#!gdown --id '1nqX7Y8Pxk5WgQT2tVINUbSN2tuTjyWrR'"
      ],
      "execution_count": null,
      "outputs": [
        {
          "output_type": "stream",
          "name": "stdout",
          "text": [
            "/usr/local/lib/python3.10/dist-packages/gdown/__main__.py:140: FutureWarning: Option `--id` was deprecated in version 4.3.1 and will be removed in 5.0. You don't need to pass it anymore to use a file ID.\n",
            "  warnings.warn(\n",
            "Downloading...\n",
            "From (original): https://drive.google.com/uc?id=1I4nkVeyJRA6BbuL9KCgi_VeN0uvBdQTt\n",
            "From (redirected): https://drive.google.com/uc?id=1I4nkVeyJRA6BbuL9KCgi_VeN0uvBdQTt&confirm=t&uuid=c8bf62bc-b6fa-43ea-910f-d403d7477c69\n",
            "To: /content/traindata_mut.zip\n",
            "100% 106M/106M [00:05<00:00, 19.1MB/s] \n"
          ]
        }
      ]
    },
    {
      "cell_type": "markdown",
      "metadata": {
        "id": "WjwEX6WN_Yz5"
      },
      "source": [
        "Decompress the two datasets."
      ]
    },
    {
      "cell_type": "code",
      "metadata": {
        "colab": {
          "base_uri": "https://localhost:8080/"
        },
        "id": "fST_yx2O_Vov",
        "outputId": "3d807816-99c7-4396-ec88-8281ef82e045"
      },
      "source": [
        "!unzip '/content/traindata_mut.zip'\n",
        "#!unzip '/content/traindata_mut_small.zip'"
      ],
      "execution_count": null,
      "outputs": [
        {
          "output_type": "stream",
          "name": "stdout",
          "text": [
            "Archive:  /content/traindata_mut.zip\n",
            "  inflating: traindata_mut/1AO7_ABC_DE_AA149G_1.pkl  \n",
            "  inflating: traindata_mut/1AO7_ABC_DE_AA150G_1.pkl  \n",
            "  inflating: traindata_mut/1AO7_ABC_DE_AA150P_1.pkl  \n",
            "  inflating: traindata_mut/1AO7_ABC_DE_AA158G_1.pkl  \n",
            "  inflating: traindata_mut/1AO7_ABC_DE_AA69G_1.pkl  \n",
            "  inflating: traindata_mut/1AO7_ABC_DE_AE96M_1.pkl  \n",
            "  inflating: traindata_mut/1AO7_ABC_DE_DA61A_1.pkl  \n",
            "  inflating: traindata_mut/1BD2_ABC_DE_DD30N_1.pkl  \n",
            "  inflating: traindata_mut/1BD2_ABC_DE_ED93A_1.pkl  \n",
            "  inflating: traindata_mut/1BD2_ABC_DE_EE28A_1.pkl  \n",
            "  inflating: traindata_mut/1BD2_ABC_DE_RA65A_1.pkl  \n",
            "  inflating: traindata_mut/1BD2_ABC_DE_YC5A_1.pkl  \n",
            "  inflating: traindata_mut/1BD2_ABC_DE_YC5F_1.pkl  \n",
            "  inflating: traindata_mut/1BD2_ABC_DE_YC5W_1.pkl  \n",
            "  inflating: traindata_mut/1BJ1_HL_VW_HH101Y_1.pkl  \n",
            "  inflating: traindata_mut/1BJ1_HL_VW_HH107A_1.pkl  \n",
            "  inflating: traindata_mut/1BJ1_HL_VW_NH31H_1.pkl  \n",
            "  inflating: traindata_mut/1BJ1_HL_VW_SH105T_1.pkl  \n",
            "  inflating: traindata_mut/1BJ1_HL_VW_TH28D_1.pkl  \n",
            "  inflating: traindata_mut/1BJ1_HL_VW_TH59A_1.pkl  \n",
            "  inflating: traindata_mut/1BJ1_HL_VW_YH27A_1.pkl  \n",
            "  inflating: traindata_mut/1BRS_A_D_DD35A_1.pkl  \n",
            "  inflating: traindata_mut/1BRS_A_D_DD39A_1.pkl  \n",
            "  inflating: traindata_mut/1BRS_A_D_EA71A_1.pkl  \n",
            "  inflating: traindata_mut/1BRS_A_D_EA71C_1.pkl  \n",
            "  inflating: traindata_mut/1BRS_A_D_EA71F_1.pkl  \n",
            "  inflating: traindata_mut/1BRS_A_D_EA71Q_1.pkl  \n",
            "  inflating: traindata_mut/1BRS_A_D_EA71S_1.pkl  \n",
            "  inflating: traindata_mut/1C4Z_ABC_D_AD56G_1.pkl  \n",
            "  inflating: traindata_mut/1C4Z_ABC_D_AD95G_1.pkl  \n",
            "  inflating: traindata_mut/1C4Z_ABC_D_CA324A_1.pkl  \n",
            "  inflating: traindata_mut/1C4Z_ABC_D_DA145A_1.pkl  \n",
            "  inflating: traindata_mut/1C4Z_ABC_D_DA145K_1.pkl  \n",
            "  inflating: traindata_mut/1C4Z_ABC_D_DA156A_1.pkl  \n",
            "  inflating: traindata_mut/1C4Z_ABC_D_DA156R_1.pkl  \n",
            "  inflating: traindata_mut/1CBW_FGH_I_GI12A_1.pkl  \n",
            "  inflating: traindata_mut/1CBW_FGH_I_GI36A_1.pkl  \n",
            "  inflating: traindata_mut/1CBW_FGH_I_GI37A_1.pkl  \n",
            "  inflating: traindata_mut/1CBW_FGH_I_II19A_1.pkl  \n",
            "  inflating: traindata_mut/1CBW_FGH_I_KI15A_1.pkl  \n",
            "  inflating: traindata_mut/1CBW_FGH_I_KI46A_1.pkl  \n",
            "  inflating: traindata_mut/1CBW_FGH_I_PI13A_1.pkl  \n",
            "  inflating: traindata_mut/1CHO_EFG_I_AI12C_1.pkl  \n",
            "  inflating: traindata_mut/1CHO_EFG_I_AI12D_1.pkl  \n",
            "  inflating: traindata_mut/1CHO_EFG_I_AI12E_1.pkl  \n",
            "  inflating: traindata_mut/1CHO_EFG_I_AI12F_1.pkl  \n",
            "  inflating: traindata_mut/1CHO_EFG_I_AI12G_1.pkl  \n",
            "  inflating: traindata_mut/1CHO_EFG_I_AI12H_1.pkl  \n",
            "  inflating: traindata_mut/1CHO_EFG_I_AI12I_1.pkl  \n",
            "  inflating: traindata_mut/1CSO_E_I_II13L_1.pkl  \n",
            "  inflating: traindata_mut/1CT0_E_I_SI13L_1.pkl  \n",
            "  inflating: traindata_mut/1CT2_E_I_TI13L_1.pkl  \n",
            "  inflating: traindata_mut/1CT4_E_I_VI13L_1.pkl  \n",
            "  inflating: traindata_mut/1CZ8_HL_VW_LL4M_1.pkl  \n",
            "  inflating: traindata_mut/1DQJ_AB_C_DB32A_1.pkl  \n",
            "  inflating: traindata_mut/1DQJ_AB_C_DC101A_1.pkl  \n",
            "  inflating: traindata_mut/1DQJ_AB_C_KC96A_1.pkl  \n",
            "  inflating: traindata_mut/1DQJ_AB_C_KC97A_1.pkl  \n",
            "  inflating: traindata_mut/1DQJ_AB_C_LC75A_1.pkl  \n",
            "  inflating: traindata_mut/1DQJ_AB_C_NA31A_1.pkl  \n",
            "  inflating: traindata_mut/1DQJ_AB_C_NA32A_1.pkl  \n",
            "  inflating: traindata_mut/1EAW_A_B_DA214A_1.pkl  \n",
            "  inflating: traindata_mut/1EAW_A_B_DA46A_1.pkl  \n",
            "  inflating: traindata_mut/1EAW_A_B_DA47A_1.pkl  \n",
            "  inflating: traindata_mut/1EAW_A_B_DA91A_1.pkl  \n",
            "  inflating: traindata_mut/1EAW_A_B_EA163A_1.pkl  \n",
            "  inflating: traindata_mut/1EAW_A_B_FA50A_1.pkl  \n",
            "  inflating: traindata_mut/1EAW_A_B_FA89A_1.pkl  \n",
            "  inflating: traindata_mut/1F47_A_B_DA4A_1.pkl  \n",
            "  inflating: traindata_mut/1F47_A_B_DA7A_1.pkl  \n",
            "  inflating: traindata_mut/1F47_A_B_DA7G_1.pkl  \n",
            "  inflating: traindata_mut/1F47_A_B_DA7S_1.pkl  \n",
            "  inflating: traindata_mut/1F47_A_B_FA11A_1.pkl  \n",
            "  inflating: traindata_mut/1F47_A_B_IA8A_1.pkl  \n",
            "  inflating: traindata_mut/1F47_A_B_KA14A_1.pkl  \n",
            "  inflating: traindata_mut/1F5R_A_I_KA129Q_1.pkl  \n",
            "  inflating: traindata_mut/1GCQ_AB_C_AC42G_1.pkl  \n",
            "  inflating: traindata_mut/1GCQ_AB_C_GC21V_1.pkl  \n",
            "  inflating: traindata_mut/1GCQ_AB_C_PC18A_1.pkl  \n",
            "  inflating: traindata_mut/1GCQ_AB_C_PC19A_1.pkl  \n",
            "  inflating: traindata_mut/1GCQ_AB_C_PC5A_1.pkl  \n",
            "  inflating: traindata_mut/1GCQ_AB_C_PC67A_1.pkl  \n",
            "  inflating: traindata_mut/1GCQ_AB_C_WC47Y_1.pkl  \n",
            "  inflating: traindata_mut/1GRN_A_B_DA38E_1.pkl  \n",
            "  inflating: traindata_mut/1IAR_A_B_EA19A_1.pkl  \n",
            "  inflating: traindata_mut/1IAR_A_B_EA19R_1.pkl  \n",
            "  inflating: traindata_mut/1IAR_A_B_EA9Q_1.pkl  \n",
            "  inflating: traindata_mut/1IAR_A_B_FA82A_1.pkl  \n",
            "  inflating: traindata_mut/1IAR_A_B_FA82D_1.pkl  \n",
            "  inflating: traindata_mut/1IAR_A_B_IA11A_1.pkl  \n",
            "  inflating: traindata_mut/1IAR_A_B_IA5A_1.pkl  \n",
            "  inflating: traindata_mut/1JCK_A_B_FB176A_1.pkl  \n",
            "  inflating: traindata_mut/1JCK_A_B_KB103A_1.pkl  \n",
            "  inflating: traindata_mut/1JCK_A_B_NB60A_1.pkl  \n",
            "  inflating: traindata_mut/1JCK_A_B_TB20A_1.pkl  \n",
            "  inflating: traindata_mut/1JCK_A_B_VB91A_1.pkl  \n",
            "  inflating: traindata_mut/1JCK_A_B_YB26A_1.pkl  \n",
            "  inflating: traindata_mut/1JCK_A_B_YB90A_1.pkl  \n",
            "  inflating: traindata_mut/1JRH_LH_I_DH56A_1.pkl  \n",
            "  inflating: traindata_mut/1JRH_LH_I_DH57A_1.pkl  \n",
            "  inflating: traindata_mut/1JRH_LH_I_DH58A_1.pkl  \n",
            "  inflating: traindata_mut/1JRH_LH_I_DL28A_1.pkl  \n",
            "  inflating: traindata_mut/1JRH_LH_I_EI35Q_1.pkl  \n",
            "  inflating: traindata_mut/1JRH_LH_I_EI45A_1.pkl  \n",
            "  inflating: traindata_mut/1JRH_LH_I_EI45P_1.pkl  \n",
            "  inflating: traindata_mut/1JTG_A_B_DB49A_1.pkl  \n",
            "  inflating: traindata_mut/1JTG_A_B_EA143A_1.pkl  \n",
            "  inflating: traindata_mut/1JTG_A_B_EA79A_1.pkl  \n",
            "  inflating: traindata_mut/1JTG_A_B_EA85A_1.pkl  \n",
            "  inflating: traindata_mut/1JTG_A_B_EB73A_1.pkl  \n",
            "  inflating: traindata_mut/1JTG_A_B_FB142A_1.pkl  \n",
            "  inflating: traindata_mut/1JTG_A_B_FB36A_1.pkl  \n",
            "  inflating: traindata_mut/1KAC_A_B_PA15S_1.pkl  \n",
            "  inflating: traindata_mut/1KAC_A_B_SA87Y_1.pkl  \n",
            "  inflating: traindata_mut/1KIP_AB_C_AB32Y_1.pkl  \n",
            "  inflating: traindata_mut/1KIQ_AB_C_FB101Y_1.pkl  \n",
            "  inflating: traindata_mut/1KIR_AB_C_SA50Y_1.pkl  \n",
            "  inflating: traindata_mut/1LFD_A_B_DA38A_1.pkl  \n",
            "  inflating: traindata_mut/1LFD_A_B_DA38K_1.pkl  \n",
            "  inflating: traindata_mut/1LFD_A_B_DA43A_1.pkl  \n",
            "  inflating: traindata_mut/1LFD_A_B_DA45K_1.pkl  \n",
            "  inflating: traindata_mut/1LFD_A_B_DA81K_1.pkl  \n",
            "  inflating: traindata_mut/1LFD_A_B_DB33A_1.pkl  \n",
            "  inflating: traindata_mut/1LFD_A_B_EA44A_1.pkl  \n",
            "  inflating: traindata_mut/1LP9_ABC_EF_KA66A_1.pkl  \n",
            "  inflating: traindata_mut/1LP9_ABC_EF_TA163A_1.pkl  \n",
            "  inflating: traindata_mut/1LP9_ABC_EF_WA167A_1.pkl  \n",
            "  inflating: traindata_mut/1M9E_A_D_AD76H_1.pkl  \n",
            "  inflating: traindata_mut/1MI5_ABC_DE_AD91G_1.pkl  \n",
            "  inflating: traindata_mut/1MI5_ABC_DE_AE97G_1.pkl  \n",
            "  inflating: traindata_mut/1MI5_ABC_DE_DD29A_1.pkl  \n",
            "  inflating: traindata_mut/1MI5_ABC_DE_EE50A_1.pkl  \n",
            "  inflating: traindata_mut/1MI5_ABC_DE_EE99A_1.pkl  \n",
            "  inflating: traindata_mut/1MI5_ABC_DE_GD92A_1.pkl  \n",
            "  inflating: traindata_mut/1MI5_ABC_DE_GD93A_1.pkl  \n",
            "  inflating: traindata_mut/1MLC_AB_E_KB65D_1.pkl  \n",
            "  inflating: traindata_mut/1MLC_AB_E_NA32G_1.pkl  \n",
            "  inflating: traindata_mut/1MLC_AB_E_NA32Y_1.pkl  \n",
            "  inflating: traindata_mut/1MLC_AB_E_NA92A_1.pkl  \n",
            "  inflating: traindata_mut/1MLC_AB_E_SB57A_1.pkl  \n",
            "  inflating: traindata_mut/1MLC_AB_E_SB57V_1.pkl  \n",
            "  inflating: traindata_mut/1MLC_AB_E_TB28D_1.pkl  \n",
            "  inflating: traindata_mut/1N8O_ABC_E_ME80K_1.pkl  \n",
            "  inflating: traindata_mut/1N8O_ABC_E_ME80L_1.pkl  \n",
            "  inflating: traindata_mut/1N8O_ABC_E_ME80R_1.pkl  \n",
            "  inflating: traindata_mut/1OGA_ABC_DE_AA69G_1.pkl  \n",
            "  inflating: traindata_mut/1OGA_ABC_DE_DA61A_1.pkl  \n",
            "  inflating: traindata_mut/1OGA_ABC_DE_DE28A_1.pkl  \n",
            "  inflating: traindata_mut/1OGA_ABC_DE_DE28S_1.pkl  \n",
            "  inflating: traindata_mut/1OGA_ABC_DE_DE52A_1.pkl  \n",
            "  inflating: traindata_mut/1OGA_ABC_DE_EA58A_1.pkl  \n",
            "  inflating: traindata_mut/1OGA_ABC_DE_EA63A_1.pkl  \n",
            "  inflating: traindata_mut/1P69_A_B_SA15P_1.pkl  \n",
            "  inflating: traindata_mut/1P6A_A_B_YA87S_1.pkl  \n",
            "  inflating: traindata_mut/1PPF_E_I_AI15C_1.pkl  \n",
            "  inflating: traindata_mut/1PPF_E_I_AI15D_1.pkl  \n",
            "  inflating: traindata_mut/1PPF_E_I_AI15E_1.pkl  \n",
            "  inflating: traindata_mut/1PPF_E_I_AI15F_1.pkl  \n",
            "  inflating: traindata_mut/1PPF_E_I_AI15G_1.pkl  \n",
            "  inflating: traindata_mut/1PPF_E_I_AI15H_1.pkl  \n",
            "  inflating: traindata_mut/1PPF_E_I_AI15I_1.pkl  \n",
            "  inflating: traindata_mut/1QSE_ABC_DE_RC7V_1.pkl  \n",
            "  inflating: traindata_mut/1R0R_E_I_AI10C_1.pkl  \n",
            "  inflating: traindata_mut/1R0R_E_I_AI10D_1.pkl  \n",
            "  inflating: traindata_mut/1R0R_E_I_AI10E_1.pkl  \n",
            "  inflating: traindata_mut/1R0R_E_I_AI10F_1.pkl  \n",
            "  inflating: traindata_mut/1R0R_E_I_AI10G_1.pkl  \n",
            "  inflating: traindata_mut/1R0R_E_I_AI10H_1.pkl  \n",
            "  inflating: traindata_mut/1R0R_E_I_AI10I_1.pkl  \n",
            "  inflating: traindata_mut/1REW_AB_C_QC55A_1.pkl  \n",
            "  inflating: traindata_mut/1S1Q_A_B_DA44A_1.pkl  \n",
            "  inflating: traindata_mut/1S1Q_A_B_FA42A_1.pkl  \n",
            "  inflating: traindata_mut/1S1Q_A_B_FA86A_1.pkl  \n",
            "  inflating: traindata_mut/1S1Q_A_B_NA43A_1.pkl  \n",
            "  inflating: traindata_mut/1S1Q_A_B_VA41A_1.pkl  \n",
            "  inflating: traindata_mut/1S1Q_A_B_WA73A_1.pkl  \n",
            "  inflating: traindata_mut/1SBB_A_B_LB20T_1.pkl  \n",
            "  inflating: traindata_mut/1SBB_A_B_VB26Y_1.pkl  \n",
            "  inflating: traindata_mut/1SBB_A_B_YB91V_1.pkl  \n",
            "  inflating: traindata_mut/1SGD_E_I_DI13L_1.pkl  \n",
            "  inflating: traindata_mut/1SGE_E_I_EI13L_1.pkl  \n",
            "  inflating: traindata_mut/1SGN_E_I_NI13L_1.pkl  \n",
            "  inflating: traindata_mut/1SGP_E_I_AI13L_1.pkl  \n",
            "  inflating: traindata_mut/1SGQ_E_I_GI13L_1.pkl  \n",
            "  inflating: traindata_mut/1SGY_E_I_YI13L_1.pkl  \n",
            "  inflating: traindata_mut/1VFB_AB_C_DB100A_1.pkl  \n",
            "  inflating: traindata_mut/1VFB_AB_C_DB54A_1.pkl  \n",
            "  inflating: traindata_mut/1VFB_AB_C_DB58A_1.pkl  \n",
            "  inflating: traindata_mut/1VFB_AB_C_DB58E_1.pkl  \n",
            "  inflating: traindata_mut/1VFB_AB_C_DB58N_1.pkl  \n",
            "  inflating: traindata_mut/1VFB_AB_C_DC119A_1.pkl  \n",
            "  inflating: traindata_mut/1VFB_AB_C_DC18A_1.pkl  \n",
            "  inflating: traindata_mut/1X1W_A_D_AD81E_1.pkl  \n",
            "  inflating: traindata_mut/1X1X_A_D_AD76E_1.pkl  \n",
            "  inflating: traindata_mut/1XGP_AB_C_AB33F_1.pkl  \n",
            "  inflating: traindata_mut/1XGP_AB_C_AB33I_1.pkl  \n",
            "  inflating: traindata_mut/1XGP_AB_C_AB33L_1.pkl  \n",
            "  inflating: traindata_mut/1XGP_AB_C_AB33V_1.pkl  \n",
            "  inflating: traindata_mut/1XGQ_AB_C_VB33A_1.pkl  \n",
            "  inflating: traindata_mut/1XGQ_AB_C_VB33F_1.pkl  \n",
            "  inflating: traindata_mut/1XGQ_AB_C_VB33I_1.pkl  \n",
            "  inflating: traindata_mut/1XGQ_AB_C_VB33L_1.pkl  \n",
            "  inflating: traindata_mut/1XGR_AB_C_IB33A_1.pkl  \n",
            "  inflating: traindata_mut/1XGR_AB_C_IB33F_1.pkl  \n",
            "  inflating: traindata_mut/1XGR_AB_C_IB33L_1.pkl  \n",
            "  inflating: traindata_mut/1XGR_AB_C_IB33V_1.pkl  \n",
            "  inflating: traindata_mut/1XGT_AB_C_LB33A_1.pkl  \n",
            "  inflating: traindata_mut/1XGT_AB_C_LB33F_1.pkl  \n",
            "  inflating: traindata_mut/1XGT_AB_C_LB33I_1.pkl  \n",
            "  inflating: traindata_mut/1XGT_AB_C_LB33V_1.pkl  \n",
            "  inflating: traindata_mut/1XGU_AB_C_FB33A_1.pkl  \n",
            "  inflating: traindata_mut/1XGU_AB_C_FB33I_1.pkl  \n",
            "  inflating: traindata_mut/1XGU_AB_C_FB33L_1.pkl  \n",
            "  inflating: traindata_mut/1XGU_AB_C_FB33V_1.pkl  \n",
            "  inflating: traindata_mut/1YQV_HL_Y_RY45K_1.pkl  \n",
            "  inflating: traindata_mut/2AK4_ABC_DE_AA158G_1.pkl  \n",
            "  inflating: traindata_mut/2AK4_ABC_DE_EA154A_1.pkl  \n",
            "  inflating: traindata_mut/2AK4_ABC_DE_EA161A_1.pkl  \n",
            "  inflating: traindata_mut/2AK4_ABC_DE_EE97A_1.pkl  \n",
            "  inflating: traindata_mut/2AK4_ABC_DE_LA163A_1.pkl  \n",
            "  inflating: traindata_mut/2AK4_ABC_DE_LC10A_1.pkl  \n",
            "  inflating: traindata_mut/2AK4_ABC_DE_LC5A_1.pkl  \n",
            "  inflating: traindata_mut/2B0Z_A_B_IB87F_1.pkl  \n",
            "  inflating: traindata_mut/2B10_A_B_SB87F_1.pkl  \n",
            "  inflating: traindata_mut/2B11_A_B_WB87F_1.pkl  \n",
            "  inflating: traindata_mut/2B42_A_B_HA357A_1.pkl  \n",
            "  inflating: traindata_mut/2B42_A_B_HA357K_1.pkl  \n",
            "  inflating: traindata_mut/2B42_A_B_HA357Q_1.pkl  \n",
            "  inflating: traindata_mut/2BDN_HL_A_DH31E_1.pkl  \n",
            "  inflating: traindata_mut/2BDN_HL_A_LH27K_1.pkl  \n",
            "  inflating: traindata_mut/2BDN_HL_A_LH27R_1.pkl  \n",
            "  inflating: traindata_mut/2BDN_HL_A_NH28D_1.pkl  \n",
            "  inflating: traindata_mut/2BDN_HL_A_NH28Q_1.pkl  \n",
            "  inflating: traindata_mut/2BDN_HL_A_NL31K_1.pkl  \n",
            "  inflating: traindata_mut/2BDN_HL_A_NL31R_1.pkl  \n",
            "  inflating: traindata_mut/2BNR_ABC_DE_AA149G_1.pkl  \n",
            "  inflating: traindata_mut/2BNR_ABC_DE_AA150G_1.pkl  \n",
            "  inflating: traindata_mut/2BNR_ABC_DE_AA69G_1.pkl  \n",
            "  inflating: traindata_mut/2BNR_ABC_DE_DA61A_1.pkl  \n",
            "  inflating: traindata_mut/2BNR_ABC_DE_EA58A_1.pkl  \n",
            "  inflating: traindata_mut/2BNR_ABC_DE_EA63A_1.pkl  \n",
            "  inflating: traindata_mut/2BNR_ABC_DE_HA151A_1.pkl  \n",
            "  inflating: traindata_mut/2C0L_A_B_NA48A_1.pkl  \n",
            "  inflating: traindata_mut/2C0L_A_B_QA239R_1.pkl  \n",
            "  inflating: traindata_mut/2C0L_A_B_SA242Y_1.pkl  \n",
            "  inflating: traindata_mut/2DVW_A_B_EA180A_1.pkl  \n",
            "  inflating: traindata_mut/2DVW_A_B_KA114A_1.pkl  \n",
            "  inflating: traindata_mut/2DVW_A_B_KB62E_1.pkl  \n",
            "  inflating: traindata_mut/2DVW_A_B_RA39A_1.pkl  \n",
            "  inflating: traindata_mut/2DVW_A_B_RB7A_1.pkl  \n",
            "  inflating: traindata_mut/2E7L_EQ_AD_FQ5R_1.pkl  \n",
            "  inflating: traindata_mut/2GOX_A_B_NB38A_1.pkl  \n",
            "  inflating: traindata_mut/2GOX_A_B_RB31A_1.pkl  \n",
            "  inflating: traindata_mut/2HLE_A_B_KA141Q_1.pkl  \n",
            "  inflating: traindata_mut/2HLE_A_B_LA87R_1.pkl  \n",
            "  inflating: traindata_mut/2J12_A_B_SA116A_1.pkl  \n",
            "  inflating: traindata_mut/2J1K_C_T_GC10D_1.pkl  \n",
            "  inflating: traindata_mut/2J1K_C_T_RC155A_1.pkl  \n",
            "  inflating: traindata_mut/2J1K_C_T_RC24A_1.pkl  \n",
            "  inflating: traindata_mut/2J8U_ABC_EF_AA66K_1.pkl  \n",
            "  inflating: traindata_mut/2JCC_ABC_EF_AA167W_1.pkl  \n",
            "  inflating: traindata_mut/2KSO_A_B_HB20E_1.pkl  \n",
            "  inflating: traindata_mut/2KSO_A_B_KA10D_1.pkl  \n",
            "  inflating: traindata_mut/2KSO_A_B_KA49D_1.pkl  \n",
            "  inflating: traindata_mut/2KSO_A_B_KA49E_1.pkl  \n",
            "  inflating: traindata_mut/2KSO_A_B_RA43E_1.pkl  \n",
            "  inflating: traindata_mut/2NU0_E_I_WI13L_1.pkl  \n",
            "  inflating: traindata_mut/2NU1_E_I_HI13L_1.pkl  \n",
            "  inflating: traindata_mut/2NU2_E_I_RI13L_1.pkl  \n",
            "  inflating: traindata_mut/2NU4_E_I_KI13L_1.pkl  \n",
            "  inflating: traindata_mut/2OI9_AQ_BC_FQ5R_1.pkl  \n",
            "  inflating: traindata_mut/2OOB_A_B_AA9E_1.pkl  \n",
            "  inflating: traindata_mut/2OOB_A_B_GA13S_1.pkl  \n",
            "  inflating: traindata_mut/2OOB_A_B_KA7E_1.pkl  \n",
            "  inflating: traindata_mut/2PCC_A_B_AB86G_1.pkl  \n",
            "  inflating: traindata_mut/2PCC_A_B_DA34A_1.pkl  \n",
            "  inflating: traindata_mut/2PCC_A_B_EA290A_1.pkl  \n",
            "  inflating: traindata_mut/2PCC_A_B_KB77A_1.pkl  \n",
            "  inflating: traindata_mut/2PCC_A_B_KB92A_1.pkl  \n",
            "  inflating: traindata_mut/2PCC_A_B_VA197A_1.pkl  \n",
            "  inflating: traindata_mut/2SGP_E_I_PI13L_1.pkl  \n",
            "  inflating: traindata_mut/2SGQ_E_I_QI13L_1.pkl  \n",
            "  inflating: traindata_mut/2UWE_ABC_EF_AA163T_1.pkl  \n",
            "  inflating: traindata_mut/2VLR_ABC_DE_AE95S_1.pkl  \n",
            "  inflating: traindata_mut/3AAA_AB_C_DC43A_1.pkl  \n",
            "  inflating: traindata_mut/3AAA_AB_C_EC77A_1.pkl  \n",
            "  inflating: traindata_mut/3AAA_AB_C_EC77R_1.pkl  \n",
            "  inflating: traindata_mut/3AAA_AB_C_KA248A_1.pkl  \n",
            "  inflating: traindata_mut/3AAA_AB_C_KA248E_1.pkl  \n",
            "  inflating: traindata_mut/3AAA_AB_C_RA252A_1.pkl  \n",
            "  inflating: traindata_mut/3AAA_AB_C_RA252E_1.pkl  \n",
            "  inflating: traindata_mut/3BK3_A_C_AC37R_1.pkl  \n",
            "  inflating: traindata_mut/3BK3_A_C_IC19A_1.pkl  \n",
            "  inflating: traindata_mut/3BK3_A_C_IC19R_1.pkl  \n",
            "  inflating: traindata_mut/3BK3_A_C_IC22A_1.pkl  \n",
            "  inflating: traindata_mut/3BK3_A_C_IC22R_1.pkl  \n",
            "  inflating: traindata_mut/3BK3_A_C_IC28A_1.pkl  \n",
            "  inflating: traindata_mut/3BK3_A_C_IC28R_1.pkl  \n",
            "  inflating: traindata_mut/3BP8_A_C_AC51F_1.pkl  \n",
            "  inflating: traindata_mut/3BP8_A_C_FA115A_1.pkl  \n",
            "  inflating: traindata_mut/3C60_CD_AB_DC56A_1.pkl  \n",
            "  inflating: traindata_mut/3C60_CD_AB_DD13A_1.pkl  \n",
            "  inflating: traindata_mut/3C60_CD_AB_DD86A_1.pkl  \n",
            "  inflating: traindata_mut/3C60_CD_AB_ED2A_1.pkl  \n",
            "  inflating: traindata_mut/3C60_CD_AB_ED69A_1.pkl  \n",
            "  inflating: traindata_mut/3C60_CD_AB_ED76A_1.pkl  \n",
            "  inflating: traindata_mut/3C60_CD_AB_ED79A_1.pkl  \n",
            "  inflating: traindata_mut/3D5R_A_C_AC38N_1.pkl  \n",
            "  inflating: traindata_mut/3D5S_A_C_AC31R_1.pkl  \n",
            "  inflating: traindata_mut/3EG5_A_B_HA104F_1.pkl  \n",
            "  inflating: traindata_mut/3EQS_A_B_EB5A_1.pkl  \n",
            "  inflating: traindata_mut/3EQS_A_B_FB3A_1.pkl  \n",
            "  inflating: traindata_mut/3EQS_A_B_LB10A_1.pkl  \n",
            "  inflating: traindata_mut/3EQS_A_B_LB9A_1.pkl  \n",
            "  inflating: traindata_mut/3EQS_A_B_NB8A_1.pkl  \n",
            "  inflating: traindata_mut/3EQS_A_B_SB11A_1.pkl  \n",
            "  inflating: traindata_mut/3EQS_A_B_SB2A_1.pkl  \n",
            "  inflating: traindata_mut/3EQY_A_C_EC5A_1.pkl  \n",
            "  inflating: traindata_mut/3EQY_A_C_FC3A_1.pkl  \n",
            "  inflating: traindata_mut/3EQY_A_C_LC10A_1.pkl  \n",
            "  inflating: traindata_mut/3EQY_A_C_LC9A_1.pkl  \n",
            "  inflating: traindata_mut/3EQY_A_C_NC8A_1.pkl  \n",
            "  inflating: traindata_mut/3EQY_A_C_PC12A_1.pkl  \n",
            "  inflating: traindata_mut/3EQY_A_C_SC11A_1.pkl  \n",
            "  inflating: traindata_mut/3H9S_ABC_DE_AA150P_1.pkl  \n",
            "  inflating: traindata_mut/3HFM_HL_Y_DH32A_1.pkl  \n",
            "  inflating: traindata_mut/3HFM_HL_Y_DH32N_1.pkl  \n",
            "  inflating: traindata_mut/3HFM_HL_Y_KY96A_1.pkl  \n",
            "  inflating: traindata_mut/3HFM_HL_Y_KY97A_1.pkl  \n",
            "  inflating: traindata_mut/3HFM_HL_Y_KY97M_1.pkl  \n",
            "  inflating: traindata_mut/3HFM_HL_Y_NL31A_1.pkl  \n",
            "  inflating: traindata_mut/3HFM_HL_Y_NL31D_1.pkl  \n",
            "  inflating: traindata_mut/3HH2_AB_C_FC47A_1.pkl  \n",
            "  inflating: traindata_mut/3HH2_AB_C_FC47E_1.pkl  \n",
            "  inflating: traindata_mut/3HH2_AB_C_FC52A_1.pkl  \n",
            "  inflating: traindata_mut/3HH2_AB_C_FC52E_1.pkl  \n",
            "  inflating: traindata_mut/3HH2_AB_C_IC51A_1.pkl  \n",
            "  inflating: traindata_mut/3HH2_AB_C_IC51E_1.pkl  \n",
            "  inflating: traindata_mut/3HH2_AB_C_VC15E_1.pkl  \n",
            "  inflating: traindata_mut/3L5X_A_HL_YL94A_1.pkl  \n",
            "  inflating: traindata_mut/3LNZ_A_B_AB8N_1.pkl  \n",
            "  inflating: traindata_mut/3M62_A_B_DA46A_1.pkl  \n",
            "  inflating: traindata_mut/3M62_A_B_EA32A_1.pkl  \n",
            "  inflating: traindata_mut/3M62_A_B_EA55A_1.pkl  \n",
            "  inflating: traindata_mut/3M62_A_B_FB7A_1.pkl  \n",
            "  inflating: traindata_mut/3M62_A_B_GA102A_1.pkl  \n",
            "  inflating: traindata_mut/3M62_A_B_IA110A_1.pkl  \n",
            "  inflating: traindata_mut/3M62_A_B_IB43A_1.pkl  \n",
            "  inflating: traindata_mut/3M63_A_B_DA46A_1.pkl  \n",
            "  inflating: traindata_mut/3M63_A_B_EA33A_1.pkl  \n",
            "  inflating: traindata_mut/3M63_A_B_EA55A_1.pkl  \n",
            "  inflating: traindata_mut/3M63_A_B_FA113A_1.pkl  \n",
            "  inflating: traindata_mut/3M63_A_B_GA102A_1.pkl  \n",
            "  inflating: traindata_mut/3M63_A_B_IA110A_1.pkl  \n",
            "  inflating: traindata_mut/3M63_A_B_LA50A_1.pkl  \n",
            "  inflating: traindata_mut/3MZG_A_B_HA125A_1.pkl  \n",
            "  inflating: traindata_mut/3MZG_A_B_HA14A_1.pkl  \n",
            "  inflating: traindata_mut/3MZG_A_B_HA160A_1.pkl  \n",
            "  inflating: traindata_mut/3MZG_A_B_HA167A_1.pkl  \n",
            "  inflating: traindata_mut/3MZG_A_B_HA17A_1.pkl  \n",
            "  inflating: traindata_mut/3MZG_A_B_HA182A_1.pkl  \n",
            "  inflating: traindata_mut/3MZG_A_B_HA33A_1.pkl  \n",
            "  inflating: traindata_mut/3MZW_A_B_NB18A_1.pkl  \n",
            "  inflating: traindata_mut/3MZW_A_B_NB18G_1.pkl  \n",
            "  inflating: traindata_mut/3MZW_A_B_NB18T_1.pkl  \n",
            "  inflating: traindata_mut/3NCC_A_B_AB188H_1.pkl  \n",
            "  inflating: traindata_mut/3Q3J_A_B_YB100F_1.pkl  \n",
            "  inflating: traindata_mut/3Q8D_A_E_FA227A_1.pkl  \n",
            "  inflating: traindata_mut/3Q8D_A_E_FA227D_1.pkl  \n",
            "  inflating: traindata_mut/3Q8D_A_E_RA12A_1.pkl  \n",
            "  inflating: traindata_mut/3Q8D_A_E_RA131A_1.pkl  \n",
            "  inflating: traindata_mut/3Q8D_A_E_RA202A_1.pkl  \n",
            "  inflating: traindata_mut/3Q8D_A_E_RA202E_1.pkl  \n",
            "  inflating: traindata_mut/3Q8D_A_E_RA209A_1.pkl  \n",
            "  inflating: traindata_mut/3QDG_ABC_DE_AE52P_1.pkl  \n",
            "  inflating: traindata_mut/3QDG_ABC_DE_DD26W_1.pkl  \n",
            "  inflating: traindata_mut/3QDG_ABC_DE_DD26Y_1.pkl  \n",
            "  inflating: traindata_mut/3QDG_ABC_DE_FE97W_1.pkl  \n",
            "  inflating: traindata_mut/3QDG_ABC_DE_FE97Y_1.pkl  \n",
            "  inflating: traindata_mut/3QDG_ABC_DE_GD28I_1.pkl  \n",
            "  inflating: traindata_mut/3QDG_ABC_DE_GD28L_1.pkl  \n",
            "  inflating: traindata_mut/3QDJ_ABC_DE_AC2L_1.pkl  \n",
            "  inflating: traindata_mut/3QDJ_ABC_DE_AE52P_1.pkl  \n",
            "  inflating: traindata_mut/3QDJ_ABC_DE_DD26W_1.pkl  \n",
            "  inflating: traindata_mut/3QDJ_ABC_DE_DD26Y_1.pkl  \n",
            "  inflating: traindata_mut/3QDJ_ABC_DE_FE97W_1.pkl  \n",
            "  inflating: traindata_mut/3QDJ_ABC_DE_FE97Y_1.pkl  \n",
            "  inflating: traindata_mut/3QDJ_ABC_DE_GD28I_1.pkl  \n",
            "  inflating: traindata_mut/3QIB_ABP_CD_AA61G_1.pkl  \n",
            "  inflating: traindata_mut/3QIB_ABP_CD_AA64G_1.pkl  \n",
            "  inflating: traindata_mut/3QIB_ABP_CD_AA68G_1.pkl  \n",
            "  inflating: traindata_mut/3QIB_ABP_CD_AB71G_1.pkl  \n",
            "  inflating: traindata_mut/3QIB_ABP_CD_DB74A_1.pkl  \n",
            "  inflating: traindata_mut/3QIB_ABP_CD_EA75A_1.pkl  \n",
            "  inflating: traindata_mut/3QIB_ABP_CD_EB57A_1.pkl  \n",
            "  inflating: traindata_mut/3S9D_A_B_AA116G_1.pkl  \n",
            "  inflating: traindata_mut/3S9D_A_B_AA116M_1.pkl  \n",
            "  inflating: traindata_mut/3S9D_A_B_AA12W_1.pkl  \n",
            "  inflating: traindata_mut/3S9D_A_B_AB67M_1.pkl  \n",
            "  inflating: traindata_mut/3S9D_A_B_DA25A_1.pkl  \n",
            "  inflating: traindata_mut/3S9D_A_B_DA28A_1.pkl  \n",
            "  inflating: traindata_mut/3S9D_A_B_DB121R_1.pkl  \n",
            "  inflating: traindata_mut/3SF4_A_D_ED19R_1.pkl  \n",
            "  inflating: traindata_mut/3SF4_A_D_KD27D_1.pkl  \n",
            "  inflating: traindata_mut/3SF4_A_D_NA264R_1.pkl  \n",
            "  inflating: traindata_mut/3SF4_A_D_RA202E_1.pkl  \n",
            "  inflating: traindata_mut/3SF4_A_D_WD8A_1.pkl  \n",
            "  inflating: traindata_mut/3SGB_E_I_AI9C_1.pkl  \n",
            "  inflating: traindata_mut/3SGB_E_I_AI9D_1.pkl  \n",
            "  inflating: traindata_mut/3SGB_E_I_AI9E_1.pkl  \n",
            "  inflating: traindata_mut/3SGB_E_I_AI9F_1.pkl  \n",
            "  inflating: traindata_mut/3SGB_E_I_AI9G_1.pkl  \n",
            "  inflating: traindata_mut/3SGB_E_I_AI9H_1.pkl  \n",
            "  inflating: traindata_mut/3SGB_E_I_AI9I_1.pkl  \n",
            "  inflating: traindata_mut/3TGK_E_I_NE170D_1.pkl  \n",
            "  inflating: traindata_mut/3UII_A_P_KA58A_1.pkl  \n",
            "  inflating: traindata_mut/3W2D_A_HL_KA67N_1.pkl  \n",
            "  inflating: traindata_mut/3W2D_A_HL_KA67R_1.pkl  \n",
            "  inflating: traindata_mut/3W2D_A_HL_YA45F_1.pkl  \n",
            "  inflating: traindata_mut/3W2D_A_HL_YA45L_1.pkl  \n",
            "  inflating: traindata_mut/3WWN_A_B_KA225E_1.pkl  \n",
            "  inflating: traindata_mut/3WWN_A_B_RA221E_1.pkl  \n",
            "  inflating: traindata_mut/3WWN_A_B_RA224E_1.pkl  \n",
            "  inflating: traindata_mut/4B0M_A_BM_AB127G_1.pkl  \n",
            "  inflating: traindata_mut/4B0M_A_BM_LM40A_1.pkl  \n",
            "  inflating: traindata_mut/4B0M_A_BM_MA8A_1.pkl  \n",
            "  inflating: traindata_mut/4B0M_A_BM_PM98A_1.pkl  \n",
            "  inflating: traindata_mut/4B0M_A_BM_PM98S_1.pkl  \n",
            "  inflating: traindata_mut/4B0M_A_BM_PM99A_1.pkl  \n",
            "  inflating: traindata_mut/4B0M_A_BM_PM99S_1.pkl  \n",
            "  inflating: traindata_mut/4CVW_A_C_DA720R_1.pkl  \n",
            "  inflating: traindata_mut/4CVW_A_C_DA720W_1.pkl  \n",
            "  inflating: traindata_mut/4CVW_A_C_LC34G_1.pkl  \n",
            "  inflating: traindata_mut/4CVW_A_C_LC34W_1.pkl  \n",
            "  inflating: traindata_mut/4CVW_A_C_RC27A_1.pkl  \n",
            "  inflating: traindata_mut/4CVW_A_C_RC31A_1.pkl  \n",
            "  inflating: traindata_mut/4CVW_A_C_RC31W_1.pkl  \n",
            "  inflating: traindata_mut/4EKD_A_B_CA147R_1.pkl  \n",
            "  inflating: traindata_mut/4FTV_ABC_DE_DD93A_1.pkl  \n",
            "  inflating: traindata_mut/4FTV_ABC_DE_KD66A_1.pkl  \n",
            "  inflating: traindata_mut/4FTV_ABC_DE_QE101E_1.pkl  \n",
            "  inflating: traindata_mut/4FTV_ABC_DE_QE101R_1.pkl  \n",
            "  inflating: traindata_mut/4FTV_ABC_DE_RA65A_1.pkl  \n",
            "  inflating: traindata_mut/4FTV_ABC_DE_TA163A_1.pkl  \n",
            "  inflating: traindata_mut/4HFK_A_BD_EB46A_1.pkl  \n",
            "  inflating: traindata_mut/4HFK_A_BD_EB56A_1.pkl  \n",
            "  inflating: traindata_mut/4HFK_A_BD_LB45A_1.pkl  \n",
            "  inflating: traindata_mut/4HFK_A_BD_LB50A_1.pkl  \n",
            "  inflating: traindata_mut/4HFK_A_BD_NB49A_1.pkl  \n",
            "  inflating: traindata_mut/4HFK_A_BD_RB22A_1.pkl  \n",
            "  inflating: traindata_mut/4HFK_A_BD_SB48A_1.pkl  \n",
            "  inflating: traindata_mut/4I77_HL_Z_DH54A_1.pkl  \n",
            "  inflating: traindata_mut/4I77_HL_Z_NL95A_1.pkl  \n",
            "  inflating: traindata_mut/4I77_HL_Z_WH52A_1.pkl  \n",
            "  inflating: traindata_mut/4I77_HL_Z_WH52F_1.pkl  \n",
            "  inflating: traindata_mut/4I77_HL_Z_YH100A_1.pkl  \n",
            "  inflating: traindata_mut/4I77_HL_Z_YH100F_1.pkl  \n",
            "  inflating: traindata_mut/4I77_HL_Z_YH101A_1.pkl  \n",
            "  inflating: traindata_mut/4JFF_ABC_DE_EC1A_1.pkl  \n",
            "  inflating: traindata_mut/4JFF_ABC_DE_GC4A_1.pkl  \n",
            "  inflating: traindata_mut/4JFF_ABC_DE_GC6A_1.pkl  \n",
            "  inflating: traindata_mut/4JFF_ABC_DE_IC7A_1.pkl  \n",
            "  inflating: traindata_mut/4JFF_ABC_DE_LC8A_1.pkl  \n",
            "  inflating: traindata_mut/4JFF_ABC_DE_TC9A_1.pkl  \n",
            "  inflating: traindata_mut/4JGH_ABC_D_WD44A_1.pkl  \n",
            "  inflating: traindata_mut/4KRL_A_B_DB112A_1.pkl  \n",
            "  inflating: traindata_mut/4KRL_A_B_RB30A_1.pkl  \n",
            "  inflating: traindata_mut/4KRO_A_B_DB92A_1.pkl  \n",
            "  inflating: traindata_mut/4KRO_A_B_RB15A_1.pkl  \n",
            "  inflating: traindata_mut/4KRP_A_B_EB105A_1.pkl  \n",
            "  inflating: traindata_mut/4L3E_ABC_DE_EA166A_1.pkl  \n",
            "  inflating: traindata_mut/4L3E_ABC_DE_ND52A_1.pkl  \n",
            "  inflating: traindata_mut/4L3E_ABC_DE_QA155A_1.pkl  \n",
            "  inflating: traindata_mut/4L3E_ABC_DE_RA65A_1.pkl  \n",
            "  inflating: traindata_mut/4L3E_ABC_DE_YD26A_1.pkl  \n",
            "  inflating: traindata_mut/4L3E_ABC_DE_YD50A_1.pkl  \n",
            "  inflating: traindata_mut/4L3E_ABC_DE_YE48A_1.pkl  \n",
            "  inflating: traindata_mut/4LRX_AB_CD_HA56N_1.pkl  \n",
            "  inflating: traindata_mut/4N8V_G_ABC_KG38A_1.pkl  \n",
            "  inflating: traindata_mut/4N8V_G_ABC_PG10A_1.pkl  \n",
            "  inflating: traindata_mut/4N8V_G_ABC_YG124A_1.pkl  \n",
            "  inflating: traindata_mut/4N8V_G_ABC_YG39F_1.pkl  \n",
            "  inflating: traindata_mut/4OZG_ABJ_GH_DH98A_1.pkl  \n",
            "  inflating: traindata_mut/4OZG_ABJ_GH_FH94A_1.pkl  \n",
            "  inflating: traindata_mut/4OZG_ABJ_GH_FH96A_1.pkl  \n",
            "  inflating: traindata_mut/4OZG_ABJ_GH_LG50A_1.pkl  \n",
            "  inflating: traindata_mut/4OZG_ABJ_GH_NG29A_1.pkl  \n",
            "  inflating: traindata_mut/4OZG_ABJ_GH_NH50A_1.pkl  \n",
            "  inflating: traindata_mut/4OZG_ABJ_GH_QH48A_1.pkl  \n",
            "  inflating: traindata_mut/4P23_CD_AB_DC56A_1.pkl  \n",
            "  inflating: traindata_mut/4P23_CD_AB_DD13A_1.pkl  \n",
            "  inflating: traindata_mut/4P23_CD_AB_DD85A_1.pkl  \n",
            "  inflating: traindata_mut/4P23_CD_AB_ED2A_1.pkl  \n",
            "  inflating: traindata_mut/4P23_CD_AB_ED68A_1.pkl  \n",
            "  inflating: traindata_mut/4P23_CD_AB_ED75A_1.pkl  \n",
            "  inflating: traindata_mut/4P23_CD_AB_ED78A_1.pkl  \n",
            "  inflating: traindata_mut/4P5T_CD_AB_DC56A_1.pkl  \n",
            "  inflating: traindata_mut/4P5T_CD_AB_DD13A_1.pkl  \n",
            "  inflating: traindata_mut/4P5T_CD_AB_DD84A_1.pkl  \n",
            "  inflating: traindata_mut/4P5T_CD_AB_ED2A_1.pkl  \n",
            "  inflating: traindata_mut/4P5T_CD_AB_ED67A_1.pkl  \n",
            "  inflating: traindata_mut/4P5T_CD_AB_ED74A_1.pkl  \n",
            "  inflating: traindata_mut/4P5T_CD_AB_ED77A_1.pkl  \n"
          ]
        }
      ]
    },
    {
      "cell_type": "markdown",
      "metadata": {
        "id": "0MITfdiW_mxG"
      },
      "source": [
        "Load the samples of wild-type and mutant environments."
      ]
    },
    {
      "cell_type": "code",
      "metadata": {
        "id": "ZTynVsYS_qpu"
      },
      "source": [
        "samples = glob.glob(os.path.join('traindata_mut', '*.pkl'))"
      ],
      "execution_count": null,
      "outputs": []
    },
    {
      "cell_type": "markdown",
      "source": [
        "Function to reduce number of channels."
      ],
      "metadata": {
        "id": "aezkxSqpy_xy"
      }
    },
    {
      "cell_type": "code",
      "source": [
        "channels = {'ALA':['C','N','O','CA','CB'],\n",
        "            'ARG':['C','N','O','CA','CB','CG','CD','NE','CZ','NH1','NH2'],\n",
        "            'ASN':['C','N','O','CA','CB','CG','ND2','OD1'],\n",
        "            'ASP':['C','N','O','CA','CB','CG','OD1','OD2'],\n",
        "            'CYS':['C','N','O','CA','CB','SG'],\n",
        "            'GLN':['C','N','O','CA','CB','CG','CD','NE2','OE1'],\n",
        "            'GLU':['C','N','O','CA','CB','CG','CD','OE1','OE2'],\n",
        "            'GLY':['C','N','O','CA'],\n",
        "            'HIS':['C','N','O','CA','CB','CG','CD2','ND1','CE1','NE2'],\n",
        "            'ILE':['C','N','O','CA','CB','CG1','CG2','CD1'],\n",
        "            'LEU':['C','N','O','CA','CB','CG','CD1','CD2'],\n",
        "            'LYS':['C','N','O','CA','CB','CG','CD','CE','NZ'],\n",
        "            'MET':['C','N','O','CA','CB','CG','SD','CE'],\n",
        "            'PHE':['C','N','O','CA','CB','CG','CD1','CD2','CE1','CE2','CZ'],\n",
        "            'PRO':['C','N','O','CA','CB','CG','CD'],\n",
        "            'SER':['C','N','O','CA','CB','OG'],\n",
        "            'THR':['C','N','O','CA','CB','CG2','OG1'],\n",
        "            'TRP':['C','N','O','CA','CB','CG','CD1','CD2','CE2','CE3','NE1','CZ2','CZ3','CH2'],\n",
        "            'TYR':['C','N','O','CA','CB','CG','CD1','CD2','CE1','CE2','CZ','OH'],\n",
        "            'VAL':['C','N','O','CA','CB','CG1','CG2']}\n",
        "v_dim = 24\n",
        "n_channels = 4\n",
        "\n",
        "all_channels = []\n",
        "for aa, a_vector in channels.items():\n",
        "    all_channels += a_vector\n",
        "\n",
        "C_index, O_index, N_index, S_index = [], [], [], []\n",
        "for i,a in enumerate(all_channels):\n",
        "    if a[0] == \"C\":\n",
        "        C_index.append(i)\n",
        "    if a[0] == \"O\":\n",
        "        O_index.append(i)\n",
        "    if a[0] == \"N\":\n",
        "        N_index.append(i)\n",
        "    if a[0] == \"S\":\n",
        "        S_index.append(i)\n",
        "\n",
        "def reduce_channels(X):\n",
        "    try:\n",
        "        X_new = np.zeros(X.shape[:-1] + tuple([n_channels]))\n",
        "\n",
        "        X_new[:,:,:,0] = X[:,:,:,C_index].sum(axis=3)\n",
        "        X_new[:,:,:,1] = X[:,:,:,N_index].sum(axis=3)\n",
        "        X_new[:,:,:,2] = X[:,:,:,O_index].sum(axis=3)\n",
        "        X_new[:,:,:,3] = X[:,:,:,S_index].sum(axis=3)\n",
        "    except:\n",
        "        pass\n",
        "    return X_new"
      ],
      "metadata": {
        "id": "q6JEOhAkx9EF"
      },
      "execution_count": null,
      "outputs": []
    },
    {
      "cell_type": "code",
      "metadata": {
        "id": "KwXWEjiN_4ff",
        "colab": {
          "base_uri": "https://localhost:8080/"
        },
        "outputId": "d6f77967-6ec7-4ea4-fa7b-7c085fdf6d8b"
      },
      "source": [
        "X, y = [],[]\n",
        "X_train, X_test, y_train, y_test = [],[],[],[]\n",
        "for sample in samples[:100]:\n",
        "  print('Loading ' + sample)\n",
        "  sample_X_wt, sample_X_mut, sample_y, sample_com, sample_muta = load_obj(sample.replace('.pkl',''))\n",
        "  #sample_X_wt = reduce_channels(sample_X_wt[0])\n",
        "  #sample_X_mut = reduce_channels(sample_X_mut[0])\n",
        "  X.append([sample_X_wt[0], sample_X_mut[0]])\n",
        "  y.append(sample_y)\n",
        "X = np.array(X)\n",
        "y = np.array(y)"
      ],
      "execution_count": null,
      "outputs": [
        {
          "output_type": "stream",
          "name": "stdout",
          "text": [
            "Loading traindata_mut/1OGA_ABC_DE_DE52A_1.pkl\n",
            "Loading traindata_mut/3WWN_A_B_RA221E_1.pkl\n",
            "Loading traindata_mut/3HH2_AB_C_FC52A_1.pkl\n",
            "Loading traindata_mut/1AO7_ABC_DE_DA61A_1.pkl\n",
            "Loading traindata_mut/2BNR_ABC_DE_DA61A_1.pkl\n",
            "Loading traindata_mut/1GRN_A_B_DA38E_1.pkl\n",
            "Loading traindata_mut/1MLC_AB_E_NA92A_1.pkl\n",
            "Loading traindata_mut/1YQV_HL_Y_RY45K_1.pkl\n",
            "Loading traindata_mut/2J1K_C_T_RC155A_1.pkl\n",
            "Loading traindata_mut/1XGT_AB_C_LB33I_1.pkl\n",
            "Loading traindata_mut/2PCC_A_B_DA34A_1.pkl\n",
            "Loading traindata_mut/3AAA_AB_C_KA248A_1.pkl\n",
            "Loading traindata_mut/2AK4_ABC_DE_EA154A_1.pkl\n",
            "Loading traindata_mut/4CVW_A_C_LC34W_1.pkl\n",
            "Loading traindata_mut/1SGP_E_I_AI13L_1.pkl\n",
            "Loading traindata_mut/1F47_A_B_DA7G_1.pkl\n",
            "Loading traindata_mut/3AAA_AB_C_EC77A_1.pkl\n",
            "Loading traindata_mut/1AO7_ABC_DE_AA149G_1.pkl\n",
            "Loading traindata_mut/3HH2_AB_C_VC15E_1.pkl\n",
            "Loading traindata_mut/1AO7_ABC_DE_AA69G_1.pkl\n",
            "Loading traindata_mut/1BRS_A_D_EA71C_1.pkl\n",
            "Loading traindata_mut/2BDN_HL_A_NH28D_1.pkl\n",
            "Loading traindata_mut/1OGA_ABC_DE_EA63A_1.pkl\n",
            "Loading traindata_mut/1C4Z_ABC_D_DA145K_1.pkl\n",
            "Loading traindata_mut/3SGB_E_I_AI9E_1.pkl\n",
            "Loading traindata_mut/4N8V_G_ABC_YG39F_1.pkl\n",
            "Loading traindata_mut/4P5T_CD_AB_ED2A_1.pkl\n",
            "Loading traindata_mut/1S1Q_A_B_WA73A_1.pkl\n",
            "Loading traindata_mut/1MLC_AB_E_KB65D_1.pkl\n",
            "Loading traindata_mut/1BRS_A_D_EA71Q_1.pkl\n",
            "Loading traindata_mut/3SGB_E_I_AI9F_1.pkl\n",
            "Loading traindata_mut/2DVW_A_B_RB7A_1.pkl\n",
            "Loading traindata_mut/1JCK_A_B_VB91A_1.pkl\n",
            "Loading traindata_mut/3QDJ_ABC_DE_FE97W_1.pkl\n",
            "Loading traindata_mut/2SGP_E_I_PI13L_1.pkl\n",
            "Loading traindata_mut/3QIB_ABP_CD_EA75A_1.pkl\n",
            "Loading traindata_mut/3EQS_A_B_LB10A_1.pkl\n",
            "Loading traindata_mut/1GCQ_AB_C_GC21V_1.pkl\n",
            "Loading traindata_mut/2KSO_A_B_HB20E_1.pkl\n",
            "Loading traindata_mut/1BD2_ABC_DE_YC5F_1.pkl\n",
            "Loading traindata_mut/3EQY_A_C_NC8A_1.pkl\n",
            "Loading traindata_mut/3AAA_AB_C_DC43A_1.pkl\n",
            "Loading traindata_mut/1PPF_E_I_AI15C_1.pkl\n",
            "Loading traindata_mut/3BK3_A_C_IC19A_1.pkl\n",
            "Loading traindata_mut/1EAW_A_B_DA214A_1.pkl\n",
            "Loading traindata_mut/1BD2_ABC_DE_RA65A_1.pkl\n",
            "Loading traindata_mut/1XGR_AB_C_IB33V_1.pkl\n",
            "Loading traindata_mut/1PPF_E_I_AI15D_1.pkl\n",
            "Loading traindata_mut/3AAA_AB_C_EC77R_1.pkl\n",
            "Loading traindata_mut/2BNR_ABC_DE_EA58A_1.pkl\n",
            "Loading traindata_mut/1CHO_EFG_I_AI12G_1.pkl\n",
            "Loading traindata_mut/3C60_CD_AB_ED69A_1.pkl\n",
            "Loading traindata_mut/1BD2_ABC_DE_ED93A_1.pkl\n",
            "Loading traindata_mut/4JFF_ABC_DE_LC8A_1.pkl\n",
            "Loading traindata_mut/2OOB_A_B_AA9E_1.pkl\n",
            "Loading traindata_mut/4I77_HL_Z_WH52F_1.pkl\n",
            "Loading traindata_mut/4JFF_ABC_DE_GC6A_1.pkl\n",
            "Loading traindata_mut/2AK4_ABC_DE_LC5A_1.pkl\n",
            "Loading traindata_mut/1X1X_A_D_AD76E_1.pkl\n",
            "Loading traindata_mut/3C60_CD_AB_DC56A_1.pkl\n",
            "Loading traindata_mut/1JRH_LH_I_DL28A_1.pkl\n",
            "Loading traindata_mut/1BD2_ABC_DE_EE28A_1.pkl\n",
            "Loading traindata_mut/1DQJ_AB_C_DC101A_1.pkl\n",
            "Loading traindata_mut/1JRH_LH_I_EI45A_1.pkl\n",
            "Loading traindata_mut/4JFF_ABC_DE_EC1A_1.pkl\n",
            "Loading traindata_mut/1MI5_ABC_DE_EE99A_1.pkl\n",
            "Loading traindata_mut/3EQS_A_B_SB11A_1.pkl\n",
            "Loading traindata_mut/4FTV_ABC_DE_DD93A_1.pkl\n",
            "Loading traindata_mut/1F47_A_B_FA11A_1.pkl\n",
            "Loading traindata_mut/1JCK_A_B_TB20A_1.pkl\n",
            "Loading traindata_mut/4JFF_ABC_DE_GC4A_1.pkl\n",
            "Loading traindata_mut/1VFB_AB_C_DB54A_1.pkl\n",
            "Loading traindata_mut/1KIR_AB_C_SA50Y_1.pkl\n",
            "Loading traindata_mut/1SBB_A_B_LB20T_1.pkl\n",
            "Loading traindata_mut/3SF4_A_D_KD27D_1.pkl\n",
            "Loading traindata_mut/1EAW_A_B_DA91A_1.pkl\n",
            "Loading traindata_mut/3HFM_HL_Y_KY97M_1.pkl\n",
            "Loading traindata_mut/1XGT_AB_C_LB33A_1.pkl\n",
            "Loading traindata_mut/4HFK_A_BD_EB56A_1.pkl\n",
            "Loading traindata_mut/2HLE_A_B_LA87R_1.pkl\n",
            "Loading traindata_mut/1DQJ_AB_C_KC97A_1.pkl\n",
            "Loading traindata_mut/3EQS_A_B_LB9A_1.pkl\n",
            "Loading traindata_mut/1MI5_ABC_DE_GD93A_1.pkl\n",
            "Loading traindata_mut/1F47_A_B_KA14A_1.pkl\n",
            "Loading traindata_mut/4N8V_G_ABC_PG10A_1.pkl\n",
            "Loading traindata_mut/3EG5_A_B_HA104F_1.pkl\n",
            "Loading traindata_mut/1PPF_E_I_AI15I_1.pkl\n",
            "Loading traindata_mut/1GCQ_AB_C_WC47Y_1.pkl\n",
            "Loading traindata_mut/2NU1_E_I_HI13L_1.pkl\n",
            "Loading traindata_mut/4I77_HL_Z_YH101A_1.pkl\n",
            "Loading traindata_mut/3SGB_E_I_AI9C_1.pkl\n",
            "Loading traindata_mut/4OZG_ABJ_GH_NH50A_1.pkl\n",
            "Loading traindata_mut/1CBW_FGH_I_KI15A_1.pkl\n",
            "Loading traindata_mut/1LP9_ABC_EF_KA66A_1.pkl\n",
            "Loading traindata_mut/1AO7_ABC_DE_AE96M_1.pkl\n",
            "Loading traindata_mut/1XGQ_AB_C_VB33L_1.pkl\n",
            "Loading traindata_mut/3BK3_A_C_IC22A_1.pkl\n",
            "Loading traindata_mut/3EQY_A_C_FC3A_1.pkl\n",
            "Loading traindata_mut/3C60_CD_AB_DD86A_1.pkl\n",
            "Loading traindata_mut/2OOB_A_B_KA7E_1.pkl\n"
          ]
        }
      ]
    },
    {
      "cell_type": "markdown",
      "metadata": {
        "id": "-eZ7gK40AjwT"
      },
      "source": [
        "#### 2.3 Split data into train and test sets"
      ]
    },
    {
      "cell_type": "code",
      "metadata": {
        "colab": {
          "base_uri": "https://localhost:8080/"
        },
        "id": "-h_S52pbAkB5",
        "outputId": "23b21779-3731-419f-8dc4-c1142f7a38ae"
      },
      "source": [
        "seed(int(np.round(np.random.random()*10)))\n",
        "X_train, X_test, y_train, y_test = train_test_split(X, y, test_size=0.3, random_state=4)\n",
        "%xdel X\n",
        "%xdel y\n",
        "gc.collect()\n",
        "print(X_test.shape)"
      ],
      "execution_count": null,
      "outputs": [
        {
          "output_type": "stream",
          "name": "stdout",
          "text": [
            "(30, 2, 24, 24, 24, 170)\n"
          ]
        }
      ]
    },
    {
      "cell_type": "markdown",
      "metadata": {
        "id": "xlrUMY1OArrm"
      },
      "source": [
        "#### 2.4 Training Process"
      ]
    },
    {
      "cell_type": "code",
      "metadata": {
        "id": "YfZzLtDmAq1-"
      },
      "source": [
        "num_epochs = 20\n",
        "batch_size = 10\n",
        "v_dim = 24\n",
        "n_features = 167+3"
      ],
      "execution_count": null,
      "outputs": []
    },
    {
      "cell_type": "code",
      "metadata": {
        "id": "DovbF7LXA3zt",
        "colab": {
          "base_uri": "https://localhost:8080/",
          "height": 1000
        },
        "outputId": "50acaf88-2fad-454e-e26f-316fcf032570"
      },
      "source": [
        "input_shape=(v_dim,v_dim,v_dim,n_features)\n",
        "model = get_siamese_model(input_shape)\n",
        "\n",
        "# --------------------------------------\n",
        "# Training\n",
        "# --------------------------------------\n",
        "history = model.fit([X_train[:,0], X_train[:,1]], y_train, # Train the model using the training set...\n",
        "                    batch_size=batch_size, epochs=num_epochs,\n",
        "                    verbose=1, validation_split=0.3) # ...holding out 30% of the data for validation"
      ],
      "execution_count": null,
      "outputs": [
        {
          "output_type": "display_data",
          "data": {
            "text/plain": [
              "\u001b[1mModel: \"functional_3\"\u001b[0m\n"
            ],
            "text/html": [
              "<pre style=\"white-space:pre;overflow-x:auto;line-height:normal;font-family:Menlo,'DejaVu Sans Mono',consolas,'Courier New',monospace\"><span style=\"font-weight: bold\">Model: \"functional_3\"</span>\n",
              "</pre>\n"
            ]
          },
          "metadata": {}
        },
        {
          "output_type": "display_data",
          "data": {
            "text/plain": [
              "┏━━━━━━━━━━━━━━━━━━━━━━━━━━━┳━━━━━━━━━━━━━━━━━━━━━━━━┳━━━━━━━━━━━━━━━━┳━━━━━━━━━━━━━━━━━━━━━━━━┓\n",
              "┃\u001b[1m \u001b[0m\u001b[1mLayer (type)             \u001b[0m\u001b[1m \u001b[0m┃\u001b[1m \u001b[0m\u001b[1mOutput Shape          \u001b[0m\u001b[1m \u001b[0m┃\u001b[1m \u001b[0m\u001b[1m       Param #\u001b[0m\u001b[1m \u001b[0m┃\u001b[1m \u001b[0m\u001b[1mConnected to          \u001b[0m\u001b[1m \u001b[0m┃\n",
              "┡━━━━━━━━━━━━━━━━━━━━━━━━━━━╇━━━━━━━━━━━━━━━━━━━━━━━━╇━━━━━━━━━━━━━━━━╇━━━━━━━━━━━━━━━━━━━━━━━━┩\n",
              "│ input_layer_3             │ (\u001b[38;5;45mNone\u001b[0m, \u001b[38;5;34m24\u001b[0m, \u001b[38;5;34m24\u001b[0m, \u001b[38;5;34m24\u001b[0m,     │              \u001b[38;5;34m0\u001b[0m │ -                      │\n",
              "│ (\u001b[38;5;33mInputLayer\u001b[0m)              │ \u001b[38;5;34m170\u001b[0m)                   │                │                        │\n",
              "├───────────────────────────┼────────────────────────┼────────────────┼────────────────────────┤\n",
              "│ input_layer_4             │ (\u001b[38;5;45mNone\u001b[0m, \u001b[38;5;34m24\u001b[0m, \u001b[38;5;34m24\u001b[0m, \u001b[38;5;34m24\u001b[0m,     │              \u001b[38;5;34m0\u001b[0m │ -                      │\n",
              "│ (\u001b[38;5;33mInputLayer\u001b[0m)              │ \u001b[38;5;34m170\u001b[0m)                   │                │                        │\n",
              "├───────────────────────────┼────────────────────────┼────────────────┼────────────────────────┤\n",
              "│ sequential_1 (\u001b[38;5;33mSequential\u001b[0m) │ (\u001b[38;5;45mNone\u001b[0m, \u001b[38;5;34m10\u001b[0m)             │        \u001b[38;5;34m104,260\u001b[0m │ input_layer_3[\u001b[38;5;34m0\u001b[0m][\u001b[38;5;34m0\u001b[0m],   │\n",
              "│                           │                        │                │ input_layer_4[\u001b[38;5;34m0\u001b[0m][\u001b[38;5;34m0\u001b[0m]    │\n",
              "├───────────────────────────┼────────────────────────┼────────────────┼────────────────────────┤\n",
              "│ lambda_1 (\u001b[38;5;33mLambda\u001b[0m)         │ (\u001b[38;5;45mNone\u001b[0m, \u001b[38;5;34m10\u001b[0m)             │              \u001b[38;5;34m0\u001b[0m │ sequential_1[\u001b[38;5;34m0\u001b[0m][\u001b[38;5;34m0\u001b[0m],    │\n",
              "│                           │                        │                │ sequential_1[\u001b[38;5;34m1\u001b[0m][\u001b[38;5;34m0\u001b[0m]     │\n",
              "├───────────────────────────┼────────────────────────┼────────────────┼────────────────────────┤\n",
              "│ dense_3 (\u001b[38;5;33mDense\u001b[0m)           │ (\u001b[38;5;45mNone\u001b[0m, \u001b[38;5;34m1\u001b[0m)              │             \u001b[38;5;34m11\u001b[0m │ lambda_1[\u001b[38;5;34m0\u001b[0m][\u001b[38;5;34m0\u001b[0m]         │\n",
              "└───────────────────────────┴────────────────────────┴────────────────┴────────────────────────┘\n"
            ],
            "text/html": [
              "<pre style=\"white-space:pre;overflow-x:auto;line-height:normal;font-family:Menlo,'DejaVu Sans Mono',consolas,'Courier New',monospace\">┏━━━━━━━━━━━━━━━━━━━━━━━━━━━┳━━━━━━━━━━━━━━━━━━━━━━━━┳━━━━━━━━━━━━━━━━┳━━━━━━━━━━━━━━━━━━━━━━━━┓\n",
              "┃<span style=\"font-weight: bold\"> Layer (type)              </span>┃<span style=\"font-weight: bold\"> Output Shape           </span>┃<span style=\"font-weight: bold\">        Param # </span>┃<span style=\"font-weight: bold\"> Connected to           </span>┃\n",
              "┡━━━━━━━━━━━━━━━━━━━━━━━━━━━╇━━━━━━━━━━━━━━━━━━━━━━━━╇━━━━━━━━━━━━━━━━╇━━━━━━━━━━━━━━━━━━━━━━━━┩\n",
              "│ input_layer_3             │ (<span style=\"color: #00d7ff; text-decoration-color: #00d7ff\">None</span>, <span style=\"color: #00af00; text-decoration-color: #00af00\">24</span>, <span style=\"color: #00af00; text-decoration-color: #00af00\">24</span>, <span style=\"color: #00af00; text-decoration-color: #00af00\">24</span>,     │              <span style=\"color: #00af00; text-decoration-color: #00af00\">0</span> │ -                      │\n",
              "│ (<span style=\"color: #0087ff; text-decoration-color: #0087ff\">InputLayer</span>)              │ <span style=\"color: #00af00; text-decoration-color: #00af00\">170</span>)                   │                │                        │\n",
              "├───────────────────────────┼────────────────────────┼────────────────┼────────────────────────┤\n",
              "│ input_layer_4             │ (<span style=\"color: #00d7ff; text-decoration-color: #00d7ff\">None</span>, <span style=\"color: #00af00; text-decoration-color: #00af00\">24</span>, <span style=\"color: #00af00; text-decoration-color: #00af00\">24</span>, <span style=\"color: #00af00; text-decoration-color: #00af00\">24</span>,     │              <span style=\"color: #00af00; text-decoration-color: #00af00\">0</span> │ -                      │\n",
              "│ (<span style=\"color: #0087ff; text-decoration-color: #0087ff\">InputLayer</span>)              │ <span style=\"color: #00af00; text-decoration-color: #00af00\">170</span>)                   │                │                        │\n",
              "├───────────────────────────┼────────────────────────┼────────────────┼────────────────────────┤\n",
              "│ sequential_1 (<span style=\"color: #0087ff; text-decoration-color: #0087ff\">Sequential</span>) │ (<span style=\"color: #00d7ff; text-decoration-color: #00d7ff\">None</span>, <span style=\"color: #00af00; text-decoration-color: #00af00\">10</span>)             │        <span style=\"color: #00af00; text-decoration-color: #00af00\">104,260</span> │ input_layer_3[<span style=\"color: #00af00; text-decoration-color: #00af00\">0</span>][<span style=\"color: #00af00; text-decoration-color: #00af00\">0</span>],   │\n",
              "│                           │                        │                │ input_layer_4[<span style=\"color: #00af00; text-decoration-color: #00af00\">0</span>][<span style=\"color: #00af00; text-decoration-color: #00af00\">0</span>]    │\n",
              "├───────────────────────────┼────────────────────────┼────────────────┼────────────────────────┤\n",
              "│ lambda_1 (<span style=\"color: #0087ff; text-decoration-color: #0087ff\">Lambda</span>)         │ (<span style=\"color: #00d7ff; text-decoration-color: #00d7ff\">None</span>, <span style=\"color: #00af00; text-decoration-color: #00af00\">10</span>)             │              <span style=\"color: #00af00; text-decoration-color: #00af00\">0</span> │ sequential_1[<span style=\"color: #00af00; text-decoration-color: #00af00\">0</span>][<span style=\"color: #00af00; text-decoration-color: #00af00\">0</span>],    │\n",
              "│                           │                        │                │ sequential_1[<span style=\"color: #00af00; text-decoration-color: #00af00\">1</span>][<span style=\"color: #00af00; text-decoration-color: #00af00\">0</span>]     │\n",
              "├───────────────────────────┼────────────────────────┼────────────────┼────────────────────────┤\n",
              "│ dense_3 (<span style=\"color: #0087ff; text-decoration-color: #0087ff\">Dense</span>)           │ (<span style=\"color: #00d7ff; text-decoration-color: #00d7ff\">None</span>, <span style=\"color: #00af00; text-decoration-color: #00af00\">1</span>)              │             <span style=\"color: #00af00; text-decoration-color: #00af00\">11</span> │ lambda_1[<span style=\"color: #00af00; text-decoration-color: #00af00\">0</span>][<span style=\"color: #00af00; text-decoration-color: #00af00\">0</span>]         │\n",
              "└───────────────────────────┴────────────────────────┴────────────────┴────────────────────────┘\n",
              "</pre>\n"
            ]
          },
          "metadata": {}
        },
        {
          "output_type": "display_data",
          "data": {
            "text/plain": [
              "\u001b[1m Total params: \u001b[0m\u001b[38;5;34m104,271\u001b[0m (407.31 KB)\n"
            ],
            "text/html": [
              "<pre style=\"white-space:pre;overflow-x:auto;line-height:normal;font-family:Menlo,'DejaVu Sans Mono',consolas,'Courier New',monospace\"><span style=\"font-weight: bold\"> Total params: </span><span style=\"color: #00af00; text-decoration-color: #00af00\">104,271</span> (407.31 KB)\n",
              "</pre>\n"
            ]
          },
          "metadata": {}
        },
        {
          "output_type": "display_data",
          "data": {
            "text/plain": [
              "\u001b[1m Trainable params: \u001b[0m\u001b[38;5;34m104,091\u001b[0m (406.61 KB)\n"
            ],
            "text/html": [
              "<pre style=\"white-space:pre;overflow-x:auto;line-height:normal;font-family:Menlo,'DejaVu Sans Mono',consolas,'Courier New',monospace\"><span style=\"font-weight: bold\"> Trainable params: </span><span style=\"color: #00af00; text-decoration-color: #00af00\">104,091</span> (406.61 KB)\n",
              "</pre>\n"
            ]
          },
          "metadata": {}
        },
        {
          "output_type": "display_data",
          "data": {
            "text/plain": [
              "\u001b[1m Non-trainable params: \u001b[0m\u001b[38;5;34m180\u001b[0m (720.00 B)\n"
            ],
            "text/html": [
              "<pre style=\"white-space:pre;overflow-x:auto;line-height:normal;font-family:Menlo,'DejaVu Sans Mono',consolas,'Courier New',monospace\"><span style=\"font-weight: bold\"> Non-trainable params: </span><span style=\"color: #00af00; text-decoration-color: #00af00\">180</span> (720.00 B)\n",
              "</pre>\n"
            ]
          },
          "metadata": {}
        },
        {
          "output_type": "stream",
          "name": "stdout",
          "text": [
            "Epoch 1/20\n",
            "\u001b[1m5/5\u001b[0m \u001b[32m━━━━━━━━━━━━━━━━━━━━\u001b[0m\u001b[37m\u001b[0m \u001b[1m23s\u001b[0m 3s/step - loss: 5.9144 - val_loss: 2.1713\n",
            "Epoch 2/20\n",
            "\u001b[1m5/5\u001b[0m \u001b[32m━━━━━━━━━━━━━━━━━━━━\u001b[0m\u001b[37m\u001b[0m \u001b[1m2s\u001b[0m 297ms/step - loss: 4.8941 - val_loss: 2.1641\n",
            "Epoch 3/20\n",
            "\u001b[1m5/5\u001b[0m \u001b[32m━━━━━━━━━━━━━━━━━━━━\u001b[0m\u001b[37m\u001b[0m \u001b[1m2s\u001b[0m 204ms/step - loss: 3.3272 - val_loss: 2.1639\n",
            "Epoch 4/20\n",
            "\u001b[1m5/5\u001b[0m \u001b[32m━━━━━━━━━━━━━━━━━━━━\u001b[0m\u001b[37m\u001b[0m \u001b[1m2s\u001b[0m 294ms/step - loss: 0.9167 - val_loss: 2.1674\n",
            "Epoch 5/20\n",
            "\u001b[1m5/5\u001b[0m \u001b[32m━━━━━━━━━━━━━━━━━━━━\u001b[0m\u001b[37m\u001b[0m \u001b[1m1s\u001b[0m 196ms/step - loss: 1.7649 - val_loss: 2.1693\n",
            "Epoch 6/20\n",
            "\u001b[1m5/5\u001b[0m \u001b[32m━━━━━━━━━━━━━━━━━━━━\u001b[0m\u001b[37m\u001b[0m \u001b[1m1s\u001b[0m 219ms/step - loss: 0.6164 - val_loss: 2.1704\n",
            "Epoch 7/20\n",
            "\u001b[1m5/5\u001b[0m \u001b[32m━━━━━━━━━━━━━━━━━━━━\u001b[0m\u001b[37m\u001b[0m \u001b[1m1s\u001b[0m 217ms/step - loss: 0.5652 - val_loss: 2.1688\n",
            "Epoch 8/20\n",
            "\u001b[1m5/5\u001b[0m \u001b[32m━━━━━━━━━━━━━━━━━━━━\u001b[0m\u001b[37m\u001b[0m \u001b[1m1s\u001b[0m 299ms/step - loss: 1.0198 - val_loss: 2.1674\n",
            "Epoch 9/20\n",
            "\u001b[1m5/5\u001b[0m \u001b[32m━━━━━━━━━━━━━━━━━━━━\u001b[0m\u001b[37m\u001b[0m \u001b[1m2s\u001b[0m 420ms/step - loss: 1.4895 - val_loss: 2.1648\n",
            "Epoch 10/20\n",
            "\u001b[1m5/5\u001b[0m \u001b[32m━━━━━━━━━━━━━━━━━━━━\u001b[0m\u001b[37m\u001b[0m \u001b[1m2s\u001b[0m 199ms/step - loss: 1.0079 - val_loss: 2.1666\n",
            "Epoch 11/20\n",
            "\u001b[1m5/5\u001b[0m \u001b[32m━━━━━━━━━━━━━━━━━━━━\u001b[0m\u001b[37m\u001b[0m \u001b[1m1s\u001b[0m 197ms/step - loss: 1.0054 - val_loss: 2.1684\n",
            "Epoch 12/20\n",
            "\u001b[1m5/5\u001b[0m \u001b[32m━━━━━━━━━━━━━━━━━━━━\u001b[0m\u001b[37m\u001b[0m \u001b[1m1s\u001b[0m 191ms/step - loss: 0.7026 - val_loss: 2.1685\n",
            "Epoch 13/20\n",
            "\u001b[1m5/5\u001b[0m \u001b[32m━━━━━━━━━━━━━━━━━━━━\u001b[0m\u001b[37m\u001b[0m \u001b[1m1s\u001b[0m 193ms/step - loss: 1.0240 - val_loss: 2.1680\n",
            "Epoch 14/20\n",
            "\u001b[1m5/5\u001b[0m \u001b[32m━━━━━━━━━━━━━━━━━━━━\u001b[0m\u001b[37m\u001b[0m \u001b[1m1s\u001b[0m 212ms/step - loss: 0.6963 - val_loss: 2.1683\n",
            "Epoch 15/20\n",
            "\u001b[1m5/5\u001b[0m \u001b[32m━━━━━━━━━━━━━━━━━━━━\u001b[0m\u001b[37m\u001b[0m \u001b[1m1s\u001b[0m 218ms/step - loss: 0.4720 - val_loss: 2.1677\n",
            "Epoch 16/20\n",
            "\u001b[1m5/5\u001b[0m \u001b[32m━━━━━━━━━━━━━━━━━━━━\u001b[0m\u001b[37m\u001b[0m \u001b[1m2s\u001b[0m 343ms/step - loss: 0.4849 - val_loss: 2.1651\n",
            "Epoch 17/20\n",
            "\u001b[1m5/5\u001b[0m \u001b[32m━━━━━━━━━━━━━━━━━━━━\u001b[0m\u001b[37m\u001b[0m \u001b[1m1s\u001b[0m 232ms/step - loss: 2.3841 - val_loss: 2.1625\n",
            "Epoch 18/20\n",
            "\u001b[1m5/5\u001b[0m \u001b[32m━━━━━━━━━━━━━━━━━━━━\u001b[0m\u001b[37m\u001b[0m \u001b[1m2s\u001b[0m 303ms/step - loss: 1.4538 - val_loss: 2.1632\n",
            "Epoch 19/20\n",
            "\u001b[1m5/5\u001b[0m \u001b[32m━━━━━━━━━━━━━━━━━━━━\u001b[0m\u001b[37m\u001b[0m \u001b[1m2s\u001b[0m 282ms/step - loss: 0.9856 - val_loss: 2.1629\n",
            "Epoch 20/20\n",
            "\u001b[1m5/5\u001b[0m \u001b[32m━━━━━━━━━━━━━━━━━━━━\u001b[0m\u001b[37m\u001b[0m \u001b[1m1s\u001b[0m 212ms/step - loss: 0.9858 - val_loss: 2.1604\n"
          ]
        }
      ]
    },
    {
      "cell_type": "code",
      "metadata": {
        "id": "78bPecgkBsBY",
        "colab": {
          "base_uri": "https://localhost:8080/",
          "height": 917
        },
        "outputId": "49a3ef85-44fe-493b-d166-2f205fb308d9"
      },
      "source": [
        "# --------------------------------------\n",
        "# Loss functions evolution\n",
        "# --------------------------------------\n",
        "plt.figure(figsize=(10,10))\n",
        "plt.rcParams.update({'font.size': 22})\n",
        "plt.plot(history.history['loss'])\n",
        "plt.plot(history.history['val_loss'])\n",
        "plt.title('Model loss by epoch')\n",
        "plt.ylabel('loss')\n",
        "plt.xlabel('epoch')\n",
        "plt.legend(['train', 'valid'], loc='right')\n",
        "plt.show()"
      ],
      "execution_count": null,
      "outputs": [
        {
          "output_type": "display_data",
          "data": {
            "text/plain": [
              "<Figure size 1000x1000 with 1 Axes>"
            ],
            "image/png": "[encoded data removed]"
          },
          "metadata": {}
        }
      ]
    },
    {
      "cell_type": "markdown",
      "metadata": {
        "id": "tqRPGfO3Buus"
      },
      "source": [
        "Question: Is this evaluation of the performance reliable?"
      ]
    },
    {
      "cell_type": "markdown",
      "metadata": {
        "id": "TgUjunFsByIC"
      },
      "source": [
        "#### 2.5 Let's take a look at the performance of the model on test samples."
      ]
    },
    {
      "cell_type": "code",
      "metadata": {
        "id": "g7EHKQjSCIOY",
        "colab": {
          "base_uri": "https://localhost:8080/",
          "height": 1000
        },
        "outputId": "5040fa72-da1a-4962-ce4d-1cc977954d35"
      },
      "source": [
        "%xdel X_train\n",
        "gc.collect()\n",
        "\n",
        "#train_preds = model.predict([X_train[:,0], X_train[:,1]])\n",
        "test_preds = model.predict([X_test[:,0], X_test[:,1]])\n",
        "\n",
        "#train_preds = np.array([x[0] for x in train_preds])\n",
        "test_preds = np.array([x[0] for x in test_preds])\n",
        "\n",
        "#print(train_preds)\n",
        "print(test_preds)\n",
        "\n",
        "#corr_pearson_train = stats.pearsonr(y_train, train_preds)\n",
        "#corr_spearmanr_train = stats.spearmanr(y_train, train_preds)\n",
        "\n",
        "corr_pearson_test = stats.pearsonr(y_test, test_preds)\n",
        "corr_spearman_test = stats.spearmanr(y_test, test_preds)\n",
        "\n",
        "#print('corr_pearson_train', corr_pearson_train)\n",
        "#print('corr_spearmanr_train',corr_spearmanr_train)\n",
        "print('corr_pearson_test', corr_pearson_test)\n",
        "print('corr_spearman_test', corr_spearman_test)\n",
        "\n",
        "plt.rcParams.update({'font.size': 24})\n",
        "plt.figure(figsize=(12,12))\n",
        "#plt.scatter(y_train, train_preds, color = 'red', marker = 'o', label = 'Train', alpha=0.5)\n",
        "plt.scatter(y_test, test_preds, color = 'blue', marker = 's', label = 'Test', alpha=0.5)\n",
        "plt.xlabel('Experimental ddg', fontsize=24)\n",
        "plt.ylabel('Predicted ddg', fontsize=24)\n",
        "plt.legend(fontsize=24)\n",
        "plt.tight_layout()\n",
        "plt.show()"
      ],
      "execution_count": null,
      "outputs": [
        {
          "output_type": "stream",
          "name": "stdout",
          "text": [
            "\u001b[1m1/1\u001b[0m \u001b[32m━━━━━━━━━━━━━━━━━━━━\u001b[0m\u001b[37m\u001b[0m \u001b[1m2s\u001b[0m 2s/step\n",
            "[ 0.06592977  0.12669732  0.01107451  0.34849766  0.0473529  -0.135094\n",
            " -0.01784213 -0.02624139  0.00591075 -0.12147682  0.0310522  -0.03301936\n",
            "  0.06638463  0.07721885  0.06713911 -0.03948407  0.08543336  0.04010062\n",
            "  0.0930258  -0.05500339  0.04494818  0.03826061  0.10597586  0.06451645\n",
            " -0.01855968 -0.12290119  0.15029949  0.01276718  0.05074295  0.06990551]\n",
            "corr_pearson_test PearsonRResult(statistic=-0.15738680790020929, pvalue=0.406194806117472)\n",
            "corr_spearman_test SignificanceResult(statistic=-0.3210233592880979, pvalue=0.0836800072526214)\n"
          ]
        },
        {
          "output_type": "display_data",
          "data": {
            "text/plain": [
              "<Figure size 1200x1200 with 1 Axes>"
            ],
            "image/png": "[encoded data removed]"
          },
          "metadata": {}
        }
      ]
    },
    {
      "cell_type": "markdown",
      "metadata": {
        "id": "1xfbAWO8df-H"
      },
      "source": [
        "#### 2.5 Not enough time and data for training? Download the pre-trained Siamese model."
      ]
    },
    {
      "cell_type": "code",
      "metadata": {
        "id": "SmYxxm8IKNve",
        "colab": {
          "base_uri": "https://localhost:8080/"
        },
        "outputId": "158fb1e5-2551-44d9-bdbe-e7b9faf68139"
      },
      "source": [
        "!gdown --id '1A7IDHWMo9ph67Kf6jQpGlxkNwDKY5y8s'"
      ],
      "execution_count": null,
      "outputs": [
        {
          "output_type": "stream",
          "name": "stdout",
          "text": [
            "/usr/local/lib/python3.10/dist-packages/gdown/__main__.py:140: FutureWarning: Option `--id` was deprecated in version 4.3.1 and will be removed in 5.0. You don't need to pass it anymore to use a file ID.\n",
            "  warnings.warn(\n",
            "Downloading...\n",
            "From: https://drive.google.com/uc?id=1A7IDHWMo9ph67Kf6jQpGlxkNwDKY5y8s\n",
            "To: /content/model_s.zip\n",
            "100% 1.22M/1.22M [00:00<00:00, 10.1MB/s]\n"
          ]
        }
      ]
    },
    {
      "cell_type": "markdown",
      "metadata": {
        "id": "ZVMSVFLhdmi4"
      },
      "source": [
        "Decompress the model and load it."
      ]
    },
    {
      "cell_type": "code",
      "metadata": {
        "id": "vXWXNQr-yH6C",
        "colab": {
          "base_uri": "https://localhost:8080/"
        },
        "outputId": "8855c693-de22-4bd8-a8e4-d819319eefc8"
      },
      "source": [
        "!unzip '/content/model_s.zip'\n",
        "model_s = load_model('/content/model_s')"
      ],
      "execution_count": null,
      "outputs": [
        {
          "output_type": "stream",
          "name": "stdout",
          "text": [
            "Archive:  /content/model_s.zip\n",
            "   creating: model_s/\n",
            "  inflating: model_s/saved_model.pb  \n",
            "   creating: model_s/assets/\n",
            "   creating: model_s/variables/\n",
            "  inflating: model_s/variables/variables.data-00000-of-00001  \n",
            "  inflating: model_s/variables/variables.index  \n"
          ]
        },
        {
          "output_type": "stream",
          "name": "stderr",
          "text": [
            "WARNING:tensorflow:SavedModel saved prior to TF 2.5 detected when loading Keras model. Please ensure that you are saving the model with model.save() or tf.keras.models.save_model(), *NOT* tf.saved_model.save(). To confirm, there should be a file named \"keras_metadata.pb\" in the SavedModel directory.\n"
          ]
        }
      ]
    },
    {
      "cell_type": "code",
      "metadata": {
        "colab": {
          "base_uri": "https://localhost:8080/",
          "height": 1000
        },
        "id": "sqwvcJLEC57H",
        "outputId": "42bc2097-1bab-4872-a23f-69ef3c2dab2d"
      },
      "source": [
        "test_preds = model_s.predict([X_test[:,0], X_test[:,1]])\n",
        "test_preds = np.array([x[0] for x in test_preds])\n",
        "print(test_preds)\n",
        "\n",
        "corr_pearson_test = stats.pearsonr(y_test, test_preds)\n",
        "corr_spearman_test = stats.spearmanr(y_test, test_preds)\n",
        "\n",
        "print('corr_pearson_test', corr_pearson_test)\n",
        "print('corr_spearman_test', corr_spearman_test)\n",
        "\n",
        "plt.rcParams.update({'font.size': 24})\n",
        "plt.figure(figsize=(12,12))\n",
        "plt.scatter(y_test, test_preds, color = 'blue', marker = 's', label = 'Test', alpha=0.5)\n",
        "plt.xlabel('Experimental ddg', fontsize=24)\n",
        "plt.ylabel('Predicted ddg', fontsize=24)\n",
        "plt.legend(fontsize=24)\n",
        "plt.tight_layout()\n",
        "plt.show()"
      ],
      "execution_count": null,
      "outputs": [
        {
          "output_type": "stream",
          "name": "stdout",
          "text": [
            "[ 2.0023823   0.22643822  0.7541527   0.11190522 -0.06585819  0.3825363\n",
            "  0.8881961   0.43179816  0.5801184   0.15823603  1.2304866   0.49883536\n",
            " -0.25230312  0.9317641   1.0410495   0.66903687  0.8143809   2.0103385\n",
            "  0.600096    1.3416843   0.40906692  0.54962707  0.5701124  -0.28204936\n",
            "  1.0687672   0.86105394  0.31278956  0.85893476  0.55897343  0.03490567]\n",
            "corr_pearson_test PearsonRResult(statistic=0.15232811950438296, pvalue=0.4216343204491357)\n",
            "corr_spearman_test SignificanceResult(statistic=0.1635150166852058, pvalue=0.3879257345165761)\n"
          ]
        },
        {
          "output_type": "display_data",
          "data": {
            "text/plain": [
              "<Figure size 1200x1200 with 1 Axes>"
            ],
            "image/png": "[encoded data removed]"
          },
          "metadata": {}
        }
      ]
    },
    {
      "cell_type": "markdown",
      "metadata": {
        "id": "0JEHCrDsXIBN"
      },
      "source": [
        "Designed by Yasser MOHSENI BEHBAHANI, LCQB, Sorbonne Université, 2021\n",
        "\n",
        "<img src='https://drive.google.com/uc?id=1shvaqXgnRa2aCji30gJ02hwI_Ux6NEp6'>\n"
      ]
    }
  ]
}