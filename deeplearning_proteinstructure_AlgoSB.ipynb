{
  "nbformat": 4,
  "nbformat_minor": 0,
  "metadata": {
    "accelerator": "GPU",
    "colab": {
      "name": "deeplearning_proteinstructure_AlgoSB.ipynb",
      "provenance": [],
      "collapsed_sections": [],
      "authorship_tag": "ABX9TyPlCm/jCyYEOVViSQVKC8q/",
      "include_colab_link": true
    },
    "kernelspec": {
      "display_name": "Python 3",
      "name": "python3"
    },
    "language_info": {
      "name": "python"
    }
  },
  "cells": [
    {
      "cell_type": "markdown",
      "metadata": {
        "id": "view-in-github",
        "colab_type": "text"
      },
      "source": [
        "<a href=\"https://colab.research.google.com/github/yassermb/DL_STRUCT/blob/main/deeplearning_proteinstructure_AlgoSB.ipynb\" target=\"_parent\"><img src=\"https://colab.research.google.com/assets/colab-badge.svg\" alt=\"Open In Colab\"/></a>"
      ]
    },
    {
      "cell_type": "markdown",
      "metadata": {
        "id": "BN08td-bXw_1"
      },
      "source": [
        "# DEEP LEARNING FOR PROTEIN STRUCTURES"
      ]
    },
    {
      "cell_type": "markdown",
      "metadata": {
        "id": "iU-OffzeOiaM"
      },
      "source": [
        "## Classification of handwritten digits"
      ]
    },
    {
      "cell_type": "markdown",
      "metadata": {
        "id": "BFU4Y72xsBnf"
      },
      "source": [
        "<img src='https://drive.google.com/uc?id=16D9YOSCco-qMAC7moItDzasEkP-dV78h'>\n",
        "\n",
        "We want to produce a simple Convolutional Neural Network (CNN) architecture in Keras to classify the handwritten digits in the MNIST database."
      ]
    },
    {
      "cell_type": "markdown",
      "metadata": {
        "id": "rF1d98NKkHjJ"
      },
      "source": [
        "**A visualisation on how convolutional filters scan an image is shown [here](https://cs231n.github.io/assets/conv-demo/index.html)**"
      ]
    },
    {
      "cell_type": "markdown",
      "metadata": {
        "id": "iWOxOENOOkh9"
      },
      "source": [
        "This code assume your already have installed <code>numpy</code>, <code>keras</code>, <code>tensorflow</code>, ... on your computer. If not, uncomment the adequate lines in the cell below:"
      ]
    },
    {
      "cell_type": "code",
      "metadata": {
        "colab": {
          "base_uri": "https://localhost:8080/"
        },
        "id": "SQIqK1vnUg8i",
        "outputId": "f38ce7aa-7ef3-4d67-e85f-de48d22e8552"
      },
      "source": [
        "import sys\n",
        "print('Your python version: {}'.format(sys.version_info.major))\n",
        "# Uncomment lines below only if you need them \n",
        "#!{sys.executable} -m pip install -U numpy --user\n",
        "#!{sys.executable} -m pip install -U matplotlib --user\n",
        "#!{sys.executable} -m pip install -U keras --user\n",
        "#!{sys.executable} -m pip install -U tensorflow --user\n",
        "#!{sys.executable} -m pip install -U theano --user"
      ],
      "execution_count": null,
      "outputs": [
        {
          "name": "stdout",
          "output_type": "stream",
          "text": [
            "Your python version: 3\n"
          ]
        }
      ]
    },
    {
      "cell_type": "code",
      "metadata": {
        "id": "VhPSxkBsUsV7"
      },
      "source": [
        "USE_TENSORFLOW_AS_BACKEND = True\n",
        "\n",
        "# IF YOU *DO* HAVE AN Nvidia GPU on your computer, or execute on Google COLAB, then change below to False!\n",
        "FORCE_CPU = False "
      ],
      "execution_count": null,
      "outputs": []
    },
    {
      "cell_type": "code",
      "metadata": {
        "id": "K28A0-KwUzNn"
      },
      "source": [
        "import os\n",
        "import numpy as np\n",
        "from numpy import newaxis\n",
        "import matplotlib.pyplot as plt"
      ],
      "execution_count": null,
      "outputs": []
    },
    {
      "cell_type": "code",
      "metadata": {
        "id": "mgawvFEwU2qw"
      },
      "source": [
        "if USE_TENSORFLOW_AS_BACKEND:\n",
        "    os.environ['KERAS_BACKEND'] = 'tensorflow'\n",
        "else:\n",
        "    os.environ['KERAS_BACKEND'] = 'theano'\n",
        "if FORCE_CPU:\n",
        "    os.environ[\"CUDA_DEVICE_ORDER\"] = \"PCI_BUS_ID\"   # see issue #152\n",
        "    os.environ[\"CUDA_VISIBLE_DEVICES\"] = \"\""
      ],
      "execution_count": null,
      "outputs": []
    },
    {
      "cell_type": "code",
      "metadata": {
        "id": "1Rlu1c6iU7cN"
      },
      "source": [
        "import keras\n",
        "from keras import backend as K\n",
        "from keras import regularizers\n",
        "from keras.datasets import mnist # subroutines for fetching the MNIST dataset\n",
        "from keras.models import Model, Sequential # basic class for specifying and training a neural network\n",
        "from keras.layers import Input, Conv2D, MaxPooling2D, Dense, Dropout, Activation, Flatten\n",
        "from keras.utils import np_utils # utilities for one-hot encoding of ground truth values"
      ],
      "execution_count": null,
      "outputs": []
    },
    {
      "cell_type": "code",
      "metadata": {
        "id": "ITa9ybybU-x9"
      },
      "source": [
        "#if USE_TENSORFLOW_AS_BACKEND:\n",
        "#    K.common.set_image_dim_ordering(\"tf\")\n",
        "#else:\n",
        "#    K.set_image_dim_ordering(\"th\")"
      ],
      "execution_count": null,
      "outputs": []
    },
    {
      "cell_type": "code",
      "metadata": {
        "colab": {
          "base_uri": "https://localhost:8080/"
        },
        "id": "OxfLQg_pVHpO",
        "outputId": "a75ecab8-4e87-437b-a415-fb8f79fd824d"
      },
      "source": [
        "print('Your keras version: {}'.format(keras.__version__))\n",
        "if USE_TENSORFLOW_AS_BACKEND == True:\n",
        "    import tensorflow\n",
        "    print('Your tensorflow version: {}'.format(tensorflow.__version__))\n",
        "    print(\"GPU : \"+tensorflow.test.gpu_device_name())\n",
        "else:\n",
        "    import theano\n",
        "    print('Your theano version: {}'.format(theano.__version__))"
      ],
      "execution_count": null,
      "outputs": [
        {
          "name": "stdout",
          "output_type": "stream",
          "text": [
            "Your keras version: 2.7.0\n",
            "Your tensorflow version: 2.7.0\n",
            "GPU : /device:GPU:0\n"
          ]
        }
      ]
    },
    {
      "cell_type": "code",
      "metadata": {
        "colab": {
          "base_uri": "https://localhost:8080/"
        },
        "id": "XvOdoWWEVgA5",
        "outputId": "c89fc3cf-9620-450d-e4c4-dae79acac1a6"
      },
      "source": [
        "# --------------------------------------\n",
        "# Dataset variables\n",
        "# --------------------------------------\n",
        "num_train = 60000 # there are 60000 training examples in MNIST\n",
        "num_test = 10000  # there are 10000 test examples in MNIST\n",
        "height, width, depth = 28, 28, 1 # MNIST images are 28x28 with 1 channel (greyscale)\n",
        "num_classes = 10                 # there are 10 classes (1 per digit)\n",
        "\n",
        "# --------------------------------------\n",
        "# Dataset loading & preprocessing\n",
        "# --------------------------------------\n",
        "(X_train, y_train), (X_test, y_test) = mnist.load_data() # fetch MNIST data\n",
        "\n",
        "X_train = X_train.astype('float32') \n",
        "X_test = X_test.astype('float32')\n",
        "X_train /= 255 # Normalise data to [0, 1] range\n",
        "X_test /= 255 # Normalise data to [0, 1] range\n",
        "\n",
        "\n",
        "X_train = X_train[:, newaxis, :, :] # Reshape in \"convolutionable\" format (add tensor dim for the depth)\n",
        "X_test = X_test[:, newaxis, :, :] # Reshape in \"convolutionable\" format (add tensor dim for the depth)\n",
        "\n",
        "Y_train = np_utils.to_categorical(y_train, num_classes) # One-hot encode the labels\n",
        "Y_test = np_utils.to_categorical(y_test, num_classes) # One-hot encode the labels\n",
        "\n",
        "print(X_train.shape, Y_train.shape)"
      ],
      "execution_count": null,
      "outputs": [
        {
          "name": "stdout",
          "output_type": "stream",
          "text": [
            "Downloading data from https://storage.googleapis.com/tensorflow/tf-keras-datasets/mnist.npz\n",
            "11493376/11490434 [==============================] - 0s 0us/step\n",
            "11501568/11490434 [==============================] - 0s 0us/step\n",
            "(60000, 1, 28, 28) (60000, 10)\n"
          ]
        }
      ]
    },
    {
      "cell_type": "code",
      "metadata": {
        "colab": {
          "base_uri": "https://localhost:8080/"
        },
        "id": "HpP-6e5fV2ck",
        "outputId": "5b175726-a8dc-4d94-c0d8-d8f95d6bf063"
      },
      "source": [
        "# --------------------------------------\n",
        "# Network params\n",
        "# --------------------------------------\n",
        "\n",
        "batch_size = 32    # in each iteration, we consider 32 training examples at once\n",
        "num_epochs = 15    # we iterate 15 times over the entire training set\n",
        "kernel_size = 5    # we will use 5x5 kernels throughout\n",
        "pool_size = 2      # we will use 2x2 pooling throughout\n",
        "conv_depth_1 = 6   # we will initially have 6 kernels in first conv. layer...\n",
        "conv_depth_2 = 16  # ...switching to 16 after the first pooling layer\n",
        "drop_prob_1 = 0.   # dropout after pooling with probability 0.\n",
        "drop_prob_2 = 0.   # dropout in the FC layer with probability 0.\n",
        "hidden_size = 128  # the FC layer will have 128neurons\n",
        "weight_penalty = 0. # Factor for weights penalty\n",
        "\n",
        "# --------------------------------------\n",
        "# CNN network definition\n",
        "# --------------------------------------\n",
        "# inp = Input(shape=(1,height,width)) # greyscale --> depth==1\n",
        "# model = Model(input=inp, output=out) # To define a model, just specify its input and output layers\n",
        "\n",
        "model = Sequential()\n",
        "# Conv [8] -> Pool (with dropout on the pooling layer)\n",
        "model.add( Conv2D(conv_depth_1, (kernel_size,kernel_size), padding='same', activation='relu', data_format=\"channels_first\", input_shape=( 1, 28, 28)) )\n",
        "model.add( MaxPooling2D(pool_size=(pool_size, pool_size)) )\n",
        "model.add( Dropout(drop_prob_1) )\n",
        "\n",
        "# Conv [16] -> Pool (with dropout on the pooling layer)\n",
        "model.add( Conv2D(conv_depth_2, (kernel_size,kernel_size), padding='same', activation='relu') )\n",
        "model.add( MaxPooling2D(pool_size=(pool_size, pool_size)) )\n",
        "model.add( Dropout(drop_prob_1) )\n",
        "\n",
        "# Now flatten to 1D, apply FC -> ReLU (with dropout) -> softmax\n",
        "model.add( Flatten() )\n",
        "model.add( Dense(hidden_size, activation='relu', kernel_regularizer=regularizers.l2(weight_penalty)) )\n",
        "model.add( Dropout(drop_prob_2) )\n",
        "model.add( Dense(num_classes, activation='softmax') )\n",
        "\n",
        "print(model.summary())"
      ],
      "execution_count": null,
      "outputs": [
        {
          "name": "stdout",
          "output_type": "stream",
          "text": [
            "Model: \"sequential\"\n",
            "_________________________________________________________________\n",
            " Layer (type)                Output Shape              Param #   \n",
            "=================================================================\n",
            " conv2d (Conv2D)             (None, 6, 28, 28)         156       \n",
            "                                                                 \n",
            " max_pooling2d (MaxPooling2D  (None, 3, 14, 28)        0         \n",
            " )                                                               \n",
            "                                                                 \n",
            " dropout (Dropout)           (None, 3, 14, 28)         0         \n",
            "                                                                 \n",
            " conv2d_1 (Conv2D)           (None, 3, 14, 16)         11216     \n",
            "                                                                 \n",
            " max_pooling2d_1 (MaxPooling  (None, 1, 7, 16)         0         \n",
            " 2D)                                                             \n",
            "                                                                 \n",
            " dropout_1 (Dropout)         (None, 1, 7, 16)          0         \n",
            "                                                                 \n",
            " flatten (Flatten)           (None, 112)               0         \n",
            "                                                                 \n",
            " dense (Dense)               (None, 128)               14464     \n",
            "                                                                 \n",
            " dropout_2 (Dropout)         (None, 128)               0         \n",
            "                                                                 \n",
            " dense_1 (Dense)             (None, 10)                1290      \n",
            "                                                                 \n",
            "=================================================================\n",
            "Total params: 27,126\n",
            "Trainable params: 27,126\n",
            "Non-trainable params: 0\n",
            "_________________________________________________________________\n",
            "None\n"
          ]
        }
      ]
    },
    {
      "cell_type": "markdown",
      "metadata": {
        "id": "Xj-FRTqMXZo-"
      },
      "source": [
        "## Questions\n",
        "\n",
        "#### What are the activation functions here? Why are they chosen?\n",
        "#### What is the loss function?\n",
        "#### What is the value of learning rate here?\n"
      ]
    },
    {
      "cell_type": "code",
      "metadata": {
        "colab": {
          "base_uri": "https://localhost:8080/"
        },
        "id": "-CL4NMM_WqGu",
        "outputId": "1a069d15-f142-491f-fbcb-758593a26d0f"
      },
      "source": [
        "# --------------------------------------\n",
        "# Loss function and Optimizer\n",
        "# --------------------------------------\n",
        "model.compile(loss='categorical_crossentropy', # using the cross-entropy loss function\n",
        "              optimizer='adam', # using the Adam optimiser\n",
        "              metrics=['accuracy']) # reporting the accuracy\n",
        "\n",
        "# --------------------------------------\n",
        "# Training\n",
        "# --------------------------------------\n",
        "history = model.fit(X_train, Y_train, # Train the model using the training set...\n",
        "          batch_size=batch_size, epochs=num_epochs,\n",
        "          verbose=1, validation_split=0.4) # ...holding out 40% of the data for validation\n",
        "\n",
        "# --------------------------------------\n",
        "# Evaluation\n",
        "# --------------------------------------\n",
        "for loss_name, loss_value in list(zip(model.metrics_names, model.evaluate(X_test, Y_test, verbose=1))):\n",
        "    print('The final {} on the TEST set is: {:.2f}.'.format(loss_name, loss_value)) # Evaluate the trained model on the test set!"
      ],
      "execution_count": null,
      "outputs": [
        {
          "name": "stdout",
          "output_type": "stream",
          "text": [
            "Epoch 1/15\n",
            "1125/1125 [==============================] - 38s 6ms/step - loss: 0.3012 - accuracy: 0.9060 - val_loss: 0.1075 - val_accuracy: 0.9674\n",
            "Epoch 2/15\n",
            "1125/1125 [==============================] - 8s 7ms/step - loss: 0.0907 - accuracy: 0.9715 - val_loss: 0.1019 - val_accuracy: 0.9691\n",
            "Epoch 3/15\n",
            "1125/1125 [==============================] - 8s 7ms/step - loss: 0.0645 - accuracy: 0.9788 - val_loss: 0.0987 - val_accuracy: 0.9704\n",
            "Epoch 4/15\n",
            "1125/1125 [==============================] - 8s 7ms/step - loss: 0.0541 - accuracy: 0.9827 - val_loss: 0.0880 - val_accuracy: 0.9733\n",
            "Epoch 5/15\n",
            "1125/1125 [==============================] - 7s 6ms/step - loss: 0.0436 - accuracy: 0.9856 - val_loss: 0.1079 - val_accuracy: 0.9692\n",
            "Epoch 6/15\n",
            "1125/1125 [==============================] - 8s 7ms/step - loss: 0.0373 - accuracy: 0.9880 - val_loss: 0.0662 - val_accuracy: 0.9818\n",
            "Epoch 7/15\n",
            "1125/1125 [==============================] - 8s 7ms/step - loss: 0.0328 - accuracy: 0.9893 - val_loss: 0.0715 - val_accuracy: 0.9804\n",
            "Epoch 8/15\n",
            "1125/1125 [==============================] - 7s 6ms/step - loss: 0.0287 - accuracy: 0.9909 - val_loss: 0.0679 - val_accuracy: 0.9816\n",
            "Epoch 9/15\n",
            "1125/1125 [==============================] - 7s 6ms/step - loss: 0.0249 - accuracy: 0.9922 - val_loss: 0.0756 - val_accuracy: 0.9785\n",
            "Epoch 10/15\n",
            "1125/1125 [==============================] - 7s 6ms/step - loss: 0.0217 - accuracy: 0.9926 - val_loss: 0.0668 - val_accuracy: 0.9820\n",
            "Epoch 11/15\n",
            "1125/1125 [==============================] - 8s 7ms/step - loss: 0.0200 - accuracy: 0.9931 - val_loss: 0.0745 - val_accuracy: 0.9812\n",
            "Epoch 12/15\n",
            "1125/1125 [==============================] - 7s 6ms/step - loss: 0.0170 - accuracy: 0.9941 - val_loss: 0.0682 - val_accuracy: 0.9833\n",
            "Epoch 13/15\n",
            "1125/1125 [==============================] - 7s 6ms/step - loss: 0.0146 - accuracy: 0.9946 - val_loss: 0.1041 - val_accuracy: 0.9765\n",
            "Epoch 14/15\n",
            "1125/1125 [==============================] - 8s 7ms/step - loss: 0.0126 - accuracy: 0.9956 - val_loss: 0.0825 - val_accuracy: 0.9814\n",
            "Epoch 15/15\n",
            "1125/1125 [==============================] - 7s 6ms/step - loss: 0.0127 - accuracy: 0.9953 - val_loss: 0.0684 - val_accuracy: 0.9853\n",
            "313/313 [==============================] - 2s 4ms/step - loss: 0.0518 - accuracy: 0.9872\n",
            "The final loss on the TEST set is: 0.05.\n",
            "The final accuracy on the TEST set is: 0.99.\n"
          ]
        }
      ]
    },
    {
      "cell_type": "markdown",
      "metadata": {
        "id": "S4F_1iT2Xirk"
      },
      "source": [
        "## Questions\n",
        "#### What is an Epoch?\n",
        "#### What is the difference between Epoch and Batch?\n",
        "#### Which one of the following training approaches implemented in this code?\n",
        "- Batch Gradient Descent. Batch Size = Size of Training Set\n",
        "- Stochastic Gradient Descent. Batch Size = 1\n",
        "- Mini-Batch Gradient Descent. 1 < Batch Size < Size of Training Set"
      ]
    },
    {
      "cell_type": "markdown",
      "metadata": {
        "id": "m7Ty86yxXqqa"
      },
      "source": [
        "**Plot the training history, in order to check if overfitting seems to have occured or not, and if more training epochs could be performed.**"
      ]
    },
    {
      "cell_type": "code",
      "metadata": {
        "colab": {
          "base_uri": "https://localhost:8080/",
          "height": 652
        },
        "id": "PAqFnG1lXEf4",
        "outputId": "bad71b43-a10c-490c-87cc-e7d5e8bd4bff"
      },
      "source": [
        "# --------------------------------------\n",
        "# Loss functions evolution\n",
        "# --------------------------------------\n",
        "plt.figure(figsize=(10,10))\n",
        "plt.rcParams.update({'font.size': 22})\n",
        "plt.plot(history.history['loss'])\n",
        "plt.plot(history.history['val_loss'])\n",
        "plt.title('Model loss by epoch')\n",
        "plt.ylabel('loss')\n",
        "plt.xlabel('epoch')\n",
        "plt.legend(['train', 'valid'], loc='right')\n",
        "plt.show()"
      ],
      "execution_count": null,
      "outputs": [
        {
          "data": {
            "image/png": "[encoded data removed]",
            "text/plain": [
              "<Figure size 720x720 with 1 Axes>"
            ]
          },
          "metadata": {},
          "output_type": "display_data"
        }
      ]
    },
    {
      "cell_type": "markdown",
      "metadata": {
        "id": "wpr5gth37z1V"
      },
      "source": [
        "## Amino acid and its environment"
      ]
    },
    {
      "cell_type": "markdown",
      "metadata": {
        "id": "KfDNhDXaX2EP"
      },
      "source": [
        "### 1. Can you recognize the amino acid by its structure?\n",
        "\n",
        "Take a look at the following structures of amino acids. Can you distinguish different amino acids? This table of amino acids might help you in this task.\n",
        "- Nitrogen: Blue\n",
        "- Carbon: Green\n",
        "- Oxygen: Red\n",
        "- Sulfur: Yellow"
      ]
    },
    {
      "cell_type": "markdown",
      "metadata": {
        "id": "1rdabi58QT2S"
      },
      "source": [
        "<img src='https://drive.google.com/uc?id=1cltgrjlxVcVkx-TffmExqvBq7jpHxN_L'>"
      ]
    },
    {
      "cell_type": "markdown",
      "metadata": {
        "id": "Xw6ose3Tt5O_"
      },
      "source": [
        "Now take a look at the following amino acids and recognize which structure they belong to."
      ]
    },
    {
      "cell_type": "markdown",
      "metadata": {
        "id": "83jgxuFPQwVj"
      },
      "source": [
        "<img src='https://drive.google.com/uc?id=14TWwgKaHNAjMHyF5Nae_yOT_jI5jkQjC'>"
      ]
    },
    {
      "cell_type": "markdown",
      "metadata": {
        "id": "NfwNm4vz3QnE"
      },
      "source": [
        "It was easy! no? \n",
        "- Did the rotation of the amino acids or changes in the side-chain and backbon torsion angles influence your decisions? \n",
        "- What deep learning approach do you propose for the classification of amino acids structures?\n",
        "- Does traditional CNN do the job for us?"
      ]
    },
    {
      "cell_type": "markdown",
      "metadata": {
        "id": "IgMH2b3Ksedf"
      },
      "source": [
        "### 2. The environment around residue\n",
        "\n",
        "<img src='https://drive.google.com/uc?id=1EA0YTjQV_GJsoJyD_TQ-tm2Puo7SXQWJ'>\n",
        "\n",
        "- 6M0J is a crystal structure of SARS-CoV-2 spike receptor-binding domain (RBD) in interaction with Angiotensin-Converting Enzyme 2 (ACE2). \n",
        "\n",
        "- Download the structure of biological assembly of this complex and visualize it in pymol.\n",
        "\n",
        "- By what experimental method the structure of this complex is determined?\n",
        "\n",
        "- Select spike glycoprotein (it's chain E). You can do this using command `select Spike, chain E`.\n",
        "\n",
        "- Select ACE2 (it's chain A). You can do this using command `select ACE2, chain A`.\n",
        "\n",
        "- Can you identify the interface between these two chains?\n",
        "\n",
        "- Select residue 382 from chain A and rename it to `centralRes`. Use command `set_name sele, centralRes`. What is the name of this residue and what are its characteristics?\n",
        "\n",
        "- Represent this residue with spheres using commands `show spheres, centralRes` and `set sphere_scale, 0.6`.\n",
        "\n",
        "- Select the environment around this residue (6 $Å$) and name it `env`. Use command `select env, byres(centralRes around 6) + centralRes`.\n",
        "\n",
        "- Show `env` as sticks. Use command `show sticks, env`.\n",
        "\n",
        "- From the action menu (A) on `env` orient the visualisation on it.\n",
        "\n",
        "- From the action menu (A) on `env` find all the polar contacts. `file->polar contacts->whitin selection`.\n",
        "\n",
        "- Analyze the environment.\n",
        "\n",
        "- Now repeat the same process for residue 487, 489, 498, and 500 from chain E.\n",
        "\n",
        "- Present the protein in using balls and sticks\n",
        "\n",
        "- Select a residue from the interface and change its torsion angles.\n"
      ]
    },
    {
      "cell_type": "markdown",
      "metadata": {
        "id": "fjrb7AwG8RTW"
      },
      "source": [
        "## A simple application: prediction of amino acid from its environment"
      ]
    },
    {
      "cell_type": "markdown",
      "metadata": {
        "id": "0afkoTHsKXpw"
      },
      "source": [
        "### 1. Locally oriented cubes\n",
        "\n",
        "A cube with the size of 24×24×24 $Å^3$ is placed on the residue and oriented according to the its backbone structure. Therefore, the architecture is invariant to 3D translations and rotations.\n",
        "\n",
        "<img src='https://drive.google.com/uc?id=1cuaiYUTfhJwTeJzahumJKlySjV_an0Aa'>\n",
        "\n",
        "<br>\n",
        "<br>\n",
        "<br>\n",
        "\n",
        "For better understanding of the properties of locally oriented cubes please review [this article](https://academic.oup.com/bioinformatics/article/35/18/3313/5341430?login=true)."
      ]
    },
    {
      "cell_type": "markdown",
      "metadata": {
        "id": "ukPAIJjv8p1m"
      },
      "source": [
        "### 2. An end-to-end architecture to predict the amino acid from the environment"
      ]
    },
    {
      "cell_type": "code",
      "metadata": {
        "colab": {
          "base_uri": "https://localhost:8080/"
        },
        "id": "O7iaqPyIZfOn",
        "outputId": "1089394a-18ec-4a42-dc58-80787cf8e836"
      },
      "source": [
        "import pandas as pd\n",
        "import numpy as np\n",
        "import logging\n",
        "import seaborn as sns\n",
        "from scipy import interp\n",
        "from math import exp\n",
        "from random import shuffle, random, seed, sample\n",
        "import matplotlib.pyplot as plt\n",
        "import time\n",
        "import os, sys\n",
        "import glob\n",
        "\n",
        "!pip install pickle5\n",
        "import pickle5\n",
        "\n",
        "import tensorflow.keras\n",
        "from tensorflow.keras import backend as K\n",
        "from tensorflow.keras import regularizers\n",
        "from tensorflow.keras.models import Model, Sequential,load_model\n",
        "from tensorflow.keras.layers import Input, Conv3D, MaxPooling3D, AveragePooling3D, Dense, Dropout, Activation, Flatten, Concatenate, Dot, BatchNormalization, Add, Lambda\n",
        "from tensorflow.keras.backend import ones, ones_like\n",
        "from tensorflow.keras.optimizers import Adam\n",
        "from tensorflow.keras.constraints import max_norm\n",
        "\n",
        "from sklearn.model_selection import train_test_split, StratifiedKFold\n",
        "from sklearn.metrics import mean_squared_error, accuracy_score, roc_auc_score, roc_curve, precision_recall_curve, log_loss\n",
        "from sklearn.preprocessing import MinMaxScaler, OneHotEncoder"
      ],
      "execution_count": null,
      "outputs": [
        {
          "name": "stdout",
          "output_type": "stream",
          "text": [
            "Collecting pickle5\n",
            "  Downloading pickle5-0.0.11.tar.gz (132 kB)\n",
            "\u001b[?25l\r\u001b[K     |██▌                             | 10 kB 6.9 MB/s eta 0:00:01\r\u001b[K     |█████                           | 20 kB 9.2 MB/s eta 0:00:01\r\u001b[K     |███████▍                        | 30 kB 9.5 MB/s eta 0:00:01\r\u001b[K     |██████████                      | 40 kB 11.3 MB/s eta 0:00:01\r\u001b[K     |████████████▍                   | 51 kB 13.2 MB/s eta 0:00:01\r\u001b[K     |██████████████▉                 | 61 kB 11.8 MB/s eta 0:00:01\r\u001b[K     |█████████████████▍              | 71 kB 9.4 MB/s eta 0:00:01\r\u001b[K     |███████████████████▉            | 81 kB 10.2 MB/s eta 0:00:01\r\u001b[K     |██████████████████████▎         | 92 kB 11.0 MB/s eta 0:00:01\r\u001b[K     |████████████████████████▉       | 102 kB 11.9 MB/s eta 0:00:01\r\u001b[K     |███████████████████████████▎    | 112 kB 11.9 MB/s eta 0:00:01\r\u001b[K     |█████████████████████████████▊  | 122 kB 11.9 MB/s eta 0:00:01\r\u001b[K     |████████████████████████████████| 132 kB 11.9 MB/s \n",
            "\u001b[?25hBuilding wheels for collected packages: pickle5\n",
            "  Building wheel for pickle5 (setup.py) ... \u001b[?25l\u001b[?25hdone\n",
            "  Created wheel for pickle5: filename=pickle5-0.0.11-cp37-cp37m-linux_x86_64.whl size=219293 sha256=12394090f4dae5c156e9f09d31d289f70bfa55ef1e9e837bfc866052c3649682\n",
            "  Stored in directory: /root/.cache/pip/wheels/7e/6a/00/67136a90d6aca437d806d1d3cedf98106e840c97a3e5188198\n",
            "Successfully built pickle5\n",
            "Installing collected packages: pickle5\n",
            "Successfully installed pickle5-0.0.11\n"
          ]
        }
      ]
    },
    {
      "cell_type": "code",
      "metadata": {
        "colab": {
          "base_uri": "https://localhost:8080/"
        },
        "id": "UM2xVxOA6TmN",
        "outputId": "dbc55a9f-5fd8-4fec-f5b1-af3e49a8e312"
      },
      "source": [
        "logging.basicConfig(filename='manager.log', filemode='w', format='%(levelname)s: %(message)s', level=logging.DEBUG)\n",
        "mainlog = logging.getLogger('main')\n",
        "logging.Logger"
      ],
      "execution_count": null,
      "outputs": [
        {
          "data": {
            "text/plain": [
              "logging.Logger"
            ]
          },
          "execution_count": 13,
          "metadata": {},
          "output_type": "execute_result"
        }
      ]
    },
    {
      "cell_type": "code",
      "metadata": {
        "colab": {
          "base_uri": "https://localhost:8080/"
        },
        "id": "rawVrT226nTY",
        "outputId": "c2a7177b-8b52-4150-c657-33d43dc44c8c"
      },
      "source": [
        "print('Your python version: {}'.format(sys.version_info.major))"
      ],
      "execution_count": null,
      "outputs": [
        {
          "name": "stdout",
          "output_type": "stream",
          "text": [
            "Your python version: 3\n"
          ]
        }
      ]
    },
    {
      "cell_type": "code",
      "metadata": {
        "id": "isSgPc-r6wmg"
      },
      "source": [
        "USE_TENSORFLOW_AS_BACKEND = True\n",
        "FORCE_CPU = False\n",
        "\n",
        "if USE_TENSORFLOW_AS_BACKEND:\n",
        "    os.environ['KERAS_BACKEND'] = 'tensorflow'\n",
        "else:\n",
        "    os.environ['KERAS_BACKEND'] = 'theano'\n",
        "if FORCE_CPU:\n",
        "    os.environ[\"CUDA_DEVICE_ORDER\"] = \"PCI_BUS_ID\"\n",
        "    os.environ[\"CUDA_VISIBLE_DEVICES\"] = \"\""
      ],
      "execution_count": null,
      "outputs": []
    },
    {
      "cell_type": "code",
      "metadata": {
        "colab": {
          "base_uri": "https://localhost:8080/"
        },
        "id": "9Y4Tb1oA7BU_",
        "outputId": "0443920e-f1b2-4510-c1d6-4e3452513ec4"
      },
      "source": [
        "if USE_TENSORFLOW_AS_BACKEND == True:\n",
        "    import tensorflow\n",
        "    print('Your tensorflow version: {}'.format(tensorflow.__version__))\n",
        "    print(\"GPU : \"+tensorflow.test.gpu_device_name())\n",
        "else:\n",
        "    import theano\n",
        "    print('Your theano version: {}'.format(theano.__version__))"
      ],
      "execution_count": null,
      "outputs": [
        {
          "name": "stdout",
          "output_type": "stream",
          "text": [
            "Your tensorflow version: 2.7.0\n",
            "GPU : /device:GPU:0\n"
          ]
        }
      ]
    },
    {
      "cell_type": "markdown",
      "metadata": {
        "id": "BH7FYiHV9OfM"
      },
      "source": [
        "#### 2.1 Model architecture based on 3D CNN"
      ]
    },
    {
      "cell_type": "code",
      "metadata": {
        "id": "xEylVrZg7luw"
      },
      "source": [
        "def Conv_3D_model(input_shape):\n",
        "  hidden_size1 = 200\n",
        "  hidden_size2 = 20\n",
        "   \n",
        "  X_in = Input(shape=input_shape)\n",
        "  \n",
        "  H = Conv3D(20, kernel_size=(1, 1, 1), use_bias = True, padding = 'valid', activation='linear', kernel_initializer='he_uniform', input_shape=X_in.shape)(X_in)\n",
        "  H = BatchNormalization()(H)\n",
        "  H = Conv3D(20, kernel_size=(3, 3, 3), use_bias = True, padding = 'valid', activation='elu', kernel_initializer='he_uniform', input_shape=H.shape)(H)\n",
        "  H = BatchNormalization()(H)\n",
        "  H = Conv3D(30, kernel_size=(4, 4, 4), use_bias = True, padding = 'valid', activation='elu', kernel_initializer='he_uniform', input_shape=H.shape)(H)\n",
        "  H = BatchNormalization()(H)\n",
        "  H = Conv3D(20, kernel_size=(4, 4, 4), use_bias = True, padding = 'valid', activation='elu', kernel_initializer='he_uniform', input_shape=H.shape)(H)\n",
        "  H = BatchNormalization()(H)\n",
        "  H = AveragePooling3D(pool_size=(4, 4, 4), strides=(4, 4, 4))(H)\n",
        "  H = Flatten()(H)\n",
        "  H = Dropout(0.4)(H)\n",
        "  \n",
        "  H = Dense(hidden_size1, activation='elu', name='layer1', kernel_constraint=max_norm(4), bias_constraint=max_norm(4))(H)\n",
        "  H = Dropout(0.2)(H)\n",
        "  \n",
        "  H = Dense(hidden_size2, activation='elu', name='layer2', kernel_constraint=max_norm(4), bias_constraint=max_norm(4))(H)\n",
        "  H = Dropout(0.1)(H)\n",
        "  \n",
        "  Y = Dense(20, activation='softmax')(H)\n",
        "  \n",
        "  _model = Model(inputs=[X_in], outputs=Y)\n",
        "  _model.compile(loss='categorical_crossentropy', optimizer=Adam(lr=0.001))\n",
        "  _model.summary()\n",
        "  return _model"
      ],
      "execution_count": null,
      "outputs": []
    },
    {
      "cell_type": "markdown",
      "metadata": {
        "id": "MgIULXSA9llo"
      },
      "source": [
        "#### Questions\n",
        "- What does the first layer of Conv3D do?\n",
        "- What activation functions are used in this architecture?\n",
        "- What is the difference between ELU and ReLU activation functions?\n",
        "- What cost function are we trying to minimize?\n",
        "- How many convolutional layers are used in this architecture?\n",
        "- On which layers dropout technique is used? I invite you to review this [page](https://jmlr.org/papers/v15/srivastava14a.html)."
      ]
    },
    {
      "cell_type": "markdown",
      "metadata": {
        "id": "7DIc4RlQ-sOn"
      },
      "source": [
        "#### 2.2 The input data: locally oriented cubes"
      ]
    },
    {
      "cell_type": "markdown",
      "metadata": {
        "id": "B9JRYbVvvJgy"
      },
      "source": [
        "Functions to serializing and de-serializing pickle object structure."
      ]
    },
    {
      "cell_type": "code",
      "metadata": {
        "id": "YcksrAlo8E-6"
      },
      "source": [
        "def save_obj(obj, name):\n",
        "    with open(name + '.pkl', 'wb') as f:\n",
        "        pickle5.dump(obj, f, pickle.HIGHEST_PROTOCOL)\n",
        "\n",
        "def load_obj(name):\n",
        "    with open(name + '.pkl', 'rb') as f:\n",
        "        return pickle5.load(f)"
      ],
      "execution_count": null,
      "outputs": []
    },
    {
      "cell_type": "code",
      "metadata": {
        "id": "xSGwxHCs73hG"
      },
      "source": [
        "def load_map(train_path):\n",
        "    X_train, y_train, res_name = load_obj(train_path.replace('.pkl',''))\n",
        "    return X_train, y_train, res_name"
      ],
      "execution_count": null,
      "outputs": []
    },
    {
      "cell_type": "markdown",
      "metadata": {
        "id": "fQekak9Lvpj6"
      },
      "source": [
        "Download two datasets: residue samples with their environments and residue samples without their environments."
      ]
    },
    {
      "cell_type": "code",
      "metadata": {
        "colab": {
          "background_save": true
        },
        "id": "f0hAnvHy2UqQ",
        "outputId": "a9d24c52-a85a-4818-f5f2-55fb9e781fda"
      },
      "source": [
        "!gdown --id '1ZuY9WMW5gewLVemz8h744KgUwMPyb9EP'\n",
        "!gdown --id '1c8mL6t31BR4Th0qyfPoeNOKU-OPI1dNd'"
      ],
      "execution_count": null,
      "outputs": [
        {
          "name": "stdout",
          "output_type": "stream",
          "text": [
            "Downloading...\n",
            "From: https://drive.google.com/uc?id=1ZuY9WMW5gewLVemz8h744KgUwMPyb9EP\n",
            "To: /content/traindata_30.zip\n",
            "100% 8.90M/8.90M [00:00<00:00, 78.4MB/s]\n",
            "Downloading...\n",
            "From: https://drive.google.com/uc?id=1c8mL6t31BR4Th0qyfPoeNOKU-OPI1dNd\n",
            "To: /content/traindata_env_30.zip\n",
            "100% 80.9M/80.9M [00:00<00:00, 93.5MB/s]\n"
          ]
        }
      ]
    },
    {
      "cell_type": "markdown",
      "metadata": {
        "id": "jmbAikXZv9RT"
      },
      "source": [
        "Decompress the two datasets."
      ]
    },
    {
      "cell_type": "code",
      "metadata": {
        "colab": {
          "background_save": true
        },
        "id": "cgVW_-PICWHD",
        "outputId": "2bea4b9a-20db-41bd-9045-e73540eca786"
      },
      "source": [
        "!unzip '/content/traindata_30.zip'\n",
        "!unzip '/content/traindata_env_30.zip'"
      ],
      "execution_count": null,
      "outputs": [
        {
          "name": "stdout",
          "output_type": "stream",
          "text": [
            "Archive:  /content/traindata_30.zip\n",
            "  inflating: traindata_30/ALA_1cju_0_1_A_1--1cju_0_1_B_1_10.pkl  \n",
            "  inflating: traindata_30/ALA_1h4r_0_1_A_1--1h4r_0_1_B_1_17.pkl  \n",
            "  inflating: traindata_30/ALA_1ixm_0_1_A_1--1ixm_0_1_B_1_31.pkl  \n",
            "  inflating: traindata_30/ALA_1l9r_0_1_A_1--1l9r_0_1_C_1_58.pkl  \n",
            "  inflating: traindata_30/ALA_1n1e_0_1_A_1--1n1e_0_1_B_1_98.pkl  \n",
            "  inflating: traindata_30/ALA_1o9q_0_1_B_1--1o9q_0_1_A_1_67.pkl  \n",
            "  inflating: traindata_30/ALA_1o9q_0_1_B_1--1o9q_0_1_A_1_68.pkl  \n",
            "  inflating: traindata_30/ALA_1rj9_0_1_B_1--1rj9_0_1_A_1_12.pkl  \n",
            "  inflating: traindata_30/ALA_1rj9_0_1_B_1--1rj9_0_1_A_1_70.pkl  \n",
            "  inflating: traindata_30/ALA_1su6_0_1_A_2--1su6_0_1_A_1_35.pkl  \n",
            "  inflating: traindata_30/ALA_1yi1_0_1_A_4--1yi1_0_1_A_1_169.pkl  \n",
            "  inflating: traindata_30/ALA_1yu2_0_1_A_3--1yu2_0_1_A_2_12.pkl  \n",
            "  inflating: traindata_30/ALA_1zv8_0_2_I_1--1zv8_0_2_G_1_2.pkl  \n",
            "  inflating: traindata_30/ALA_2a77_0_1_H_1--2a77_0_1_L_1_8.pkl  \n",
            "  inflating: traindata_30/ALA_2af4_0_1_D_1--2af4_0_1_C_1_49.pkl  \n",
            "  inflating: traindata_30/ALA_2q4h_0_1_A_1--2q4h_0_1_B_1_12.pkl  \n",
            "  inflating: traindata_30/ALA_2qcq_0_1_A_1--2qcq_0_1_B_1_6.pkl  \n",
            "  inflating: traindata_30/ALA_2vjy_0_1_B_1--2vjy_0_1_A_1_144.pkl  \n",
            "  inflating: traindata_30/ALA_2xok_0_1_H_1--2xok_0_1_I_1_23.pkl  \n",
            "  inflating: traindata_30/ALA_2ywx_0_1_A_6--2ywx_0_1_A_1_20.pkl  \n",
            "  inflating: traindata_30/ALA_3ah6_0_2_F_1--3ah6_0_2_E_1_32.pkl  \n",
            "  inflating: traindata_30/ALA_3fhm_0_1_D_1--3fhm_0_1_A_1_30.pkl  \n",
            "  inflating: traindata_30/ALA_3mhe_0_1_B_1--3mhe_0_1_A_1_35.pkl  \n",
            "  inflating: traindata_30/ALA_3mm0_0_4_M_2--3mm0_0_4_N_1_16.pkl  \n",
            "  inflating: traindata_30/ALA_3p05_0_1_C_1--3p05_0_1_B_1_16.pkl  \n",
            "  inflating: traindata_30/ALA_4bmg_0_1_C_1--4bmg_0_1_D_1_20.pkl  \n",
            "  inflating: traindata_30/ALA_4p14_0_1_A_2--4p14_0_1_A_4_10.pkl  \n",
            "  inflating: traindata_30/ALA_4y2q_0_1_A_2--4y2q_0_1_A_1_12.pkl  \n",
            "  inflating: traindata_30/ALA_5a8k_0_1_D_1--5a8k_0_1_C_1_17.pkl  \n",
            "  inflating: traindata_30/ALA_5gt6_0_1_B_1--5gt6_0_1_D_1_25.pkl  \n",
            "  inflating: traindata_30/ARG_1ahu_0_1_B_4--1ahu_0_1_A_2_3.pkl  \n",
            "  inflating: traindata_30/ARG_1aon_0_1_L_1--1aon_0_1_M_1_56.pkl  \n",
            "  inflating: traindata_30/ARG_1bpn_0_1_A_4--1bpn_0_1_A_1_22.pkl  \n",
            "  inflating: traindata_30/ARG_1e0k_0_2_F_1--1e0k_0_2_D_2_41.pkl  \n",
            "  inflating: traindata_30/ARG_1ipi_0_1_B_1--1ipi_0_1_A_1_34.pkl  \n",
            "  inflating: traindata_30/ARG_1ntz_0_1_A_2--1ntz_0_1_E_2_42.pkl  \n",
            "  inflating: traindata_30/ARG_1o9q_0_1_B_1--1o9q_0_1_A_1_14.pkl  \n",
            "  inflating: traindata_30/ARG_1pc6_0_1_A_1--1pc6_0_1_B_1_100.pkl  \n",
            "  inflating: traindata_30/ARG_1pc6_0_1_A_1--1pc6_0_1_B_1_123.pkl  \n",
            "  inflating: traindata_30/ARG_1pgq_0_1_A_1--1pgq_0_1_A_2_48.pkl  \n",
            "  inflating: traindata_30/ARG_1xvw_0_1_B_4--1xvw_0_1_A_4_11.pkl  \n",
            "  inflating: traindata_30/ARG_1xvw_0_1_B_4--1xvw_0_1_A_4_8.pkl  \n",
            "  inflating: traindata_30/ARG_2bi0_0_1_A_1--2bi0_0_1_A_2_52.pkl  \n",
            "  inflating: traindata_30/ARG_2e8h_0_2_A_1--2e8h_0_2_B_1_62.pkl  \n",
            "  inflating: traindata_30/ARG_2fhi_0_1_A_1--2fhi_0_1_A_2_31.pkl  \n",
            "  inflating: traindata_30/ARG_2xr4_0_1_B_1--2xr4_0_1_A_1_11.pkl  \n",
            "  inflating: traindata_30/ARG_3gvq_0_1_A_1--3gvq_0_1_A_2_37.pkl  \n",
            "  inflating: traindata_30/ARG_3ihi_0_1_B_1--3ihi_0_1_A_1_95.pkl  \n",
            "  inflating: traindata_30/ARG_3ow5_0_1_A_2--3ow5_0_1_A_1_17.pkl  \n",
            "  inflating: traindata_30/ARG_4eom_0_2_D_1--4eom_0_2_C_1_61.pkl  \n",
            "  inflating: traindata_30/ARG_4eom_0_2_D_1--4eom_0_2_C_1_62.pkl  \n",
            "  inflating: traindata_30/ARG_4ub8_0_1_I_1--4ub8_0_1_A_1_14.pkl  \n",
            "  inflating: traindata_30/ARG_4ub8_0_1_L_1--4ub8_0_1_B_1_6.pkl  \n",
            "  inflating: traindata_30/ARG_4xdw_0_3_G_1--4xdw_0_3_H_1_35.pkl  \n",
            "  inflating: traindata_30/ARG_4zdq_0_6_C_1--4zdq_0_6_D_1_0.pkl  \n",
            "  inflating: traindata_30/ARG_5a8k_0_1_D_1--5a8k_0_1_C_1_24.pkl  \n",
            "  inflating: traindata_30/ARG_5huh_0_1_B_1--5huh_0_1_A_1_46.pkl  \n",
            "  inflating: traindata_30/ARG_5huh_0_1_B_1--5huh_0_1_A_1_82.pkl  \n",
            "  inflating: traindata_30/ARG_5pae_0_1_A_1--5pae_0_1_B_1_43.pkl  \n",
            "  inflating: traindata_30/ARG_5tup_0_1_B_1--5tup_0_1_C_1_18.pkl  \n",
            "  inflating: traindata_30/ASN_1ds6_0_1_B_1--1ds6_0_1_A_1_37.pkl  \n",
            "  inflating: traindata_30/ASN_1ex5_0_1_C_1--1ex5_0_1_D_1_11.pkl  \n",
            "  inflating: traindata_30/ASN_1pk8_0_2_E_1--1pk8_0_2_F_1_39.pkl  \n",
            "  inflating: traindata_30/ASN_1w61_0_1_B_1--1w61_0_1_A_1_62.pkl  \n",
            "  inflating: traindata_30/ASN_1yi1_0_1_A_4--1yi1_0_1_A_1_97.pkl  \n",
            "  inflating: traindata_30/ASN_1yu2_0_1_A_3--1yu2_0_1_A_2_23.pkl  \n",
            "  inflating: traindata_30/ASN_1yu2_0_1_A_3--1yu2_0_1_A_2_8.pkl  \n",
            "  inflating: traindata_30/ASN_1z1f_0_1_A_1--1z1f_0_1_A_2_44.pkl  \n",
            "  inflating: traindata_30/ASN_2bi0_0_1_A_1--2bi0_0_1_A_2_8.pkl  \n",
            "  inflating: traindata_30/ASN_2cxt_0_1_B_1--2cxt_0_1_A_1_161.pkl  \n",
            "  inflating: traindata_30/ASN_2trx_0_3_A_1--2trx_0_3_A_2_28.pkl  \n",
            "  inflating: traindata_30/ASN_2v9m_0_1_A_1--2v9m_0_1_A_2_40.pkl  \n",
            "  inflating: traindata_30/ASN_2vjy_0_1_B_1--2vjy_0_1_A_1_110.pkl  \n",
            "  inflating: traindata_30/ASN_2vjy_0_1_B_1--2vjy_0_1_A_1_174.pkl  \n",
            "  inflating: traindata_30/ASN_2wgc_0_3_B_2--2wgc_0_3_B_1_24.pkl  \n",
            "  inflating: traindata_30/ASN_2wgc_0_3_B_2--2wgc_0_3_B_1_86.pkl  \n",
            "  inflating: traindata_30/ASN_2y77_0_1_A_2--2y77_0_1_A_1_17.pkl  \n",
            "  inflating: traindata_30/ASN_3bwr_0_1_C_1--3bwr_0_1_B_1_64.pkl  \n",
            "  inflating: traindata_30/ASN_3mhe_0_1_B_1--3mhe_0_1_A_1_26.pkl  \n",
            "  inflating: traindata_30/ASN_3sck_0_1_E_1--3sck_0_1_A_1_10.pkl  \n",
            "  inflating: traindata_30/ASN_3v2q_0_1_A_1--3v2q_0_1_E_1_34.pkl  \n",
            "  inflating: traindata_30/ASN_4xdw_0_3_G_1--4xdw_0_3_H_1_17.pkl  \n",
            "  inflating: traindata_30/ASN_4zz9_0_1_B_1--4zz9_0_1_A_1_56.pkl  \n",
            "  inflating: traindata_30/ASN_4zzd_0_1_A_1--4zzd_0_1_A_2_39.pkl  \n",
            "  inflating: traindata_30/ASN_5fnw_0_1_A_1--5fnw_0_1_A_2_33.pkl  \n",
            "  inflating: traindata_30/ASN_5h8f_0_1_B_1--5h8f_0_1_A_1_2.pkl  \n",
            "  inflating: traindata_30/ASN_5hs4_0_1_A_3--5hs4_0_1_A_2_23.pkl  \n",
            "  inflating: traindata_30/ASN_5mjp_0_1_A_3--5mjp_0_1_B_6_9.pkl  \n",
            "  inflating: traindata_30/ASN_5x0q_0_2_B_2--5x0q_0_2_B_1_43.pkl  \n",
            "  inflating: traindata_30/ASN_8jdw_0_1_A_2--8jdw_0_1_A_1_10.pkl  \n",
            "  inflating: traindata_30/ASP_1diy_0_1_A_1--1diy_0_1_A_2_86.pkl  \n",
            "  inflating: traindata_30/ASP_1ex5_0_1_C_1--1ex5_0_1_D_1_54.pkl  \n",
            "  inflating: traindata_30/ASP_1gzg_0_1_A_2--1gzg_0_1_B_4_11.pkl  \n",
            "  inflating: traindata_30/ASP_1gzg_0_1_A_2--1gzg_0_1_B_4_23.pkl  \n",
            "  inflating: traindata_30/ASP_1ixm_0_1_A_1--1ixm_0_1_B_1_0.pkl  \n",
            "  inflating: traindata_30/ASP_1mr7_0_1_A_1--1mr7_0_1_B_1_62.pkl  \n",
            "  inflating: traindata_30/ASP_1n63_0_1_C_1--1n63_0_1_B_1_47.pkl  \n",
            "  inflating: traindata_30/ASP_1ntz_0_1_A_2--1ntz_0_1_E_2_29.pkl  \n",
            "  inflating: traindata_30/ASP_1ons_0_1_A_1--1ons_0_1_A_2_26.pkl  \n",
            "  inflating: traindata_30/ASP_1pk8_0_2_E_1--1pk8_0_2_F_1_8.pkl  \n",
            "  inflating: traindata_30/ASP_1pzi_0_1_D_1--1pzi_0_1_E_1_17.pkl  \n",
            "  inflating: traindata_30/ASP_1qsd_0_1_A_1--1qsd_0_1_B_1_13.pkl  \n",
            "  inflating: traindata_30/ASP_1su6_0_1_A_2--1su6_0_1_A_1_133.pkl  \n",
            "  inflating: traindata_30/ASP_1yi1_0_1_A_4--1yi1_0_1_A_1_40.pkl  \n",
            "  inflating: traindata_30/ASP_1z1f_0_1_A_1--1z1f_0_1_A_2_14.pkl  \n",
            "  inflating: traindata_30/ASP_2at1_0_1_D_2--2at1_0_1_B_2_26.pkl  \n",
            "  inflating: traindata_30/ASP_2d32_0_2_A_2--2d32_0_2_A_1_3.pkl  \n",
            "  inflating: traindata_30/ASP_2jg1_0_2_C_1--2jg1_0_2_B_1_5.pkl  \n",
            "  inflating: traindata_30/ASP_2ozj_0_1_A_1--2ozj_0_1_A_2_27.pkl  \n",
            "  inflating: traindata_30/ASP_2xr4_0_1_B_1--2xr4_0_1_A_1_45.pkl  \n",
            "  inflating: traindata_30/ASP_2zfa_0_1_B_2--2zfa_0_1_B_4_64.pkl  \n",
            "  inflating: traindata_30/ASP_3fz7_0_1_F_1--3fz7_0_1_A_1_140.pkl  \n",
            "  inflating: traindata_30/ASP_3qfn_0_1_A_1--3qfn_0_1_B_1_20.pkl  \n",
            "  inflating: traindata_30/ASP_3qfn_0_1_A_1--3qfn_0_1_B_1_43.pkl  \n",
            "  inflating: traindata_30/ASP_4bmg_0_1_C_1--4bmg_0_1_D_1_48.pkl  \n",
            "  inflating: traindata_30/ASP_4hzy_0_1_A_3--4hzy_0_1_A_2_50.pkl  \n",
            "  inflating: traindata_30/ASP_4zz9_0_1_B_1--4zz9_0_1_A_1_28.pkl  \n",
            "  inflating: traindata_30/ASP_5huh_0_1_B_1--5huh_0_1_A_1_40.pkl  \n",
            "  inflating: traindata_30/ASP_5kdf_0_1_A_3--5kdf_0_1_A_5_25.pkl  \n",
            "  inflating: traindata_30/ASP_5svn_0_1_B_1--5svn_0_1_A_1_154.pkl  \n",
            "  inflating: traindata_30/CYS_1cju_0_1_B_1--1cju_0_1_C_1_27.pkl  \n",
            "  inflating: traindata_30/CYS_1n1e_0_1_A_1--1n1e_0_1_B_1_18.pkl  \n",
            "  inflating: traindata_30/CYS_1n1e_0_1_A_1--1n1e_0_1_B_1_9.pkl  \n",
            "  inflating: traindata_30/CYS_1ntz_0_1_A_2--1ntz_0_1_E_2_31.pkl  \n",
            "  inflating: traindata_30/CYS_1ntz_0_1_D_2--1ntz_0_1_H_2_14.pkl  \n",
            "  inflating: traindata_30/CYS_1o9q_0_1_B_1--1o9q_0_1_A_1_59.pkl  \n",
            "  inflating: traindata_30/CYS_1su6_0_1_A_2--1su6_0_1_A_1_29.pkl  \n",
            "  inflating: traindata_30/CYS_1xmm_0_1_B_1--1xmm_0_1_A_1_200.pkl  \n",
            "  inflating: traindata_30/CYS_1yi1_0_1_A_4--1yi1_0_1_A_1_84.pkl  \n",
            "  inflating: traindata_30/CYS_2cxt_0_1_B_1--2cxt_0_1_A_1_40.pkl  \n",
            "  inflating: traindata_30/CYS_2jg1_0_2_C_1--2jg1_0_2_B_1_24.pkl  \n",
            "  inflating: traindata_30/CYS_2pud_0_1_A_1--2pud_0_1_A_2_48.pkl  \n",
            "  inflating: traindata_30/CYS_2q4h_0_1_A_1--2q4h_0_1_B_1_52.pkl  \n",
            "  inflating: traindata_30/CYS_2qq4_0_1_F_1--2qq4_0_1_J_1_25.pkl  \n",
            "  inflating: traindata_30/CYS_2wgc_0_3_B_2--2wgc_0_3_B_1_112.pkl  \n",
            "  inflating: traindata_30/CYS_2wgc_0_3_B_2--2wgc_0_3_B_1_7.pkl  \n",
            "  inflating: traindata_30/CYS_3gvq_0_1_A_1--3gvq_0_1_A_2_56.pkl  \n",
            "  inflating: traindata_30/CYS_3ihi_0_1_B_1--3ihi_0_1_A_1_77.pkl  \n",
            "  inflating: traindata_30/CYS_3vgb_0_2_A_2--3vgb_0_2_A_1_42.pkl  \n",
            "  inflating: traindata_30/CYS_4aei_0_1_A_1--4aei_0_1_L_1_10.pkl  \n",
            "  inflating: traindata_30/CYS_4aei_0_1_A_1--4aei_0_1_L_1_2.pkl  \n",
            "  inflating: traindata_30/CYS_4bmg_0_1_C_1--4bmg_0_1_D_1_25.pkl  \n",
            "  inflating: traindata_30/CYS_4h8a_0_1_A_1--4h8a_0_1_B_1_82.pkl  \n",
            "  inflating: traindata_30/CYS_4hzy_0_1_A_3--4hzy_0_1_A_2_67.pkl  \n",
            "  inflating: traindata_30/CYS_4ub8_0_1_I_1--4ub8_0_1_A_1_20.pkl  \n",
            "  inflating: traindata_30/CYS_4y2q_0_1_A_2--4y2q_0_1_A_1_70.pkl  \n",
            "  inflating: traindata_30/CYS_4zz9_0_1_B_1--4zz9_0_1_A_1_39.pkl  \n",
            "  inflating: traindata_30/CYS_5a8k_0_1_A_1--5a8k_0_1_E_1_71.pkl  \n",
            "  inflating: traindata_30/CYS_5hs4_0_1_A_3--5hs4_0_1_A_2_91.pkl  \n",
            "  inflating: traindata_30/CYS_5vyp_0_1_W_1--5vyp_0_1_X_1_9.pkl  \n",
            "  inflating: traindata_30/GLN_1cfm_0_1_A_1--1cfm_0_1_C_1_3.pkl  \n",
            "  inflating: traindata_30/GLN_1dnl_0_1_A_1--1dnl_0_1_A_2_25.pkl  \n",
            "  inflating: traindata_30/GLN_1e79_0_1_I_1--1e79_0_1_H_1_25.pkl  \n",
            "  inflating: traindata_30/GLN_1gck_0_1_A_1--1gck_0_1_B_1_146.pkl  \n",
            "  inflating: traindata_30/GLN_1gzg_0_1_A_2--1gzg_0_1_B_4_90.pkl  \n",
            "  inflating: traindata_30/GLN_1mm8_0_1_A_2--1mm8_0_1_A_1_8.pkl  \n",
            "  inflating: traindata_30/GLN_1n1e_0_1_A_1--1n1e_0_1_B_1_131.pkl  \n",
            "  inflating: traindata_30/GLN_1o5e_0_1_L_1--1o5e_0_1_H_1_3.pkl  \n",
            "  inflating: traindata_30/GLN_1o9q_0_1_B_1--1o9q_0_1_A_1_4.pkl  \n",
            "  inflating: traindata_30/GLN_1pc6_0_1_A_1--1pc6_0_1_B_1_80.pkl  \n",
            "  inflating: traindata_30/GLN_1pgq_0_1_A_1--1pgq_0_1_A_2_66.pkl  \n",
            "  inflating: traindata_30/GLN_1pgq_0_1_A_1--1pgq_0_1_A_2_73.pkl  \n",
            "  inflating: traindata_30/GLN_1pzi_0_1_D_1--1pzi_0_1_E_1_11.pkl  \n",
            "  inflating: traindata_30/GLN_1xmm_0_1_B_1--1xmm_0_1_A_1_172.pkl  \n",
            "  inflating: traindata_30/GLN_1yu2_0_1_A_3--1yu2_0_1_A_2_28.pkl  \n",
            "  inflating: traindata_30/GLN_2bap_0_2_B_2--2bap_0_2_B_1_9.pkl  \n",
            "  inflating: traindata_30/GLN_2cxt_0_1_B_1--2cxt_0_1_A_1_259.pkl  \n",
            "  inflating: traindata_30/GLN_2cxt_0_1_B_1--2cxt_0_1_A_1_71.pkl  \n",
            "  inflating: traindata_30/GLN_2fhi_0_1_A_1--2fhi_0_1_A_2_11.pkl  \n",
            "  inflating: traindata_30/GLN_2gpl_0_1_D_1--2gpl_0_1_E_1_10.pkl  \n",
            "  inflating: traindata_30/GLN_2io5_0_1_A_1--2io5_0_1_B_1_31.pkl  \n",
            "  inflating: traindata_30/GLN_2po1_0_1_A_2--2po1_0_1_B_1_18.pkl  \n",
            "  inflating: traindata_30/GLN_2trx_0_3_A_1--2trx_0_3_A_2_23.pkl  \n",
            "  inflating: traindata_30/GLN_3d2r_0_1_B_1--3d2r_0_1_A_1_63.pkl  \n",
            "  inflating: traindata_30/GLN_4a9f_0_2_C_1--4a9f_0_2_C_2_0.pkl  \n",
            "  inflating: traindata_30/GLN_4a9f_0_2_C_1--4a9f_0_2_C_2_2.pkl  \n",
            "  inflating: traindata_30/GLN_4ctw_0_1_B_1--4ctw_0_1_A_1_37.pkl  \n",
            "  inflating: traindata_30/GLN_4y2q_0_1_A_2--4y2q_0_1_A_1_61.pkl  \n",
            "  inflating: traindata_30/GLN_5h8f_0_1_B_1--5h8f_0_1_A_1_19.pkl  \n",
            "  inflating: traindata_30/GLN_5hs4_0_1_A_3--5hs4_0_1_A_2_65.pkl  \n",
            "  inflating: traindata_30/GLU_1aon_0_1_L_1--1aon_0_1_M_1_20.pkl  \n",
            "  inflating: traindata_30/GLU_1bks_0_1_B_2--1bks_0_1_A_2_60.pkl  \n",
            "  inflating: traindata_30/GLU_1cju_0_1_B_1--1cju_0_1_C_1_5.pkl  \n",
            "  inflating: traindata_30/GLU_1ex5_0_1_C_1--1ex5_0_1_D_1_21.pkl  \n",
            "  inflating: traindata_30/GLU_1ex5_0_1_C_1--1ex5_0_1_D_1_49.pkl  \n",
            "  inflating: traindata_30/GLU_1gzg_0_1_A_2--1gzg_0_1_B_4_77.pkl  \n",
            "  inflating: traindata_30/GLU_1n63_0_1_C_1--1n63_0_1_B_1_46.pkl  \n",
            "  inflating: traindata_30/GLU_1ntz_0_1_C_2--1ntz_0_1_G_2_23.pkl  \n",
            "  inflating: traindata_30/GLU_1o5e_0_1_L_1--1o5e_0_1_H_1_55.pkl  \n",
            "  inflating: traindata_30/GLU_1su6_0_1_A_2--1su6_0_1_A_1_32.pkl  \n",
            "  inflating: traindata_30/GLU_1v70_0_1_A_1--1v70_0_1_A_2_21.pkl  \n",
            "  inflating: traindata_30/GLU_1w61_0_1_B_1--1w61_0_1_A_1_42.pkl  \n",
            "  inflating: traindata_30/GLU_1yu2_0_1_A_3--1yu2_0_1_A_2_39.pkl  \n",
            "  inflating: traindata_30/GLU_1z1f_0_1_A_1--1z1f_0_1_A_2_111.pkl  \n",
            "  inflating: traindata_30/GLU_2cxt_0_1_B_1--2cxt_0_1_A_1_139.pkl  \n",
            "  inflating: traindata_30/GLU_2d32_0_2_A_2--2d32_0_2_A_1_42.pkl  \n",
            "  inflating: traindata_30/GLU_2g6z_0_1_A_1--2g6z_0_1_B_1_14.pkl  \n",
            "  inflating: traindata_30/GLU_2po1_0_1_A_2--2po1_0_1_B_1_3.pkl  \n",
            "  inflating: traindata_30/GLU_3fz7_0_1_F_1--3fz7_0_1_A_1_129.pkl  \n",
            "  inflating: traindata_30/GLU_3fz7_0_1_F_1--3fz7_0_1_A_1_239.pkl  \n",
            "  inflating: traindata_30/GLU_3fz7_0_1_F_1--3fz7_0_1_A_1_86.pkl  \n",
            "  inflating: traindata_30/GLU_3qop_0_1_A_1--3qop_0_1_B_1_7.pkl  \n",
            "  inflating: traindata_30/GLU_3uil_0_1_A_1--3uil_0_1_C_1_9.pkl  \n",
            "  inflating: traindata_30/GLU_4eom_0_2_D_1--4eom_0_2_C_1_14.pkl  \n",
            "  inflating: traindata_30/GLU_4eom_0_2_D_1--4eom_0_2_C_1_38.pkl  \n",
            "  inflating: traindata_30/GLU_4h8a_0_1_A_1--4h8a_0_1_B_1_65.pkl  \n",
            "  inflating: traindata_30/GLU_4ub8_0_1_B_1--4ub8_0_1_H_1_3.pkl  \n",
            "  inflating: traindata_30/GLU_4ypy_0_1_A_1--4ypy_0_1_A_2_34.pkl  \n",
            "  inflating: traindata_30/GLU_5hs4_0_1_A_3--5hs4_0_1_A_2_110.pkl  \n",
            "  inflating: traindata_30/GLU_5lyj_0_1_C_1--5lyj_0_1_E_1_20.pkl  \n",
            "  inflating: traindata_30/GLY_1aon_0_1_G_1--1aon_0_1_U_1_12.pkl  \n",
            "  inflating: traindata_30/GLY_1ds6_0_1_B_1--1ds6_0_1_A_1_27.pkl  \n",
            "  inflating: traindata_30/GLY_1e79_0_1_I_1--1e79_0_1_G_1_11.pkl  \n",
            "  inflating: traindata_30/GLY_1ex5_0_1_C_1--1ex5_0_1_D_1_9.pkl  \n",
            "  inflating: traindata_30/GLY_1jwb_0_1_B_1--1jwb_0_1_D_1_1.pkl  \n",
            "  inflating: traindata_30/GLY_1kiu_0_9_I_4--1kiu_0_9_J_4_73.pkl  \n",
            "  inflating: traindata_30/GLY_1l9u_0_2_L_1--1l9u_0_2_M_1_7.pkl  \n",
            "  inflating: traindata_30/GLY_1pgq_0_1_A_1--1pgq_0_1_A_2_151.pkl  \n",
            "  inflating: traindata_30/GLY_1r0k_0_2_C_1--1r0k_0_2_D_1_64.pkl  \n",
            "  inflating: traindata_30/GLY_1rj9_0_1_B_1--1rj9_0_1_A_1_68.pkl  \n",
            "  inflating: traindata_30/GLY_1vqo_0_1_A_1--1vqo_0_1_Z_1_55.pkl  \n",
            "  inflating: traindata_30/GLY_1w61_0_1_B_1--1w61_0_1_A_1_41.pkl  \n",
            "  inflating: traindata_30/GLY_2at1_0_1_D_2--2at1_0_1_B_2_13.pkl  \n",
            "  inflating: traindata_30/GLY_2bi0_0_1_A_1--2bi0_0_1_A_2_1.pkl  \n",
            "  inflating: traindata_30/GLY_2cxt_0_1_B_1--2cxt_0_1_A_1_179.pkl  \n",
            "  inflating: traindata_30/GLY_2hhk_0_1_H_1--2hhk_0_1_L_1_16.pkl  \n",
            "  inflating: traindata_30/GLY_2q4h_0_1_A_1--2q4h_0_1_B_1_100.pkl  \n",
            "  inflating: traindata_30/GLY_2v9m_0_1_A_1--2v9m_0_1_A_2_35.pkl  \n",
            "  inflating: traindata_30/GLY_2vjy_0_1_B_1--2vjy_0_1_A_1_135.pkl  \n",
            "  inflating: traindata_30/GLY_3fhm_0_1_D_1--3fhm_0_1_A_1_24.pkl  \n",
            "  inflating: traindata_30/GLY_3uil_0_1_A_1--3uil_0_1_C_1_15.pkl  \n",
            "  inflating: traindata_30/GLY_3vp1_0_1_A_2--3vp1_0_1_A_1_15.pkl  \n",
            "  inflating: traindata_30/GLY_4h8a_0_1_A_1--4h8a_0_1_B_1_15.pkl  \n",
            "  inflating: traindata_30/GLY_4hzy_0_1_A_3--4hzy_0_1_A_2_55.pkl  \n",
            "  inflating: traindata_30/GLY_4odx_0_2_A_1--4odx_0_2_Y_1_27.pkl  \n",
            "  inflating: traindata_30/GLY_4ub8_0_1_C_1--4ub8_0_1_D_1_28.pkl  \n",
            "  inflating: traindata_30/GLY_4ub8_0_1_O_1--4ub8_0_1_U_1_25.pkl  \n",
            "  inflating: traindata_30/GLY_4ypy_0_1_A_1--4ypy_0_1_A_2_14.pkl  \n",
            "  inflating: traindata_30/GLY_4zdq_0_6_C_1--4zdq_0_6_D_1_35.pkl  \n",
            "  inflating: traindata_30/GLY_5iw8_0_1_B_1--5iw8_0_1_A_1_72.pkl  \n",
            "  inflating: traindata_30/HIS_1diy_0_1_A_1--1diy_0_1_A_2_28.pkl  \n",
            "  inflating: traindata_30/HIS_1e0k_0_2_F_1--1e0k_0_2_D_2_24.pkl  \n",
            "  inflating: traindata_30/HIS_1g8g_0_1_A_3--1g8g_0_1_A_2_20.pkl  \n",
            "  inflating: traindata_30/HIS_1l9r_0_1_A_1--1l9r_0_1_C_1_53.pkl  \n",
            "  inflating: traindata_30/HIS_1pgq_0_1_A_1--1pgq_0_1_A_2_95.pkl  \n",
            "  inflating: traindata_30/HIS_1su6_0_1_A_2--1su6_0_1_A_1_134.pkl  \n",
            "  inflating: traindata_30/HIS_1su6_0_1_A_2--1su6_0_1_A_1_170.pkl  \n",
            "  inflating: traindata_30/HIS_1w61_0_1_B_1--1w61_0_1_A_1_46.pkl  \n",
            "  inflating: traindata_30/HIS_1yi1_0_1_A_4--1yi1_0_1_A_1_93.pkl  \n",
            "  inflating: traindata_30/HIS_1z1f_0_1_A_1--1z1f_0_1_A_2_121.pkl  \n",
            "  inflating: traindata_30/HIS_2cic_0_1_A_2--2cic_0_1_A_1_33.pkl  \n",
            "  inflating: traindata_30/HIS_2cxt_0_1_B_1--2cxt_0_1_A_1_26.pkl  \n",
            "  inflating: traindata_30/HIS_2czr_0_2_A_2--2czr_0_2_A_1_88.pkl  \n",
            "  inflating: traindata_30/HIS_2obx_0_2_B_1--2obx_0_2_A_1_49.pkl  \n",
            "  inflating: traindata_30/HIS_2q4h_0_1_A_1--2q4h_0_1_B_1_41.pkl  \n",
            "  inflating: traindata_30/HIS_3fz7_0_1_F_1--3fz7_0_1_A_1_200.pkl  \n",
            "  inflating: traindata_30/HIS_3fz7_0_1_F_1--3fz7_0_1_A_1_82.pkl  \n",
            "  inflating: traindata_30/HIS_3mhe_0_1_B_1--3mhe_0_1_A_1_27.pkl  \n",
            "  inflating: traindata_30/HIS_3qfn_0_1_A_1--3qfn_0_1_B_1_40.pkl  \n",
            "  inflating: traindata_30/HIS_3rex_0_1_B_1--3rex_0_1_A_1_110.pkl  \n",
            "  inflating: traindata_30/HIS_3rre_0_1_A_6--3rre_0_1_A_8_56.pkl  \n",
            "  inflating: traindata_30/HIS_4ckv_0_1_X_1--4ckv_0_1_X_2_17.pkl  \n",
            "  inflating: traindata_30/HIS_4loh_0_1_B_1--4loh_0_1_A_1_66.pkl  \n",
            "  inflating: traindata_30/HIS_4y2q_0_1_A_2--4y2q_0_1_A_1_78.pkl  \n",
            "  inflating: traindata_30/HIS_5a8k_0_1_D_1--5a8k_0_1_C_1_30.pkl  \n",
            "  inflating: traindata_30/HIS_5hs4_0_1_A_3--5hs4_0_1_A_2_72.pkl  \n",
            "  inflating: traindata_30/HIS_5huh_0_1_B_1--5huh_0_1_A_1_63.pkl  \n",
            "  inflating: traindata_30/HIS_5iw8_0_1_B_1--5iw8_0_1_A_1_37.pkl  \n",
            "  inflating: traindata_30/HIS_5lyj_0_1_F_1--5lyj_0_1_A_1_4.pkl  \n",
            "  inflating: traindata_30/HIS_5svn_0_1_B_1--5svn_0_1_A_1_68.pkl  \n",
            "  inflating: traindata_30/ILE_1cju_0_1_A_1--1cju_0_1_B_1_69.pkl  \n",
            "  inflating: traindata_30/ILE_1ixm_0_1_A_1--1ixm_0_1_B_1_15.pkl  \n",
            "  inflating: traindata_30/ILE_1ixm_0_1_A_1--1ixm_0_1_B_1_22.pkl  \n",
            "  inflating: traindata_30/ILE_1l4k_0_1_A_2--1l4k_0_1_A_1_66.pkl  \n",
            "  inflating: traindata_30/ILE_1ntz_0_1_E_1--1ntz_0_1_C_1_22.pkl  \n",
            "  inflating: traindata_30/ILE_1su6_0_1_A_2--1su6_0_1_A_1_28.pkl  \n",
            "  inflating: traindata_30/ILE_1v70_0_1_A_1--1v70_0_1_A_2_2.pkl  \n",
            "  inflating: traindata_30/ILE_1zv8_0_2_I_1--1zv8_0_2_G_1_1.pkl  \n",
            "  inflating: traindata_30/ILE_2cxt_0_1_B_1--2cxt_0_1_A_1_149.pkl  \n",
            "  inflating: traindata_30/ILE_2czr_0_2_A_2--2czr_0_2_A_1_20.pkl  \n",
            "  inflating: traindata_30/ILE_2e8h_0_2_A_1--2e8h_0_2_B_1_58.pkl  \n",
            "  inflating: traindata_30/ILE_2gs7_0_1_B_1--2gs7_0_1_A_1_2.pkl  \n",
            "  inflating: traindata_30/ILE_2hhk_0_1_L_1--2hhk_0_1_M_1_21.pkl  \n",
            "  inflating: traindata_30/ILE_2qcq_0_1_A_1--2qcq_0_1_B_1_58.pkl  \n",
            "  inflating: traindata_30/ILE_2ux0_0_1_E_1--2ux0_0_1_D_1_17.pkl  \n",
            "  inflating: traindata_30/ILE_2vjy_0_1_B_1--2vjy_0_1_A_1_164.pkl  \n",
            "  inflating: traindata_30/ILE_2xr4_0_1_B_1--2xr4_0_1_A_1_19.pkl  \n",
            "  inflating: traindata_30/ILE_3cek_0_2_A_1--3cek_0_2_A_2_16.pkl  \n",
            "  inflating: traindata_30/ILE_3cek_0_2_A_1--3cek_0_2_A_2_40.pkl  \n",
            "  inflating: traindata_30/ILE_3d2r_0_1_B_1--3d2r_0_1_A_1_29.pkl  \n",
            "  inflating: traindata_30/ILE_3fz7_0_1_F_1--3fz7_0_1_A_1_199.pkl  \n",
            "  inflating: traindata_30/ILE_3fz7_0_1_F_1--3fz7_0_1_A_1_98.pkl  \n",
            "  inflating: traindata_30/ILE_3ozt_0_2_A_1--3ozt_0_2_A_2_2.pkl  \n",
            "  inflating: traindata_30/ILE_3qfn_0_1_A_1--3qfn_0_1_B_1_6.pkl  \n",
            "  inflating: traindata_30/ILE_3v2q_0_1_A_1--3v2q_0_1_E_1_42.pkl  \n",
            "  inflating: traindata_30/ILE_4h8a_0_1_A_1--4h8a_0_1_B_1_11.pkl  \n",
            "  inflating: traindata_30/ILE_4odx_0_2_A_1--4odx_0_2_Y_1_3.pkl  \n",
            "  inflating: traindata_30/ILE_5adh_0_1_A_2--5adh_0_1_A_1_59.pkl  \n",
            "  inflating: traindata_30/ILE_5gt6_0_1_B_1--5gt6_0_1_D_1_14.pkl  \n",
            "  inflating: traindata_30/ILE_5h8f_0_1_B_1--5h8f_0_1_A_1_0.pkl  \n",
            "  inflating: traindata_30/LEU_1ahu_0_1_B_4--1ahu_0_1_A_2_7.pkl  \n",
            "  inflating: traindata_30/LEU_1bks_0_1_B_1--1bks_0_1_B_2_54.pkl  \n",
            "  inflating: traindata_30/LEU_1cju_0_1_B_1--1cju_0_1_C_1_8.pkl  \n",
            "  inflating: traindata_30/LEU_1diy_0_1_A_1--1diy_0_1_A_2_87.pkl  \n",
            "  inflating: traindata_30/LEU_1l4k_0_1_A_2--1l4k_0_1_A_1_37.pkl  \n",
            "  inflating: traindata_30/LEU_1ntz_0_1_D_2--1ntz_0_1_H_2_49.pkl  \n",
            "  inflating: traindata_30/LEU_1pgq_0_1_A_1--1pgq_0_1_A_2_158.pkl  \n",
            "  inflating: traindata_30/LEU_1qsd_0_1_A_1--1qsd_0_1_B_1_46.pkl  \n",
            "  inflating: traindata_30/LEU_1xmm_0_1_B_1--1xmm_0_1_A_1_85.pkl  \n",
            "  inflating: traindata_30/LEU_1yu2_0_1_A_3--1yu2_0_1_A_2_125.pkl  \n",
            "  inflating: traindata_30/LEU_1z1f_0_1_A_1--1z1f_0_1_A_2_107.pkl  \n",
            "  inflating: traindata_30/LEU_1z1f_0_1_A_1--1z1f_0_1_A_2_41.pkl  \n",
            "  inflating: traindata_30/LEU_2af4_0_1_D_1--2af4_0_1_C_1_76.pkl  \n",
            "  inflating: traindata_30/LEU_2c1j_0_1_A_1--2c1j_0_1_B_1_4.pkl  \n",
            "  inflating: traindata_30/LEU_2f6q_0_1_B_1--2f6q_0_1_C_1_49.pkl  \n",
            "  inflating: traindata_30/LEU_2hhk_0_1_L_1--2hhk_0_1_M_1_28.pkl  \n",
            "  inflating: traindata_30/LEU_2jg1_0_2_C_1--2jg1_0_2_B_1_41.pkl  \n",
            "  inflating: traindata_30/LEU_2o6x_0_1_A_2--2o6x_0_1_A_1_18.pkl  \n",
            "  inflating: traindata_30/LEU_3aaj_0_1_B_1--3aaj_0_1_A_1_7.pkl  \n",
            "  inflating: traindata_30/LEU_3d2r_0_1_B_1--3d2r_0_1_A_1_69.pkl  \n",
            "  inflating: traindata_30/LEU_3qfn_0_1_A_1--3qfn_0_1_B_1_39.pkl  \n",
            "  inflating: traindata_30/LEU_3qop_0_1_A_1--3qop_0_1_B_1_47.pkl  \n",
            "  inflating: traindata_30/LEU_3qop_0_1_A_1--3qop_0_1_B_1_8.pkl  \n",
            "  inflating: traindata_30/LEU_4bmg_0_1_C_1--4bmg_0_1_D_1_8.pkl  \n",
            "  inflating: traindata_30/LEU_4ctw_0_1_B_1--4ctw_0_1_A_1_109.pkl  \n",
            "  inflating: traindata_30/LEU_4ctw_0_1_B_1--4ctw_0_1_A_1_8.pkl  \n",
            "  inflating: traindata_30/LEU_5acp_0_1_B_1--5acp_0_1_A_1_25.pkl  \n",
            "  inflating: traindata_30/LEU_5iw8_0_1_B_1--5iw8_0_1_A_1_26.pkl  \n",
            "  inflating: traindata_30/LEU_5iw8_0_1_B_1--5iw8_0_1_A_1_28.pkl  \n",
            "  inflating: traindata_30/LEU_5iw8_0_1_B_1--5iw8_0_1_A_1_45.pkl  \n",
            "  inflating: traindata_30/LYS_1aon_0_1_L_1--1aon_0_1_M_1_44.pkl  \n",
            "  inflating: traindata_30/LYS_1l9u_0_2_L_1--1l9u_0_2_M_1_42.pkl  \n",
            "  inflating: traindata_30/LYS_1mg9_0_1_A_1--1mg9_0_1_B_1_0.pkl  \n",
            "  inflating: traindata_30/LYS_1o9q_0_1_B_1--1o9q_0_1_A_1_58.pkl  \n",
            "  inflating: traindata_30/LYS_1v70_0_1_A_1--1v70_0_1_A_2_42.pkl  \n",
            "  inflating: traindata_30/LYS_1xwg_0_1_A_1--1xwg_0_1_B_1_68.pkl  \n",
            "  inflating: traindata_30/LYS_1yu2_0_1_A_3--1yu2_0_1_A_2_25.pkl  \n",
            "  inflating: traindata_30/LYS_2cic_0_1_A_2--2cic_0_1_A_1_23.pkl  \n",
            "  inflating: traindata_30/LYS_2cic_0_1_A_2--2cic_0_1_A_1_64.pkl  \n",
            "  inflating: traindata_30/LYS_2cxt_0_1_B_1--2cxt_0_1_A_1_111.pkl  \n",
            "  inflating: traindata_30/LYS_2cxt_0_1_B_1--2cxt_0_1_A_1_12.pkl  \n",
            "  inflating: traindata_30/LYS_2dhf_0_1_A_1--2dhf_0_1_B_1_23.pkl  \n",
            "  inflating: traindata_30/LYS_2pud_0_1_A_1--2pud_0_1_A_2_11.pkl  \n",
            "  inflating: traindata_30/LYS_2pud_0_1_A_1--2pud_0_1_A_2_21.pkl  \n",
            "  inflating: traindata_30/LYS_2xr4_0_1_B_1--2xr4_0_1_A_1_16.pkl  \n",
            "  inflating: traindata_30/LYS_2zee_0_3_A_1--2zee_0_3_A_3_19.pkl  \n",
            "  inflating: traindata_30/LYS_2zfa_0_1_B_2--2zfa_0_1_B_4_8.pkl  \n",
            "  inflating: traindata_30/LYS_3fqc_0_1_B_1--3fqc_0_1_A_1_14.pkl  \n",
            "  inflating: traindata_30/LYS_3fz7_0_1_F_1--3fz7_0_1_A_1_46.pkl  \n",
            "  inflating: traindata_30/LYS_3ozt_0_2_A_1--3ozt_0_2_A_2_101.pkl  \n",
            "  inflating: traindata_30/LYS_3vp1_0_1_A_2--3vp1_0_1_A_1_22.pkl  \n",
            "  inflating: traindata_30/LYS_4bmg_0_1_C_1--4bmg_0_1_D_1_5.pkl  \n",
            "  inflating: traindata_30/LYS_4y2q_0_1_A_2--4y2q_0_1_A_1_15.pkl  \n",
            "  inflating: traindata_30/LYS_4y2q_0_1_A_2--4y2q_0_1_A_1_52.pkl  \n",
            "  inflating: traindata_30/LYS_4zzd_0_1_A_1--4zzd_0_1_A_2_46.pkl  \n",
            "  inflating: traindata_30/LYS_5adh_0_1_A_2--5adh_0_1_A_1_39.pkl  \n",
            "  inflating: traindata_30/LYS_5hs4_0_1_A_3--5hs4_0_1_A_2_86.pkl  \n",
            "  inflating: traindata_30/LYS_5iw8_0_1_B_1--5iw8_0_1_A_1_71.pkl  \n",
            "  inflating: traindata_30/LYS_5lyj_0_1_C_1--5lyj_0_1_E_1_30.pkl  \n",
            "  inflating: traindata_30/LYS_5svn_0_1_B_1--5svn_0_1_A_1_120.pkl  \n",
            "  inflating: traindata_30/MET_1e0k_0_2_F_1--1e0k_0_2_D_2_35.pkl  \n",
            "  inflating: traindata_30/MET_1gck_0_1_A_1--1gck_0_1_B_1_119.pkl  \n",
            "  inflating: traindata_30/MET_1gck_0_1_A_1--1gck_0_1_B_1_55.pkl  \n",
            "  inflating: traindata_30/MET_1ipi_0_1_B_1--1ipi_0_1_A_1_0.pkl  \n",
            "  inflating: traindata_30/MET_1ipi_0_1_B_1--1ipi_0_1_A_1_25.pkl  \n",
            "  inflating: traindata_30/MET_1l4k_0_1_A_2--1l4k_0_1_A_1_30.pkl  \n",
            "  inflating: traindata_30/MET_1mr7_0_1_A_1--1mr7_0_1_B_1_28.pkl  \n",
            "  inflating: traindata_30/MET_1n1e_0_1_A_1--1n1e_0_1_B_1_32.pkl  \n",
            "  inflating: traindata_30/MET_1n63_0_1_C_1--1n63_0_1_B_1_22.pkl  \n",
            "  inflating: traindata_30/MET_1ntz_0_1_D_2--1ntz_0_1_H_2_31.pkl  \n",
            "  inflating: traindata_30/MET_1su6_0_1_A_2--1su6_0_1_A_1_71.pkl  \n",
            "  inflating: traindata_30/MET_1vqo_0_1_U_1--1vqo_0_1_K_1_24.pkl  \n",
            "  inflating: traindata_30/MET_1z1f_0_1_A_1--1z1f_0_1_A_2_99.pkl  \n",
            "  inflating: traindata_30/MET_2hhk_0_1_L_1--2hhk_0_1_M_1_110.pkl  \n",
            "  inflating: traindata_30/MET_2po1_0_1_A_2--2po1_0_1_B_1_10.pkl  \n",
            "  inflating: traindata_30/MET_2po1_0_1_A_2--2po1_0_1_B_1_65.pkl  \n",
            "  inflating: traindata_30/MET_2qcq_0_1_A_1--2qcq_0_1_B_1_68.pkl  \n",
            "  inflating: traindata_30/MET_2qdn_0_1_A_1--2qdn_0_1_B_1_20.pkl  \n",
            "  inflating: traindata_30/MET_2qdn_0_1_A_1--2qdn_0_1_B_1_32.pkl  \n",
            "  inflating: traindata_30/MET_2wgc_0_3_B_2--2wgc_0_3_B_1_15.pkl  \n",
            "  inflating: traindata_30/MET_2zfa_0_1_B_2--2zfa_0_1_B_4_26.pkl  \n",
            "  inflating: traindata_30/MET_3bwr_0_1_C_1--3bwr_0_1_B_1_28.pkl  \n",
            "  inflating: traindata_30/MET_3fah_0_2_A_2--3fah_0_2_A_1_26.pkl  \n",
            "  inflating: traindata_30/MET_3fz7_0_1_F_1--3fz7_0_1_A_1_138.pkl  \n",
            "  inflating: traindata_30/MET_3p05_0_1_C_1--3p05_0_1_B_1_34.pkl  \n",
            "  inflating: traindata_30/MET_4gol_0_1_D_1--4gol_0_1_F_1_14.pkl  \n",
            "  inflating: traindata_30/MET_4ub8_0_1_V_1--4ub8_0_1_C_1_34.pkl  \n",
            "  inflating: traindata_30/MET_4zzd_0_1_A_1--4zzd_0_1_A_2_14.pkl  \n",
            "  inflating: traindata_30/MET_5huh_0_1_B_1--5huh_0_1_A_1_27.pkl  \n",
            "  inflating: traindata_30/MET_5svn_0_1_B_1--5svn_0_1_A_1_115.pkl  \n",
            "  inflating: traindata_30/PHE_1bks_0_1_B_1--1bks_0_1_B_2_38.pkl  \n",
            "  inflating: traindata_30/PHE_1gck_0_1_A_1--1gck_0_1_B_1_110.pkl  \n",
            "  inflating: traindata_30/PHE_1ixm_0_1_A_1--1ixm_0_1_B_1_56.pkl  \n",
            "  inflating: traindata_30/PHE_1n1e_0_1_A_1--1n1e_0_1_B_1_4.pkl  \n",
            "  inflating: traindata_30/PHE_1ntz_0_1_A_2--1ntz_0_1_E_2_22.pkl  \n",
            "  inflating: traindata_30/PHE_1obs_0_1_A_2--1obs_0_1_A_1_16.pkl  \n",
            "  inflating: traindata_30/PHE_1pk8_0_2_E_1--1pk8_0_2_F_1_43.pkl  \n",
            "  inflating: traindata_30/PHE_1r3j_0_1_A_1--1r3j_0_1_C_1_8.pkl  \n",
            "  inflating: traindata_30/PHE_1w61_0_1_B_1--1w61_0_1_A_1_24.pkl  \n",
            "  inflating: traindata_30/PHE_1zv8_0_2_I_1--1zv8_0_2_G_1_3.pkl  \n",
            "  inflating: traindata_30/PHE_2a77_0_1_H_1--2a77_0_1_L_1_67.pkl  \n",
            "  inflating: traindata_30/PHE_2a77_0_1_H_1--2a77_0_1_L_1_77.pkl  \n",
            "  inflating: traindata_30/PHE_2af4_0_1_D_1--2af4_0_1_C_1_22.pkl  \n",
            "  inflating: traindata_30/PHE_2fyc_0_1_A_1--2fyc_0_1_B_1_1.pkl  \n",
            "  inflating: traindata_30/PHE_2fyc_0_1_A_1--2fyc_0_1_B_1_27.pkl  \n",
            "  inflating: traindata_30/PHE_2pnf_0_1_B_1--2pnf_0_1_B_2_55.pkl  \n",
            "  inflating: traindata_30/PHE_2puj_0_1_A_3--2puj_0_1_A_2_3.pkl  \n",
            "  inflating: traindata_30/PHE_2y77_0_1_A_2--2y77_0_1_A_1_28.pkl  \n",
            "  inflating: traindata_30/PHE_3bwr_0_1_C_1--3bwr_0_1_B_1_14.pkl  \n",
            "  inflating: traindata_30/PHE_3qop_0_1_A_1--3qop_0_1_B_1_75.pkl  \n",
            "  inflating: traindata_30/PHE_4ctw_0_1_B_1--4ctw_0_1_A_1_123.pkl  \n",
            "  inflating: traindata_30/PHE_4d7s_0_2_B_3--4d7s_0_2_B_4_25.pkl  \n",
            "  inflating: traindata_30/PHE_4eom_0_2_D_1--4eom_0_2_C_1_12.pkl  \n",
            "  inflating: traindata_30/PHE_4gol_0_1_D_1--4gol_0_1_F_1_9.pkl  \n",
            "  inflating: traindata_30/PHE_4h8a_0_1_A_1--4h8a_0_1_B_1_14.pkl  \n",
            "  inflating: traindata_30/PHE_4hzy_0_1_A_3--4hzy_0_1_A_2_39.pkl  \n",
            "  inflating: traindata_30/PHE_4xdw_0_3_G_1--4xdw_0_3_H_1_30.pkl  \n",
            "  inflating: traindata_30/PHE_4y2q_0_1_A_2--4y2q_0_1_A_1_27.pkl  \n",
            "  inflating: traindata_30/PHE_4zz9_0_1_B_1--4zz9_0_1_A_1_73.pkl  \n",
            "  inflating: traindata_30/PHE_5kai_0_1_T_1--5kai_0_1_A_1_20.pkl  \n",
            "  inflating: traindata_30/PRO_1cks_0_1_A_1--1cks_0_1_C_1_20.pkl  \n",
            "  inflating: traindata_30/PRO_1diy_0_1_A_1--1diy_0_1_A_2_72.pkl  \n",
            "  inflating: traindata_30/PRO_1e0k_0_2_F_1--1e0k_0_2_D_2_72.pkl  \n",
            "  inflating: traindata_30/PRO_1gck_0_1_A_1--1gck_0_1_B_1_93.pkl  \n",
            "  inflating: traindata_30/PRO_1l4k_0_1_A_2--1l4k_0_1_A_1_2.pkl  \n",
            "  inflating: traindata_30/PRO_1l4k_0_1_A_2--1l4k_0_1_A_1_54.pkl  \n",
            "  inflating: traindata_30/PRO_1l4k_0_1_A_2--1l4k_0_1_A_1_64.pkl  \n",
            "  inflating: traindata_30/PRO_1l9r_0_1_A_1--1l9r_0_1_C_1_2.pkl  \n",
            "  inflating: traindata_30/PRO_1mr7_0_1_A_1--1mr7_0_1_B_1_30.pkl  \n",
            "  inflating: traindata_30/PRO_1mr7_0_1_A_1--1mr7_0_1_B_1_31.pkl  \n",
            "  inflating: traindata_30/PRO_1ntz_0_1_D_1--1ntz_0_1_F_1_7.pkl  \n",
            "  inflating: traindata_30/PRO_1o9q_0_1_B_1--1o9q_0_1_A_1_5.pkl  \n",
            "  inflating: traindata_30/PRO_1v70_0_1_A_1--1v70_0_1_A_2_61.pkl  \n",
            "  inflating: traindata_30/PRO_1xmm_0_1_B_1--1xmm_0_1_A_1_100.pkl  \n",
            "  inflating: traindata_30/PRO_2a77_0_1_H_1--2a77_0_1_L_1_23.pkl  \n",
            "  inflating: traindata_30/PRO_2a77_0_1_H_1--2a77_0_1_L_1_26.pkl  \n",
            "  inflating: traindata_30/PRO_2a77_0_1_H_1--2a77_0_1_L_1_52.pkl  \n",
            "  inflating: traindata_30/PRO_2bi0_0_1_A_1--2bi0_0_1_A_2_40.pkl  \n",
            "  inflating: traindata_30/PRO_2hyf_0_3_B_2--2hyf_0_3_C_2_0.pkl  \n",
            "  inflating: traindata_30/PRO_2ozj_0_1_A_1--2ozj_0_1_A_2_9.pkl  \n",
            "  inflating: traindata_30/PRO_3fs2_0_1_A_2--3fs2_0_1_B_1_38.pkl  \n",
            "  inflating: traindata_30/PRO_3i8t_0_1_A_4--3i8t_0_1_A_1_10.pkl  \n",
            "  inflating: traindata_30/PRO_3ow5_0_1_A_2--3ow5_0_1_A_1_37.pkl  \n",
            "  inflating: traindata_30/PRO_4bmg_0_1_C_1--4bmg_0_1_D_1_63.pkl  \n",
            "  inflating: traindata_30/PRO_4h8a_0_1_A_1--4h8a_0_1_B_1_70.pkl  \n",
            "  inflating: traindata_30/PRO_4iq7_0_2_A_2--4iq7_0_2_A_1_17.pkl  \n",
            "  inflating: traindata_30/PRO_4zdq_0_6_C_1--4zdq_0_6_D_1_11.pkl  \n",
            "  inflating: traindata_30/PRO_4zdq_0_6_C_1--4zdq_0_6_D_1_31.pkl  \n",
            "  inflating: traindata_30/PRO_5adh_0_1_A_2--5adh_0_1_A_1_20.pkl  \n",
            "  inflating: traindata_30/PRO_5iw8_0_1_B_1--5iw8_0_1_A_1_18.pkl  \n",
            "  inflating: traindata_30/SER_1cju_0_1_A_1--1cju_0_1_B_1_11.pkl  \n",
            "  inflating: traindata_30/SER_1diy_0_1_A_1--1diy_0_1_A_2_11.pkl  \n",
            "  inflating: traindata_30/SER_1g8g_0_1_A_3--1g8g_0_1_A_2_19.pkl  \n",
            "  inflating: traindata_30/SER_1ntz_0_1_F_2--1ntz_0_1_C_2_39.pkl  \n",
            "  inflating: traindata_30/SER_1pk8_0_2_E_1--1pk8_0_2_F_1_10.pkl  \n",
            "  inflating: traindata_30/SER_1smf_0_1_I_1--1smf_0_1_E_1_28.pkl  \n",
            "  inflating: traindata_30/SER_1xmm_0_1_B_1--1xmm_0_1_A_1_37.pkl  \n",
            "  inflating: traindata_30/SER_1xmm_0_1_B_1--1xmm_0_1_A_1_79.pkl  \n",
            "  inflating: traindata_30/SER_1xvw_0_1_B_4--1xvw_0_1_A_4_12.pkl  \n",
            "  inflating: traindata_30/SER_1z1f_0_1_A_1--1z1f_0_1_A_2_24.pkl  \n",
            "  inflating: traindata_30/SER_1z1f_0_1_A_1--1z1f_0_1_A_2_79.pkl  \n",
            "  inflating: traindata_30/SER_2cxt_0_1_B_1--2cxt_0_1_A_1_300.pkl  \n",
            "  inflating: traindata_30/SER_2pnf_0_1_B_1--2pnf_0_1_B_2_4.pkl  \n",
            "  inflating: traindata_30/SER_2xok_0_1_H_1--2xok_0_1_I_1_26.pkl  \n",
            "  inflating: traindata_30/SER_3ah6_0_2_F_1--3ah6_0_2_E_1_34.pkl  \n",
            "  inflating: traindata_30/SER_3fz7_0_1_F_1--3fz7_0_1_A_1_191.pkl  \n",
            "  inflating: traindata_30/SER_3ozt_0_2_A_1--3ozt_0_2_A_2_89.pkl  \n",
            "  inflating: traindata_30/SER_3uxi_0_1_B_1--3uxi_0_1_C_1_15.pkl  \n",
            "  inflating: traindata_30/SER_4a9f_0_2_C_1--4a9f_0_2_C_2_3.pkl  \n",
            "  inflating: traindata_30/SER_4ctw_0_1_B_1--4ctw_0_1_A_1_121.pkl  \n",
            "  inflating: traindata_30/SER_4ctw_0_1_B_1--4ctw_0_1_A_1_85.pkl  \n",
            "  inflating: traindata_30/SER_4p14_0_1_A_2--4p14_0_1_A_4_38.pkl  \n",
            "  inflating: traindata_30/SER_4ub8_0_1_A_1--4ub8_0_1_L_1_10.pkl  \n",
            "  inflating: traindata_30/SER_4ub8_0_1_C_1--4ub8_0_1_Z_1_16.pkl  \n",
            "  inflating: traindata_30/SER_4xdw_0_3_G_1--4xdw_0_3_H_1_4.pkl  \n",
            "  inflating: traindata_30/SER_4xz5_0_1_A_1--4xz5_0_1_B_1_7.pkl  \n",
            "  inflating: traindata_30/SER_4zdq_0_6_C_1--4zdq_0_6_D_1_36.pkl  \n",
            "  inflating: traindata_30/SER_5a8k_0_1_A_1--5a8k_0_1_E_1_40.pkl  \n",
            "  inflating: traindata_30/SER_5cor_0_1_A_1--5cor_0_1_C_1_21.pkl  \n",
            "  inflating: traindata_30/SER_5hs4_0_1_A_3--5hs4_0_1_A_2_73.pkl  \n",
            "  inflating: traindata_30/THR_1ex5_0_1_C_1--1ex5_0_1_D_1_37.pkl  \n",
            "  inflating: traindata_30/THR_1gck_0_1_A_1--1gck_0_1_B_1_15.pkl  \n",
            "  inflating: traindata_30/THR_1jwb_0_1_B_1--1jwb_0_1_D_1_4.pkl  \n",
            "  inflating: traindata_30/THR_1l9r_0_1_A_1--1l9r_0_1_C_1_56.pkl  \n",
            "  inflating: traindata_30/THR_1n1e_0_1_A_1--1n1e_0_1_B_1_8.pkl  \n",
            "  inflating: traindata_30/THR_1u56_0_3_A_1--1u56_0_3_B_1_1.pkl  \n",
            "  inflating: traindata_30/THR_2e8h_0_2_A_1--2e8h_0_2_B_1_6.pkl  \n",
            "  inflating: traindata_30/THR_2obx_0_2_B_1--2obx_0_2_A_1_13.pkl  \n",
            "  inflating: traindata_30/THR_2obx_0_2_B_1--2obx_0_2_A_1_47.pkl  \n",
            "  inflating: traindata_30/THR_2po1_0_1_A_2--2po1_0_1_B_1_31.pkl  \n",
            "  inflating: traindata_30/THR_2qdn_0_1_A_1--2qdn_0_1_B_1_18.pkl  \n",
            "  inflating: traindata_30/THR_2qmu_0_2_B_2--2qmu_0_2_A_2_37.pkl  \n",
            "  inflating: traindata_30/THR_2qvv_0_1_A_1--2qvv_0_1_B_2_10.pkl  \n",
            "  inflating: traindata_30/THR_2wgc_0_3_B_2--2wgc_0_3_B_1_23.pkl  \n",
            "  inflating: traindata_30/THR_2zfa_0_1_B_2--2zfa_0_1_B_4_12.pkl  \n",
            "  inflating: traindata_30/THR_3m3j_0_1_A_1--3m3j_0_1_B_1_1.pkl  \n",
            "  inflating: traindata_30/THR_3ncb_0_1_B_1--3ncb_0_1_A_1_19.pkl  \n",
            "  inflating: traindata_30/THR_3oqp_0_1_A_1--3oqp_0_1_B_1_10.pkl  \n",
            "  inflating: traindata_30/THR_3p05_0_1_C_1--3p05_0_1_B_1_44.pkl  \n",
            "  inflating: traindata_30/THR_4g5i_0_2_A_1--4g5i_0_2_A_2_22.pkl  \n",
            "  inflating: traindata_30/THR_4gms_0_1_M_1--4gms_0_1_C_1_12.pkl  \n",
            "  inflating: traindata_30/THR_4h8a_0_1_A_1--4h8a_0_1_B_1_79.pkl  \n",
            "  inflating: traindata_30/THR_4n60_0_2_C_2--4n60_0_2_D_3_2.pkl  \n",
            "  inflating: traindata_30/THR_4ub8_0_1_V_1--4ub8_0_1_C_1_35.pkl  \n",
            "  inflating: traindata_30/THR_4zdq_0_6_C_1--4zdq_0_6_D_1_16.pkl  \n",
            "  inflating: traindata_30/THR_4zdq_0_6_C_1--4zdq_0_6_D_1_30.pkl  \n",
            "  inflating: traindata_30/THR_5pae_0_1_A_1--5pae_0_1_B_1_44.pkl  \n",
            "  inflating: traindata_30/THR_5pae_0_1_A_1--5pae_0_1_B_1_48.pkl  \n",
            "  inflating: traindata_30/THR_5svn_0_1_B_1--5svn_0_1_A_1_139.pkl  \n",
            "  inflating: traindata_30/THR_5svn_0_1_B_1--5svn_0_1_A_1_51.pkl  \n",
            "  inflating: traindata_30/TRP_1ds6_0_1_B_1--1ds6_0_1_A_1_38.pkl  \n",
            "  inflating: traindata_30/TRP_1n1e_0_1_A_1--1n1e_0_1_B_1_90.pkl  \n",
            "  inflating: traindata_30/TRP_1pc6_0_1_A_1--1pc6_0_1_B_1_98.pkl  \n",
            "  inflating: traindata_30/TRP_1pk8_0_2_E_1--1pk8_0_2_F_1_67.pkl  \n",
            "  inflating: traindata_30/TRP_1u56_0_3_A_1--1u56_0_3_B_1_6.pkl  \n",
            "  inflating: traindata_30/TRP_1yi1_0_1_A_4--1yi1_0_1_A_1_149.pkl  \n",
            "  inflating: traindata_30/TRP_1yu2_0_1_A_3--1yu2_0_1_A_2_96.pkl  \n",
            "  inflating: traindata_30/TRP_2cic_0_1_A_2--2cic_0_1_A_1_66.pkl  \n",
            "  inflating: traindata_30/TRP_2cic_0_1_A_2--2cic_0_1_A_1_8.pkl  \n",
            "  inflating: traindata_30/TRP_2hhk_0_1_L_1--2hhk_0_1_M_1_191.pkl  \n",
            "  inflating: traindata_30/TRP_2ooh_0_1_C_1--2ooh_0_1_A_1_22.pkl  \n",
            "  inflating: traindata_30/TRP_2q3z_0_2_A_2--2q3z_0_2_A_1_83.pkl  \n",
            "  inflating: traindata_30/TRP_2zfa_0_1_B_2--2zfa_0_1_B_4_2.pkl  \n",
            "  inflating: traindata_30/TRP_3ah6_0_2_F_1--3ah6_0_2_E_1_26.pkl  \n",
            "  inflating: traindata_30/TRP_3bwr_0_1_C_1--3bwr_0_1_B_1_61.pkl  \n",
            "  inflating: traindata_30/TRP_3fz7_0_1_F_1--3fz7_0_1_A_1_204.pkl  \n",
            "  inflating: traindata_30/TRP_3fz7_0_1_F_1--3fz7_0_1_A_1_70.pkl  \n",
            "  inflating: traindata_30/TRP_3ihi_0_1_B_1--3ihi_0_1_A_1_78.pkl  \n",
            "  inflating: traindata_30/TRP_3rex_0_1_B_1--3rex_0_1_A_1_19.pkl  \n",
            "  inflating: traindata_30/TRP_3uxi_0_1_B_1--3uxi_0_1_C_1_14.pkl  \n",
            "  inflating: traindata_30/TRP_4d7s_0_2_B_3--4d7s_0_2_B_4_0.pkl  \n",
            "  inflating: traindata_30/TRP_4g5i_0_2_A_1--4g5i_0_2_A_2_0.pkl  \n",
            "  inflating: traindata_30/TRP_4m7h_0_2_B_2--4m7h_0_2_B_4_18.pkl  \n",
            "  inflating: traindata_30/TRP_4odx_0_2_A_1--4odx_0_2_Y_1_28.pkl  \n",
            "  inflating: traindata_30/TRP_4ub8_0_1_C_1--4ub8_0_1_Z_1_17.pkl  \n",
            "  inflating: traindata_30/TRP_4xdw_0_3_G_1--4xdw_0_3_H_1_1.pkl  \n",
            "  inflating: traindata_30/TRP_4xdw_0_3_G_1--4xdw_0_3_H_1_36.pkl  \n",
            "  inflating: traindata_30/TRP_4zdq_0_6_C_1--4zdq_0_6_D_1_65.pkl  \n",
            "  inflating: traindata_30/TRP_5iw8_0_1_B_1--5iw8_0_1_A_1_13.pkl  \n",
            "  inflating: traindata_30/TRP_5svn_0_1_B_1--5svn_0_1_A_1_124.pkl  \n",
            "  inflating: traindata_30/TYR_1e79_0_1_G_1--1e79_0_1_H_1_13.pkl  \n",
            "  inflating: traindata_30/TYR_1gck_0_1_A_1--1gck_0_1_B_1_129.pkl  \n",
            "  inflating: traindata_30/TYR_1ipi_0_1_B_1--1ipi_0_1_A_1_20.pkl  \n",
            "  inflating: traindata_30/TYR_1kiu_0_9_I_4--1kiu_0_9_J_4_60.pkl  \n",
            "  inflating: traindata_30/TYR_1ntz_0_1_F_2--1ntz_0_1_C_2_4.pkl  \n",
            "  inflating: traindata_30/TYR_1pk8_0_2_E_1--1pk8_0_2_F_1_62.pkl  \n",
            "  inflating: traindata_30/TYR_1pzi_0_1_D_1--1pzi_0_1_E_1_37.pkl  \n",
            "  inflating: traindata_30/TYR_1vqo_0_1_A_1--1vqo_0_1_Z_1_43.pkl  \n",
            "  inflating: traindata_30/TYR_1yu2_0_1_A_3--1yu2_0_1_A_2_111.pkl  \n",
            "  inflating: traindata_30/TYR_1yu2_0_1_A_3--1yu2_0_1_A_2_58.pkl  \n",
            "  inflating: traindata_30/TYR_2af4_0_1_D_1--2af4_0_1_C_1_41.pkl  \n",
            "  inflating: traindata_30/TYR_2cxt_0_1_B_1--2cxt_0_1_A_1_169.pkl  \n",
            "  inflating: traindata_30/TYR_2cxt_0_1_B_1--2cxt_0_1_A_1_75.pkl  \n",
            "  inflating: traindata_30/TYR_2e8h_0_2_A_1--2e8h_0_2_B_1_0.pkl  \n",
            "  inflating: traindata_30/TYR_2e8h_0_2_A_1--2e8h_0_2_B_1_22.pkl  \n",
            "  inflating: traindata_30/TYR_2pud_0_1_A_1--2pud_0_1_A_2_85.pkl  \n",
            "  inflating: traindata_30/TYR_2q4h_0_1_A_1--2q4h_0_1_B_1_75.pkl  \n",
            "  inflating: traindata_30/TYR_2qcq_0_1_A_1--2qcq_0_1_B_1_7.pkl  \n",
            "  inflating: traindata_30/TYR_2y77_0_1_A_2--2y77_0_1_A_1_15.pkl  \n",
            "  inflating: traindata_30/TYR_3d2r_0_1_B_1--3d2r_0_1_A_1_67.pkl  \n",
            "  inflating: traindata_30/TYR_3rex_0_1_B_1--3rex_0_1_A_1_79.pkl  \n",
            "  inflating: traindata_30/TYR_4h8a_0_1_A_1--4h8a_0_1_B_1_118.pkl  \n",
            "  inflating: traindata_30/TYR_4j7k_0_1_A_1--4j7k_0_1_B_1_75.pkl  \n",
            "  inflating: traindata_30/TYR_4loh_0_1_B_1--4loh_0_1_A_1_34.pkl  \n",
            "  inflating: traindata_30/TYR_4ub8_0_1_B_1--4ub8_0_1_H_1_40.pkl  \n",
            "  inflating: traindata_30/TYR_4ub8_0_1_B_1--4ub8_0_1_H_1_79.pkl  \n",
            "  inflating: traindata_30/TYR_4ub8_0_1_V_1--4ub8_0_1_U_1_34.pkl  \n",
            "  inflating: traindata_30/TYR_4ypy_0_1_A_1--4ypy_0_1_A_2_91.pkl  \n",
            "  inflating: traindata_30/TYR_5h8f_0_1_B_1--5h8f_0_1_A_1_10.pkl  \n",
            "  inflating: traindata_30/TYR_5huh_0_1_B_1--5huh_0_1_A_1_30.pkl  \n",
            "  inflating: traindata_30/VAL_1gzg_0_1_A_2--1gzg_0_1_B_4_32.pkl  \n",
            "  inflating: traindata_30/VAL_1ipi_0_1_B_1--1ipi_0_1_A_1_15.pkl  \n",
            "  inflating: traindata_30/VAL_1l9u_0_2_L_1--1l9u_0_2_M_1_43.pkl  \n",
            "  inflating: traindata_30/VAL_1l9u_0_2_L_1--1l9u_0_2_M_1_73.pkl  \n",
            "  inflating: traindata_30/VAL_1ntz_0_1_G_1--1ntz_0_1_F_1_15.pkl  \n",
            "  inflating: traindata_30/VAL_1pc6_0_1_A_1--1pc6_0_1_B_1_43.pkl  \n",
            "  inflating: traindata_30/VAL_1pc6_0_1_A_1--1pc6_0_1_B_1_55.pkl  \n",
            "  inflating: traindata_30/VAL_1pk8_0_2_E_1--1pk8_0_2_F_1_29.pkl  \n",
            "  inflating: traindata_30/VAL_1pk8_0_2_E_1--1pk8_0_2_F_1_46.pkl  \n",
            "  inflating: traindata_30/VAL_1smf_0_1_I_1--1smf_0_1_E_1_32.pkl  \n",
            "  inflating: traindata_30/VAL_1xmm_0_1_B_1--1xmm_0_1_A_1_114.pkl  \n",
            "  inflating: traindata_30/VAL_2af4_0_1_D_1--2af4_0_1_C_1_38.pkl  \n",
            "  inflating: traindata_30/VAL_2bi0_0_1_A_1--2bi0_0_1_A_2_35.pkl  \n",
            "  inflating: traindata_30/VAL_2c1j_0_1_A_1--2c1j_0_1_B_1_37.pkl  \n",
            "  inflating: traindata_30/VAL_2f6q_0_1_B_1--2f6q_0_1_C_1_53.pkl  \n",
            "  inflating: traindata_30/VAL_2hhk_0_1_L_1--2hhk_0_1_M_1_205.pkl  \n",
            "  inflating: traindata_30/VAL_2po1_0_1_A_2--2po1_0_1_B_1_66.pkl  \n",
            "  inflating: traindata_30/VAL_2qvv_0_1_A_1--2qvv_0_1_B_2_9.pkl  \n",
            "  inflating: traindata_30/VAL_2vjy_0_1_B_1--2vjy_0_1_A_1_65.pkl  \n",
            "  inflating: traindata_30/VAL_3bwr_0_1_C_1--3bwr_0_1_B_1_101.pkl  \n",
            "  inflating: traindata_30/VAL_3d2r_0_1_B_1--3d2r_0_1_A_1_16.pkl  \n",
            "  inflating: traindata_30/VAL_3fah_0_2_A_2--3fah_0_2_A_1_8.pkl  \n",
            "  inflating: traindata_30/VAL_3ozt_0_2_A_1--3ozt_0_2_A_2_74.pkl  \n",
            "  inflating: traindata_30/VAL_3rex_0_1_B_1--3rex_0_1_A_1_106.pkl  \n",
            "  inflating: traindata_30/VAL_4bmg_0_1_C_1--4bmg_0_1_D_1_39.pkl  \n",
            "  inflating: traindata_30/VAL_4loh_0_1_B_1--4loh_0_1_A_1_73.pkl  \n",
            "  inflating: traindata_30/VAL_4yjm_0_5_C_2--4yjm_0_5_A_3_18.pkl  \n",
            "  inflating: traindata_30/VAL_5bqy_0_1_F_1--5bqy_0_1_B_1_10.pkl  \n",
            "  inflating: traindata_30/VAL_5d6v_0_1_A_6--5d6v_0_1_A_1_44.pkl  \n",
            "  inflating: traindata_30/VAL_5gt6_0_1_B_1--5gt6_0_1_D_1_21.pkl  \n",
            "Archive:  /content/traindata_env_30.zip\n",
            "  inflating: traindata_env_30/ALA_1csr_0_1_A_2--1csr_0_1_A_1_120.pkl  \n",
            "  inflating: traindata_env_30/ALA_1csr_0_1_A_2--1csr_0_1_A_1_155.pkl  \n",
            "  inflating: traindata_env_30/ALA_1csr_0_1_A_2--1csr_0_1_A_1_186.pkl  \n",
            "  inflating: traindata_env_30/ALA_1csr_0_1_A_2--1csr_0_1_A_1_212.pkl  \n",
            "  inflating: traindata_env_30/ALA_1csr_0_1_A_2--1csr_0_1_A_1_45.pkl  \n",
            "  inflating: traindata_env_30/ALA_1csr_0_1_A_2--1csr_0_1_A_1_72.pkl  \n",
            "  inflating: traindata_env_30/ALA_1jwb_0_1_D_1--1jwb_0_1_B_1_15.pkl  \n",
            "  inflating: traindata_env_30/ALA_1meh_0_1_A_1--1meh_0_1_A_3_52.pkl  \n",
            "  inflating: traindata_env_30/ALA_1pf9_0_1_R_1--1pf9_0_1_Q_1_42.pkl  \n",
            "  inflating: traindata_env_30/ALA_1sjh_0_1_A_2--1sjh_0_1_D_2_10.pkl  \n",
            "  inflating: traindata_env_30/ALA_2pa7_0_1_A_1--2pa7_0_1_B_1_74.pkl  \n",
            "  inflating: traindata_env_30/ALA_2pa7_0_1_A_1--2pa7_0_1_B_1_8.pkl  \n",
            "  inflating: traindata_env_30/ALA_2pkp_0_1_A_2--2pkp_0_1_A_1_10.pkl  \n",
            "  inflating: traindata_env_30/ALA_2vic_0_1_B_1--2vic_0_1_A_1_39.pkl  \n",
            "  inflating: traindata_env_30/ALA_3bkf_0_1_A_4--3bkf_0_1_A_2_4.pkl  \n",
            "  inflating: traindata_env_30/ALA_3rlm_0_1_F_1--3rlm_0_1_D_1_8.pkl  \n",
            "  inflating: traindata_env_30/ALA_3zpg_0_1_A_2--3zpg_0_1_A_1_55.pkl  \n",
            "  inflating: traindata_env_30/ALA_3zpg_0_1_A_2--3zpg_0_1_A_1_57.pkl  \n",
            "  inflating: traindata_env_30/ALA_3zpg_0_1_A_2--3zpg_0_1_A_1_65.pkl  \n",
            "  inflating: traindata_env_30/ALA_3zpg_0_1_A_2--3zpg_0_1_A_1_83.pkl  \n",
            "  inflating: traindata_env_30/ALA_4dl0_0_1_K_1--4dl0_0_1_J_1_4.pkl  \n",
            "  inflating: traindata_env_30/ALA_4dl0_0_1_K_1--4dl0_0_1_J_1_41.pkl  \n",
            "  inflating: traindata_env_30/ALA_4h7o_0_1_B_1--4h7o_0_1_A_1_56.pkl  \n",
            "  inflating: traindata_env_30/ALA_5ioq_0_1_B_1--5ioq_0_1_A_1_48.pkl  \n",
            "  inflating: traindata_env_30/ALA_5ioq_0_1_B_1--5ioq_0_1_A_1_54.pkl  \n",
            "  inflating: traindata_env_30/ALA_5ioq_0_1_B_1--5ioq_0_1_A_1_7.pkl  \n",
            "  inflating: traindata_env_30/ALA_5vb0_0_4_G_1--5vb0_0_4_H_1_10.pkl  \n",
            "  inflating: traindata_env_30/ALA_5vb0_0_4_G_1--5vb0_0_4_H_1_45.pkl  \n",
            "  inflating: traindata_env_30/ALA_5vb0_0_4_G_1--5vb0_0_4_H_1_75.pkl  \n",
            "  inflating: traindata_env_30/ALA_5vb0_0_4_G_1--5vb0_0_4_H_1_83.pkl  \n",
            "  inflating: traindata_env_30/ARG_1csr_0_1_A_2--1csr_0_1_A_1_0.pkl  \n",
            "  inflating: traindata_env_30/ARG_1csr_0_1_A_2--1csr_0_1_A_1_114.pkl  \n",
            "  inflating: traindata_env_30/ARG_1d8h_0_2_C_1--1d8h_0_2_C_2_55.pkl  \n",
            "  inflating: traindata_env_30/ARG_1dv1_0_1_A_1--1dv1_0_1_B_1_1.pkl  \n",
            "  inflating: traindata_env_30/ARG_1dv1_0_1_A_1--1dv1_0_1_B_1_54.pkl  \n",
            "  inflating: traindata_env_30/ARG_1pf9_0_1_R_1--1pf9_0_1_Q_1_25.pkl  \n",
            "  inflating: traindata_env_30/ARG_1w62_0_1_B_1--1w62_0_1_A_1_40.pkl  \n",
            "  inflating: traindata_env_30/ARG_1w62_0_1_B_1--1w62_0_1_A_1_51.pkl  \n",
            "  inflating: traindata_env_30/ARG_2bnu_0_1_A_1--2bnu_0_1_B_1_110.pkl  \n",
            "  inflating: traindata_env_30/ARG_2bnu_0_1_A_1--2bnu_0_1_B_1_21.pkl  \n",
            "  inflating: traindata_env_30/ARG_2bnu_0_1_A_1--2bnu_0_1_B_1_27.pkl  \n",
            "  inflating: traindata_env_30/ARG_2pa7_0_1_A_1--2pa7_0_1_B_1_44.pkl  \n",
            "  inflating: traindata_env_30/ARG_2pa7_0_1_A_1--2pa7_0_1_B_1_69.pkl  \n",
            "  inflating: traindata_env_30/ARG_2r5n_0_1_A_1--2r5n_0_1_B_1_107.pkl  \n",
            "  inflating: traindata_env_30/ARG_2r5n_0_1_A_1--2r5n_0_1_B_1_165.pkl  \n",
            "  inflating: traindata_env_30/ARG_2r5n_0_1_A_1--2r5n_0_1_B_1_187.pkl  \n",
            "  inflating: traindata_env_30/ARG_2vic_0_1_B_1--2vic_0_1_A_1_12.pkl  \n",
            "  inflating: traindata_env_30/ARG_2yc1_0_2_D_1--2yc1_0_2_E_1_30.pkl  \n",
            "  inflating: traindata_env_30/ARG_3rlm_0_1_F_1--3rlm_0_1_D_1_26.pkl  \n",
            "  inflating: traindata_env_30/ARG_3rlm_0_1_F_1--3rlm_0_1_D_1_6.pkl  \n",
            "  inflating: traindata_env_30/ARG_3zpg_0_1_A_2--3zpg_0_1_A_1_4.pkl  \n",
            "  inflating: traindata_env_30/ARG_4dl0_0_1_K_1--4dl0_0_1_J_1_107.pkl  \n",
            "  inflating: traindata_env_30/ARG_4edw_0_1_L_1--4edw_0_1_V_1_10.pkl  \n",
            "  inflating: traindata_env_30/ARG_4h7o_0_1_B_1--4h7o_0_1_A_1_37.pkl  \n",
            "  inflating: traindata_env_30/ARG_4p5b_0_1_D_1--4p5b_0_1_B_1_18.pkl  \n",
            "  inflating: traindata_env_30/ARG_4p5b_0_1_D_1--4p5b_0_1_B_1_22.pkl  \n",
            "  inflating: traindata_env_30/ARG_5ioq_0_1_B_1--5ioq_0_1_A_1_58.pkl  \n",
            "  inflating: traindata_env_30/ARG_5ioq_0_1_B_1--5ioq_0_1_A_1_65.pkl  \n",
            "  inflating: traindata_env_30/ARG_5ioq_0_1_B_1--5ioq_0_1_A_1_92.pkl  \n",
            "  inflating: traindata_env_30/ARG_5v5k_0_1_F_2--5v5k_0_1_G_2_6.pkl  \n",
            "  inflating: traindata_env_30/ASN_1csr_0_1_A_2--1csr_0_1_A_1_118.pkl  \n",
            "  inflating: traindata_env_30/ASN_1csr_0_1_A_2--1csr_0_1_A_1_192.pkl  \n",
            "  inflating: traindata_env_30/ASN_1csr_0_1_A_2--1csr_0_1_A_1_61.pkl  \n",
            "  inflating: traindata_env_30/ASN_1d8h_0_2_C_1--1d8h_0_2_C_2_106.pkl  \n",
            "  inflating: traindata_env_30/ASN_1d8h_0_2_C_1--1d8h_0_2_C_2_58.pkl  \n",
            "  inflating: traindata_env_30/ASN_1e65_0_1_A_1--1e65_0_1_D_1_4.pkl  \n",
            "  inflating: traindata_env_30/ASN_1h6u_0_1_A_1--1h6u_0_1_A_2_45.pkl  \n",
            "  inflating: traindata_env_30/ASN_1h6u_0_1_A_1--1h6u_0_1_A_2_50.pkl  \n",
            "  inflating: traindata_env_30/ASN_1h6u_0_1_A_1--1h6u_0_1_A_2_55.pkl  \n",
            "  inflating: traindata_env_30/ASN_1jmz_0_2_B_2--1jmz_0_2_B_1_7.pkl  \n",
            "  inflating: traindata_env_30/ASN_1meh_0_1_A_1--1meh_0_1_A_3_48.pkl  \n",
            "  inflating: traindata_env_30/ASN_1pf9_0_1_R_1--1pf9_0_1_Q_1_9.pkl  \n",
            "  inflating: traindata_env_30/ASN_1viv_0_2_A_1--1viv_0_2_A_2_25.pkl  \n",
            "  inflating: traindata_env_30/ASN_1w62_0_1_B_1--1w62_0_1_A_1_27.pkl  \n",
            "  inflating: traindata_env_30/ASN_1w62_0_1_B_1--1w62_0_1_A_1_69.pkl  \n",
            "  inflating: traindata_env_30/ASN_2bcc_0_1_C_1--2bcc_0_1_F_1_1.pkl  \n",
            "  inflating: traindata_env_30/ASN_2pkp_0_1_A_2--2pkp_0_1_A_1_28.pkl  \n",
            "  inflating: traindata_env_30/ASN_2r5n_0_1_A_1--2r5n_0_1_B_1_62.pkl  \n",
            "  inflating: traindata_env_30/ASN_2sgf_0_1_I_1--2sgf_0_1_E_1_12.pkl  \n",
            "  inflating: traindata_env_30/ASN_2vic_0_1_B_1--2vic_0_1_A_1_29.pkl  \n",
            "  inflating: traindata_env_30/ASN_2vic_0_1_B_1--2vic_0_1_A_1_73.pkl  \n",
            "  inflating: traindata_env_30/ASN_3e2m_0_1_A_1--3e2m_0_1_B_1_6.pkl  \n",
            "  inflating: traindata_env_30/ASN_3kgc_0_1_B_1--3kgc_0_1_A_1_37.pkl  \n",
            "  inflating: traindata_env_30/ASN_3kgc_0_1_B_1--3kgc_0_1_A_1_38.pkl  \n",
            "  inflating: traindata_env_30/ASN_4afg_0_1_D_1--4afg_0_1_C_1_0.pkl  \n",
            "  inflating: traindata_env_30/ASN_4h7o_0_1_B_1--4h7o_0_1_A_1_9.pkl  \n",
            "  inflating: traindata_env_30/ASN_4qda_0_4_F_1--4qda_0_4_E_1_41.pkl  \n",
            "  inflating: traindata_env_30/ASN_5ioq_0_1_B_1--5ioq_0_1_A_1_63.pkl  \n",
            "  inflating: traindata_env_30/ASN_5u4m_0_1_B_1--5u4m_0_1_A_1_35.pkl  \n",
            "  inflating: traindata_env_30/ASN_5vb0_0_4_G_1--5vb0_0_4_H_1_5.pkl  \n",
            "  inflating: traindata_env_30/ASP_1csr_0_1_A_2--1csr_0_1_A_1_17.pkl  \n",
            "  inflating: traindata_env_30/ASP_1fe4_0_1_B_1--1fe4_0_1_A_1_0.pkl  \n",
            "  inflating: traindata_env_30/ASP_1h8e_0_1_G_1--1h8e_0_1_I_1_10.pkl  \n",
            "  inflating: traindata_env_30/ASP_1meh_0_1_A_1--1meh_0_1_A_3_17.pkl  \n",
            "  inflating: traindata_env_30/ASP_1sjh_0_1_A_2--1sjh_0_1_D_2_15.pkl  \n",
            "  inflating: traindata_env_30/ASP_1vqi_0_1_A_1--1vqi_0_1_A_2_3.pkl  \n",
            "  inflating: traindata_env_30/ASP_2bcc_0_1_C_1--2bcc_0_1_F_1_38.pkl  \n",
            "  inflating: traindata_env_30/ASP_2bcc_0_1_C_1--2bcc_0_1_F_1_48.pkl  \n",
            "  inflating: traindata_env_30/ASP_2bnu_0_1_A_1--2bnu_0_1_B_1_102.pkl  \n",
            "  inflating: traindata_env_30/ASP_2bnu_0_1_A_1--2bnu_0_1_B_1_30.pkl  \n",
            "  inflating: traindata_env_30/ASP_2pa7_0_1_A_1--2pa7_0_1_B_1_1.pkl  \n",
            "  inflating: traindata_env_30/ASP_2pa7_0_1_A_1--2pa7_0_1_B_1_35.pkl  \n",
            "  inflating: traindata_env_30/ASP_2r5n_0_1_A_1--2r5n_0_1_B_1_36.pkl  \n",
            "  inflating: traindata_env_30/ASP_2r5n_0_1_A_1--2r5n_0_1_B_1_37.pkl  \n",
            "  inflating: traindata_env_30/ASP_2r5n_0_1_A_1--2r5n_0_1_B_1_44.pkl  \n",
            "  inflating: traindata_env_30/ASP_2r5n_0_1_A_1--2r5n_0_1_B_1_68.pkl  \n",
            "  inflating: traindata_env_30/ASP_3bkf_0_1_A_4--3bkf_0_1_A_2_13.pkl  \n",
            "  inflating: traindata_env_30/ASP_3kgc_0_1_B_1--3kgc_0_1_A_1_35.pkl  \n",
            "  inflating: traindata_env_30/ASP_3rlm_0_1_F_1--3rlm_0_1_D_1_15.pkl  \n",
            "  inflating: traindata_env_30/ASP_3zpg_0_1_A_2--3zpg_0_1_A_1_28.pkl  \n",
            "  inflating: traindata_env_30/ASP_3zpg_0_1_A_2--3zpg_0_1_A_1_46.pkl  \n",
            "  inflating: traindata_env_30/ASP_4afg_0_1_D_1--4afg_0_1_C_1_50.pkl  \n",
            "  inflating: traindata_env_30/ASP_4dl0_0_1_K_1--4dl0_0_1_J_1_68.pkl  \n",
            "  inflating: traindata_env_30/ASP_4h7o_0_1_B_1--4h7o_0_1_A_1_20.pkl  \n",
            "  inflating: traindata_env_30/ASP_4h7o_0_1_B_1--4h7o_0_1_A_1_71.pkl  \n",
            "  inflating: traindata_env_30/ASP_5v5k_0_1_F_2--5v5k_0_1_G_2_16.pkl  \n",
            "  inflating: traindata_env_30/ASP_5vb0_0_4_G_1--5vb0_0_4_H_1_20.pkl  \n",
            "  inflating: traindata_env_30/ASP_5vb0_0_4_G_1--5vb0_0_4_H_1_36.pkl  \n",
            "  inflating: traindata_env_30/ASP_5vb0_0_4_G_1--5vb0_0_4_H_1_96.pkl  \n",
            "  inflating: traindata_env_30/ASP_5vjk_0_1_B_2--5vjk_0_1_B_1_42.pkl  \n",
            "  inflating: traindata_env_30/CYS_1d8h_0_2_C_1--1d8h_0_2_C_2_100.pkl  \n",
            "  inflating: traindata_env_30/CYS_1d8h_0_2_C_1--1d8h_0_2_C_2_28.pkl  \n",
            "  inflating: traindata_env_30/CYS_1d8h_0_2_C_1--1d8h_0_2_C_2_44.pkl  \n",
            "  inflating: traindata_env_30/CYS_1d8h_0_2_C_1--1d8h_0_2_C_2_84.pkl  \n",
            "  inflating: traindata_env_30/CYS_1fe4_0_1_B_1--1fe4_0_1_A_1_14.pkl  \n",
            "  inflating: traindata_env_30/CYS_1fe4_0_1_B_1--1fe4_0_1_A_1_16.pkl  \n",
            "  inflating: traindata_env_30/CYS_1fe4_0_1_B_1--1fe4_0_1_A_1_2.pkl  \n",
            "  inflating: traindata_env_30/CYS_1fe4_0_1_B_1--1fe4_0_1_A_1_4.pkl  \n",
            "  inflating: traindata_env_30/CYS_1jwb_0_1_D_1--1jwb_0_1_B_1_26.pkl  \n",
            "  inflating: traindata_env_30/CYS_1meh_0_1_A_1--1meh_0_1_A_3_49.pkl  \n",
            "  inflating: traindata_env_30/CYS_1meh_0_1_A_1--1meh_0_1_A_3_6.pkl  \n",
            "  inflating: traindata_env_30/CYS_2bnu_0_1_A_1--2bnu_0_1_B_1_100.pkl  \n",
            "  inflating: traindata_env_30/CYS_2sgf_0_1_I_1--2sgf_0_1_E_1_16.pkl  \n",
            "  inflating: traindata_env_30/CYS_2sgf_0_1_I_1--2sgf_0_1_E_1_18.pkl  \n",
            "  inflating: traindata_env_30/CYS_2sgf_0_1_I_1--2sgf_0_1_E_1_4.pkl  \n",
            "  inflating: traindata_env_30/CYS_2vic_0_1_B_1--2vic_0_1_A_1_31.pkl  \n",
            "  inflating: traindata_env_30/CYS_2vic_0_1_B_1--2vic_0_1_A_1_56.pkl  \n",
            "  inflating: traindata_env_30/CYS_2vic_0_1_B_1--2vic_0_1_A_1_75.pkl  \n",
            "  inflating: traindata_env_30/CYS_4afg_0_1_D_1--4afg_0_1_C_1_80.pkl  \n",
            "  inflating: traindata_env_30/CYS_4afg_0_1_D_1--4afg_0_1_C_1_81.pkl  \n",
            "  inflating: traindata_env_30/CYS_4h7o_0_1_B_1--4h7o_0_1_A_1_28.pkl  \n",
            "  inflating: traindata_env_30/CYS_4h7o_0_1_B_1--4h7o_0_1_A_1_76.pkl  \n",
            "  inflating: traindata_env_30/CYS_4kzn_0_1_A_1--4kzn_0_1_A_2_17.pkl  \n",
            "  inflating: traindata_env_30/CYS_4kzn_0_1_A_1--4kzn_0_1_A_2_21.pkl  \n",
            "  inflating: traindata_env_30/CYS_4kzn_0_1_A_1--4kzn_0_1_A_2_52.pkl  \n",
            "  inflating: traindata_env_30/CYS_4rfv_0_1_B_1--4rfv_0_1_A_1_16.pkl  \n",
            "  inflating: traindata_env_30/CYS_5vb0_0_4_G_1--5vb0_0_4_H_1_121.pkl  \n",
            "  inflating: traindata_env_30/CYS_5vb0_0_4_G_1--5vb0_0_4_H_1_24.pkl  \n",
            "  inflating: traindata_env_30/CYS_5vb0_0_4_G_1--5vb0_0_4_H_1_57.pkl  \n",
            "  inflating: traindata_env_30/CYS_5vb0_0_4_G_1--5vb0_0_4_H_1_90.pkl  \n",
            "  inflating: traindata_env_30/GLN_1csr_0_1_A_2--1csr_0_1_A_1_123.pkl  \n",
            "  inflating: traindata_env_30/GLN_1d8h_0_2_C_1--1d8h_0_2_C_2_83.pkl  \n",
            "  inflating: traindata_env_30/GLN_1e65_0_1_A_1--1e65_0_1_D_1_1.pkl  \n",
            "  inflating: traindata_env_30/GLN_1e65_0_1_A_1--1e65_0_1_D_1_13.pkl  \n",
            "  inflating: traindata_env_30/GLN_1e65_0_1_A_1--1e65_0_1_D_1_2.pkl  \n",
            "  inflating: traindata_env_30/GLN_1h6u_0_1_A_1--1h6u_0_1_A_2_12.pkl  \n",
            "  inflating: traindata_env_30/GLN_1jmz_0_2_B_2--1jmz_0_2_B_1_13.pkl  \n",
            "  inflating: traindata_env_30/GLN_1jwb_0_1_D_1--1jwb_0_1_B_1_2.pkl  \n",
            "  inflating: traindata_env_30/GLN_1meh_0_1_A_1--1meh_0_1_A_3_22.pkl  \n",
            "  inflating: traindata_env_30/GLN_1q4s_0_1_B_2--1q4s_0_1_B_1_0.pkl  \n",
            "  inflating: traindata_env_30/GLN_1q4s_0_1_B_2--1q4s_0_1_B_1_5.pkl  \n",
            "  inflating: traindata_env_30/GLN_1w62_0_1_B_1--1w62_0_1_A_1_57.pkl  \n",
            "  inflating: traindata_env_30/GLN_2bcc_0_1_C_1--2bcc_0_1_F_1_13.pkl  \n",
            "  inflating: traindata_env_30/GLN_2bnu_0_1_A_1--2bnu_0_1_B_1_104.pkl  \n",
            "  inflating: traindata_env_30/GLN_2bnu_0_1_A_1--2bnu_0_1_B_1_4.pkl  \n",
            "  inflating: traindata_env_30/GLN_2r5n_0_1_A_1--2r5n_0_1_B_1_108.pkl  \n",
            "  inflating: traindata_env_30/GLN_2vic_0_1_B_1--2vic_0_1_A_1_48.pkl  \n",
            "  inflating: traindata_env_30/GLN_2yc1_0_2_D_1--2yc1_0_2_E_1_19.pkl  \n",
            "  inflating: traindata_env_30/GLN_3e2m_0_1_A_1--3e2m_0_1_B_1_31.pkl  \n",
            "  inflating: traindata_env_30/GLN_3zpg_0_1_A_2--3zpg_0_1_A_1_44.pkl  \n",
            "  inflating: traindata_env_30/GLN_3zpg_0_1_A_2--3zpg_0_1_A_1_45.pkl  \n",
            "  inflating: traindata_env_30/GLN_3zpg_0_1_A_2--3zpg_0_1_A_1_95.pkl  \n",
            "  inflating: traindata_env_30/GLN_4afg_0_1_D_1--4afg_0_1_C_1_7.pkl  \n",
            "  inflating: traindata_env_30/GLN_4dl0_0_1_K_1--4dl0_0_1_J_1_15.pkl  \n",
            "  inflating: traindata_env_30/GLN_4h7o_0_1_B_1--4h7o_0_1_A_1_12.pkl  \n",
            "  inflating: traindata_env_30/GLN_4h7o_0_1_B_1--4h7o_0_1_A_1_57.pkl  \n",
            "  inflating: traindata_env_30/GLN_5ioq_0_1_B_1--5ioq_0_1_A_1_56.pkl  \n",
            "  inflating: traindata_env_30/GLN_5vb0_0_4_G_1--5vb0_0_4_H_1_2.pkl  \n",
            "  inflating: traindata_env_30/GLN_5vb0_0_4_G_1--5vb0_0_4_H_1_33.pkl  \n",
            "  inflating: traindata_env_30/GLN_5vjk_0_1_B_2--5vjk_0_1_B_1_52.pkl  \n",
            "  inflating: traindata_env_30/GLU_1csr_0_1_A_2--1csr_0_1_A_1_161.pkl  \n",
            "  inflating: traindata_env_30/GLU_1dv1_0_1_A_1--1dv1_0_1_B_1_37.pkl  \n",
            "  inflating: traindata_env_30/GLU_1h6u_0_1_A_1--1h6u_0_1_A_2_35.pkl  \n",
            "  inflating: traindata_env_30/GLU_1h6u_0_1_A_1--1h6u_0_1_A_2_5.pkl  \n",
            "  inflating: traindata_env_30/GLU_1h8e_0_1_G_1--1h8e_0_1_I_1_20.pkl  \n",
            "  inflating: traindata_env_30/GLU_1meh_0_1_A_1--1meh_0_1_A_3_18.pkl  \n",
            "  inflating: traindata_env_30/GLU_1meh_0_1_A_1--1meh_0_1_A_3_9.pkl  \n",
            "  inflating: traindata_env_30/GLU_1pf9_0_1_R_1--1pf9_0_1_Q_1_15.pkl  \n",
            "  inflating: traindata_env_30/GLU_1w62_0_1_B_1--1w62_0_1_A_1_11.pkl  \n",
            "  inflating: traindata_env_30/GLU_1zke_0_4_D_3--1zke_0_4_C_1_1.pkl  \n",
            "  inflating: traindata_env_30/GLU_2bcc_0_1_C_1--2bcc_0_1_F_1_52.pkl  \n",
            "  inflating: traindata_env_30/GLU_2bnu_0_1_A_1--2bnu_0_1_B_1_107.pkl  \n",
            "  inflating: traindata_env_30/GLU_2pkp_0_1_A_2--2pkp_0_1_A_1_5.pkl  \n",
            "  inflating: traindata_env_30/GLU_2pkp_0_1_A_2--2pkp_0_1_A_1_6.pkl  \n",
            "  inflating: traindata_env_30/GLU_2r5n_0_1_A_1--2r5n_0_1_B_1_10.pkl  \n",
            "  inflating: traindata_env_30/GLU_2r5n_0_1_A_1--2r5n_0_1_B_1_20.pkl  \n",
            "  inflating: traindata_env_30/GLU_2r5n_0_1_A_1--2r5n_0_1_B_1_74.pkl  \n",
            "  inflating: traindata_env_30/GLU_2r5n_0_1_A_1--2r5n_0_1_B_1_97.pkl  \n",
            "  inflating: traindata_env_30/GLU_2sgf_0_1_I_1--2sgf_0_1_E_1_0.pkl  \n",
            "  inflating: traindata_env_30/GLU_2yc1_0_2_D_1--2yc1_0_2_E_1_6.pkl  \n",
            "  inflating: traindata_env_30/GLU_3kgc_0_1_B_1--3kgc_0_1_A_1_26.pkl  \n",
            "  inflating: traindata_env_30/GLU_3kgc_0_1_B_1--3kgc_0_1_A_1_43.pkl  \n",
            "  inflating: traindata_env_30/GLU_3zpg_0_1_A_2--3zpg_0_1_A_1_8.pkl  \n",
            "  inflating: traindata_env_30/GLU_4dl0_0_1_K_1--4dl0_0_1_J_1_20.pkl  \n",
            "  inflating: traindata_env_30/GLU_4dl0_0_1_K_1--4dl0_0_1_J_1_31.pkl  \n",
            "  inflating: traindata_env_30/GLU_4dl0_0_1_K_1--4dl0_0_1_J_1_75.pkl  \n",
            "  inflating: traindata_env_30/GLU_4kzn_0_1_A_1--4kzn_0_1_A_2_11.pkl  \n",
            "  inflating: traindata_env_30/GLU_5ioq_0_1_B_1--5ioq_0_1_A_1_32.pkl  \n",
            "  inflating: traindata_env_30/GLU_5u4m_0_1_B_1--5u4m_0_1_A_1_15.pkl  \n",
            "  inflating: traindata_env_30/GLU_5vjk_0_1_B_2--5vjk_0_1_B_1_58.pkl  \n",
            "  inflating: traindata_env_30/GLY_1csr_0_1_A_2--1csr_0_1_A_1_194.pkl  \n",
            "  inflating: traindata_env_30/GLY_1csr_0_1_A_2--1csr_0_1_A_1_27.pkl  \n",
            "  inflating: traindata_env_30/GLY_1csr_0_1_A_2--1csr_0_1_A_1_52.pkl  \n",
            "  inflating: traindata_env_30/GLY_1csr_0_1_A_2--1csr_0_1_A_1_7.pkl  \n",
            "  inflating: traindata_env_30/GLY_1dv1_0_1_A_1--1dv1_0_1_B_1_50.pkl  \n",
            "  inflating: traindata_env_30/GLY_1fe4_0_1_B_1--1fe4_0_1_A_1_3.pkl  \n",
            "  inflating: traindata_env_30/GLY_1h8e_0_1_G_1--1h8e_0_1_I_1_9.pkl  \n",
            "  inflating: traindata_env_30/GLY_1meh_0_1_A_1--1meh_0_1_A_3_26.pkl  \n",
            "  inflating: traindata_env_30/GLY_1pf9_0_1_R_1--1pf9_0_1_Q_1_22.pkl  \n",
            "  inflating: traindata_env_30/GLY_1vqi_0_1_A_1--1vqi_0_1_A_2_16.pkl  \n",
            "  inflating: traindata_env_30/GLY_1vqi_0_1_A_1--1vqi_0_1_A_2_5.pkl  \n",
            "  inflating: traindata_env_30/GLY_1w62_0_1_B_1--1w62_0_1_A_1_25.pkl  \n",
            "  inflating: traindata_env_30/GLY_1w62_0_1_B_1--1w62_0_1_A_1_47.pkl  \n",
            "  inflating: traindata_env_30/GLY_2bnu_0_1_A_1--2bnu_0_1_B_1_6.pkl  \n",
            "  inflating: traindata_env_30/GLY_2bnu_0_1_A_1--2bnu_0_1_B_1_62.pkl  \n",
            "  inflating: traindata_env_30/GLY_2pa7_0_1_A_1--2pa7_0_1_B_1_4.pkl  \n",
            "  inflating: traindata_env_30/GLY_2r5n_0_1_A_1--2r5n_0_1_B_1_117.pkl  \n",
            "  inflating: traindata_env_30/GLY_2r5n_0_1_A_1--2r5n_0_1_B_1_195.pkl  \n",
            "  inflating: traindata_env_30/GLY_2yc1_0_2_D_1--2yc1_0_2_E_1_10.pkl  \n",
            "  inflating: traindata_env_30/GLY_2yc1_0_2_D_1--2yc1_0_2_E_1_15.pkl  \n",
            "  inflating: traindata_env_30/GLY_3zpg_0_1_A_2--3zpg_0_1_A_1_20.pkl  \n",
            "  inflating: traindata_env_30/GLY_3zpg_0_1_A_2--3zpg_0_1_A_1_3.pkl  \n",
            "  inflating: traindata_env_30/GLY_4afg_0_1_D_1--4afg_0_1_C_1_52.pkl  \n",
            "  inflating: traindata_env_30/GLY_4afg_0_1_D_1--4afg_0_1_C_1_56.pkl  \n",
            "  inflating: traindata_env_30/GLY_4h7o_0_1_B_1--4h7o_0_1_A_1_22.pkl  \n",
            "  inflating: traindata_env_30/GLY_4h7o_0_1_B_1--4h7o_0_1_A_1_23.pkl  \n",
            "  inflating: traindata_env_30/GLY_4h7o_0_1_B_1--4h7o_0_1_A_1_25.pkl  \n",
            "  inflating: traindata_env_30/GLY_5ioq_0_1_B_1--5ioq_0_1_A_1_34.pkl  \n",
            "  inflating: traindata_env_30/GLY_5u4m_0_1_B_1--5u4m_0_1_A_1_31.pkl  \n",
            "  inflating: traindata_env_30/GLY_5vjk_0_1_B_2--5vjk_0_1_B_1_31.pkl  \n",
            "  inflating: traindata_env_30/HIS_1csr_0_1_A_2--1csr_0_1_A_1_116.pkl  \n",
            "  inflating: traindata_env_30/HIS_1csr_0_1_A_2--1csr_0_1_A_1_197.pkl  \n",
            "  inflating: traindata_env_30/HIS_1csr_0_1_A_2--1csr_0_1_A_1_35.pkl  \n",
            "  inflating: traindata_env_30/HIS_1csr_0_1_A_2--1csr_0_1_A_1_57.pkl  \n",
            "  inflating: traindata_env_30/HIS_1csr_0_1_A_2--1csr_0_1_A_1_6.pkl  \n",
            "  inflating: traindata_env_30/HIS_1csr_0_1_A_2--1csr_0_1_A_1_80.pkl  \n",
            "  inflating: traindata_env_30/HIS_1dv1_0_1_A_1--1dv1_0_1_B_1_49.pkl  \n",
            "  inflating: traindata_env_30/HIS_1viv_0_2_A_1--1viv_0_2_A_2_22.pkl  \n",
            "  inflating: traindata_env_30/HIS_1viv_0_2_A_1--1viv_0_2_A_2_49.pkl  \n",
            "  inflating: traindata_env_30/HIS_1w62_0_1_B_1--1w62_0_1_A_1_53.pkl  \n",
            "  inflating: traindata_env_30/HIS_1w62_0_1_B_1--1w62_0_1_A_1_8.pkl  \n",
            "  inflating: traindata_env_30/HIS_1yyl_0_1_H_1--1yyl_0_1_G_1_4.pkl  \n",
            "  inflating: traindata_env_30/HIS_2r5n_0_1_A_1--2r5n_0_1_B_1_155.pkl  \n",
            "  inflating: traindata_env_30/HIS_2r5n_0_1_A_1--2r5n_0_1_B_1_51.pkl  \n",
            "  inflating: traindata_env_30/HIS_2r5n_0_1_A_1--2r5n_0_1_B_1_6.pkl  \n",
            "  inflating: traindata_env_30/HIS_2vic_0_1_B_1--2vic_0_1_A_1_22.pkl  \n",
            "  inflating: traindata_env_30/HIS_2vic_0_1_B_1--2vic_0_1_A_1_50.pkl  \n",
            "  inflating: traindata_env_30/HIS_2yc1_0_2_D_1--2yc1_0_2_E_1_0.pkl  \n",
            "  inflating: traindata_env_30/HIS_3bkf_0_1_A_4--3bkf_0_1_A_2_12.pkl  \n",
            "  inflating: traindata_env_30/HIS_3bkf_0_1_A_4--3bkf_0_1_A_2_23.pkl  \n",
            "  inflating: traindata_env_30/HIS_3bkf_0_1_A_4--3bkf_0_1_A_2_7.pkl  \n",
            "  inflating: traindata_env_30/HIS_4edw_0_1_L_1--4edw_0_1_V_1_9.pkl  \n",
            "  inflating: traindata_env_30/HIS_4kzn_0_1_A_1--4kzn_0_1_A_2_40.pkl  \n",
            "  inflating: traindata_env_30/HIS_4p5b_0_1_D_1--4p5b_0_1_B_1_26.pkl  \n",
            "  inflating: traindata_env_30/HIS_4qda_0_4_F_1--4qda_0_4_E_1_8.pkl  \n",
            "  inflating: traindata_env_30/HIS_5u4m_0_1_B_1--5u4m_0_1_A_1_17.pkl  \n",
            "  inflating: traindata_env_30/HIS_5vb0_0_4_G_1--5vb0_0_4_H_1_103.pkl  \n",
            "  inflating: traindata_env_30/HIS_5vb0_0_4_G_1--5vb0_0_4_H_1_115.pkl  \n",
            "  inflating: traindata_env_30/HIS_5vb0_0_4_G_1--5vb0_0_4_H_1_51.pkl  \n",
            "  inflating: traindata_env_30/HIS_5vb0_0_4_G_1--5vb0_0_4_H_1_6.pkl  \n",
            "  inflating: traindata_env_30/ILE_1csr_0_1_A_2--1csr_0_1_A_1_1.pkl  \n",
            "  inflating: traindata_env_30/ILE_1csr_0_1_A_2--1csr_0_1_A_1_111.pkl  \n",
            "  inflating: traindata_env_30/ILE_1csr_0_1_A_2--1csr_0_1_A_1_29.pkl  \n",
            "  inflating: traindata_env_30/ILE_1d8h_0_2_C_1--1d8h_0_2_C_2_101.pkl  \n",
            "  inflating: traindata_env_30/ILE_1d8h_0_2_C_1--1d8h_0_2_C_2_108.pkl  \n",
            "  inflating: traindata_env_30/ILE_1d8h_0_2_C_1--1d8h_0_2_C_2_34.pkl  \n",
            "  inflating: traindata_env_30/ILE_1d8h_0_2_C_1--1d8h_0_2_C_2_53.pkl  \n",
            "  inflating: traindata_env_30/ILE_1d8h_0_2_C_1--1d8h_0_2_C_2_57.pkl  \n",
            "  inflating: traindata_env_30/ILE_1dv1_0_1_A_1--1dv1_0_1_B_1_57.pkl  \n",
            "  inflating: traindata_env_30/ILE_1h6u_0_1_A_1--1h6u_0_1_A_2_52.pkl  \n",
            "  inflating: traindata_env_30/ILE_1h8e_0_1_G_1--1h8e_0_1_I_1_13.pkl  \n",
            "  inflating: traindata_env_30/ILE_1h8e_0_1_G_1--1h8e_0_1_I_1_38.pkl  \n",
            "  inflating: traindata_env_30/ILE_1jwb_0_1_D_1--1jwb_0_1_B_1_45.pkl  \n",
            "  inflating: traindata_env_30/ILE_1pf9_0_1_R_1--1pf9_0_1_Q_1_10.pkl  \n",
            "  inflating: traindata_env_30/ILE_1pf9_0_1_R_1--1pf9_0_1_Q_1_2.pkl  \n",
            "  inflating: traindata_env_30/ILE_1pf9_0_1_R_1--1pf9_0_1_Q_1_32.pkl  \n",
            "  inflating: traindata_env_30/ILE_1vqi_0_1_A_1--1vqi_0_1_A_2_20.pkl  \n",
            "  inflating: traindata_env_30/ILE_1vqi_0_1_A_1--1vqi_0_1_A_2_23.pkl  \n",
            "  inflating: traindata_env_30/ILE_1vqi_0_1_A_1--1vqi_0_1_A_2_42.pkl  \n",
            "  inflating: traindata_env_30/ILE_2pa7_0_1_A_1--2pa7_0_1_B_1_14.pkl  \n",
            "  inflating: traindata_env_30/ILE_2pkp_0_1_A_2--2pkp_0_1_A_1_1.pkl  \n",
            "  inflating: traindata_env_30/ILE_2r5n_0_1_A_1--2r5n_0_1_B_1_134.pkl  \n",
            "  inflating: traindata_env_30/ILE_3kgc_0_1_B_1--3kgc_0_1_A_1_33.pkl  \n",
            "  inflating: traindata_env_30/ILE_4afg_0_1_D_1--4afg_0_1_C_1_59.pkl  \n",
            "  inflating: traindata_env_30/ILE_4dl0_0_1_K_1--4dl0_0_1_J_1_38.pkl  \n",
            "  inflating: traindata_env_30/ILE_4dl0_0_1_K_1--4dl0_0_1_J_1_86.pkl  \n",
            "  inflating: traindata_env_30/ILE_4e92_0_3_B_1--4e92_0_3_A_1_14.pkl  \n",
            "  inflating: traindata_env_30/ILE_4kzn_0_1_A_1--4kzn_0_1_A_2_58.pkl  \n",
            "  inflating: traindata_env_30/ILE_5vjk_0_1_B_2--5vjk_0_1_B_1_10.pkl  \n",
            "  inflating: traindata_env_30/ILE_5vjk_0_1_B_2--5vjk_0_1_B_1_44.pkl  \n",
            "  inflating: traindata_env_30/LEU_1csr_0_1_A_2--1csr_0_1_A_1_215.pkl  \n",
            "  inflating: traindata_env_30/LEU_1dfm_0_1_A_1--1dfm_0_1_B_1_12.pkl  \n",
            "  inflating: traindata_env_30/LEU_1dfm_0_1_A_1--1dfm_0_1_B_1_27.pkl  \n",
            "  inflating: traindata_env_30/LEU_1dv1_0_1_A_1--1dv1_0_1_B_1_0.pkl  \n",
            "  inflating: traindata_env_30/LEU_1h8e_0_1_G_1--1h8e_0_1_I_1_17.pkl  \n",
            "  inflating: traindata_env_30/LEU_1jmz_0_2_B_2--1jmz_0_2_B_1_6.pkl  \n",
            "  inflating: traindata_env_30/LEU_1jwb_0_1_D_1--1jwb_0_1_B_1_39.pkl  \n",
            "  inflating: traindata_env_30/LEU_1jwb_0_1_D_1--1jwb_0_1_B_1_55.pkl  \n",
            "  inflating: traindata_env_30/LEU_1viv_0_2_A_1--1viv_0_2_A_2_38.pkl  \n",
            "  inflating: traindata_env_30/LEU_1vqi_0_1_A_1--1vqi_0_1_A_2_29.pkl  \n",
            "  inflating: traindata_env_30/LEU_1zke_0_4_D_3--1zke_0_4_C_1_12.pkl  \n",
            "  inflating: traindata_env_30/LEU_2bcc_0_1_C_1--2bcc_0_1_F_1_35.pkl  \n",
            "  inflating: traindata_env_30/LEU_2r5n_0_1_A_1--2r5n_0_1_B_1_109.pkl  \n",
            "  inflating: traindata_env_30/LEU_2r5n_0_1_A_1--2r5n_0_1_B_1_150.pkl  \n",
            "  inflating: traindata_env_30/LEU_2r5n_0_1_A_1--2r5n_0_1_B_1_205.pkl  \n",
            "  inflating: traindata_env_30/LEU_2vic_0_1_B_1--2vic_0_1_A_1_41.pkl  \n",
            "  inflating: traindata_env_30/LEU_2vic_0_1_B_1--2vic_0_1_A_1_96.pkl  \n",
            "  inflating: traindata_env_30/LEU_2yc1_0_2_D_1--2yc1_0_2_E_1_25.pkl  \n",
            "  inflating: traindata_env_30/LEU_3kgc_0_1_B_1--3kgc_0_1_A_1_2.pkl  \n",
            "  inflating: traindata_env_30/LEU_3kgc_0_1_B_1--3kgc_0_1_A_1_39.pkl  \n",
            "  inflating: traindata_env_30/LEU_3zpg_0_1_A_2--3zpg_0_1_A_1_19.pkl  \n",
            "  inflating: traindata_env_30/LEU_3zpg_0_1_A_2--3zpg_0_1_A_1_61.pkl  \n",
            "  inflating: traindata_env_30/LEU_4afg_0_1_D_1--4afg_0_1_C_1_71.pkl  \n",
            "  inflating: traindata_env_30/LEU_4dl0_0_1_K_1--4dl0_0_1_J_1_109.pkl  \n",
            "  inflating: traindata_env_30/LEU_4qda_0_4_F_1--4qda_0_4_E_1_28.pkl  \n",
            "  inflating: traindata_env_30/LEU_4rfv_0_1_B_1--4rfv_0_1_A_1_4.pkl  \n",
            "  inflating: traindata_env_30/LEU_5v5k_0_1_F_2--5v5k_0_1_G_2_8.pkl  \n",
            "  inflating: traindata_env_30/LEU_5vb0_0_4_G_1--5vb0_0_4_H_1_120.pkl  \n",
            "  inflating: traindata_env_30/LEU_5vb0_0_4_G_1--5vb0_0_4_H_1_15.pkl  \n",
            "  inflating: traindata_env_30/LEU_5vb0_0_4_G_1--5vb0_0_4_H_1_76.pkl  \n",
            "  inflating: traindata_env_30/LYS_1csr_0_1_A_2--1csr_0_1_A_1_200.pkl  \n",
            "  inflating: traindata_env_30/LYS_1csr_0_1_A_2--1csr_0_1_A_1_207.pkl  \n",
            "  inflating: traindata_env_30/LYS_1e65_0_1_A_1--1e65_0_1_D_1_20.pkl  \n",
            "  inflating: traindata_env_30/LYS_1e65_0_1_A_1--1e65_0_1_D_1_9.pkl  \n",
            "  inflating: traindata_env_30/LYS_1h6u_0_1_A_1--1h6u_0_1_A_2_15.pkl  \n",
            "  inflating: traindata_env_30/LYS_1h6u_0_1_A_1--1h6u_0_1_A_2_36.pkl  \n",
            "  inflating: traindata_env_30/LYS_1h8e_0_1_G_1--1h8e_0_1_I_1_3.pkl  \n",
            "  inflating: traindata_env_30/LYS_1h8e_0_1_G_1--1h8e_0_1_I_1_37.pkl  \n",
            "  inflating: traindata_env_30/LYS_1h8e_0_1_G_1--1h8e_0_1_I_1_40.pkl  \n",
            "  inflating: traindata_env_30/LYS_1jmz_0_2_B_2--1jmz_0_2_B_1_8.pkl  \n",
            "  inflating: traindata_env_30/LYS_1meh_0_1_A_1--1meh_0_1_A_3_45.pkl  \n",
            "  inflating: traindata_env_30/LYS_1pf9_0_1_R_1--1pf9_0_1_Q_1_16.pkl  \n",
            "  inflating: traindata_env_30/LYS_1vqi_0_1_A_1--1vqi_0_1_A_2_31.pkl  \n",
            "  inflating: traindata_env_30/LYS_1vqi_0_1_A_1--1vqi_0_1_A_2_35.pkl  \n",
            "  inflating: traindata_env_30/LYS_1yyl_0_1_H_1--1yyl_0_1_G_1_12.pkl  \n",
            "  inflating: traindata_env_30/LYS_2bcc_0_1_C_1--2bcc_0_1_F_1_12.pkl  \n",
            "  inflating: traindata_env_30/LYS_2bcc_0_1_C_1--2bcc_0_1_F_1_45.pkl  \n",
            "  inflating: traindata_env_30/LYS_2bnu_0_1_A_1--2bnu_0_1_B_1_90.pkl  \n",
            "  inflating: traindata_env_30/LYS_2vic_0_1_B_1--2vic_0_1_A_1_9.pkl  \n",
            "  inflating: traindata_env_30/LYS_3e2m_0_1_A_1--3e2m_0_1_B_1_32.pkl  \n",
            "  inflating: traindata_env_30/LYS_3kgc_0_1_B_1--3kgc_0_1_A_1_29.pkl  \n",
            "  inflating: traindata_env_30/LYS_3zpg_0_1_A_2--3zpg_0_1_A_1_38.pkl  \n",
            "  inflating: traindata_env_30/LYS_4afg_0_1_D_1--4afg_0_1_C_1_10.pkl  \n",
            "  inflating: traindata_env_30/LYS_4afg_0_1_D_1--4afg_0_1_C_1_42.pkl  \n",
            "  inflating: traindata_env_30/LYS_4dl0_0_1_K_1--4dl0_0_1_J_1_39.pkl  \n",
            "  inflating: traindata_env_30/LYS_4dl0_0_1_K_1--4dl0_0_1_J_1_42.pkl  \n",
            "  inflating: traindata_env_30/LYS_4dl0_0_1_K_1--4dl0_0_1_J_1_52.pkl  \n",
            "  inflating: traindata_env_30/LYS_5ioq_0_1_B_1--5ioq_0_1_A_1_24.pkl  \n",
            "  inflating: traindata_env_30/LYS_5ioq_0_1_B_1--5ioq_0_1_A_1_72.pkl  \n",
            "  inflating: traindata_env_30/LYS_5vjk_0_1_B_2--5vjk_0_1_B_1_23.pkl  \n",
            "  inflating: traindata_env_30/MET_1csr_0_1_A_2--1csr_0_1_A_1_22.pkl  \n",
            "  inflating: traindata_env_30/MET_1csr_0_1_A_2--1csr_0_1_A_1_25.pkl  \n",
            "  inflating: traindata_env_30/MET_1csr_0_1_A_2--1csr_0_1_A_1_99.pkl  \n",
            "  inflating: traindata_env_30/MET_1dv1_0_1_A_1--1dv1_0_1_B_1_41.pkl  \n",
            "  inflating: traindata_env_30/MET_1e65_0_1_A_1--1e65_0_1_D_1_6.pkl  \n",
            "  inflating: traindata_env_30/MET_1jwb_0_1_D_1--1jwb_0_1_B_1_46.pkl  \n",
            "  inflating: traindata_env_30/MET_1viv_0_2_A_1--1viv_0_2_A_2_31.pkl  \n",
            "  inflating: traindata_env_30/MET_1vqi_0_1_A_1--1vqi_0_1_A_2_0.pkl  \n",
            "  inflating: traindata_env_30/MET_1w62_0_1_B_1--1w62_0_1_A_1_24.pkl  \n",
            "  inflating: traindata_env_30/MET_1w62_0_1_B_1--1w62_0_1_A_1_71.pkl  \n",
            "  inflating: traindata_env_30/MET_1yyl_0_1_H_1--1yyl_0_1_G_1_15.pkl  \n",
            "  inflating: traindata_env_30/MET_1zke_0_4_D_3--1zke_0_4_C_1_11.pkl  \n",
            "  inflating: traindata_env_30/MET_2bcc_0_1_C_1--2bcc_0_1_F_1_22.pkl  \n",
            "  inflating: traindata_env_30/MET_2bcc_0_1_C_1--2bcc_0_1_F_1_43.pkl  \n",
            "  inflating: traindata_env_30/MET_2pa7_0_1_A_1--2pa7_0_1_B_1_37.pkl  \n",
            "  inflating: traindata_env_30/MET_2pkp_0_1_A_2--2pkp_0_1_A_1_0.pkl  \n",
            "  inflating: traindata_env_30/MET_2pkp_0_1_A_2--2pkp_0_1_A_1_16.pkl  \n",
            "  inflating: traindata_env_30/MET_2r5n_0_1_A_1--2r5n_0_1_B_1_122.pkl  \n",
            "  inflating: traindata_env_30/MET_2r5n_0_1_A_1--2r5n_0_1_B_1_168.pkl  \n",
            "  inflating: traindata_env_30/MET_2vic_0_1_B_1--2vic_0_1_A_1_28.pkl  \n",
            "  inflating: traindata_env_30/MET_3zpg_0_1_A_2--3zpg_0_1_A_1_24.pkl  \n",
            "  inflating: traindata_env_30/MET_3zpg_0_1_A_2--3zpg_0_1_A_1_56.pkl  \n",
            "  inflating: traindata_env_30/MET_3zpg_0_1_A_2--3zpg_0_1_A_1_6.pkl  \n",
            "  inflating: traindata_env_30/MET_3zpg_0_1_A_2--3zpg_0_1_A_1_82.pkl  \n",
            "  inflating: traindata_env_30/MET_4e92_0_3_B_1--4e92_0_3_A_1_4.pkl  \n",
            "  inflating: traindata_env_30/MET_4kzn_0_1_A_1--4kzn_0_1_A_2_28.pkl  \n",
            "  inflating: traindata_env_30/MET_4kzn_0_1_A_1--4kzn_0_1_A_2_56.pkl  \n",
            "  inflating: traindata_env_30/MET_5vb0_0_4_G_1--5vb0_0_4_H_1_0.pkl  \n",
            "  inflating: traindata_env_30/MET_5vb0_0_4_G_1--5vb0_0_4_H_1_79.pkl  \n",
            "  inflating: traindata_env_30/MET_5vjk_0_1_B_2--5vjk_0_1_B_1_51.pkl  \n",
            "  inflating: traindata_env_30/PHE_1csr_0_1_A_2--1csr_0_1_A_1_148.pkl  \n",
            "  inflating: traindata_env_30/PHE_1csr_0_1_A_2--1csr_0_1_A_1_3.pkl  \n",
            "  inflating: traindata_env_30/PHE_1d8h_0_2_C_1--1d8h_0_2_C_2_93.pkl  \n",
            "  inflating: traindata_env_30/PHE_1dv1_0_1_A_1--1dv1_0_1_B_1_18.pkl  \n",
            "  inflating: traindata_env_30/PHE_1dv1_0_1_A_1--1dv1_0_1_B_1_48.pkl  \n",
            "  inflating: traindata_env_30/PHE_1e65_0_1_A_1--1e65_0_1_D_1_3.pkl  \n",
            "  inflating: traindata_env_30/PHE_1h6u_0_1_A_1--1h6u_0_1_A_2_22.pkl  \n",
            "  inflating: traindata_env_30/PHE_1jwb_0_1_D_1--1jwb_0_1_B_1_0.pkl  \n",
            "  inflating: traindata_env_30/PHE_1sjh_0_1_A_2--1sjh_0_1_D_2_26.pkl  \n",
            "  inflating: traindata_env_30/PHE_1vqi_0_1_A_1--1vqi_0_1_A_2_15.pkl  \n",
            "  inflating: traindata_env_30/PHE_1w62_0_1_B_1--1w62_0_1_A_1_36.pkl  \n",
            "  inflating: traindata_env_30/PHE_1w62_0_1_B_1--1w62_0_1_A_1_68.pkl  \n",
            "  inflating: traindata_env_30/PHE_1w62_0_1_B_1--1w62_0_1_A_1_76.pkl  \n",
            "  inflating: traindata_env_30/PHE_2bnu_0_1_A_1--2bnu_0_1_B_1_82.pkl  \n",
            "  inflating: traindata_env_30/PHE_2pa7_0_1_A_1--2pa7_0_1_B_1_21.pkl  \n",
            "  inflating: traindata_env_30/PHE_2r5n_0_1_A_1--2r5n_0_1_B_1_162.pkl  \n",
            "  inflating: traindata_env_30/PHE_2r5n_0_1_A_1--2r5n_0_1_B_1_199.pkl  \n",
            "  inflating: traindata_env_30/PHE_2sgf_0_1_I_1--2sgf_0_1_E_1_6.pkl  \n",
            "  inflating: traindata_env_30/PHE_2vic_0_1_B_1--2vic_0_1_A_1_32.pkl  \n",
            "  inflating: traindata_env_30/PHE_3kgc_0_1_B_1--3kgc_0_1_A_1_32.pkl  \n",
            "  inflating: traindata_env_30/PHE_3zpg_0_1_A_2--3zpg_0_1_A_1_25.pkl  \n",
            "  inflating: traindata_env_30/PHE_3zpg_0_1_A_2--3zpg_0_1_A_1_75.pkl  \n",
            "  inflating: traindata_env_30/PHE_4afg_0_1_D_1--4afg_0_1_C_1_63.pkl  \n",
            "  inflating: traindata_env_30/PHE_4h7o_0_1_B_1--4h7o_0_1_A_1_42.pkl  \n",
            "  inflating: traindata_env_30/PHE_5ioq_0_1_B_1--5ioq_0_1_A_1_4.pkl  \n",
            "  inflating: traindata_env_30/PHE_5u4m_0_1_B_1--5u4m_0_1_A_1_0.pkl  \n",
            "  inflating: traindata_env_30/PHE_5vb0_0_4_G_1--5vb0_0_4_H_1_128.pkl  \n",
            "  inflating: traindata_env_30/PHE_5vb0_0_4_G_1--5vb0_0_4_H_1_42.pkl  \n",
            "  inflating: traindata_env_30/PHE_5vb0_0_4_G_1--5vb0_0_4_H_1_63.pkl  \n",
            "  inflating: traindata_env_30/PHE_5vb0_0_4_G_1--5vb0_0_4_H_1_64.pkl  \n",
            "  inflating: traindata_env_30/PRO_1csr_0_1_A_2--1csr_0_1_A_1_149.pkl  \n",
            "  inflating: traindata_env_30/PRO_1csr_0_1_A_2--1csr_0_1_A_1_202.pkl  \n",
            "  inflating: traindata_env_30/PRO_1csr_0_1_A_2--1csr_0_1_A_1_39.pkl  \n",
            "  inflating: traindata_env_30/PRO_1csr_0_1_A_2--1csr_0_1_A_1_92.pkl  \n",
            "  inflating: traindata_env_30/PRO_1d8h_0_2_C_1--1d8h_0_2_C_2_23.pkl  \n",
            "  inflating: traindata_env_30/PRO_1d8h_0_2_C_1--1d8h_0_2_C_2_78.pkl  \n",
            "  inflating: traindata_env_30/PRO_1dfm_0_1_A_1--1dfm_0_1_B_1_5.pkl  \n",
            "  inflating: traindata_env_30/PRO_1jmz_0_2_B_2--1jmz_0_2_B_1_1.pkl  \n",
            "  inflating: traindata_env_30/PRO_1meh_0_1_A_1--1meh_0_1_A_3_34.pkl  \n",
            "  inflating: traindata_env_30/PRO_1viv_0_2_A_1--1viv_0_2_A_2_13.pkl  \n",
            "  inflating: traindata_env_30/PRO_1viv_0_2_A_1--1viv_0_2_A_2_14.pkl  \n",
            "  inflating: traindata_env_30/PRO_1w62_0_1_B_1--1w62_0_1_A_1_34.pkl  \n",
            "  inflating: traindata_env_30/PRO_1w62_0_1_B_1--1w62_0_1_A_1_75.pkl  \n",
            "  inflating: traindata_env_30/PRO_1yyl_0_1_H_1--1yyl_0_1_G_1_16.pkl  \n",
            "  inflating: traindata_env_30/PRO_2bnu_0_1_A_1--2bnu_0_1_B_1_56.pkl  \n",
            "  inflating: traindata_env_30/PRO_2r5n_0_1_A_1--2r5n_0_1_B_1_185.pkl  \n",
            "  inflating: traindata_env_30/PRO_2r5n_0_1_A_1--2r5n_0_1_B_1_203.pkl  \n",
            "  inflating: traindata_env_30/PRO_2r5n_0_1_A_1--2r5n_0_1_B_1_47.pkl  \n",
            "  inflating: traindata_env_30/PRO_2r5n_0_1_A_1--2r5n_0_1_B_1_69.pkl  \n",
            "  inflating: traindata_env_30/PRO_2vic_0_1_B_1--2vic_0_1_A_1_25.pkl  \n",
            "  inflating: traindata_env_30/PRO_3kgc_0_1_B_1--3kgc_0_1_A_1_8.pkl  \n",
            "  inflating: traindata_env_30/PRO_3rlm_0_1_F_1--3rlm_0_1_D_1_14.pkl  \n",
            "  inflating: traindata_env_30/PRO_4dl0_0_1_K_1--4dl0_0_1_J_1_53.pkl  \n",
            "  inflating: traindata_env_30/PRO_4e92_0_3_B_1--4e92_0_3_A_1_10.pkl  \n",
            "  inflating: traindata_env_30/PRO_4e92_0_3_B_1--4e92_0_3_A_1_27.pkl  \n",
            "  inflating: traindata_env_30/PRO_4e92_0_3_B_1--4e92_0_3_A_1_28.pkl  \n",
            "  inflating: traindata_env_30/PRO_4kzn_0_1_A_1--4kzn_0_1_A_2_46.pkl  \n",
            "  inflating: traindata_env_30/PRO_5ioq_0_1_B_1--5ioq_0_1_A_1_43.pkl  \n",
            "  inflating: traindata_env_30/PRO_5ioq_0_1_B_1--5ioq_0_1_A_1_68.pkl  \n",
            "  inflating: traindata_env_30/PRO_5ioq_0_1_B_1--5ioq_0_1_A_1_89.pkl  \n",
            "  inflating: traindata_env_30/SER_1csr_0_1_A_2--1csr_0_1_A_1_106.pkl  \n",
            "  inflating: traindata_env_30/SER_1csr_0_1_A_2--1csr_0_1_A_1_128.pkl  \n",
            "  inflating: traindata_env_30/SER_1csr_0_1_A_2--1csr_0_1_A_1_159.pkl  \n",
            "  inflating: traindata_env_30/SER_1csr_0_1_A_2--1csr_0_1_A_1_177.pkl  \n",
            "  inflating: traindata_env_30/SER_1csr_0_1_A_2--1csr_0_1_A_1_193.pkl  \n",
            "  inflating: traindata_env_30/SER_1csr_0_1_A_2--1csr_0_1_A_1_83.pkl  \n",
            "  inflating: traindata_env_30/SER_1d8h_0_2_C_1--1d8h_0_2_C_2_25.pkl  \n",
            "  inflating: traindata_env_30/SER_1d8h_0_2_C_1--1d8h_0_2_C_2_46.pkl  \n",
            "  inflating: traindata_env_30/SER_1d8h_0_2_C_1--1d8h_0_2_C_2_82.pkl  \n",
            "  inflating: traindata_env_30/SER_1d8h_0_2_C_1--1d8h_0_2_C_2_94.pkl  \n",
            "  inflating: traindata_env_30/SER_1dfm_0_1_A_1--1dfm_0_1_B_1_18.pkl  \n",
            "  inflating: traindata_env_30/SER_1h6u_0_1_A_1--1h6u_0_1_A_2_20.pkl  \n",
            "  inflating: traindata_env_30/SER_1h8e_0_1_G_1--1h8e_0_1_I_1_34.pkl  \n",
            "  inflating: traindata_env_30/SER_1jwb_0_1_D_1--1jwb_0_1_B_1_13.pkl  \n",
            "  inflating: traindata_env_30/SER_1meh_0_1_A_1--1meh_0_1_A_3_28.pkl  \n",
            "  inflating: traindata_env_30/SER_2bnu_0_1_A_1--2bnu_0_1_B_1_109.pkl  \n",
            "  inflating: traindata_env_30/SER_2bnu_0_1_A_1--2bnu_0_1_B_1_29.pkl  \n",
            "  inflating: traindata_env_30/SER_2bnu_0_1_A_1--2bnu_0_1_B_1_47.pkl  \n",
            "  inflating: traindata_env_30/SER_2sgf_0_1_I_1--2sgf_0_1_E_1_29.pkl  \n",
            "  inflating: traindata_env_30/SER_2vic_0_1_B_1--2vic_0_1_A_1_26.pkl  \n",
            "  inflating: traindata_env_30/SER_2vic_0_1_B_1--2vic_0_1_A_1_34.pkl  \n",
            "  inflating: traindata_env_30/SER_2yc1_0_2_D_1--2yc1_0_2_E_1_26.pkl  \n",
            "  inflating: traindata_env_30/SER_3e2m_0_1_A_1--3e2m_0_1_B_1_5.pkl  \n",
            "  inflating: traindata_env_30/SER_3zpg_0_1_A_2--3zpg_0_1_A_1_13.pkl  \n",
            "  inflating: traindata_env_30/SER_4afg_0_1_D_1--4afg_0_1_C_1_17.pkl  \n",
            "  inflating: traindata_env_30/SER_4rfv_0_1_B_1--4rfv_0_1_A_1_1.pkl  \n",
            "  inflating: traindata_env_30/SER_5u4m_0_1_B_1--5u4m_0_1_A_1_27.pkl  \n",
            "  inflating: traindata_env_30/SER_5vb0_0_4_G_1--5vb0_0_4_H_1_107.pkl  \n",
            "  inflating: traindata_env_30/SER_5vb0_0_4_G_1--5vb0_0_4_H_1_35.pkl  \n",
            "  inflating: traindata_env_30/SER_5vjk_0_1_B_2--5vjk_0_1_B_1_22.pkl  \n",
            "  inflating: traindata_env_30/THR_1csr_0_1_A_2--1csr_0_1_A_1_119.pkl  \n",
            "  inflating: traindata_env_30/THR_1csr_0_1_A_2--1csr_0_1_A_1_156.pkl  \n",
            "  inflating: traindata_env_30/THR_1csr_0_1_A_2--1csr_0_1_A_1_46.pkl  \n",
            "  inflating: traindata_env_30/THR_1d8h_0_2_C_1--1d8h_0_2_C_2_51.pkl  \n",
            "  inflating: traindata_env_30/THR_1fe4_0_1_B_1--1fe4_0_1_A_1_21.pkl  \n",
            "  inflating: traindata_env_30/THR_1h6u_0_1_A_1--1h6u_0_1_A_2_24.pkl  \n",
            "  inflating: traindata_env_30/THR_1h6u_0_1_A_1--1h6u_0_1_A_2_27.pkl  \n",
            "  inflating: traindata_env_30/THR_1h6u_0_1_A_1--1h6u_0_1_A_2_37.pkl  \n",
            "  inflating: traindata_env_30/THR_1h6u_0_1_A_1--1h6u_0_1_A_2_56.pkl  \n",
            "  inflating: traindata_env_30/THR_1h6u_0_1_A_1--1h6u_0_1_A_2_8.pkl  \n",
            "  inflating: traindata_env_30/THR_1h8e_0_1_G_1--1h8e_0_1_I_1_1.pkl  \n",
            "  inflating: traindata_env_30/THR_1h8e_0_1_G_1--1h8e_0_1_I_1_8.pkl  \n",
            "  inflating: traindata_env_30/THR_1jwb_0_1_D_1--1jwb_0_1_B_1_27.pkl  \n",
            "  inflating: traindata_env_30/THR_1jwb_0_1_D_1--1jwb_0_1_B_1_49.pkl  \n",
            "  inflating: traindata_env_30/THR_1yyl_0_1_H_1--1yyl_0_1_G_1_0.pkl  \n",
            "  inflating: traindata_env_30/THR_2bnu_0_1_A_1--2bnu_0_1_B_1_94.pkl  \n",
            "  inflating: traindata_env_30/THR_2r5n_0_1_A_1--2r5n_0_1_B_1_11.pkl  \n",
            "  inflating: traindata_env_30/THR_2r5n_0_1_A_1--2r5n_0_1_B_1_27.pkl  \n",
            "  inflating: traindata_env_30/THR_2r5n_0_1_A_1--2r5n_0_1_B_1_70.pkl  \n",
            "  inflating: traindata_env_30/THR_2r5n_0_1_A_1--2r5n_0_1_B_1_80.pkl  \n",
            "  inflating: traindata_env_30/THR_2sgf_0_1_I_1--2sgf_0_1_E_1_20.pkl  \n",
            "  inflating: traindata_env_30/THR_2sgf_0_1_I_1--2sgf_0_1_E_1_35.pkl  \n",
            "  inflating: traindata_env_30/THR_2vic_0_1_B_1--2vic_0_1_A_1_64.pkl  \n",
            "  inflating: traindata_env_30/THR_3bkf_0_1_A_4--3bkf_0_1_A_2_5.pkl  \n",
            "  inflating: traindata_env_30/THR_3e2m_0_1_A_1--3e2m_0_1_B_1_10.pkl  \n",
            "  inflating: traindata_env_30/THR_3e2m_0_1_A_1--3e2m_0_1_B_1_29.pkl  \n",
            "  inflating: traindata_env_30/THR_3kgc_0_1_B_1--3kgc_0_1_A_1_1.pkl  \n",
            "  inflating: traindata_env_30/THR_4afg_0_1_D_1--4afg_0_1_C_1_19.pkl  \n",
            "  inflating: traindata_env_30/THR_4kzn_0_1_A_1--4kzn_0_1_A_2_24.pkl  \n",
            "  inflating: traindata_env_30/THR_5u4m_0_1_B_1--5u4m_0_1_A_1_32.pkl  \n",
            "  inflating: traindata_env_30/TRP_1dv1_0_1_A_1--1dv1_0_1_B_1_21.pkl  \n",
            "  inflating: traindata_env_30/TRP_1dv1_0_1_A_1--1dv1_0_1_B_1_55.pkl  \n",
            "  inflating: traindata_env_30/TRP_1h8e_0_1_G_1--1h8e_0_1_I_1_23.pkl  \n",
            "  inflating: traindata_env_30/TRP_1meh_0_1_A_1--1meh_0_1_A_3_14.pkl  \n",
            "  inflating: traindata_env_30/TRP_1sjh_0_1_A_2--1sjh_0_1_D_2_20.pkl  \n",
            "  inflating: traindata_env_30/TRP_2bcc_0_1_C_1--2bcc_0_1_F_1_28.pkl  \n",
            "  inflating: traindata_env_30/TRP_2bnu_0_1_A_1--2bnu_0_1_B_1_114.pkl  \n",
            "  inflating: traindata_env_30/TRP_2bnu_0_1_A_1--2bnu_0_1_B_1_54.pkl  \n",
            "  inflating: traindata_env_30/TRP_2r5n_0_1_A_1--2r5n_0_1_B_1_138.pkl  \n",
            "  inflating: traindata_env_30/TRP_2r5n_0_1_A_1--2r5n_0_1_B_1_33.pkl  \n",
            "  inflating: traindata_env_30/TRP_2vic_0_1_B_1--2vic_0_1_A_1_94.pkl  \n",
            "  inflating: traindata_env_30/TRP_2yc1_0_2_D_1--2yc1_0_2_E_1_14.pkl  \n",
            "  inflating: traindata_env_30/TRP_2yc1_0_2_D_1--2yc1_0_2_E_1_7.pkl  \n",
            "  inflating: traindata_env_30/TRP_4afg_0_1_D_1--4afg_0_1_C_1_74.pkl  \n",
            "  inflating: traindata_env_30/TRP_4e92_0_3_B_1--4e92_0_3_A_1_23.pkl  \n",
            "  inflating: traindata_env_30/TRP_4e92_0_3_B_1--4e92_0_3_A_1_6.pkl  \n",
            "  inflating: traindata_env_30/TRP_5ioq_0_1_B_1--5ioq_0_1_A_1_103.pkl  \n",
            "  inflating: traindata_env_30/TRP_5ioq_0_1_B_1--5ioq_0_1_A_1_50.pkl  \n",
            "  inflating: traindata_env_30/TRP_5u4m_0_1_B_1--5u4m_0_1_A_1_12.pkl  \n",
            "  inflating: traindata_env_30/TRP_5vb0_0_4_G_1--5vb0_0_4_H_1_19.pkl  \n",
            "  inflating: traindata_env_30/TRP_5vb0_0_4_G_1--5vb0_0_4_H_1_28.pkl  \n",
            "  inflating: traindata_env_30/TRP_5vb0_0_4_G_1--5vb0_0_4_H_1_85.pkl  \n",
            "  inflating: traindata_env_30/TRP_5vb0_0_4_G_1--5vb0_0_4_H_1_94.pkl  \n",
            "  inflating: traindata_env_30/TRP_5vjk_0_1_B_2--5vjk_0_1_B_1_15.pkl  \n",
            "  inflating: traindata_env_30/TRP_5vjk_0_1_B_2--5vjk_0_1_B_1_40.pkl  \n",
            "  inflating: traindata_env_30/TYR_1csr_0_1_A_2--1csr_0_1_A_1_160.pkl  \n",
            "  inflating: traindata_env_30/TYR_1csr_0_1_A_2--1csr_0_1_A_1_166.pkl  \n",
            "  inflating: traindata_env_30/TYR_1csr_0_1_A_2--1csr_0_1_A_1_56.pkl  \n",
            "  inflating: traindata_env_30/TYR_1dfm_0_1_A_1--1dfm_0_1_B_1_29.pkl  \n",
            "  inflating: traindata_env_30/TYR_1dfm_0_1_A_1--1dfm_0_1_B_1_44.pkl  \n",
            "  inflating: traindata_env_30/TYR_1h6u_0_1_A_1--1h6u_0_1_A_2_11.pkl  \n",
            "  inflating: traindata_env_30/TYR_1meh_0_1_A_1--1meh_0_1_A_3_3.pkl  \n",
            "  inflating: traindata_env_30/TYR_1sjh_0_1_A_2--1sjh_0_1_D_2_28.pkl  \n",
            "  inflating: traindata_env_30/TYR_2bcc_0_1_C_1--2bcc_0_1_F_1_29.pkl  \n",
            "  inflating: traindata_env_30/TYR_2bnu_0_1_A_1--2bnu_0_1_B_1_16.pkl  \n",
            "  inflating: traindata_env_30/TYR_2bnu_0_1_A_1--2bnu_0_1_B_1_65.pkl  \n",
            "  inflating: traindata_env_30/TYR_2pa7_0_1_A_1--2pa7_0_1_B_1_60.pkl  \n",
            "  inflating: traindata_env_30/TYR_2r5n_0_1_A_1--2r5n_0_1_B_1_164.pkl  \n",
            "  inflating: traindata_env_30/TYR_2r5n_0_1_A_1--2r5n_0_1_B_1_50.pkl  \n",
            "  inflating: traindata_env_30/TYR_2vic_0_1_B_1--2vic_0_1_A_1_44.pkl  \n",
            "  inflating: traindata_env_30/TYR_2vic_0_1_B_1--2vic_0_1_A_1_54.pkl  \n",
            "  inflating: traindata_env_30/TYR_2yc1_0_2_D_1--2yc1_0_2_E_1_18.pkl  \n",
            "  inflating: traindata_env_30/TYR_3e2m_0_1_A_1--3e2m_0_1_B_1_16.pkl  \n",
            "  inflating: traindata_env_30/TYR_3e2m_0_1_A_1--3e2m_0_1_B_1_9.pkl  \n",
            "  inflating: traindata_env_30/TYR_4afg_0_1_D_1--4afg_0_1_C_1_38.pkl  \n",
            "  inflating: traindata_env_30/TYR_4afg_0_1_D_1--4afg_0_1_C_1_76.pkl  \n",
            "  inflating: traindata_env_30/TYR_4h7o_0_1_B_1--4h7o_0_1_A_1_53.pkl  \n",
            "  inflating: traindata_env_30/TYR_4p5b_0_1_D_1--4p5b_0_1_B_1_0.pkl  \n",
            "  inflating: traindata_env_30/TYR_4p5b_0_1_D_1--4p5b_0_1_B_1_16.pkl  \n",
            "  inflating: traindata_env_30/TYR_4p5b_0_1_D_1--4p5b_0_1_B_1_28.pkl  \n",
            "  inflating: traindata_env_30/TYR_4rfv_0_1_B_1--4rfv_0_1_A_1_2.pkl  \n",
            "  inflating: traindata_env_30/TYR_5ioq_0_1_B_1--5ioq_0_1_A_1_66.pkl  \n",
            "  inflating: traindata_env_30/TYR_5u4m_0_1_B_1--5u4m_0_1_A_1_1.pkl  \n",
            "  inflating: traindata_env_30/TYR_5vb0_0_4_G_1--5vb0_0_4_H_1_101.pkl  \n",
            "  inflating: traindata_env_30/TYR_5vjk_0_1_B_2--5vjk_0_1_B_1_54.pkl  \n",
            "  inflating: traindata_env_30/VAL_1csr_0_1_A_2--1csr_0_1_A_1_172.pkl  \n",
            "  inflating: traindata_env_30/VAL_1csr_0_1_A_2--1csr_0_1_A_1_176.pkl  \n",
            "  inflating: traindata_env_30/VAL_1csr_0_1_A_2--1csr_0_1_A_1_196.pkl  \n",
            "  inflating: traindata_env_30/VAL_1csr_0_1_A_2--1csr_0_1_A_1_62.pkl  \n",
            "  inflating: traindata_env_30/VAL_1d8h_0_2_C_1--1d8h_0_2_C_2_59.pkl  \n",
            "  inflating: traindata_env_30/VAL_1dfm_0_1_A_1--1dfm_0_1_B_1_45.pkl  \n",
            "  inflating: traindata_env_30/VAL_1h8e_0_1_G_1--1h8e_0_1_I_1_39.pkl  \n",
            "  inflating: traindata_env_30/VAL_1jwb_0_1_D_1--1jwb_0_1_B_1_19.pkl  \n",
            "  inflating: traindata_env_30/VAL_1jwb_0_1_D_1--1jwb_0_1_B_1_30.pkl  \n",
            "  inflating: traindata_env_30/VAL_1meh_0_1_A_1--1meh_0_1_A_3_16.pkl  \n",
            "  inflating: traindata_env_30/VAL_1viv_0_2_A_1--1viv_0_2_A_2_43.pkl  \n",
            "  inflating: traindata_env_30/VAL_1vqi_0_1_A_1--1vqi_0_1_A_2_8.pkl  \n",
            "  inflating: traindata_env_30/VAL_1yyl_0_1_H_1--1yyl_0_1_G_1_6.pkl  \n",
            "  inflating: traindata_env_30/VAL_2bnu_0_1_A_1--2bnu_0_1_B_1_42.pkl  \n",
            "  inflating: traindata_env_30/VAL_2bnu_0_1_A_1--2bnu_0_1_B_1_69.pkl  \n",
            "  inflating: traindata_env_30/VAL_2pa7_0_1_A_1--2pa7_0_1_B_1_70.pkl  \n",
            "  inflating: traindata_env_30/VAL_2r5n_0_1_A_1--2r5n_0_1_B_1_177.pkl  \n",
            "  inflating: traindata_env_30/VAL_2r5n_0_1_A_1--2r5n_0_1_B_1_91.pkl  \n",
            "  inflating: traindata_env_30/VAL_3e2m_0_1_A_1--3e2m_0_1_B_1_17.pkl  \n",
            "  inflating: traindata_env_30/VAL_4dl0_0_1_K_1--4dl0_0_1_J_1_35.pkl  \n",
            "  inflating: traindata_env_30/VAL_4dl0_0_1_K_1--4dl0_0_1_J_1_8.pkl  \n",
            "  inflating: traindata_env_30/VAL_4dl0_0_1_K_1--4dl0_0_1_J_1_90.pkl  \n",
            "  inflating: traindata_env_30/VAL_4e92_0_3_B_1--4e92_0_3_A_1_17.pkl  \n",
            "  inflating: traindata_env_30/VAL_4e92_0_3_B_1--4e92_0_3_A_1_34.pkl  \n",
            "  inflating: traindata_env_30/VAL_4p5b_0_1_D_1--4p5b_0_1_B_1_15.pkl  \n",
            "  inflating: traindata_env_30/VAL_4qda_0_4_F_1--4qda_0_4_E_1_12.pkl  \n",
            "  inflating: traindata_env_30/VAL_4qda_0_4_F_1--4qda_0_4_E_1_15.pkl  \n",
            "  inflating: traindata_env_30/VAL_5ioq_0_1_B_1--5ioq_0_1_A_1_23.pkl  \n",
            "  inflating: traindata_env_30/VAL_5ioq_0_1_B_1--5ioq_0_1_A_1_35.pkl  \n",
            "  inflating: traindata_env_30/VAL_5ioq_0_1_B_1--5ioq_0_1_A_1_88.pkl  \n"
          ]
        }
      ]
    },
    {
      "cell_type": "markdown",
      "metadata": {
        "id": "Frzdkz7cwM5X"
      },
      "source": [
        "Load the samples of the residues with or without their environments."
      ]
    },
    {
      "cell_type": "code",
      "metadata": {
        "colab": {
          "background_save": true
        },
        "id": "wFeURRMf8NDT"
      },
      "source": [
        "samples = glob.glob(os.path.join('traindata_30', '*.pkl'))\n",
        "#samples = glob.glob(os.path.join('traindata_env_30', '*.pkl')) #We will use this line in the end!"
      ],
      "execution_count": null,
      "outputs": []
    },
    {
      "cell_type": "code",
      "metadata": {
        "id": "R3qvT8yijteH"
      },
      "source": [
        "X, y = [],[]\n",
        "X_train, X_test, y_train, y_test = [],[],[],[]\n",
        "for sample in samples:\n",
        "  print('Loading ' + sample)\n",
        "  sample_X, sample_y, sample_resname = load_obj(sample.replace('.pkl',''))\n",
        "  X.append(np.array(sample_X))\n",
        "  y.append(np.array(sample_y))\n",
        "X = np.array(X)\n",
        "y = np.array(y)"
      ],
      "execution_count": null,
      "outputs": []
    },
    {
      "cell_type": "markdown",
      "metadata": {
        "id": "a2uU8SZWuBLM"
      },
      "source": [
        "#### 2.3 Split data into train and test sets"
      ]
    },
    {
      "cell_type": "code",
      "metadata": {
        "id": "nC3-9EZbjska"
      },
      "source": [
        "seed(int(np.round(np.random.random()*10)))\n",
        "X_train, X_test, y_train, y_test = train_test_split(X, y, test_size=0.3, random_state=4)\n",
        "del X, y\n",
        "print(X_test.shape)"
      ],
      "execution_count": null,
      "outputs": []
    },
    {
      "cell_type": "markdown",
      "metadata": {
        "id": "kXzN4Rsw-3d8"
      },
      "source": [
        "#### 2.4 Training Process"
      ]
    },
    {
      "cell_type": "code",
      "metadata": {
        "id": "LioH9IPSaraa"
      },
      "source": [
        "num_epochs = 20\n",
        "batch_size = 10\n",
        "v_dim = 24\n",
        "n_features = 167"
      ],
      "execution_count": null,
      "outputs": []
    },
    {
      "cell_type": "code",
      "metadata": {
        "id": "rf2DQhTqn5bX"
      },
      "source": [
        "input_shape=(v_dim,v_dim,v_dim,n_features)\n",
        "model = Conv_3D_model(input_shape)\n",
        "\n",
        "# --------------------------------------\n",
        "# Training\n",
        "# --------------------------------------\n",
        "history = model.fit(X_train, y_train, # Train the model using the training set...\n",
        "                    batch_size=batch_size, epochs=num_epochs,\n",
        "                    verbose=1, validation_split=0.3) # ...holding out 30% of the data for validation"
      ],
      "execution_count": null,
      "outputs": []
    },
    {
      "cell_type": "code",
      "metadata": {
        "id": "4ncfAO1NoES3"
      },
      "source": [
        "# --------------------------------------\n",
        "# Loss functions evolution\n",
        "# --------------------------------------\n",
        "plt.figure(figsize=(10,10))\n",
        "plt.rcParams.update({'font.size': 22})\n",
        "plt.plot(history.history['loss'])\n",
        "plt.plot(history.history['val_loss'])\n",
        "plt.title('Model loss by epoch')\n",
        "plt.ylabel('loss')\n",
        "plt.xlabel('epoch')\n",
        "plt.legend(['train', 'valid'], loc='right')\n",
        "plt.show()"
      ],
      "execution_count": null,
      "outputs": []
    },
    {
      "cell_type": "markdown",
      "metadata": {
        "id": "VH8dLTppykaq"
      },
      "source": [
        "Question: Is this evaluation of the performance reliable?"
      ]
    },
    {
      "cell_type": "markdown",
      "metadata": {
        "id": "mcdS6_LsY1N6"
      },
      "source": [
        "#### 2.5 Let's take a look at the performance of the model on test samples."
      ]
    },
    {
      "cell_type": "code",
      "metadata": {
        "colab": {
          "base_uri": "https://localhost:8080/",
          "height": 1000
        },
        "id": "1id6eevSYwFz",
        "outputId": "24200122-e301-41e8-84bf-1b52b38ab3a6"
      },
      "source": [
        "list_aa = ['CYS', 'ASP', 'SER', 'GLN', 'LYS', 'ILE', 'PRO', \n",
        "           'THR', 'PHE', 'ASN', 'GLY', 'HIS', 'LEU', 'ARG', \n",
        "           'TRP', 'ALA', 'VAL', 'GLU', 'TYR', 'MET']\n",
        "list_aa.sort()\n",
        "\n",
        "plt.rcParams.update({'font.size': 22})\n",
        "\n",
        "def do_pdf(pred, aa, ll):\n",
        "    fig = plt.figure(figsize=(10,5))\n",
        "    ax = fig.add_subplot(1, 1, 1)\n",
        "    barlist = ax.bar(range(len(list_aa)), pred, color='gray', label='Log-loss: ' + str(ll))\n",
        "    \n",
        "    ax.set_xticks(range(len(list_aa)))\n",
        "    ax.set_xticklabels(list_aa, rotation='-90')\n",
        "    \n",
        "    barlist[pred.index(max(pred))].set_color('r')\n",
        "    barlist[list_aa.index(aa)].set_color('g')\n",
        "\n",
        "    ax.set_title(aa)\n",
        "    ax.set_ylabel('Probability')\n",
        "    ax.set_ylim(0,1)\n",
        "\n",
        "    plt.tight_layout()\n",
        "    plt.legend()\n",
        "    plt.show()\n",
        "\n",
        "for i in range(10):\n",
        "  ind = np.random.choice(range(len(X_test)))\n",
        "  X_t = np.array([X_test[ind]])\n",
        "  y_t = y_test[ind]\n",
        "  aa = list_aa[np.argwhere(y_t==1)[0][0]]\n",
        "  pred = model.predict(X_t, batch_size=X_t.shape[0])[0]\n",
        "  ll = round(log_loss(y_t, pred), 3)\n",
        "  do_pdf(list(pred), aa, ll)"
      ],
      "execution_count": null,
      "outputs": [
        {
          "data": {
            "image/png": "[encoded data removed]",
            "text/plain": [
              "<Figure size 720x360 with 1 Axes>"
            ]
          },
          "metadata": {},
          "output_type": "display_data"
        },
        {
          "data": {
            "image/png": "[encoded data removed]",
            "text/plain": [
              "<Figure size 720x360 with 1 Axes>"
            ]
          },
          "metadata": {},
          "output_type": "display_data"
        },
        {
          "data": {
            "image/png": "[encoded data removed]",
            "text/plain": [
              "<Figure size 720x360 with 1 Axes>"
            ]
          },
          "metadata": {},
          "output_type": "display_data"
        },
        {
          "data": {
            "image/png": "[encoded data removed]",
            "text/plain": [
              "<Figure size 720x360 with 1 Axes>"
            ]
          },
          "metadata": {},
          "output_type": "display_data"
        },
        {
          "data": {
            "image/png": "[encoded data removed]",
            "text/plain": [
              "<Figure size 720x360 with 1 Axes>"
            ]
          },
          "metadata": {},
          "output_type": "display_data"
        },
        {
          "data": {
            "image/png": "[encoded data removed]",
            "text/plain": [
              "<Figure size 720x360 with 1 Axes>"
            ]
          },
          "metadata": {},
          "output_type": "display_data"
        },
        {
          "data": {
            "image/png": "[encoded data removed]",
            "text/plain": [
              "<Figure size 720x360 with 1 Axes>"
            ]
          },
          "metadata": {},
          "output_type": "display_data"
        },
        {
          "data": {
            "image/png": "[encoded data removed]",
            "text/plain": [
              "<Figure size 720x360 with 1 Axes>"
            ]
          },
          "metadata": {},
          "output_type": "display_data"
        },
        {
          "data": {
            "image/png": "[encoded data removed]",
            "text/plain": [
              "<Figure size 720x360 with 1 Axes>"
            ]
          },
          "metadata": {},
          "output_type": "display_data"
        },
        {
          "data": {
            "image/png": "[encoded data removed]",
            "text/plain": [
              "<Figure size 720x360 with 1 Axes>"
            ]
          },
          "metadata": {},
          "output_type": "display_data"
        }
      ]
    },
    {
      "cell_type": "code",
      "metadata": {
        "id": "DQjyqIc5vTw9"
      },
      "source": [
        "#Clean the memory!\n",
        "X, y = [],[]\n",
        "X_train, X_test, y_train, y_test = [],[],[],[]\n",
        "#model = None"
      ],
      "execution_count": null,
      "outputs": []
    },
    {
      "cell_type": "markdown",
      "metadata": {
        "id": "7Bj6HOVYwtR6"
      },
      "source": [
        "#### 2.5 Memorizing versus learning: not too similar not too different!\n",
        "- Interpret the results. How is the performance of the machine?\n",
        "- Now repeat the same process but this time load the residue samples with their environments. "
      ]
    },
    {
      "cell_type": "markdown",
      "metadata": {
        "id": "rVrxnvlcpOjj"
      },
      "source": [
        "#### 2.6 Discussion\n",
        "What are the applications of such a model? "
      ]
    },
    {
      "cell_type": "markdown",
      "metadata": {
        "id": "05FEzw25FejX"
      },
      "source": [
        "### 3. Transfer learning: use the trained model for a new downstream task"
      ]
    },
    {
      "cell_type": "markdown",
      "metadata": {
        "id": "KDQ8RqM5GTY5"
      },
      "source": [
        "Now we want to use the model you have just trained to evaluate the environment of a residue. In this task we have two classes 0 and 1. Class 1 means the residue is comfortable in its environment (the environment is an acceptable local frame for the arrangment of the atoms) and class 0 means otherwise."
      ]
    },
    {
      "cell_type": "code",
      "metadata": {
        "id": "FqDaDP3cNogI"
      },
      "source": [
        "#Clean the memory!\n",
        "X, y = [],[]\n",
        "X_train, X_test, y_train, y_test = [],[],[],[]"
      ],
      "execution_count": null,
      "outputs": []
    },
    {
      "cell_type": "markdown",
      "metadata": {
        "id": "nXjoyNMYHodY"
      },
      "source": [
        "#### 3.1 The input data: locally oriented cubes representing acceptable and incorrect environments"
      ]
    },
    {
      "cell_type": "markdown",
      "metadata": {
        "id": "Zez2BDs9G-0S"
      },
      "source": [
        "Download the dataset: residue samples with their environments and 0 or 1 as target labels."
      ]
    },
    {
      "cell_type": "code",
      "metadata": {
        "colab": {
          "base_uri": "https://localhost:8080/"
        },
        "id": "wUuTIfiKNFFv",
        "outputId": "2ebce8ca-3f21-4350-cae0-bffcc467540c"
      },
      "source": [
        "!gdown --id '1p4v821pVgICBnWudFIuScFjPFiCzrF4F'"
      ],
      "execution_count": null,
      "outputs": [
        {
          "name": "stdout",
          "output_type": "stream",
          "text": [
            "Downloading...\n",
            "From: https://drive.google.com/uc?id=1p4v821pVgICBnWudFIuScFjPFiCzrF4F\n",
            "To: /content/traindata_env_class01.zip\n",
            "100% 50.7M/50.7M [00:00<00:00, 89.1MB/s]\n"
          ]
        }
      ]
    },
    {
      "cell_type": "markdown",
      "metadata": {
        "id": "efoSEfghHLBx"
      },
      "source": [
        "Decompress the dataset."
      ]
    },
    {
      "cell_type": "code",
      "metadata": {
        "colab": {
          "base_uri": "https://localhost:8080/"
        },
        "id": "ztcHQJ6INQ5B",
        "outputId": "9eced21f-31a7-4a48-f55c-36e7aeacddc6"
      },
      "source": [
        "!unzip '/content/traindata_env_class01.zip'"
      ],
      "execution_count": null,
      "outputs": [
        {
          "name": "stdout",
          "output_type": "stream",
          "text": [
            "Archive:  /content/traindata_env_class01.zip\n",
            "   creating: traindata_env_class01/\n",
            "   creating: traindata_env_class01/0/\n",
            "  inflating: traindata_env_class01/0/ALA_0.pkl  \n",
            "  inflating: traindata_env_class01/0/ALA_1.pkl  \n",
            "  inflating: traindata_env_class01/0/ALA_10.pkl  \n",
            "  inflating: traindata_env_class01/0/ALA_11.pkl  \n",
            "  inflating: traindata_env_class01/0/ALA_12.pkl  \n",
            "  inflating: traindata_env_class01/0/ALA_13.pkl  \n",
            "  inflating: traindata_env_class01/0/ALA_14.pkl  \n",
            "  inflating: traindata_env_class01/0/ALA_15.pkl  \n",
            "  inflating: traindata_env_class01/0/ALA_16.pkl  \n",
            "  inflating: traindata_env_class01/0/ALA_17.pkl  \n",
            "  inflating: traindata_env_class01/0/ALA_18.pkl  \n",
            "  inflating: traindata_env_class01/0/ALA_19.pkl  \n",
            "  inflating: traindata_env_class01/0/ALA_2.pkl  \n",
            "  inflating: traindata_env_class01/0/ALA_3.pkl  \n",
            "  inflating: traindata_env_class01/0/ALA_4.pkl  \n",
            "  inflating: traindata_env_class01/0/ALA_5.pkl  \n",
            "  inflating: traindata_env_class01/0/ALA_6.pkl  \n",
            "  inflating: traindata_env_class01/0/ALA_7.pkl  \n",
            "  inflating: traindata_env_class01/0/ALA_8.pkl  \n",
            "  inflating: traindata_env_class01/0/ALA_9.pkl  \n",
            "  inflating: traindata_env_class01/0/ARG_0.pkl  \n",
            "  inflating: traindata_env_class01/0/ARG_1.pkl  \n",
            "  inflating: traindata_env_class01/0/ARG_10.pkl  \n",
            "  inflating: traindata_env_class01/0/ARG_11.pkl  \n",
            "  inflating: traindata_env_class01/0/ARG_12.pkl  \n",
            "  inflating: traindata_env_class01/0/ARG_13.pkl  \n",
            "  inflating: traindata_env_class01/0/ARG_14.pkl  \n",
            "  inflating: traindata_env_class01/0/ARG_15.pkl  \n",
            "  inflating: traindata_env_class01/0/ARG_16.pkl  \n",
            "  inflating: traindata_env_class01/0/ARG_17.pkl  \n",
            "  inflating: traindata_env_class01/0/ARG_18.pkl  \n",
            "  inflating: traindata_env_class01/0/ARG_19.pkl  \n",
            "  inflating: traindata_env_class01/0/ARG_2.pkl  \n",
            "  inflating: traindata_env_class01/0/ARG_3.pkl  \n",
            "  inflating: traindata_env_class01/0/ARG_4.pkl  \n",
            "  inflating: traindata_env_class01/0/ARG_5.pkl  \n",
            "  inflating: traindata_env_class01/0/ARG_6.pkl  \n",
            "  inflating: traindata_env_class01/0/ARG_7.pkl  \n",
            "  inflating: traindata_env_class01/0/ARG_8.pkl  \n",
            "  inflating: traindata_env_class01/0/ARG_9.pkl  \n",
            "  inflating: traindata_env_class01/0/ASN_0.pkl  \n",
            "  inflating: traindata_env_class01/0/ASN_1.pkl  \n",
            "  inflating: traindata_env_class01/0/ASN_10.pkl  \n",
            "  inflating: traindata_env_class01/0/ASN_11.pkl  \n",
            "  inflating: traindata_env_class01/0/ASN_12.pkl  \n",
            "  inflating: traindata_env_class01/0/ASN_13.pkl  \n",
            "  inflating: traindata_env_class01/0/ASN_14.pkl  \n",
            "  inflating: traindata_env_class01/0/ASN_15.pkl  \n",
            "  inflating: traindata_env_class01/0/ASN_16.pkl  \n",
            "  inflating: traindata_env_class01/0/ASN_17.pkl  \n",
            "  inflating: traindata_env_class01/0/ASN_18.pkl  \n",
            "  inflating: traindata_env_class01/0/ASN_19.pkl  \n",
            "  inflating: traindata_env_class01/0/ASN_2.pkl  \n",
            "  inflating: traindata_env_class01/0/ASN_3.pkl  \n",
            "  inflating: traindata_env_class01/0/ASN_4.pkl  \n",
            "  inflating: traindata_env_class01/0/ASN_5.pkl  \n",
            "  inflating: traindata_env_class01/0/ASN_6.pkl  \n",
            "  inflating: traindata_env_class01/0/ASN_7.pkl  \n",
            "  inflating: traindata_env_class01/0/ASN_8.pkl  \n",
            "  inflating: traindata_env_class01/0/ASN_9.pkl  \n",
            "  inflating: traindata_env_class01/0/ASP_0.pkl  \n",
            "  inflating: traindata_env_class01/0/ASP_1.pkl  \n",
            "  inflating: traindata_env_class01/0/ASP_10.pkl  \n",
            "  inflating: traindata_env_class01/0/ASP_11.pkl  \n",
            "  inflating: traindata_env_class01/0/ASP_12.pkl  \n",
            "  inflating: traindata_env_class01/0/ASP_13.pkl  \n",
            "  inflating: traindata_env_class01/0/ASP_14.pkl  \n",
            "  inflating: traindata_env_class01/0/ASP_15.pkl  \n",
            "  inflating: traindata_env_class01/0/ASP_16.pkl  \n",
            "  inflating: traindata_env_class01/0/ASP_17.pkl  \n",
            "  inflating: traindata_env_class01/0/ASP_18.pkl  \n",
            "  inflating: traindata_env_class01/0/ASP_19.pkl  \n",
            "  inflating: traindata_env_class01/0/ASP_2.pkl  \n",
            "  inflating: traindata_env_class01/0/ASP_3.pkl  \n",
            "  inflating: traindata_env_class01/0/ASP_4.pkl  \n",
            "  inflating: traindata_env_class01/0/ASP_5.pkl  \n",
            "  inflating: traindata_env_class01/0/ASP_6.pkl  \n",
            "  inflating: traindata_env_class01/0/ASP_7.pkl  \n",
            "  inflating: traindata_env_class01/0/ASP_8.pkl  \n",
            "  inflating: traindata_env_class01/0/ASP_9.pkl  \n",
            "  inflating: traindata_env_class01/0/CYS_0.pkl  \n",
            "  inflating: traindata_env_class01/0/CYS_1.pkl  \n",
            "  inflating: traindata_env_class01/0/CYS_10.pkl  \n",
            "  inflating: traindata_env_class01/0/CYS_11.pkl  \n",
            "  inflating: traindata_env_class01/0/CYS_12.pkl  \n",
            "  inflating: traindata_env_class01/0/CYS_13.pkl  \n",
            "  inflating: traindata_env_class01/0/CYS_14.pkl  \n",
            "  inflating: traindata_env_class01/0/CYS_15.pkl  \n",
            "  inflating: traindata_env_class01/0/CYS_16.pkl  \n",
            "  inflating: traindata_env_class01/0/CYS_17.pkl  \n",
            "  inflating: traindata_env_class01/0/CYS_18.pkl  \n",
            "  inflating: traindata_env_class01/0/CYS_19.pkl  \n",
            "  inflating: traindata_env_class01/0/CYS_2.pkl  \n",
            "  inflating: traindata_env_class01/0/CYS_3.pkl  \n",
            "  inflating: traindata_env_class01/0/CYS_4.pkl  \n",
            "  inflating: traindata_env_class01/0/CYS_5.pkl  \n",
            "  inflating: traindata_env_class01/0/CYS_6.pkl  \n",
            "  inflating: traindata_env_class01/0/CYS_7.pkl  \n",
            "  inflating: traindata_env_class01/0/CYS_8.pkl  \n",
            "  inflating: traindata_env_class01/0/CYS_9.pkl  \n",
            "  inflating: traindata_env_class01/0/GLN_0.pkl  \n",
            "  inflating: traindata_env_class01/0/GLN_1.pkl  \n",
            "  inflating: traindata_env_class01/0/GLN_10.pkl  \n",
            "  inflating: traindata_env_class01/0/GLN_11.pkl  \n",
            "  inflating: traindata_env_class01/0/GLN_12.pkl  \n",
            "  inflating: traindata_env_class01/0/GLN_13.pkl  \n",
            "  inflating: traindata_env_class01/0/GLN_14.pkl  \n",
            "  inflating: traindata_env_class01/0/GLN_15.pkl  \n",
            "  inflating: traindata_env_class01/0/GLN_16.pkl  \n",
            "  inflating: traindata_env_class01/0/GLN_17.pkl  \n",
            "  inflating: traindata_env_class01/0/GLN_18.pkl  \n",
            "  inflating: traindata_env_class01/0/GLN_19.pkl  \n",
            "  inflating: traindata_env_class01/0/GLN_2.pkl  \n",
            "  inflating: traindata_env_class01/0/GLN_3.pkl  \n",
            "  inflating: traindata_env_class01/0/GLN_4.pkl  \n",
            "  inflating: traindata_env_class01/0/GLN_5.pkl  \n",
            "  inflating: traindata_env_class01/0/GLN_6.pkl  \n",
            "  inflating: traindata_env_class01/0/GLN_7.pkl  \n",
            "  inflating: traindata_env_class01/0/GLN_8.pkl  \n",
            "  inflating: traindata_env_class01/0/GLN_9.pkl  \n",
            "  inflating: traindata_env_class01/0/GLU_0.pkl  \n",
            "  inflating: traindata_env_class01/0/GLU_1.pkl  \n",
            "  inflating: traindata_env_class01/0/GLU_10.pkl  \n",
            "  inflating: traindata_env_class01/0/GLU_11.pkl  \n",
            "  inflating: traindata_env_class01/0/GLU_12.pkl  \n",
            "  inflating: traindata_env_class01/0/GLU_13.pkl  \n",
            "  inflating: traindata_env_class01/0/GLU_14.pkl  \n",
            "  inflating: traindata_env_class01/0/GLU_15.pkl  \n",
            "  inflating: traindata_env_class01/0/GLU_16.pkl  \n",
            "  inflating: traindata_env_class01/0/GLU_17.pkl  \n",
            "  inflating: traindata_env_class01/0/GLU_18.pkl  \n",
            "  inflating: traindata_env_class01/0/GLU_19.pkl  \n",
            "  inflating: traindata_env_class01/0/GLU_2.pkl  \n",
            "  inflating: traindata_env_class01/0/GLU_3.pkl  \n",
            "  inflating: traindata_env_class01/0/GLU_4.pkl  \n",
            "  inflating: traindata_env_class01/0/GLU_5.pkl  \n",
            "  inflating: traindata_env_class01/0/GLU_6.pkl  \n",
            "  inflating: traindata_env_class01/0/GLU_7.pkl  \n",
            "  inflating: traindata_env_class01/0/GLU_8.pkl  \n",
            "  inflating: traindata_env_class01/0/GLU_9.pkl  \n",
            "  inflating: traindata_env_class01/0/GLY_0.pkl  \n",
            "  inflating: traindata_env_class01/0/GLY_1.pkl  \n",
            "  inflating: traindata_env_class01/0/GLY_10.pkl  \n",
            "  inflating: traindata_env_class01/0/GLY_11.pkl  \n",
            "  inflating: traindata_env_class01/0/GLY_12.pkl  \n",
            "  inflating: traindata_env_class01/0/GLY_13.pkl  \n",
            "  inflating: traindata_env_class01/0/GLY_14.pkl  \n",
            "  inflating: traindata_env_class01/0/GLY_15.pkl  \n",
            "  inflating: traindata_env_class01/0/GLY_16.pkl  \n",
            "  inflating: traindata_env_class01/0/GLY_17.pkl  \n",
            "  inflating: traindata_env_class01/0/GLY_18.pkl  \n",
            "  inflating: traindata_env_class01/0/GLY_19.pkl  \n",
            "  inflating: traindata_env_class01/0/GLY_2.pkl  \n",
            "  inflating: traindata_env_class01/0/GLY_3.pkl  \n",
            "  inflating: traindata_env_class01/0/GLY_4.pkl  \n",
            "  inflating: traindata_env_class01/0/GLY_5.pkl  \n",
            "  inflating: traindata_env_class01/0/GLY_6.pkl  \n",
            "  inflating: traindata_env_class01/0/GLY_7.pkl  \n",
            "  inflating: traindata_env_class01/0/GLY_8.pkl  \n",
            "  inflating: traindata_env_class01/0/GLY_9.pkl  \n",
            "  inflating: traindata_env_class01/0/HIS_0.pkl  \n",
            "  inflating: traindata_env_class01/0/HIS_1.pkl  \n",
            "  inflating: traindata_env_class01/0/HIS_10.pkl  \n",
            "  inflating: traindata_env_class01/0/HIS_11.pkl  \n",
            "  inflating: traindata_env_class01/0/HIS_12.pkl  \n",
            "  inflating: traindata_env_class01/0/HIS_13.pkl  \n",
            "  inflating: traindata_env_class01/0/HIS_14.pkl  \n",
            "  inflating: traindata_env_class01/0/HIS_15.pkl  \n",
            "  inflating: traindata_env_class01/0/HIS_16.pkl  \n",
            "  inflating: traindata_env_class01/0/HIS_17.pkl  \n",
            "  inflating: traindata_env_class01/0/HIS_18.pkl  \n",
            "  inflating: traindata_env_class01/0/HIS_19.pkl  \n",
            "  inflating: traindata_env_class01/0/HIS_2.pkl  \n",
            "  inflating: traindata_env_class01/0/HIS_3.pkl  \n",
            "  inflating: traindata_env_class01/0/HIS_4.pkl  \n",
            "  inflating: traindata_env_class01/0/HIS_5.pkl  \n",
            "  inflating: traindata_env_class01/0/HIS_6.pkl  \n",
            "  inflating: traindata_env_class01/0/HIS_7.pkl  \n",
            "  inflating: traindata_env_class01/0/HIS_8.pkl  \n",
            "  inflating: traindata_env_class01/0/HIS_9.pkl  \n",
            "  inflating: traindata_env_class01/0/ILE_0.pkl  \n",
            "  inflating: traindata_env_class01/0/ILE_1.pkl  \n",
            "  inflating: traindata_env_class01/0/ILE_10.pkl  \n",
            "  inflating: traindata_env_class01/0/ILE_11.pkl  \n",
            "  inflating: traindata_env_class01/0/ILE_12.pkl  \n",
            "  inflating: traindata_env_class01/0/ILE_13.pkl  \n",
            "  inflating: traindata_env_class01/0/ILE_14.pkl  \n",
            "  inflating: traindata_env_class01/0/ILE_15.pkl  \n",
            "  inflating: traindata_env_class01/0/ILE_16.pkl  \n",
            "  inflating: traindata_env_class01/0/ILE_17.pkl  \n",
            "  inflating: traindata_env_class01/0/ILE_18.pkl  \n",
            "  inflating: traindata_env_class01/0/ILE_19.pkl  \n",
            "  inflating: traindata_env_class01/0/ILE_2.pkl  \n",
            "  inflating: traindata_env_class01/0/ILE_3.pkl  \n",
            "  inflating: traindata_env_class01/0/ILE_4.pkl  \n",
            "  inflating: traindata_env_class01/0/ILE_5.pkl  \n",
            "  inflating: traindata_env_class01/0/ILE_6.pkl  \n",
            "  inflating: traindata_env_class01/0/ILE_7.pkl  \n",
            "  inflating: traindata_env_class01/0/ILE_8.pkl  \n",
            "  inflating: traindata_env_class01/0/ILE_9.pkl  \n",
            "  inflating: traindata_env_class01/0/LEU_0.pkl  \n",
            "  inflating: traindata_env_class01/0/LEU_1.pkl  \n",
            "  inflating: traindata_env_class01/0/LEU_10.pkl  \n",
            "  inflating: traindata_env_class01/0/LEU_11.pkl  \n",
            "  inflating: traindata_env_class01/0/LEU_12.pkl  \n",
            "  inflating: traindata_env_class01/0/LEU_13.pkl  \n",
            "  inflating: traindata_env_class01/0/LEU_14.pkl  \n",
            "  inflating: traindata_env_class01/0/LEU_15.pkl  \n",
            "  inflating: traindata_env_class01/0/LEU_16.pkl  \n",
            "  inflating: traindata_env_class01/0/LEU_17.pkl  \n",
            "  inflating: traindata_env_class01/0/LEU_18.pkl  \n",
            "  inflating: traindata_env_class01/0/LEU_19.pkl  \n",
            "  inflating: traindata_env_class01/0/LEU_2.pkl  \n",
            "  inflating: traindata_env_class01/0/LEU_3.pkl  \n",
            "  inflating: traindata_env_class01/0/LEU_4.pkl  \n",
            "  inflating: traindata_env_class01/0/LEU_5.pkl  \n",
            "  inflating: traindata_env_class01/0/LEU_6.pkl  \n",
            "  inflating: traindata_env_class01/0/LEU_7.pkl  \n",
            "  inflating: traindata_env_class01/0/LEU_8.pkl  \n",
            "  inflating: traindata_env_class01/0/LEU_9.pkl  \n",
            "  inflating: traindata_env_class01/0/LYS_0.pkl  \n",
            "  inflating: traindata_env_class01/0/LYS_1.pkl  \n",
            "  inflating: traindata_env_class01/0/LYS_10.pkl  \n",
            "  inflating: traindata_env_class01/0/LYS_11.pkl  \n",
            "  inflating: traindata_env_class01/0/LYS_12.pkl  \n",
            "  inflating: traindata_env_class01/0/LYS_13.pkl  \n",
            "  inflating: traindata_env_class01/0/LYS_14.pkl  \n",
            "  inflating: traindata_env_class01/0/LYS_15.pkl  \n",
            "  inflating: traindata_env_class01/0/LYS_16.pkl  \n",
            "  inflating: traindata_env_class01/0/LYS_17.pkl  \n",
            "  inflating: traindata_env_class01/0/LYS_18.pkl  \n",
            "  inflating: traindata_env_class01/0/LYS_19.pkl  \n",
            "  inflating: traindata_env_class01/0/LYS_2.pkl  \n",
            "  inflating: traindata_env_class01/0/LYS_3.pkl  \n",
            "  inflating: traindata_env_class01/0/LYS_4.pkl  \n",
            "  inflating: traindata_env_class01/0/LYS_5.pkl  \n",
            "  inflating: traindata_env_class01/0/LYS_6.pkl  \n",
            "  inflating: traindata_env_class01/0/LYS_7.pkl  \n",
            "  inflating: traindata_env_class01/0/LYS_8.pkl  \n",
            "  inflating: traindata_env_class01/0/LYS_9.pkl  \n",
            "  inflating: traindata_env_class01/0/MET_0.pkl  \n",
            "  inflating: traindata_env_class01/0/MET_1.pkl  \n",
            "  inflating: traindata_env_class01/0/MET_10.pkl  \n",
            "  inflating: traindata_env_class01/0/MET_11.pkl  \n",
            "  inflating: traindata_env_class01/0/MET_12.pkl  \n",
            "  inflating: traindata_env_class01/0/MET_13.pkl  \n",
            "  inflating: traindata_env_class01/0/MET_14.pkl  \n",
            "  inflating: traindata_env_class01/0/MET_15.pkl  \n",
            "  inflating: traindata_env_class01/0/MET_16.pkl  \n",
            "  inflating: traindata_env_class01/0/MET_17.pkl  \n",
            "  inflating: traindata_env_class01/0/MET_18.pkl  \n",
            "  inflating: traindata_env_class01/0/MET_19.pkl  \n",
            "  inflating: traindata_env_class01/0/MET_2.pkl  \n",
            "  inflating: traindata_env_class01/0/MET_3.pkl  \n",
            "  inflating: traindata_env_class01/0/MET_4.pkl  \n",
            "  inflating: traindata_env_class01/0/MET_5.pkl  \n",
            "  inflating: traindata_env_class01/0/MET_6.pkl  \n",
            "  inflating: traindata_env_class01/0/MET_7.pkl  \n",
            "  inflating: traindata_env_class01/0/MET_8.pkl  \n",
            "  inflating: traindata_env_class01/0/MET_9.pkl  \n",
            "  inflating: traindata_env_class01/0/PHE_0.pkl  \n",
            "  inflating: traindata_env_class01/0/PHE_1.pkl  \n",
            "  inflating: traindata_env_class01/0/PHE_10.pkl  \n",
            "  inflating: traindata_env_class01/0/PHE_11.pkl  \n",
            "  inflating: traindata_env_class01/0/PHE_12.pkl  \n",
            "  inflating: traindata_env_class01/0/PHE_13.pkl  \n",
            "  inflating: traindata_env_class01/0/PHE_14.pkl  \n",
            "  inflating: traindata_env_class01/0/PHE_15.pkl  \n",
            "  inflating: traindata_env_class01/0/PHE_16.pkl  \n",
            "  inflating: traindata_env_class01/0/PHE_17.pkl  \n",
            "  inflating: traindata_env_class01/0/PHE_18.pkl  \n",
            "  inflating: traindata_env_class01/0/PHE_19.pkl  \n",
            "  inflating: traindata_env_class01/0/PHE_2.pkl  \n",
            "  inflating: traindata_env_class01/0/PHE_3.pkl  \n",
            "  inflating: traindata_env_class01/0/PHE_4.pkl  \n",
            "  inflating: traindata_env_class01/0/PHE_5.pkl  \n",
            "  inflating: traindata_env_class01/0/PHE_6.pkl  \n",
            "  inflating: traindata_env_class01/0/PHE_7.pkl  \n",
            "  inflating: traindata_env_class01/0/PHE_8.pkl  \n",
            "  inflating: traindata_env_class01/0/PHE_9.pkl  \n",
            "  inflating: traindata_env_class01/0/PRO_0.pkl  \n",
            "  inflating: traindata_env_class01/0/PRO_1.pkl  \n",
            "  inflating: traindata_env_class01/0/PRO_10.pkl  \n",
            "  inflating: traindata_env_class01/0/PRO_11.pkl  \n",
            "  inflating: traindata_env_class01/0/PRO_12.pkl  \n",
            "  inflating: traindata_env_class01/0/PRO_13.pkl  \n",
            "  inflating: traindata_env_class01/0/PRO_14.pkl  \n",
            "  inflating: traindata_env_class01/0/PRO_15.pkl  \n",
            "  inflating: traindata_env_class01/0/PRO_16.pkl  \n",
            "  inflating: traindata_env_class01/0/PRO_17.pkl  \n",
            "  inflating: traindata_env_class01/0/PRO_18.pkl  \n",
            "  inflating: traindata_env_class01/0/PRO_19.pkl  \n",
            "  inflating: traindata_env_class01/0/PRO_2.pkl  \n",
            "  inflating: traindata_env_class01/0/PRO_3.pkl  \n",
            "  inflating: traindata_env_class01/0/PRO_4.pkl  \n",
            "  inflating: traindata_env_class01/0/PRO_5.pkl  \n",
            "  inflating: traindata_env_class01/0/PRO_6.pkl  \n",
            "  inflating: traindata_env_class01/0/PRO_7.pkl  \n",
            "  inflating: traindata_env_class01/0/PRO_8.pkl  \n",
            "  inflating: traindata_env_class01/0/PRO_9.pkl  \n",
            "  inflating: traindata_env_class01/0/SER_0.pkl  \n",
            "  inflating: traindata_env_class01/0/SER_1.pkl  \n",
            "  inflating: traindata_env_class01/0/SER_10.pkl  \n",
            "  inflating: traindata_env_class01/0/SER_11.pkl  \n",
            "  inflating: traindata_env_class01/0/SER_12.pkl  \n",
            "  inflating: traindata_env_class01/0/SER_13.pkl  \n",
            "  inflating: traindata_env_class01/0/SER_14.pkl  \n",
            "  inflating: traindata_env_class01/0/SER_15.pkl  \n",
            "  inflating: traindata_env_class01/0/SER_16.pkl  \n",
            "  inflating: traindata_env_class01/0/SER_17.pkl  \n",
            "  inflating: traindata_env_class01/0/SER_18.pkl  \n",
            "  inflating: traindata_env_class01/0/SER_19.pkl  \n",
            "  inflating: traindata_env_class01/0/SER_2.pkl  \n",
            "  inflating: traindata_env_class01/0/SER_3.pkl  \n",
            "  inflating: traindata_env_class01/0/SER_4.pkl  \n",
            "  inflating: traindata_env_class01/0/SER_5.pkl  \n",
            "  inflating: traindata_env_class01/0/SER_6.pkl  \n",
            "  inflating: traindata_env_class01/0/SER_7.pkl  \n",
            "  inflating: traindata_env_class01/0/SER_8.pkl  \n",
            "  inflating: traindata_env_class01/0/SER_9.pkl  \n",
            "  inflating: traindata_env_class01/0/THR_0.pkl  \n",
            "  inflating: traindata_env_class01/0/THR_1.pkl  \n",
            "  inflating: traindata_env_class01/0/THR_10.pkl  \n",
            "  inflating: traindata_env_class01/0/THR_11.pkl  \n",
            "  inflating: traindata_env_class01/0/THR_12.pkl  \n",
            "  inflating: traindata_env_class01/0/THR_13.pkl  \n",
            "  inflating: traindata_env_class01/0/THR_14.pkl  \n",
            "  inflating: traindata_env_class01/0/THR_15.pkl  \n",
            "  inflating: traindata_env_class01/0/THR_16.pkl  \n",
            "  inflating: traindata_env_class01/0/THR_17.pkl  \n",
            "  inflating: traindata_env_class01/0/THR_18.pkl  \n",
            "  inflating: traindata_env_class01/0/THR_19.pkl  \n",
            "  inflating: traindata_env_class01/0/THR_2.pkl  \n",
            "  inflating: traindata_env_class01/0/THR_3.pkl  \n",
            "  inflating: traindata_env_class01/0/THR_4.pkl  \n",
            "  inflating: traindata_env_class01/0/THR_5.pkl  \n",
            "  inflating: traindata_env_class01/0/THR_6.pkl  \n",
            "  inflating: traindata_env_class01/0/THR_7.pkl  \n",
            "  inflating: traindata_env_class01/0/THR_8.pkl  \n",
            "  inflating: traindata_env_class01/0/THR_9.pkl  \n",
            "  inflating: traindata_env_class01/0/TRP_0.pkl  \n",
            "  inflating: traindata_env_class01/0/TRP_1.pkl  \n",
            "  inflating: traindata_env_class01/0/TRP_10.pkl  \n",
            "  inflating: traindata_env_class01/0/TRP_11.pkl  \n",
            "  inflating: traindata_env_class01/0/TRP_12.pkl  \n",
            "  inflating: traindata_env_class01/0/TRP_13.pkl  \n",
            "  inflating: traindata_env_class01/0/TRP_14.pkl  \n",
            "  inflating: traindata_env_class01/0/TRP_15.pkl  \n",
            "  inflating: traindata_env_class01/0/TRP_16.pkl  \n",
            "  inflating: traindata_env_class01/0/TRP_17.pkl  \n",
            "  inflating: traindata_env_class01/0/TRP_18.pkl  \n",
            "  inflating: traindata_env_class01/0/TRP_19.pkl  \n",
            "  inflating: traindata_env_class01/0/TRP_2.pkl  \n",
            "  inflating: traindata_env_class01/0/TRP_3.pkl  \n",
            "  inflating: traindata_env_class01/0/TRP_4.pkl  \n",
            "  inflating: traindata_env_class01/0/TRP_5.pkl  \n",
            "  inflating: traindata_env_class01/0/TRP_6.pkl  \n",
            "  inflating: traindata_env_class01/0/TRP_7.pkl  \n",
            "  inflating: traindata_env_class01/0/TRP_8.pkl  \n",
            "  inflating: traindata_env_class01/0/TRP_9.pkl  \n",
            "  inflating: traindata_env_class01/0/TYR_0.pkl  \n",
            "  inflating: traindata_env_class01/0/TYR_1.pkl  \n",
            "  inflating: traindata_env_class01/0/TYR_10.pkl  \n",
            "  inflating: traindata_env_class01/0/TYR_11.pkl  \n",
            "  inflating: traindata_env_class01/0/TYR_12.pkl  \n",
            "  inflating: traindata_env_class01/0/TYR_13.pkl  \n",
            "  inflating: traindata_env_class01/0/TYR_14.pkl  \n",
            "  inflating: traindata_env_class01/0/TYR_15.pkl  \n",
            "  inflating: traindata_env_class01/0/TYR_16.pkl  \n",
            "  inflating: traindata_env_class01/0/TYR_17.pkl  \n",
            "  inflating: traindata_env_class01/0/TYR_18.pkl  \n",
            "  inflating: traindata_env_class01/0/TYR_19.pkl  \n",
            "  inflating: traindata_env_class01/0/TYR_2.pkl  \n",
            "  inflating: traindata_env_class01/0/TYR_3.pkl  \n",
            "  inflating: traindata_env_class01/0/TYR_4.pkl  \n",
            "  inflating: traindata_env_class01/0/TYR_5.pkl  \n",
            "  inflating: traindata_env_class01/0/TYR_6.pkl  \n",
            "  inflating: traindata_env_class01/0/TYR_7.pkl  \n",
            "  inflating: traindata_env_class01/0/TYR_8.pkl  \n",
            "  inflating: traindata_env_class01/0/TYR_9.pkl  \n",
            "  inflating: traindata_env_class01/0/VAL_0.pkl  \n",
            "  inflating: traindata_env_class01/0/VAL_1.pkl  \n",
            "  inflating: traindata_env_class01/0/VAL_10.pkl  \n",
            "  inflating: traindata_env_class01/0/VAL_11.pkl  \n",
            "  inflating: traindata_env_class01/0/VAL_12.pkl  \n",
            "  inflating: traindata_env_class01/0/VAL_13.pkl  \n",
            "  inflating: traindata_env_class01/0/VAL_14.pkl  \n",
            "  inflating: traindata_env_class01/0/VAL_15.pkl  \n",
            "  inflating: traindata_env_class01/0/VAL_16.pkl  \n",
            "  inflating: traindata_env_class01/0/VAL_17.pkl  \n",
            "  inflating: traindata_env_class01/0/VAL_18.pkl  \n",
            "  inflating: traindata_env_class01/0/VAL_19.pkl  \n",
            "  inflating: traindata_env_class01/0/VAL_2.pkl  \n",
            "  inflating: traindata_env_class01/0/VAL_3.pkl  \n",
            "  inflating: traindata_env_class01/0/VAL_4.pkl  \n",
            "  inflating: traindata_env_class01/0/VAL_5.pkl  \n",
            "  inflating: traindata_env_class01/0/VAL_6.pkl  \n",
            "  inflating: traindata_env_class01/0/VAL_7.pkl  \n",
            "  inflating: traindata_env_class01/0/VAL_8.pkl  \n",
            "  inflating: traindata_env_class01/0/VAL_9.pkl  \n",
            "   creating: traindata_env_class01/1/\n",
            "  inflating: traindata_env_class01/1/ALA_0.pkl  \n",
            "  inflating: traindata_env_class01/1/ALA_1.pkl  \n",
            "  inflating: traindata_env_class01/1/ALA_10.pkl  \n",
            "  inflating: traindata_env_class01/1/ALA_11.pkl  \n",
            "  inflating: traindata_env_class01/1/ALA_12.pkl  \n",
            "  inflating: traindata_env_class01/1/ALA_13.pkl  \n",
            "  inflating: traindata_env_class01/1/ALA_14.pkl  \n",
            "  inflating: traindata_env_class01/1/ALA_15.pkl  \n",
            "  inflating: traindata_env_class01/1/ALA_16.pkl  \n",
            "  inflating: traindata_env_class01/1/ALA_17.pkl  \n",
            "  inflating: traindata_env_class01/1/ALA_18.pkl  \n",
            "  inflating: traindata_env_class01/1/ALA_19.pkl  \n",
            "  inflating: traindata_env_class01/1/ALA_2.pkl  \n",
            "  inflating: traindata_env_class01/1/ALA_3.pkl  \n",
            "  inflating: traindata_env_class01/1/ALA_4.pkl  \n",
            "  inflating: traindata_env_class01/1/ALA_5.pkl  \n",
            "  inflating: traindata_env_class01/1/ALA_6.pkl  \n",
            "  inflating: traindata_env_class01/1/ALA_7.pkl  \n",
            "  inflating: traindata_env_class01/1/ALA_8.pkl  \n",
            "  inflating: traindata_env_class01/1/ALA_9.pkl  \n",
            "  inflating: traindata_env_class01/1/ARG_0.pkl  \n",
            "  inflating: traindata_env_class01/1/ARG_1.pkl  \n",
            "  inflating: traindata_env_class01/1/ARG_10.pkl  \n",
            "  inflating: traindata_env_class01/1/ARG_11.pkl  \n",
            "  inflating: traindata_env_class01/1/ARG_12.pkl  \n",
            "  inflating: traindata_env_class01/1/ARG_13.pkl  \n",
            "  inflating: traindata_env_class01/1/ARG_14.pkl  \n",
            "  inflating: traindata_env_class01/1/ARG_15.pkl  \n",
            "  inflating: traindata_env_class01/1/ARG_16.pkl  \n",
            "  inflating: traindata_env_class01/1/ARG_17.pkl  \n",
            "  inflating: traindata_env_class01/1/ARG_18.pkl  \n",
            "  inflating: traindata_env_class01/1/ARG_19.pkl  \n",
            "  inflating: traindata_env_class01/1/ARG_2.pkl  \n",
            "  inflating: traindata_env_class01/1/ARG_3.pkl  \n",
            "  inflating: traindata_env_class01/1/ARG_4.pkl  \n",
            "  inflating: traindata_env_class01/1/ARG_5.pkl  \n",
            "  inflating: traindata_env_class01/1/ARG_6.pkl  \n",
            "  inflating: traindata_env_class01/1/ARG_7.pkl  \n",
            "  inflating: traindata_env_class01/1/ARG_8.pkl  \n",
            "  inflating: traindata_env_class01/1/ARG_9.pkl  \n",
            "  inflating: traindata_env_class01/1/ASN_0.pkl  \n",
            "  inflating: traindata_env_class01/1/ASN_1.pkl  \n",
            "  inflating: traindata_env_class01/1/ASN_10.pkl  \n",
            "  inflating: traindata_env_class01/1/ASN_11.pkl  \n",
            "  inflating: traindata_env_class01/1/ASN_12.pkl  \n",
            "  inflating: traindata_env_class01/1/ASN_13.pkl  \n",
            "  inflating: traindata_env_class01/1/ASN_14.pkl  \n",
            "  inflating: traindata_env_class01/1/ASN_15.pkl  \n",
            "  inflating: traindata_env_class01/1/ASN_16.pkl  \n",
            "  inflating: traindata_env_class01/1/ASN_17.pkl  \n",
            "  inflating: traindata_env_class01/1/ASN_18.pkl  \n",
            "  inflating: traindata_env_class01/1/ASN_19.pkl  \n",
            "  inflating: traindata_env_class01/1/ASN_2.pkl  \n",
            "  inflating: traindata_env_class01/1/ASN_3.pkl  \n",
            "  inflating: traindata_env_class01/1/ASN_4.pkl  \n",
            "  inflating: traindata_env_class01/1/ASN_5.pkl  \n",
            "  inflating: traindata_env_class01/1/ASN_6.pkl  \n",
            "  inflating: traindata_env_class01/1/ASN_7.pkl  \n",
            "  inflating: traindata_env_class01/1/ASN_8.pkl  \n",
            "  inflating: traindata_env_class01/1/ASN_9.pkl  \n",
            "  inflating: traindata_env_class01/1/ASP_0.pkl  \n",
            "  inflating: traindata_env_class01/1/ASP_1.pkl  \n",
            "  inflating: traindata_env_class01/1/ASP_10.pkl  \n",
            "  inflating: traindata_env_class01/1/ASP_11.pkl  \n",
            "  inflating: traindata_env_class01/1/ASP_12.pkl  \n",
            "  inflating: traindata_env_class01/1/ASP_13.pkl  \n",
            "  inflating: traindata_env_class01/1/ASP_14.pkl  \n",
            "  inflating: traindata_env_class01/1/ASP_15.pkl  \n",
            "  inflating: traindata_env_class01/1/ASP_16.pkl  \n",
            "  inflating: traindata_env_class01/1/ASP_17.pkl  \n",
            "  inflating: traindata_env_class01/1/ASP_18.pkl  \n",
            "  inflating: traindata_env_class01/1/ASP_19.pkl  \n",
            "  inflating: traindata_env_class01/1/ASP_2.pkl  \n",
            "  inflating: traindata_env_class01/1/ASP_3.pkl  \n",
            "  inflating: traindata_env_class01/1/ASP_4.pkl  \n",
            "  inflating: traindata_env_class01/1/ASP_5.pkl  \n",
            "  inflating: traindata_env_class01/1/ASP_6.pkl  \n",
            "  inflating: traindata_env_class01/1/ASP_7.pkl  \n",
            "  inflating: traindata_env_class01/1/ASP_8.pkl  \n",
            "  inflating: traindata_env_class01/1/ASP_9.pkl  \n",
            "  inflating: traindata_env_class01/1/CYS_0.pkl  \n",
            "  inflating: traindata_env_class01/1/CYS_1.pkl  \n",
            "  inflating: traindata_env_class01/1/CYS_10.pkl  \n",
            "  inflating: traindata_env_class01/1/CYS_11.pkl  \n",
            "  inflating: traindata_env_class01/1/CYS_12.pkl  \n",
            "  inflating: traindata_env_class01/1/CYS_13.pkl  \n",
            "  inflating: traindata_env_class01/1/CYS_14.pkl  \n",
            "  inflating: traindata_env_class01/1/CYS_15.pkl  \n",
            "  inflating: traindata_env_class01/1/CYS_16.pkl  \n",
            "  inflating: traindata_env_class01/1/CYS_17.pkl  \n",
            "  inflating: traindata_env_class01/1/CYS_18.pkl  \n",
            "  inflating: traindata_env_class01/1/CYS_19.pkl  \n",
            "  inflating: traindata_env_class01/1/CYS_2.pkl  \n",
            "  inflating: traindata_env_class01/1/CYS_3.pkl  \n",
            "  inflating: traindata_env_class01/1/CYS_4.pkl  \n",
            "  inflating: traindata_env_class01/1/CYS_5.pkl  \n",
            "  inflating: traindata_env_class01/1/CYS_6.pkl  \n",
            "  inflating: traindata_env_class01/1/CYS_7.pkl  \n",
            "  inflating: traindata_env_class01/1/CYS_8.pkl  \n",
            "  inflating: traindata_env_class01/1/CYS_9.pkl  \n",
            "  inflating: traindata_env_class01/1/GLN_0.pkl  \n",
            "  inflating: traindata_env_class01/1/GLN_1.pkl  \n",
            "  inflating: traindata_env_class01/1/GLN_10.pkl  \n",
            "  inflating: traindata_env_class01/1/GLN_11.pkl  \n",
            "  inflating: traindata_env_class01/1/GLN_12.pkl  \n",
            "  inflating: traindata_env_class01/1/GLN_13.pkl  \n",
            "  inflating: traindata_env_class01/1/GLN_14.pkl  \n",
            "  inflating: traindata_env_class01/1/GLN_15.pkl  \n",
            "  inflating: traindata_env_class01/1/GLN_16.pkl  \n",
            "  inflating: traindata_env_class01/1/GLN_17.pkl  \n",
            "  inflating: traindata_env_class01/1/GLN_18.pkl  \n",
            "  inflating: traindata_env_class01/1/GLN_19.pkl  \n",
            "  inflating: traindata_env_class01/1/GLN_2.pkl  \n",
            "  inflating: traindata_env_class01/1/GLN_3.pkl  \n",
            "  inflating: traindata_env_class01/1/GLN_4.pkl  \n",
            "  inflating: traindata_env_class01/1/GLN_5.pkl  \n",
            "  inflating: traindata_env_class01/1/GLN_6.pkl  \n",
            "  inflating: traindata_env_class01/1/GLN_7.pkl  \n",
            "  inflating: traindata_env_class01/1/GLN_8.pkl  \n",
            "  inflating: traindata_env_class01/1/GLN_9.pkl  \n",
            "  inflating: traindata_env_class01/1/GLU_0.pkl  \n",
            "  inflating: traindata_env_class01/1/GLU_1.pkl  \n",
            "  inflating: traindata_env_class01/1/GLU_10.pkl  \n",
            "  inflating: traindata_env_class01/1/GLU_11.pkl  \n",
            "  inflating: traindata_env_class01/1/GLU_12.pkl  \n",
            "  inflating: traindata_env_class01/1/GLU_13.pkl  \n",
            "  inflating: traindata_env_class01/1/GLU_14.pkl  \n",
            "  inflating: traindata_env_class01/1/GLU_15.pkl  \n",
            "  inflating: traindata_env_class01/1/GLU_16.pkl  \n",
            "  inflating: traindata_env_class01/1/GLU_17.pkl  \n",
            "  inflating: traindata_env_class01/1/GLU_18.pkl  \n",
            "  inflating: traindata_env_class01/1/GLU_19.pkl  \n",
            "  inflating: traindata_env_class01/1/GLU_2.pkl  \n",
            "  inflating: traindata_env_class01/1/GLU_3.pkl  \n",
            "  inflating: traindata_env_class01/1/GLU_4.pkl  \n",
            "  inflating: traindata_env_class01/1/GLU_5.pkl  \n",
            "  inflating: traindata_env_class01/1/GLU_6.pkl  \n",
            "  inflating: traindata_env_class01/1/GLU_7.pkl  \n",
            "  inflating: traindata_env_class01/1/GLU_8.pkl  \n",
            "  inflating: traindata_env_class01/1/GLU_9.pkl  \n",
            "  inflating: traindata_env_class01/1/GLY_0.pkl  \n",
            "  inflating: traindata_env_class01/1/GLY_1.pkl  \n",
            "  inflating: traindata_env_class01/1/GLY_10.pkl  \n",
            "  inflating: traindata_env_class01/1/GLY_11.pkl  \n",
            "  inflating: traindata_env_class01/1/GLY_12.pkl  \n",
            "  inflating: traindata_env_class01/1/GLY_13.pkl  \n",
            "  inflating: traindata_env_class01/1/GLY_14.pkl  \n",
            "  inflating: traindata_env_class01/1/GLY_15.pkl  \n",
            "  inflating: traindata_env_class01/1/GLY_16.pkl  \n",
            "  inflating: traindata_env_class01/1/GLY_17.pkl  \n",
            "  inflating: traindata_env_class01/1/GLY_18.pkl  \n",
            "  inflating: traindata_env_class01/1/GLY_19.pkl  \n",
            "  inflating: traindata_env_class01/1/GLY_2.pkl  \n",
            "  inflating: traindata_env_class01/1/GLY_3.pkl  \n",
            "  inflating: traindata_env_class01/1/GLY_4.pkl  \n",
            "  inflating: traindata_env_class01/1/GLY_5.pkl  \n",
            "  inflating: traindata_env_class01/1/GLY_6.pkl  \n",
            "  inflating: traindata_env_class01/1/GLY_7.pkl  \n",
            "  inflating: traindata_env_class01/1/GLY_8.pkl  \n",
            "  inflating: traindata_env_class01/1/GLY_9.pkl  \n",
            "  inflating: traindata_env_class01/1/HIS_0.pkl  \n",
            "  inflating: traindata_env_class01/1/HIS_1.pkl  \n",
            "  inflating: traindata_env_class01/1/HIS_10.pkl  \n",
            "  inflating: traindata_env_class01/1/HIS_11.pkl  \n",
            "  inflating: traindata_env_class01/1/HIS_12.pkl  \n",
            "  inflating: traindata_env_class01/1/HIS_13.pkl  \n",
            "  inflating: traindata_env_class01/1/HIS_14.pkl  \n",
            "  inflating: traindata_env_class01/1/HIS_15.pkl  \n",
            "  inflating: traindata_env_class01/1/HIS_16.pkl  \n",
            "  inflating: traindata_env_class01/1/HIS_17.pkl  \n",
            "  inflating: traindata_env_class01/1/HIS_18.pkl  \n",
            "  inflating: traindata_env_class01/1/HIS_19.pkl  \n",
            "  inflating: traindata_env_class01/1/HIS_2.pkl  \n",
            "  inflating: traindata_env_class01/1/HIS_3.pkl  \n",
            "  inflating: traindata_env_class01/1/HIS_4.pkl  \n",
            "  inflating: traindata_env_class01/1/HIS_5.pkl  \n",
            "  inflating: traindata_env_class01/1/HIS_6.pkl  \n",
            "  inflating: traindata_env_class01/1/HIS_7.pkl  \n",
            "  inflating: traindata_env_class01/1/HIS_8.pkl  \n",
            "  inflating: traindata_env_class01/1/HIS_9.pkl  \n",
            "  inflating: traindata_env_class01/1/ILE_0.pkl  \n",
            "  inflating: traindata_env_class01/1/ILE_1.pkl  \n",
            "  inflating: traindata_env_class01/1/ILE_10.pkl  \n",
            "  inflating: traindata_env_class01/1/ILE_11.pkl  \n",
            "  inflating: traindata_env_class01/1/ILE_12.pkl  \n",
            "  inflating: traindata_env_class01/1/ILE_13.pkl  \n",
            "  inflating: traindata_env_class01/1/ILE_14.pkl  \n",
            "  inflating: traindata_env_class01/1/ILE_15.pkl  \n",
            "  inflating: traindata_env_class01/1/ILE_16.pkl  \n",
            "  inflating: traindata_env_class01/1/ILE_17.pkl  \n",
            "  inflating: traindata_env_class01/1/ILE_18.pkl  \n",
            "  inflating: traindata_env_class01/1/ILE_19.pkl  \n",
            "  inflating: traindata_env_class01/1/ILE_2.pkl  \n",
            "  inflating: traindata_env_class01/1/ILE_3.pkl  \n",
            "  inflating: traindata_env_class01/1/ILE_4.pkl  \n",
            "  inflating: traindata_env_class01/1/ILE_5.pkl  \n",
            "  inflating: traindata_env_class01/1/ILE_6.pkl  \n",
            "  inflating: traindata_env_class01/1/ILE_7.pkl  \n",
            "  inflating: traindata_env_class01/1/ILE_8.pkl  \n",
            "  inflating: traindata_env_class01/1/ILE_9.pkl  \n",
            "  inflating: traindata_env_class01/1/LEU_0.pkl  \n",
            "  inflating: traindata_env_class01/1/LEU_1.pkl  \n",
            "  inflating: traindata_env_class01/1/LEU_10.pkl  \n",
            "  inflating: traindata_env_class01/1/LEU_11.pkl  \n",
            "  inflating: traindata_env_class01/1/LEU_12.pkl  \n",
            "  inflating: traindata_env_class01/1/LEU_13.pkl  \n",
            "  inflating: traindata_env_class01/1/LEU_14.pkl  \n",
            "  inflating: traindata_env_class01/1/LEU_15.pkl  \n",
            "  inflating: traindata_env_class01/1/LEU_16.pkl  \n",
            "  inflating: traindata_env_class01/1/LEU_17.pkl  \n",
            "  inflating: traindata_env_class01/1/LEU_18.pkl  \n",
            "  inflating: traindata_env_class01/1/LEU_19.pkl  \n",
            "  inflating: traindata_env_class01/1/LEU_2.pkl  \n",
            "  inflating: traindata_env_class01/1/LEU_3.pkl  \n",
            "  inflating: traindata_env_class01/1/LEU_4.pkl  \n",
            "  inflating: traindata_env_class01/1/LEU_5.pkl  \n",
            "  inflating: traindata_env_class01/1/LEU_6.pkl  \n",
            "  inflating: traindata_env_class01/1/LEU_7.pkl  \n",
            "  inflating: traindata_env_class01/1/LEU_8.pkl  \n",
            "  inflating: traindata_env_class01/1/LEU_9.pkl  \n",
            "  inflating: traindata_env_class01/1/LYS_0.pkl  \n",
            "  inflating: traindata_env_class01/1/LYS_1.pkl  \n",
            "  inflating: traindata_env_class01/1/LYS_10.pkl  \n",
            "  inflating: traindata_env_class01/1/LYS_11.pkl  \n",
            "  inflating: traindata_env_class01/1/LYS_12.pkl  \n",
            "  inflating: traindata_env_class01/1/LYS_13.pkl  \n",
            "  inflating: traindata_env_class01/1/LYS_14.pkl  \n",
            "  inflating: traindata_env_class01/1/LYS_15.pkl  \n",
            "  inflating: traindata_env_class01/1/LYS_16.pkl  \n",
            "  inflating: traindata_env_class01/1/LYS_17.pkl  \n",
            "  inflating: traindata_env_class01/1/LYS_18.pkl  \n",
            "  inflating: traindata_env_class01/1/LYS_19.pkl  \n",
            "  inflating: traindata_env_class01/1/LYS_2.pkl  \n",
            "  inflating: traindata_env_class01/1/LYS_3.pkl  \n",
            "  inflating: traindata_env_class01/1/LYS_4.pkl  \n",
            "  inflating: traindata_env_class01/1/LYS_5.pkl  \n",
            "  inflating: traindata_env_class01/1/LYS_6.pkl  \n",
            "  inflating: traindata_env_class01/1/LYS_7.pkl  \n",
            "  inflating: traindata_env_class01/1/LYS_8.pkl  \n",
            "  inflating: traindata_env_class01/1/LYS_9.pkl  \n",
            "  inflating: traindata_env_class01/1/MET_0.pkl  \n",
            "  inflating: traindata_env_class01/1/MET_1.pkl  \n",
            "  inflating: traindata_env_class01/1/MET_10.pkl  \n",
            "  inflating: traindata_env_class01/1/MET_11.pkl  \n",
            "  inflating: traindata_env_class01/1/MET_12.pkl  \n",
            "  inflating: traindata_env_class01/1/MET_13.pkl  \n",
            "  inflating: traindata_env_class01/1/MET_14.pkl  \n",
            "  inflating: traindata_env_class01/1/MET_15.pkl  \n",
            "  inflating: traindata_env_class01/1/MET_16.pkl  \n",
            "  inflating: traindata_env_class01/1/MET_17.pkl  \n",
            "  inflating: traindata_env_class01/1/MET_18.pkl  \n",
            "  inflating: traindata_env_class01/1/MET_19.pkl  \n",
            "  inflating: traindata_env_class01/1/MET_2.pkl  \n",
            "  inflating: traindata_env_class01/1/MET_3.pkl  \n",
            "  inflating: traindata_env_class01/1/MET_4.pkl  \n",
            "  inflating: traindata_env_class01/1/MET_5.pkl  \n",
            "  inflating: traindata_env_class01/1/MET_6.pkl  \n",
            "  inflating: traindata_env_class01/1/MET_7.pkl  \n",
            "  inflating: traindata_env_class01/1/MET_8.pkl  \n",
            "  inflating: traindata_env_class01/1/MET_9.pkl  \n",
            "  inflating: traindata_env_class01/1/PHE_0.pkl  \n",
            "  inflating: traindata_env_class01/1/PHE_1.pkl  \n",
            "  inflating: traindata_env_class01/1/PHE_10.pkl  \n",
            "  inflating: traindata_env_class01/1/PHE_11.pkl  \n",
            "  inflating: traindata_env_class01/1/PHE_12.pkl  \n",
            "  inflating: traindata_env_class01/1/PHE_13.pkl  \n",
            "  inflating: traindata_env_class01/1/PHE_14.pkl  \n",
            "  inflating: traindata_env_class01/1/PHE_15.pkl  \n",
            "  inflating: traindata_env_class01/1/PHE_16.pkl  \n",
            "  inflating: traindata_env_class01/1/PHE_17.pkl  \n",
            "  inflating: traindata_env_class01/1/PHE_18.pkl  \n",
            "  inflating: traindata_env_class01/1/PHE_19.pkl  \n",
            "  inflating: traindata_env_class01/1/PHE_2.pkl  \n",
            "  inflating: traindata_env_class01/1/PHE_3.pkl  \n",
            "  inflating: traindata_env_class01/1/PHE_4.pkl  \n",
            "  inflating: traindata_env_class01/1/PHE_5.pkl  \n",
            "  inflating: traindata_env_class01/1/PHE_6.pkl  \n",
            "  inflating: traindata_env_class01/1/PHE_7.pkl  \n",
            "  inflating: traindata_env_class01/1/PHE_8.pkl  \n",
            "  inflating: traindata_env_class01/1/PHE_9.pkl  \n",
            "  inflating: traindata_env_class01/1/PRO_0.pkl  \n",
            "  inflating: traindata_env_class01/1/PRO_1.pkl  \n",
            "  inflating: traindata_env_class01/1/PRO_10.pkl  \n",
            "  inflating: traindata_env_class01/1/PRO_11.pkl  \n",
            "  inflating: traindata_env_class01/1/PRO_12.pkl  \n",
            "  inflating: traindata_env_class01/1/PRO_13.pkl  \n",
            "  inflating: traindata_env_class01/1/PRO_14.pkl  \n",
            "  inflating: traindata_env_class01/1/PRO_15.pkl  \n",
            "  inflating: traindata_env_class01/1/PRO_16.pkl  \n",
            "  inflating: traindata_env_class01/1/PRO_17.pkl  \n",
            "  inflating: traindata_env_class01/1/PRO_18.pkl  \n",
            "  inflating: traindata_env_class01/1/PRO_19.pkl  \n",
            "  inflating: traindata_env_class01/1/PRO_2.pkl  \n",
            "  inflating: traindata_env_class01/1/PRO_3.pkl  \n",
            "  inflating: traindata_env_class01/1/PRO_4.pkl  \n",
            "  inflating: traindata_env_class01/1/PRO_5.pkl  \n",
            "  inflating: traindata_env_class01/1/PRO_6.pkl  \n",
            "  inflating: traindata_env_class01/1/PRO_7.pkl  \n",
            "  inflating: traindata_env_class01/1/PRO_8.pkl  \n",
            "  inflating: traindata_env_class01/1/PRO_9.pkl  \n",
            "  inflating: traindata_env_class01/1/SER_0.pkl  \n",
            "  inflating: traindata_env_class01/1/SER_1.pkl  \n",
            "  inflating: traindata_env_class01/1/SER_10.pkl  \n",
            "  inflating: traindata_env_class01/1/SER_11.pkl  \n",
            "  inflating: traindata_env_class01/1/SER_12.pkl  \n",
            "  inflating: traindata_env_class01/1/SER_13.pkl  \n",
            "  inflating: traindata_env_class01/1/SER_14.pkl  \n",
            "  inflating: traindata_env_class01/1/SER_15.pkl  \n",
            "  inflating: traindata_env_class01/1/SER_16.pkl  \n",
            "  inflating: traindata_env_class01/1/SER_17.pkl  \n",
            "  inflating: traindata_env_class01/1/SER_18.pkl  \n",
            "  inflating: traindata_env_class01/1/SER_19.pkl  \n",
            "  inflating: traindata_env_class01/1/SER_2.pkl  \n",
            "  inflating: traindata_env_class01/1/SER_3.pkl  \n",
            "  inflating: traindata_env_class01/1/SER_4.pkl  \n",
            "  inflating: traindata_env_class01/1/SER_5.pkl  \n",
            "  inflating: traindata_env_class01/1/SER_6.pkl  \n",
            "  inflating: traindata_env_class01/1/SER_7.pkl  \n",
            "  inflating: traindata_env_class01/1/SER_8.pkl  \n",
            "  inflating: traindata_env_class01/1/SER_9.pkl  \n",
            "  inflating: traindata_env_class01/1/THR_0.pkl  \n",
            "  inflating: traindata_env_class01/1/THR_1.pkl  \n",
            "  inflating: traindata_env_class01/1/THR_10.pkl  \n",
            "  inflating: traindata_env_class01/1/THR_11.pkl  \n",
            "  inflating: traindata_env_class01/1/THR_12.pkl  \n",
            "  inflating: traindata_env_class01/1/THR_13.pkl  \n",
            "  inflating: traindata_env_class01/1/THR_14.pkl  \n",
            "  inflating: traindata_env_class01/1/THR_15.pkl  \n",
            "  inflating: traindata_env_class01/1/THR_16.pkl  \n",
            "  inflating: traindata_env_class01/1/THR_17.pkl  \n",
            "  inflating: traindata_env_class01/1/THR_18.pkl  \n",
            "  inflating: traindata_env_class01/1/THR_19.pkl  \n",
            "  inflating: traindata_env_class01/1/THR_2.pkl  \n",
            "  inflating: traindata_env_class01/1/THR_3.pkl  \n",
            "  inflating: traindata_env_class01/1/THR_4.pkl  \n",
            "  inflating: traindata_env_class01/1/THR_5.pkl  \n",
            "  inflating: traindata_env_class01/1/THR_6.pkl  \n",
            "  inflating: traindata_env_class01/1/THR_7.pkl  \n",
            "  inflating: traindata_env_class01/1/THR_8.pkl  \n",
            "  inflating: traindata_env_class01/1/THR_9.pkl  \n",
            "  inflating: traindata_env_class01/1/TRP_0.pkl  \n",
            "  inflating: traindata_env_class01/1/TRP_1.pkl  \n",
            "  inflating: traindata_env_class01/1/TRP_10.pkl  \n",
            "  inflating: traindata_env_class01/1/TRP_11.pkl  \n",
            "  inflating: traindata_env_class01/1/TRP_12.pkl  \n",
            "  inflating: traindata_env_class01/1/TRP_13.pkl  \n",
            "  inflating: traindata_env_class01/1/TRP_14.pkl  \n",
            "  inflating: traindata_env_class01/1/TRP_15.pkl  \n",
            "  inflating: traindata_env_class01/1/TRP_16.pkl  \n",
            "  inflating: traindata_env_class01/1/TRP_17.pkl  \n",
            "  inflating: traindata_env_class01/1/TRP_18.pkl  \n",
            "  inflating: traindata_env_class01/1/TRP_19.pkl  \n",
            "  inflating: traindata_env_class01/1/TRP_2.pkl  \n",
            "  inflating: traindata_env_class01/1/TRP_3.pkl  \n",
            "  inflating: traindata_env_class01/1/TRP_4.pkl  \n",
            "  inflating: traindata_env_class01/1/TRP_5.pkl  \n",
            "  inflating: traindata_env_class01/1/TRP_6.pkl  \n",
            "  inflating: traindata_env_class01/1/TRP_7.pkl  \n",
            "  inflating: traindata_env_class01/1/TRP_8.pkl  \n",
            "  inflating: traindata_env_class01/1/TRP_9.pkl  \n",
            "  inflating: traindata_env_class01/1/TYR_0.pkl  \n",
            "  inflating: traindata_env_class01/1/TYR_1.pkl  \n",
            "  inflating: traindata_env_class01/1/TYR_10.pkl  \n",
            "  inflating: traindata_env_class01/1/TYR_11.pkl  \n",
            "  inflating: traindata_env_class01/1/TYR_12.pkl  \n",
            "  inflating: traindata_env_class01/1/TYR_13.pkl  \n",
            "  inflating: traindata_env_class01/1/TYR_14.pkl  \n",
            "  inflating: traindata_env_class01/1/TYR_15.pkl  \n",
            "  inflating: traindata_env_class01/1/TYR_16.pkl  \n",
            "  inflating: traindata_env_class01/1/TYR_17.pkl  \n",
            "  inflating: traindata_env_class01/1/TYR_18.pkl  \n",
            "  inflating: traindata_env_class01/1/TYR_19.pkl  \n",
            "  inflating: traindata_env_class01/1/TYR_2.pkl  \n",
            "  inflating: traindata_env_class01/1/TYR_3.pkl  \n",
            "  inflating: traindata_env_class01/1/TYR_4.pkl  \n",
            "  inflating: traindata_env_class01/1/TYR_5.pkl  \n",
            "  inflating: traindata_env_class01/1/TYR_6.pkl  \n",
            "  inflating: traindata_env_class01/1/TYR_7.pkl  \n",
            "  inflating: traindata_env_class01/1/TYR_8.pkl  \n",
            "  inflating: traindata_env_class01/1/TYR_9.pkl  \n",
            "  inflating: traindata_env_class01/1/VAL_0.pkl  \n",
            "  inflating: traindata_env_class01/1/VAL_1.pkl  \n",
            "  inflating: traindata_env_class01/1/VAL_10.pkl  \n",
            "  inflating: traindata_env_class01/1/VAL_11.pkl  \n",
            "  inflating: traindata_env_class01/1/VAL_12.pkl  \n",
            "  inflating: traindata_env_class01/1/VAL_13.pkl  \n",
            "  inflating: traindata_env_class01/1/VAL_14.pkl  \n",
            "  inflating: traindata_env_class01/1/VAL_15.pkl  \n",
            "  inflating: traindata_env_class01/1/VAL_16.pkl  \n",
            "  inflating: traindata_env_class01/1/VAL_17.pkl  \n",
            "  inflating: traindata_env_class01/1/VAL_18.pkl  \n",
            "  inflating: traindata_env_class01/1/VAL_19.pkl  \n",
            "  inflating: traindata_env_class01/1/VAL_2.pkl  \n",
            "  inflating: traindata_env_class01/1/VAL_3.pkl  \n",
            "  inflating: traindata_env_class01/1/VAL_4.pkl  \n",
            "  inflating: traindata_env_class01/1/VAL_5.pkl  \n",
            "  inflating: traindata_env_class01/1/VAL_6.pkl  \n",
            "  inflating: traindata_env_class01/1/VAL_7.pkl  \n",
            "  inflating: traindata_env_class01/1/VAL_8.pkl  \n",
            "  inflating: traindata_env_class01/1/VAL_9.pkl  \n"
          ]
        }
      ]
    },
    {
      "cell_type": "markdown",
      "metadata": {
        "id": "MWffPi3OHXqF"
      },
      "source": [
        "Load the samples of the residues with target value 1 and 0."
      ]
    },
    {
      "cell_type": "code",
      "metadata": {
        "id": "UIzRLbLPNb6N"
      },
      "source": [
        "samples_0 = glob.glob(os.path.join('traindata_env_class01', '0', '*'))\n",
        "samples_1 = glob.glob(os.path.join('traindata_env_class01', '1', '*'))"
      ],
      "execution_count": null,
      "outputs": []
    },
    {
      "cell_type": "code",
      "metadata": {
        "id": "r1rUFt15X2E6"
      },
      "source": [
        "samples = samples_1 + samples_0\n",
        "shuffle(samples)"
      ],
      "execution_count": null,
      "outputs": []
    },
    {
      "cell_type": "code",
      "metadata": {
        "colab": {
          "base_uri": "https://localhost:8080/"
        },
        "id": "AAIyU23bNmrh",
        "outputId": "b0b0fd1f-ae74-4a13-af41-bdc081e55266"
      },
      "source": [
        "X, y = [],[]\n",
        "X_train, X_test, y_train, y_test = [],[],[],[]\n",
        "for sample in samples_1[:25]:\n",
        "  print('Loading ' + sample)\n",
        "  sample_X, sample_y, sample_resname = load_obj(sample.replace('.pkl',''))\n",
        "  X.append(np.array(sample_X))\n",
        "  y.append(1)\n",
        "for sample in samples_0[:25]:\n",
        "  print('Loading ' + sample)\n",
        "  sample_X, sample_y, sample_resname = load_obj(sample.replace('.pkl',''))\n",
        "  X.append(np.array(sample_X))\n",
        "  y.append(0)\n",
        "X = np.array(X)\n",
        "y = np.array(y)"
      ],
      "execution_count": null,
      "outputs": [
        {
          "name": "stdout",
          "output_type": "stream",
          "text": [
            "Loading traindata_env_class01/1/ILE_0.pkl\n",
            "Loading traindata_env_class01/1/ILE_4.pkl\n",
            "Loading traindata_env_class01/1/SER_16.pkl\n",
            "Loading traindata_env_class01/1/GLN_4.pkl\n",
            "Loading traindata_env_class01/1/ALA_8.pkl\n",
            "Loading traindata_env_class01/1/TRP_5.pkl\n",
            "Loading traindata_env_class01/1/SER_3.pkl\n",
            "Loading traindata_env_class01/1/VAL_18.pkl\n",
            "Loading traindata_env_class01/1/ASN_15.pkl\n",
            "Loading traindata_env_class01/1/ASN_5.pkl\n",
            "Loading traindata_env_class01/1/LYS_3.pkl\n",
            "Loading traindata_env_class01/1/TRP_7.pkl\n",
            "Loading traindata_env_class01/1/PHE_14.pkl\n",
            "Loading traindata_env_class01/1/ARG_7.pkl\n",
            "Loading traindata_env_class01/1/PHE_19.pkl\n",
            "Loading traindata_env_class01/1/SER_5.pkl\n",
            "Loading traindata_env_class01/1/LEU_8.pkl\n",
            "Loading traindata_env_class01/1/ARG_5.pkl\n",
            "Loading traindata_env_class01/1/HIS_2.pkl\n",
            "Loading traindata_env_class01/1/PHE_0.pkl\n",
            "Loading traindata_env_class01/1/VAL_8.pkl\n",
            "Loading traindata_env_class01/1/ASP_10.pkl\n",
            "Loading traindata_env_class01/1/ASP_4.pkl\n",
            "Loading traindata_env_class01/1/PRO_18.pkl\n",
            "Loading traindata_env_class01/1/ILE_5.pkl\n",
            "Loading traindata_env_class01/0/ILE_0.pkl\n",
            "Loading traindata_env_class01/0/ILE_4.pkl\n",
            "Loading traindata_env_class01/0/SER_16.pkl\n",
            "Loading traindata_env_class01/0/GLN_4.pkl\n",
            "Loading traindata_env_class01/0/ALA_8.pkl\n",
            "Loading traindata_env_class01/0/TRP_5.pkl\n",
            "Loading traindata_env_class01/0/SER_3.pkl\n",
            "Loading traindata_env_class01/0/VAL_18.pkl\n",
            "Loading traindata_env_class01/0/ASN_15.pkl\n",
            "Loading traindata_env_class01/0/ASN_5.pkl\n",
            "Loading traindata_env_class01/0/LYS_3.pkl\n",
            "Loading traindata_env_class01/0/TRP_7.pkl\n",
            "Loading traindata_env_class01/0/PHE_14.pkl\n",
            "Loading traindata_env_class01/0/ARG_7.pkl\n",
            "Loading traindata_env_class01/0/PHE_19.pkl\n",
            "Loading traindata_env_class01/0/SER_5.pkl\n",
            "Loading traindata_env_class01/0/LEU_8.pkl\n",
            "Loading traindata_env_class01/0/ARG_5.pkl\n",
            "Loading traindata_env_class01/0/HIS_2.pkl\n",
            "Loading traindata_env_class01/0/PHE_0.pkl\n",
            "Loading traindata_env_class01/0/VAL_8.pkl\n",
            "Loading traindata_env_class01/0/ASP_10.pkl\n",
            "Loading traindata_env_class01/0/ASP_4.pkl\n",
            "Loading traindata_env_class01/0/PRO_18.pkl\n",
            "Loading traindata_env_class01/0/ILE_5.pkl\n"
          ]
        }
      ]
    },
    {
      "cell_type": "markdown",
      "metadata": {
        "id": "KuwSEaaQH892"
      },
      "source": [
        "#### 3.2 Split data into train and test sets"
      ]
    },
    {
      "cell_type": "code",
      "metadata": {
        "colab": {
          "base_uri": "https://localhost:8080/"
        },
        "id": "XbyGUiPhOoyJ",
        "outputId": "9b90b666-9149-4c29-a1ee-94609082bcf0"
      },
      "source": [
        "X_train, X_test, y_train, y_test = train_test_split(X, y, test_size=0.3, random_state=4)\n",
        "del X, y\n",
        "print(X_test.shape)"
      ],
      "execution_count": null,
      "outputs": [
        {
          "name": "stdout",
          "output_type": "stream",
          "text": [
            "(15, 24, 24, 24, 167)\n"
          ]
        }
      ]
    },
    {
      "cell_type": "markdown",
      "metadata": {
        "id": "xpHcqspZKpxQ"
      },
      "source": [
        "#### 3.3 Use the pre-trained model as feature extractor\n",
        "Fot his purpose we will create an intermediate model similar to the pre-trained one except its output is the neurons of the second hidden layer of the fully connected network (`layer2`)."
      ]
    },
    {
      "cell_type": "code",
      "metadata": {
        "id": "aYHagC9WRI-_"
      },
      "source": [
        "intermediate_model = Model(inputs=model.input, outputs=model.get_layer('layer2').output)"
      ],
      "execution_count": null,
      "outputs": []
    },
    {
      "cell_type": "markdown",
      "metadata": {
        "id": "UIU05MKKMTCD"
      },
      "source": [
        "Now we extract rich features from the train and test sets."
      ]
    },
    {
      "cell_type": "code",
      "metadata": {
        "id": "PKXW3fa08XCD"
      },
      "source": [
        "X_train_tr = intermediate_model.predict(X_train)"
      ],
      "execution_count": null,
      "outputs": []
    },
    {
      "cell_type": "code",
      "metadata": {
        "colab": {
          "base_uri": "https://localhost:8080/"
        },
        "id": "KSvCpIhFZ9Xj",
        "outputId": "f64be866-9dd4-4474-cfdc-a5a500ec9e00"
      },
      "source": [
        "print(X_train_tr.shape)\n",
        "print(y_train.shape)"
      ],
      "execution_count": null,
      "outputs": [
        {
          "name": "stdout",
          "output_type": "stream",
          "text": [
            "(35, 20)\n",
            "(35,)\n"
          ]
        }
      ]
    },
    {
      "cell_type": "code",
      "metadata": {
        "id": "okRnfswVQ-jn"
      },
      "source": [
        "X_test_tr = intermediate_model.predict(X_test)"
      ],
      "execution_count": null,
      "outputs": []
    },
    {
      "cell_type": "markdown",
      "metadata": {
        "id": "DFodHSODMhln"
      },
      "source": [
        "#### 3.4 Training Process\n",
        "Define a downstream model to classify the environments. This model can be non-linear such as a neural network or a linear model such as logistic regression."
      ]
    },
    {
      "cell_type": "code",
      "metadata": {
        "id": "DbBmGqKbdpB1"
      },
      "source": [
        "def nn_model(input_shape):\n",
        "    hidden_size1 = 10\n",
        "    hidden_size2 = 5\n",
        "    X_in = Input(shape=input_shape)\n",
        "    H = Dense(hidden_size1, activation='elu', name='layer1')(X_in)\n",
        "    H = Dense(hidden_size2, activation='elu', name='layer2')(H)\n",
        "    Y = Dense(1, activation='sigmoid')(H)\n",
        "    _model = Model(inputs=X_in, outputs=Y)\n",
        "    _model.compile(loss='binary_crossentropy', optimizer=Adam(lr=0.001))\n",
        "    _model.summary()\n",
        "    return _model"
      ],
      "execution_count": null,
      "outputs": []
    },
    {
      "cell_type": "code",
      "metadata": {
        "id": "X1F5izCoQXgr"
      },
      "source": [
        "num_epochs = 20\n",
        "batch_size = 10\n",
        "n_features_tr = 20 #hidden_size2 of the pre-trained model"
      ],
      "execution_count": null,
      "outputs": []
    },
    {
      "cell_type": "code",
      "metadata": {
        "colab": {
          "base_uri": "https://localhost:8080/"
        },
        "id": "tWVvHgPcQYF5",
        "outputId": "bd9cea57-9c7e-427b-ecb1-2fddd28b6de4"
      },
      "source": [
        "input_shape=(n_features_tr)\n",
        "model_tr = nn_model(input_shape)\n",
        "\n",
        "# --------------------------------------\n",
        "# Training\n",
        "# --------------------------------------\n",
        "history = model_tr.fit(X_train_tr, y_train, # Train the model using the training set...\n",
        "                    batch_size=batch_size, epochs=num_epochs,\n",
        "                    verbose=1, validation_split=0.3) # ...holding out 30% of the data for validation"
      ],
      "execution_count": null,
      "outputs": [
        {
          "name": "stderr",
          "output_type": "stream",
          "text": [
            "/usr/local/lib/python3.7/dist-packages/keras/optimizer_v2/optimizer_v2.py:356: UserWarning: The `lr` argument is deprecated, use `learning_rate` instead.\n",
            "  \"The `lr` argument is deprecated, use `learning_rate` instead.\")\n"
          ]
        },
        {
          "name": "stdout",
          "output_type": "stream",
          "text": [
            "Model: \"model_2\"\n",
            "_________________________________________________________________\n",
            "Layer (type)                 Output Shape              Param #   \n",
            "=================================================================\n",
            "input_2 (InputLayer)         [(None, 20)]              0         \n",
            "_________________________________________________________________\n",
            "layer1 (Dense)               (None, 10)                210       \n",
            "_________________________________________________________________\n",
            "layer2 (Dense)               (None, 5)                 55        \n",
            "_________________________________________________________________\n",
            "dense_1 (Dense)              (None, 1)                 6         \n",
            "=================================================================\n",
            "Total params: 271\n",
            "Trainable params: 271\n",
            "Non-trainable params: 0\n",
            "_________________________________________________________________\n",
            "Epoch 1/20\n",
            "3/3 [==============================] - 1s 80ms/step - loss: 1.7883 - val_loss: 1.6104\n",
            "Epoch 2/20\n",
            "3/3 [==============================] - 0s 14ms/step - loss: 1.6977 - val_loss: 1.5751\n",
            "Epoch 3/20\n",
            "3/3 [==============================] - 0s 17ms/step - loss: 1.6134 - val_loss: 1.5442\n",
            "Epoch 4/20\n",
            "3/3 [==============================] - 0s 14ms/step - loss: 1.5333 - val_loss: 1.5120\n",
            "Epoch 5/20\n",
            "3/3 [==============================] - 0s 22ms/step - loss: 1.4517 - val_loss: 1.4800\n",
            "Epoch 6/20\n",
            "3/3 [==============================] - 0s 14ms/step - loss: 1.3808 - val_loss: 1.4494\n",
            "Epoch 7/20\n",
            "3/3 [==============================] - 0s 14ms/step - loss: 1.3174 - val_loss: 1.4192\n",
            "Epoch 8/20\n",
            "3/3 [==============================] - 0s 16ms/step - loss: 1.2486 - val_loss: 1.3901\n",
            "Epoch 9/20\n",
            "3/3 [==============================] - 0s 15ms/step - loss: 1.1858 - val_loss: 1.3630\n",
            "Epoch 10/20\n",
            "3/3 [==============================] - 0s 13ms/step - loss: 1.1270 - val_loss: 1.3369\n",
            "Epoch 11/20\n",
            "3/3 [==============================] - 0s 22ms/step - loss: 1.0691 - val_loss: 1.3128\n",
            "Epoch 12/20\n",
            "3/3 [==============================] - 0s 14ms/step - loss: 1.0187 - val_loss: 1.2895\n",
            "Epoch 13/20\n",
            "3/3 [==============================] - 0s 15ms/step - loss: 0.9706 - val_loss: 1.2681\n",
            "Epoch 14/20\n",
            "3/3 [==============================] - 0s 14ms/step - loss: 0.9221 - val_loss: 1.2486\n",
            "Epoch 15/20\n",
            "3/3 [==============================] - 0s 14ms/step - loss: 0.8823 - val_loss: 1.2300\n",
            "Epoch 16/20\n",
            "3/3 [==============================] - 0s 14ms/step - loss: 0.8437 - val_loss: 1.2126\n",
            "Epoch 17/20\n",
            "3/3 [==============================] - 0s 14ms/step - loss: 0.8129 - val_loss: 1.1948\n",
            "Epoch 18/20\n",
            "3/3 [==============================] - 0s 14ms/step - loss: 0.7777 - val_loss: 1.1790\n",
            "Epoch 19/20\n",
            "3/3 [==============================] - 0s 16ms/step - loss: 0.7518 - val_loss: 1.1627\n",
            "Epoch 20/20\n",
            "3/3 [==============================] - 0s 19ms/step - loss: 0.7230 - val_loss: 1.1475\n"
          ]
        }
      ]
    },
    {
      "cell_type": "code",
      "metadata": {
        "colab": {
          "base_uri": "https://localhost:8080/",
          "height": 652
        },
        "id": "DyS7G5IARfN7",
        "outputId": "f052d251-8c16-4f72-e367-ec11bbd2828a"
      },
      "source": [
        "# --------------------------------------\n",
        "# Loss functions evolution\n",
        "# --------------------------------------\n",
        "plt.figure(figsize=(10,10))\n",
        "plt.rcParams.update({'font.size': 22})\n",
        "plt.plot(history.history['loss'])\n",
        "plt.plot(history.history['val_loss'])\n",
        "plt.title('Model loss by epoch')\n",
        "plt.ylabel('loss')\n",
        "plt.xlabel('epoch')\n",
        "plt.legend(['train', 'valid'], loc='right')\n",
        "plt.show()"
      ],
      "execution_count": null,
      "outputs": [
        {
          "data": {
            "image/png": "[encoded data removed]",
            "text/plain": [
              "<Figure size 720x720 with 1 Axes>"
            ]
          },
          "metadata": {},
          "output_type": "display_data"
        }
      ]
    },
    {
      "cell_type": "code",
      "metadata": {
        "id": "RJqu4n8ZSdxe"
      },
      "source": [
        "from sklearn.datasets import make_classification\n",
        "from sklearn.linear_model import LogisticRegression\n",
        "from sklearn.dummy import DummyClassifier\n",
        "from sklearn.model_selection import train_test_split\n",
        "from sklearn.metrics import roc_curve\n",
        "from sklearn.metrics import roc_auc_score"
      ],
      "execution_count": null,
      "outputs": []
    },
    {
      "cell_type": "code",
      "metadata": {
        "id": "tuahwdn2cN7K"
      },
      "source": [
        "# plot no skill and model roc curves\n",
        "def plot_roc_curve(test_y, naive_probs, model_probs):\n",
        "\t# plot naive skill roc curve\n",
        "\tfpr, tpr, _ = roc_curve(test_y, naive_probs)\n",
        "\tpyplot.plot(fpr, tpr, linestyle='--', label='No Skill')\n",
        "\t# plot model roc curve\n",
        "\tfpr, tpr, _ = roc_curve(test_y, model_probs)\n",
        "\tpyplot.plot(fpr, tpr, marker='.', label='Logistic')\n",
        "\t# axis labels\n",
        "\tpyplot.xlabel('False Positive Rate')\n",
        "\tpyplot.ylabel('True Positive Rate')\n",
        "\t# show the legend\n",
        "\tpyplot.legend()\n",
        "\t# show the plot\n",
        "\tpyplot.show()"
      ],
      "execution_count": null,
      "outputs": []
    },
    {
      "cell_type": "code",
      "metadata": {
        "colab": {
          "base_uri": "https://localhost:8080/",
          "height": 619
        },
        "id": "IqUTGWImS4Cn",
        "outputId": "843c9a73-fca7-423f-8d0d-5a4ea82dab93"
      },
      "source": [
        "noskill = [0]*len(y_test)\n",
        "y_pred = model_tr.predict(X_test_tr)\n",
        "roc_auc = roc_auc_score(y_test, y_pred)\n",
        "print('Transferred learning ROC AUC %.3f' % roc_auc)\n",
        "\n",
        "ns_fpr, ns_tpr, _ = roc_curve(y_test, noskill)\n",
        "fpr, tpr, _ = roc_curve(y_test, y_pred)\n",
        "\n",
        "plt.figure(figsize=(10,10))\n",
        "plt.plot(ns_fpr, ns_tpr, linestyle='--', label='NoSkill')\n",
        "plt.plot(fpr, tpr, linestyle='-', label='Transferred Learning')\n",
        "plt.show()\n",
        "\n",
        "#plot_roc_curve(y_test, naive_probs, y_pred)"
      ],
      "execution_count": null,
      "outputs": [
        {
          "name": "stdout",
          "output_type": "stream",
          "text": [
            "Transferred learning ROC AUC 0.444\n"
          ]
        },
        {
          "data": {
            "image/png": "[encoded data removed]",
            "text/plain": [
              "<Figure size 720x720 with 1 Axes>"
            ]
          },
          "metadata": {},
          "output_type": "display_data"
        }
      ]
    },
    {
      "cell_type": "markdown",
      "metadata": {
        "id": "zPx2yj76PHtS"
      },
      "source": [
        "#### 3.5 Discussion"
      ]
    },
    {
      "cell_type": "markdown",
      "metadata": {
        "id": "5zCy0s9Pdpi8"
      },
      "source": [
        "Designed by Yasser MOHSENI BEHBAHANI, LCQB, Sorbonne Université, 2021\n",
        "\n",
        "<img src='https://drive.google.com/uc?id=1shvaqXgnRa2aCji30gJ02hwI_Ux6NEp6'>\n"
      ]
    }
  ]
}